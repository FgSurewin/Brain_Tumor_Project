{
  "cells": [
    {
      "cell_type": "code",
      "execution_count": 12,
      "metadata": {},
      "outputs": [],
      "source": [
        "import os\n",
        "import random\n",
        "import pandas as pd\n",
        "import numpy as np\n",
        "import seaborn as sns\n",
        "import matplotlib.pyplot as plt\n",
        "%matplotlib inline\n",
        "from skimage.io import imread\n",
        "from glob import glob\n",
        "\n",
        "from skimage.color import rgb2gray\n",
        "from skimage.filters import rank\n",
        "\n",
        "from sklearn.model_selection import train_test_split\n",
        "from sklearn.metrics import classification_report\n",
        "from sklearn.metrics import confusion_matrix"
      ]
    },
    {
      "cell_type": "markdown",
      "metadata": {},
      "source": [
        "Reading and Cleaning (Add labels from masks)"
      ]
    },
    {
      "cell_type": "code",
      "execution_count": 38,
      "metadata": {},
      "outputs": [],
      "source": [
        "#file_path='/'\n",
        "#\n",
        "# outside of collab\n",
        "from pathlib import Path\n",
        "file_path = os.path.join(os.path.expanduser(\"~\"), \"Downloads/\")\n",
        "\n",
        "mask_files = glob(file_path + os.path.join('all_images','*','*_mask*'))\n",
        "train_files = [file.replace('_mask', '') for file in mask_files]"
      ]
    },
    {
      "cell_type": "code",
      "execution_count": 39,
      "metadata": {},
      "outputs": [
        {
          "name": "stdout",
          "output_type": "stream",
          "text": [
            "/Users/niloufar/Downloads/\n"
          ]
        }
      ],
      "source": [
        "print(file_path)"
      ]
    },
    {
      "cell_type": "code",
      "execution_count": 40,
      "metadata": {},
      "outputs": [],
      "source": [
        "def label(mask):\n",
        "    value = np.max(imread(mask))\n",
        "    return '1' if value > 0 else '0'\n",
        "df = pd.DataFrame({\"image\": train_files,\n",
        "                   \"mask\": mask_files,\n",
        "                  \"label\":[label(x) for x in mask_files]})"
      ]
    },
    {
      "cell_type": "code",
      "execution_count": 41,
      "metadata": {},
      "outputs": [
        {
          "data": {
            "text/plain": [
              "(3929, 3)"
            ]
          },
          "execution_count": 41,
          "metadata": {},
          "output_type": "execute_result"
        }
      ],
      "source": [
        "df.shape"
      ]
    },
    {
      "cell_type": "code",
      "execution_count": 42,
      "metadata": {},
      "outputs": [
        {
          "name": "stdout",
          "output_type": "stream",
          "text": [
            "Index(['image', 'mask', 'label'], dtype='object')\n"
          ]
        },
        {
          "data": {
            "text/html": [
              "<div>\n",
              "<style scoped>\n",
              "    .dataframe tbody tr th:only-of-type {\n",
              "        vertical-align: middle;\n",
              "    }\n",
              "\n",
              "    .dataframe tbody tr th {\n",
              "        vertical-align: top;\n",
              "    }\n",
              "\n",
              "    .dataframe thead th {\n",
              "        text-align: right;\n",
              "    }\n",
              "</style>\n",
              "<table border=\"1\" class=\"dataframe\">\n",
              "  <thead>\n",
              "    <tr style=\"text-align: right;\">\n",
              "      <th></th>\n",
              "      <th>image</th>\n",
              "      <th>mask</th>\n",
              "      <th>label</th>\n",
              "    </tr>\n",
              "  </thead>\n",
              "  <tbody>\n",
              "    <tr>\n",
              "      <th>0</th>\n",
              "      <td>/Users/niloufar/Downloads/all_images/TCGA_CS_6...</td>\n",
              "      <td>/Users/niloufar/Downloads/all_images/TCGA_CS_6...</td>\n",
              "      <td>0</td>\n",
              "    </tr>\n",
              "    <tr>\n",
              "      <th>1</th>\n",
              "      <td>/Users/niloufar/Downloads/all_images/TCGA_CS_6...</td>\n",
              "      <td>/Users/niloufar/Downloads/all_images/TCGA_CS_6...</td>\n",
              "      <td>0</td>\n",
              "    </tr>\n",
              "    <tr>\n",
              "      <th>2</th>\n",
              "      <td>/Users/niloufar/Downloads/all_images/TCGA_CS_6...</td>\n",
              "      <td>/Users/niloufar/Downloads/all_images/TCGA_CS_6...</td>\n",
              "      <td>0</td>\n",
              "    </tr>\n",
              "    <tr>\n",
              "      <th>3</th>\n",
              "      <td>/Users/niloufar/Downloads/all_images/TCGA_CS_6...</td>\n",
              "      <td>/Users/niloufar/Downloads/all_images/TCGA_CS_6...</td>\n",
              "      <td>0</td>\n",
              "    </tr>\n",
              "    <tr>\n",
              "      <th>4</th>\n",
              "      <td>/Users/niloufar/Downloads/all_images/TCGA_CS_6...</td>\n",
              "      <td>/Users/niloufar/Downloads/all_images/TCGA_CS_6...</td>\n",
              "      <td>0</td>\n",
              "    </tr>\n",
              "  </tbody>\n",
              "</table>\n",
              "</div>"
            ],
            "text/plain": [
              "                                               image  \\\n",
              "0  /Users/niloufar/Downloads/all_images/TCGA_CS_6...   \n",
              "1  /Users/niloufar/Downloads/all_images/TCGA_CS_6...   \n",
              "2  /Users/niloufar/Downloads/all_images/TCGA_CS_6...   \n",
              "3  /Users/niloufar/Downloads/all_images/TCGA_CS_6...   \n",
              "4  /Users/niloufar/Downloads/all_images/TCGA_CS_6...   \n",
              "\n",
              "                                                mask label  \n",
              "0  /Users/niloufar/Downloads/all_images/TCGA_CS_6...     0  \n",
              "1  /Users/niloufar/Downloads/all_images/TCGA_CS_6...     0  \n",
              "2  /Users/niloufar/Downloads/all_images/TCGA_CS_6...     0  \n",
              "3  /Users/niloufar/Downloads/all_images/TCGA_CS_6...     0  \n",
              "4  /Users/niloufar/Downloads/all_images/TCGA_CS_6...     0  "
            ]
          },
          "execution_count": 42,
          "metadata": {},
          "output_type": "execute_result"
        }
      ],
      "source": [
        "print(df.columns)\n",
        "df.head()"
      ]
    },
    {
      "cell_type": "markdown",
      "metadata": {},
      "source": [
        "Image Exploratory Analysis and Checking classes"
      ]
    },
    {
      "cell_type": "code",
      "execution_count": 45,
      "metadata": {},
      "outputs": [
        {
          "data": {
            "image/png": "[encoded data removed]",
            "text/plain": [
              "<Figure size 432x288 with 1 Axes>"
            ]
          },
          "metadata": {
            "needs_background": "light"
          },
          "output_type": "display_data"
        }
      ],
      "source": [
        "sns.countplot(data=df,x=df['label'])\n",
        "plt.title('Frequncy Of Classes')\n",
        "plt.show()"
      ]
    },
    {
      "cell_type": "code",
      "execution_count": 46,
      "metadata": {},
      "outputs": [],
      "source": [
        "List_of_images= [ plt.imread(path) for path in df[\"image\"]  ]\n",
        "List_gray_images = [rgb2gray(rgb_img) for rgb_img in List_of_images]\n",
        "\n",
        "List_of_images = np.array(List_of_images)\n",
        "List_gray_images = np.array(List_gray_images)"
      ]
    },
    {
      "cell_type": "code",
      "execution_count": 47,
      "metadata": {},
      "outputs": [
        {
          "data": {
            "text/plain": [
              "(3929, 256, 256)"
            ]
          },
          "execution_count": 47,
          "metadata": {},
          "output_type": "execute_result"
        }
      ],
      "source": [
        "List_gray_images.shape"
      ]
    },
    {
      "cell_type": "markdown",
      "metadata": {},
      "source": [
        "Confirming the Size of all Images"
      ]
    },
    {
      "cell_type": "code",
      "execution_count": 48,
      "metadata": {},
      "outputs": [
        {
          "data": {
            "text/plain": [
              "Text(0.5, 1.0, 'Histogram of image height')"
            ]
          },
          "execution_count": 48,
          "metadata": {},
          "output_type": "execute_result"
        },
        {
          "data": {
            "image/png": "[encoded data removed]",
            "text/plain": [
              "<Figure size 576x432 with 2 Axes>"
            ]
          },
          "metadata": {
            "needs_background": "light"
          },
          "output_type": "display_data"
        }
      ],
      "source": [
        "IMAGE_WIDTH = []\n",
        "IMAGE_HEIGHT = []\n",
        "\n",
        "for path in df['image']:\n",
        "  IMAGE_WIDTH.append(imread(path).shape[0])\n",
        "  IMAGE_HEIGHT.append(imread(path).shape[1])\n",
        "\n",
        "fig, axes = plt.subplots(nrows=1, ncols=2, figsize=(8, 6))\n",
        "width_hist = axes[0].hist(IMAGE_WIDTH)\n",
        "height_hist = axes[1].hist(IMAGE_HEIGHT)\n",
        "axes[0].set_title(\"Histogram of image width\")\n",
        "axes[1].set_title(\"Histogram of image height\")"
      ]
    },
    {
      "cell_type": "code",
      "execution_count": 49,
      "metadata": {},
      "outputs": [],
      "source": [
        "from skimage.color import rgb2gray\n",
        "from skimage import filters\n",
        "from skimage.morphology import disk, ball\n",
        "\n",
        "def show_image_and_mask(img_path, mask_path):\n",
        "    rgb_img = imread(img_path)\n",
        "    gray_img = rgb2gray(rgb_img)\n",
        "    #filtered_img = filters.farid(gray_img)\n",
        "    #filtered_img = filters.rank.equalize(gray_img,disk(20))\n",
        "    filtered_img = filters.rank.enhance_contrast(gray_img,disk(5))\n",
        "    mask_img = imread(mask_path)\n",
        "    \n",
        "\n",
        "    fig, axes = plt.subplots(1, 4, figsize=(10, 8))\n",
        "    ax = axes.ravel()\n",
        "    ax[0].imshow(rgb_img)\n",
        "    ax[0].set_title(\"RGB image\")\n",
        "    ax[1].imshow(gray_img, cmap=plt.cm.gray)\n",
        "    ax[1].set_title(\"Grayscale\")\n",
        "    ax[2].imshow(filtered_img,cmap=plt.cm.gray )\n",
        "    ax[2].set_title(\"Filtered Image\")\n",
        "    ax[3].imshow(mask_img)\n",
        "    ax[3].set_title(\"Mask\")\n",
        "    fig.tight_layout()"
      ]
    }
  ],
  "metadata": {
    "colab": {
      "name": "Niloufar_notebook.ipynb",
      "provenance": []
    },
    "kernelspec": {
      "display_name": "Python 3",
      "name": "python3"
    },
    "language_info": {
      "codemirror_mode": {
        "name": "ipython",
        "version": 3
      },
      "file_extension": ".py",
      "mimetype": "text/x-python",
      "name": "python",
      "nbconvert_exporter": "python",
      "pygments_lexer": "ipython3",
      "version": "3.8.5"
    }
  },
  "nbformat": 4,
  "nbformat_minor": 0
}
