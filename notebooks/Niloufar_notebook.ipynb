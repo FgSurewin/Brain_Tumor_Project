{
  "cells": [
    {
      "cell_type": "code",
      "execution_count": null,
      "metadata": {
        "id": "H9JHQRP4YGOn"
      },
      "outputs": [],
      "source": [
        "#!gdown --id 10fKUF1u3uhIrhEipoklNgysmPyYuYGV9 -O kaggle_m3.zip"
      ]
    },
    {
      "cell_type": "code",
      "execution_count": null,
      "metadata": {
        "id": "b4y7t5QPYJdX"
      },
      "outputs": [],
      "source": [
        "#!unzip kaggle_m3.zip"
      ]
    },
    {
      "cell_type": "code",
      "execution_count": 12,
      "metadata": {},
      "outputs": [],
      "source": [
        "import os\n",
        "import random\n",
        "import pandas as pd\n",
        "import numpy as np\n",
        "import seaborn as sns\n",
        "import matplotlib.pyplot as plt\n",
        "%matplotlib inline\n",
        "from skimage.io import imread\n",
        "from glob import glob\n",
        "\n",
        "from skimage.color import rgb2gray\n",
        "from skimage.filters import rank\n",
        "\n",
        "from sklearn.model_selection import train_test_split\n",
        "from sklearn.metrics import classification_report\n",
        "from sklearn.metrics import confusion_matrix"
      ]
    },
    {
      "cell_type": "markdown",
      "metadata": {},
      "source": [
        "Reading and Cleaning (Add labels from masks)"
      ]
    },
    {
      "cell_type": "code",
      "execution_count": 26,
      "metadata": {},
      "outputs": [],
      "source": [
        "#file_path='/'\n",
        "#\n",
        "# outside of collab\n",
        "from pathlib import Path\n",
        "file_path = os.path.join(os.path.expanduser(\"~\"), \"Downloads/\")\n",
        "\n",
        "mask_files = glob(file_path + os.path.join('kaggle_3m','*','*_mask*'))\n",
        "train_files = [file.replace('_mask', '') for file in mask_files]"
      ]
    },
    {
      "cell_type": "code",
      "execution_count": 27,
      "metadata": {},
      "outputs": [
        {
          "name": "stdout",
          "output_type": "stream",
          "text": [
            "/Users/niloufar/Downloads/\n"
          ]
        }
      ],
      "source": [
        "print(file_path)"
      ]
    },
    {
      "cell_type": "code",
      "execution_count": 28,
      "metadata": {},
      "outputs": [],
      "source": [
        "def label(mask):\n",
        "    value = np.max(imread(mask))\n",
        "    return '1' if value > 0 else '0'\n",
        "df = pd.DataFrame({\"image\": train_files,\n",
        "                   \"mask\": mask_files,\n",
        "                  \"label\":[label(x) for x in mask_files]})"
      ]
    },
    {
      "cell_type": "code",
      "execution_count": 30,
      "metadata": {},
      "outputs": [
        {
          "data": {
            "text/plain": [
              "(3929, 3)"
            ]
          },
          "execution_count": 30,
          "metadata": {},
          "output_type": "execute_result"
        }
      ],
      "source": [
        "df.shape"
      ]
    },
    {
      "cell_type": "code",
      "execution_count": 31,
      "metadata": {},
      "outputs": [
        {
          "name": "stdout",
          "output_type": "stream",
          "text": [
            "Index(['image', 'mask', 'label'], dtype='object')\n"
          ]
        },
        {
          "data": {
            "text/html": [
              "<div>\n",
              "<style scoped>\n",
              "    .dataframe tbody tr th:only-of-type {\n",
              "        vertical-align: middle;\n",
              "    }\n",
              "\n",
              "    .dataframe tbody tr th {\n",
              "        vertical-align: top;\n",
              "    }\n",
              "\n",
              "    .dataframe thead th {\n",
              "        text-align: right;\n",
              "    }\n",
              "</style>\n",
              "<table border=\"1\" class=\"dataframe\">\n",
              "  <thead>\n",
              "    <tr style=\"text-align: right;\">\n",
              "      <th></th>\n",
              "      <th>image</th>\n",
              "      <th>mask</th>\n",
              "      <th>label</th>\n",
              "    </tr>\n",
              "  </thead>\n",
              "  <tbody>\n",
              "    <tr>\n",
              "      <th>0</th>\n",
              "      <td>/Users/niloufar/Downloads/kaggle_3m/TCGA_CS_66...</td>\n",
              "      <td>/Users/niloufar/Downloads/kaggle_3m/TCGA_CS_66...</td>\n",
              "      <td>0</td>\n",
              "    </tr>\n",
              "    <tr>\n",
              "      <th>1</th>\n",
              "      <td>/Users/niloufar/Downloads/kaggle_3m/TCGA_CS_66...</td>\n",
              "      <td>/Users/niloufar/Downloads/kaggle_3m/TCGA_CS_66...</td>\n",
              "      <td>0</td>\n",
              "    </tr>\n",
              "    <tr>\n",
              "      <th>2</th>\n",
              "      <td>/Users/niloufar/Downloads/kaggle_3m/TCGA_CS_66...</td>\n",
              "      <td>/Users/niloufar/Downloads/kaggle_3m/TCGA_CS_66...</td>\n",
              "      <td>0</td>\n",
              "    </tr>\n",
              "    <tr>\n",
              "      <th>3</th>\n",
              "      <td>/Users/niloufar/Downloads/kaggle_3m/TCGA_CS_66...</td>\n",
              "      <td>/Users/niloufar/Downloads/kaggle_3m/TCGA_CS_66...</td>\n",
              "      <td>0</td>\n",
              "    </tr>\n",
              "    <tr>\n",
              "      <th>4</th>\n",
              "      <td>/Users/niloufar/Downloads/kaggle_3m/TCGA_CS_66...</td>\n",
              "      <td>/Users/niloufar/Downloads/kaggle_3m/TCGA_CS_66...</td>\n",
              "      <td>0</td>\n",
              "    </tr>\n",
              "  </tbody>\n",
              "</table>\n",
              "</div>"
            ],
            "text/plain": [
              "                                               image  \\\n",
              "0  /Users/niloufar/Downloads/kaggle_3m/TCGA_CS_66...   \n",
              "1  /Users/niloufar/Downloads/kaggle_3m/TCGA_CS_66...   \n",
              "2  /Users/niloufar/Downloads/kaggle_3m/TCGA_CS_66...   \n",
              "3  /Users/niloufar/Downloads/kaggle_3m/TCGA_CS_66...   \n",
              "4  /Users/niloufar/Downloads/kaggle_3m/TCGA_CS_66...   \n",
              "\n",
              "                                                mask label  \n",
              "0  /Users/niloufar/Downloads/kaggle_3m/TCGA_CS_66...     0  \n",
              "1  /Users/niloufar/Downloads/kaggle_3m/TCGA_CS_66...     0  \n",
              "2  /Users/niloufar/Downloads/kaggle_3m/TCGA_CS_66...     0  \n",
              "3  /Users/niloufar/Downloads/kaggle_3m/TCGA_CS_66...     0  \n",
              "4  /Users/niloufar/Downloads/kaggle_3m/TCGA_CS_66...     0  "
            ]
          },
          "execution_count": 31,
          "metadata": {},
          "output_type": "execute_result"
        }
      ],
      "source": [
        "print(df.columns)\n",
        "df.head()"
      ]
    }
  ],
  "metadata": {
    "colab": {
      "name": "Niloufar_notebook.ipynb",
      "provenance": []
    },
    "kernelspec": {
      "display_name": "Python 3",
      "name": "python3"
    },
    "language_info": {
      "codemirror_mode": {
        "name": "ipython",
        "version": 3
      },
      "file_extension": ".py",
      "mimetype": "text/x-python",
      "name": "python",
      "nbconvert_exporter": "python",
      "pygments_lexer": "ipython3",
      "version": "3.8.5"
    }
  },
  "nbformat": 4,
  "nbformat_minor": 0
}
