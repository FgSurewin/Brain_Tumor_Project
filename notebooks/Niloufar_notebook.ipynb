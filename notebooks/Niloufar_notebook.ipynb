{
  "nbformat": 4,
  "nbformat_minor": 0,
  "metadata": {
    "colab": {
      "name": "Niloufar_notebook.ipynb",
      "provenance": []
    },
    "kernelspec": {
      "name": "python3",
      "display_name": "Python 3"
    },
    "language_info": {
      "name": "python"
    }
  },
  "cells": [
    {
      "cell_type": "code",
      "execution_count": null,
      "metadata": {
        "id": "H9JHQRP4YGOn"
      },
      "outputs": [],
      "source": [
        "!gdown --id 10fKUF1u3uhIrhEipoklNgysmPyYuYGV9 -O kaggle_m3.zip"
      ]
    },
    {
      "cell_type": "code",
      "source": [
        "!unzip kaggle_m3.zip"
      ],
      "metadata": {
        "id": "b4y7t5QPYJdX"
      },
      "execution_count": null,
      "outputs": []
    }
  ]
}