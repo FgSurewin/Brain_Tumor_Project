{
  "cells": [
    {
      "cell_type": "markdown",
      "metadata": {
        "id": "K6WGK4DyTHWz"
      },
      "source": [
        "# Download Dataset"
      ]
    },
    {
      "cell_type": "code",
      "execution_count": null,
      "metadata": {
        "id": "ztnuHoxHSqCf"
      },
      "outputs": [],
      "source": [
        "!gdown --id 10fKUF1u3uhIrhEipoklNgysmPyYuYGV9 -O kaggle_m3.zip\n",
        "!gdown --id 1Leaos-3uB70Lex1qLE7FvrtaOBDOYKbQ -O data_aug.zip"
      ]
    },
    {
      "cell_type": "code",
      "execution_count": null,
      "metadata": {
        "id": "Cbrka6L-TNGS"
      },
      "outputs": [],
      "source": [
        "! mkdir fakes\n",
        "! cp data_aug.zip fakes\n",
        "%cd fakes\n",
        "! ls"
      ]
    },
    {
      "cell_type": "code",
      "execution_count": null,
      "metadata": {
        "id": "Vo9RmJVATNIs"
      },
      "outputs": [],
      "source": [
        "! unzip data_aug.zip"
      ]
    },
    {
      "cell_type": "code",
      "execution_count": 4,
      "metadata": {
        "colab": {
          "base_uri": "https://localhost:8080/"
        },
        "id": "wxTAyFpITNK6",
        "outputId": "7630eb1e-1f8c-4af4-9b3c-1d2fd1330a7b"
      },
      "outputs": [
        {
          "name": "stdout",
          "output_type": "stream",
          "text": [
            "/content\n"
          ]
        }
      ],
      "source": [
        "%cd .."
      ]
    },
    {
      "cell_type": "code",
      "execution_count": null,
      "metadata": {
        "id": "0JeS8fubTNNC"
      },
      "outputs": [],
      "source": [
        "!unzip kaggle_m3.zip"
      ]
    },
    {
      "cell_type": "markdown",
      "metadata": {
        "id": "loJRNeVKTUNh"
      },
      "source": [
        "# Download Models"
      ]
    },
    {
      "cell_type": "code",
      "execution_count": null,
      "metadata": {
        "id": "nyQGHyL6TNPV"
      },
      "outputs": [],
      "source": [
        "!gdown --id 1lQGkDCBqof5FI36ldZx-q1RGk8P1Q6nu -O brainMRI_Segment.h5\n",
        "!gdown --id 1zPFJiA6fcCl8y6QkTIXvunqIj_DYR9b0 -O new_cnn_model_full_dataset_color_image.h5\n",
        "!gdown --id 1-1090IK1tt7irWX-YTV6_L5XbmFh8qO- -O new_vgg_transfer_learning_model_full_dataset_color_image.h5"
      ]
    },
    {
      "cell_type": "markdown",
      "metadata": {
        "id": "ZIPnEvwYTZOZ"
      },
      "source": [
        "# Import Data"
      ]
    },
    {
      "cell_type": "code",
      "execution_count": 7,
      "metadata": {
        "id": "auNGNN7TTNRm"
      },
      "outputs": [],
      "source": [
        "import matplotlib.pyplot as plt\n",
        "import matplotlib.image as mpimg\n",
        "from glob import glob\n",
        "import pandas as pd\n",
        "import seaborn as sns\n",
        "\n",
        "from keras.preprocessing.image import ImageDataGenerator\n",
        "from keras.models import Sequential\n",
        "from keras.layers import Conv2D, MaxPooling2D, BatchNormalization\n",
        "from keras.layers import Activation, Dropout, Flatten, Dense\n",
        "from keras.callbacks import EarlyStopping\n",
        "import tensorflow as tf\n",
        "from skimage.color import rgb2gray\n",
        "\n",
        "import os\n",
        "import cv2\n",
        "from PIL import Image\n",
        "import numpy as np"
      ]
    },
    {
      "cell_type": "code",
      "execution_count": 8,
      "metadata": {
        "colab": {
          "base_uri": "https://localhost:8080/"
        },
        "id": "VUoFPhSGTNTt",
        "outputId": "07967b1e-c560-49c7-a0a8-6f534570f928"
      },
      "outputs": [
        {
          "data": {
            "text/plain": [
              "(5302, 3)"
            ]
          },
          "execution_count": 8,
          "metadata": {},
          "output_type": "execute_result"
        }
      ],
      "source": [
        "# Set parameters\n",
        "file_path='/'\n",
        "Size = (256, 256)\n",
        "mask_files = glob(file_path + os.path.join('content','*','*_mask*'))\n",
        "train_files = [file.replace('_mask', '') for file in mask_files]\n",
        "\n",
        "# Create Dataframe\n",
        "def label(mask):\n",
        "    value = np.max(cv2.imread(mask))\n",
        "    return '1' if value > 0 else '0'\n",
        "df = pd.DataFrame({\"image\": train_files,\n",
        "                   \"mask\": mask_files,\n",
        "                  \"label\":[label(x) for x in mask_files]})\n",
        "\n",
        "\n",
        "df.shape"
      ]
    },
    {
      "cell_type": "code",
      "execution_count": 9,
      "metadata": {
        "colab": {
          "base_uri": "https://localhost:8080/"
        },
        "id": "5mBo-jSyTpCc",
        "outputId": "848c6be2-2afa-4ccc-b84f-4b55b511b02e"
      },
      "outputs": [
        {
          "name": "stdout",
          "output_type": "stream",
          "text": [
            "(5302, 256, 256, 3)\n",
            "(5302,)\n"
          ]
        }
      ],
      "source": [
        "# Collect Data\n",
        "dataset = [ cv2.imread(path) for path in df[\"image\"]  ]\n",
        "label = df[\"label\"].values\n",
        "dataset = np.array(dataset)\n",
        "label = np.array(df[\"label\"].values).astype(int)\n",
        "print(dataset.shape)\n",
        "print(label.shape)"
      ]
    },
    {
      "cell_type": "markdown",
      "metadata": {
        "id": "ZASix9w7TtWx"
      },
      "source": [
        "# Split Data"
      ]
    },
    {
      "cell_type": "code",
      "execution_count": 10,
      "metadata": {
        "id": "MJF-z2oZTpEx"
      },
      "outputs": [],
      "source": [
        "from sklearn.model_selection import train_test_split\n",
        "#from keras.utils import to_categorical\n",
        "\n",
        "X_train, X_test, y_train, y_test = train_test_split(dataset, label, test_size = 0.1, random_state = 0)\n",
        "X_test, X_val, y_test, y_val = train_test_split(X_test, y_test, test_size = 0.5, random_state = 0)"
      ]
    },
    {
      "cell_type": "code",
      "execution_count": 11,
      "metadata": {
        "colab": {
          "base_uri": "https://localhost:8080/"
        },
        "id": "rqI_6XvuTpHB",
        "outputId": "ca403239-b9a7-47ce-9f5c-3cb0c9f31539"
      },
      "outputs": [
        {
          "name": "stdout",
          "output_type": "stream",
          "text": [
            "(4771, 256, 256, 3)\n",
            "(265, 256, 256, 3)\n",
            "(266, 256, 256, 3)\n"
          ]
        }
      ],
      "source": [
        "print(X_train.shape)\n",
        "print(X_test.shape)\n",
        "print(X_val.shape)"
      ]
    },
    {
      "cell_type": "code",
      "execution_count": 12,
      "metadata": {
        "id": "XwOiNgYHTpJi"
      },
      "outputs": [],
      "source": [
        "X_train = X_train / 255.0\n",
        "X_test = X_test / 255.0\n",
        "X_val = X_val / 255.0"
      ]
    },
    {
      "cell_type": "markdown",
      "metadata": {
        "id": "ZuNmuOxfVr1_"
      },
      "source": [
        "# Load models"
      ]
    },
    {
      "cell_type": "code",
      "execution_count": 18,
      "metadata": {
        "id": "2VyyvUrwWMym"
      },
      "outputs": [],
      "source": [
        "from keras import backend as K\n",
        "smooth=1.\n",
        "\n",
        "def dice_coef(y_true, y_pred):\n",
        "    y_true = K.flatten(y_true)\n",
        "    y_pred = K.flatten(y_pred)\n",
        "    intersection = K.sum(y_true * y_pred)\n",
        "    union = K.sum(y_true) + K.sum(y_pred)\n",
        "    return (2.0 * intersection + smooth) / (union + smooth)\n",
        "\n",
        "def dice_coef_loss(y_true, y_pred):\n",
        "    return 1 - dice_coef(y_true, y_pred)\n",
        "\n",
        "def bce_dice_loss(y_true, y_pred):\n",
        "    bce = tf.keras.losses.BinaryCrossentropy(from_logits=True)\n",
        "    return dice_coef_loss(y_true, y_pred) + bce(y_true, y_pred)\n",
        "\n",
        "def iou(y_true, y_pred):\n",
        "    intersection = K.sum(y_true * y_pred)\n",
        "    sum_ = K.sum(y_true + y_pred)\n",
        "    jac = (intersection + smooth) / (sum_ - intersection + smooth)\n",
        "    return jac\n",
        "\n",
        "\n",
        "model_seg = tf.keras.models.load_model('brainMRI_Segment.h5', custom_objects={'bce_dice_loss': bce_dice_loss, \"iou\":iou, \"dice_coef\":dice_coef, \"dice_coef_loss\":dice_coef_loss})\n",
        "model_cnn = tf.keras.models.load_model('new_cnn_model_full_dataset_color_image.h5')\n",
        "model_vgg = tf.keras.models.load_model('new_vgg_transfer_learning_model_full_dataset_color_image.h5')"
      ]
    },
    {
      "cell_type": "markdown",
      "metadata": {
        "id": "w8JHEnXxV2U_"
      },
      "source": [
        "# Segmentation Classifier"
      ]
    },
    {
      "cell_type": "code",
      "execution_count": 19,
      "metadata": {
        "id": "EY4TK3XiTpLy"
      },
      "outputs": [],
      "source": [
        "class SegmentationClassifier:\n",
        "  def __init__(self, model) -> None:\n",
        "      self.model = model\n",
        "\n",
        "  def predict(self, images):\n",
        "      final_pred = []\n",
        "      y_pred = self.model.predict(images)\n",
        "      for idx in range(y_pred.shape[0]):\n",
        "        pred_mask = y_pred[idx]\n",
        "        result = 1 if np.max(pred_mask.reshape(-1)) > 0.1 else 0\n",
        "        final_pred.append(result)\n",
        "      \n",
        "      return np.array(final_pred)"
      ]
    },
    {
      "cell_type": "code",
      "execution_count": 20,
      "metadata": {
        "id": "i6OqK1GDV5Bp"
      },
      "outputs": [],
      "source": [
        "seg = SegmentationClassifier(model_seg)"
      ]
    },
    {
      "cell_type": "code",
      "execution_count": 21,
      "metadata": {
        "colab": {
          "base_uri": "https://localhost:8080/"
        },
        "id": "R-cJCQZOV5D5",
        "outputId": "20997975-c3d1-4a2f-f1cf-ec18a203c926"
      },
      "outputs": [
        {
          "data": {
            "text/plain": [
              "array([1, 0, 1, 0, 1, 0, 0, 1, 0, 0, 1, 1, 0, 0, 1, 1, 0, 1, 0, 0, 0, 1,\n",
              "       1, 1, 1, 0, 0, 0, 1, 0, 0, 0, 0, 1, 0, 0, 1, 1, 1, 1, 1, 1, 0, 1,\n",
              "       1, 0, 1, 0, 1, 0, 1, 1, 1, 0, 1, 1, 0, 0, 1, 1, 1, 0, 1, 0, 1, 1,\n",
              "       1, 1, 0, 0, 1, 1, 1, 1, 1, 0, 0, 1, 1, 1, 0, 0, 1, 0, 1, 1, 1, 0,\n",
              "       0, 1, 1, 0, 0, 1, 0, 0, 1, 0, 1, 0, 0, 1, 1, 1, 0, 0, 0, 1, 0, 1,\n",
              "       1, 1, 1, 0, 1, 1, 1, 1, 1, 1, 1, 0, 1, 1, 1, 0, 1, 1, 0, 1, 1, 1,\n",
              "       0, 0, 0, 1, 0, 0, 1, 0, 0, 0, 0, 1, 0, 0, 0, 1, 1, 1, 1, 1, 0, 1,\n",
              "       0, 1, 1, 0, 0, 1, 1, 0, 0, 1, 1, 1, 1, 1, 0, 1, 0, 0, 0, 0, 1, 1,\n",
              "       1, 0, 1, 1, 1, 1, 0, 0, 1, 1, 1, 1, 1, 0, 0, 0, 0, 0, 1, 1, 1, 0,\n",
              "       1, 1, 1, 1, 1, 0, 0, 0, 1, 0, 1, 1, 1, 1, 0, 1, 1, 1, 0, 0, 1, 0,\n",
              "       0, 1, 1, 1, 1, 1, 0, 1, 1, 0, 1, 1, 1, 1, 1, 1, 0, 1, 1, 0, 1, 1,\n",
              "       1, 0, 0, 0, 1, 1, 0, 1, 0, 0, 0, 1, 0, 0, 1, 0, 1, 1, 1, 0, 0, 1,\n",
              "       0])"
            ]
          },
          "execution_count": 21,
          "metadata": {},
          "output_type": "execute_result"
        }
      ],
      "source": [
        "seg.predict(X_test)"
      ]
    },
    {
      "cell_type": "markdown",
      "metadata": {
        "id": "anwCUfQEa7K8"
      },
      "source": [
        "# Voting Classifier"
      ]
    },
    {
      "cell_type": "code",
      "execution_count": 38,
      "metadata": {
        "id": "fUsm6eyXa81d"
      },
      "outputs": [],
      "source": [
        "from scipy import stats\n",
        "\n",
        "class VotingClassifier: \n",
        "  def __init__(self, models, threshold=0.5) -> None:\n",
        "      self.models = models\n",
        "      self.threshold = threshold\n",
        "\n",
        "  def predict(self, X_test):\n",
        "      final_pred = []\n",
        "      for model in self.models:\n",
        "          y_pred = model.predict(X_test).reshape(-1)\n",
        "          y_pred = np.where(y_pred >= self.threshold, 1, 0)\n",
        "          final_pred.append(y_pred)\n",
        "      final_pred_mode = (stats.mode(final_pred, axis=0)[0]).reshape(-1)\n",
        "      return final_pred_mode"
      ]
    },
    {
      "cell_type": "code",
      "execution_count": 39,
      "metadata": {
        "id": "LVNHdLqDV5PT"
      },
      "outputs": [],
      "source": [
        "voting_cls = VotingClassifier([seg, model_cnn, model_vgg])\n",
        "y_pred = voting_cls.predict(X_test)"
      ]
    },
    {
      "cell_type": "code",
      "execution_count": 40,
      "metadata": {
        "colab": {
          "base_uri": "https://localhost:8080/"
        },
        "id": "sqsLoXbgdFrk",
        "outputId": "050879e0-515e-4dc1-fa24-03a995c0a02c"
      },
      "outputs": [
        {
          "data": {
            "text/plain": [
              "(265,)"
            ]
          },
          "execution_count": 40,
          "metadata": {},
          "output_type": "execute_result"
        }
      ],
      "source": [
        "y_pred.shape"
      ]
    },
    {
      "cell_type": "code",
      "execution_count": 56,
      "metadata": {
        "id": "B9fJR6XpeNtX"
      },
      "outputs": [],
      "source": [
        "from sklearn.metrics import confusion_matrix, classification_report\n",
        "def plot_confusion_matraix(model, X_test, y_test, threshold=0.5):\n",
        "    y_pred = model.predict(X_test)\n",
        "    y_pred = np.where(y_pred >= threshold, 1, 0)\n",
        "    print(classification_report(y_test, y_pred))\n",
        "    cm = confusion_matrix(y_test, y_pred)\n",
        "    cm = pd.DataFrame(cm, range(2), range(2))\n",
        "    cm.iloc[0, :] = round(cm.iloc[0, :] / cm.iloc[0, :].sum(), 2)\n",
        "    cm.iloc[1, :] = round(cm.iloc[1, :] / cm.iloc[1, :].sum(), 2)\n",
        "    plt.figure(figsize=(10, 10))\n",
        "    # plt.xlabel(\"Predicted Label\")\n",
        "    # plt.ylabel(\"True Label\")\n",
        "    plt.title(\"Confusion Matrix\")\n",
        "    s = sns.heatmap(cm, annot=True, annot_kws={\"size\": 32}, fmt=\"g\", cmap=\"Blues\"\n",
        ")  # font size\n",
        "    s.set(xlabel=\"Predicted Label\", ylabel=\"True Label\")\n"
      ]
    },
    {
      "cell_type": "markdown",
      "metadata": {
        "id": "7A-_F7Ujeh54"
      },
      "source": [
        "### Confusion Matraix for Voting Classifier"
      ]
    },
    {
      "cell_type": "code",
      "execution_count": 57,
      "metadata": {
        "colab": {
          "base_uri": "https://localhost:8080/",
          "height": 777
        },
        "id": "_6kLQSzzlsHd",
        "outputId": "66b56c52-f581-4532-86bf-88a3a51ebc38"
      },
      "outputs": [
        {
          "name": "stdout",
          "output_type": "stream",
          "text": [
            "              precision    recall  f1-score   support\n",
            "\n",
            "           0       0.95      0.98      0.96       127\n",
            "           1       0.98      0.96      0.97       138\n",
            "\n",
            "    accuracy                           0.97       265\n",
            "   macro avg       0.97      0.97      0.97       265\n",
            "weighted avg       0.97      0.97      0.97       265\n",
            "\n"
          ]
        },
        {
          "data": {
            "image/png": "[encoded data removed]",
            "text/plain": [
              "<Figure size 720x720 with 2 Axes>"
            ]
          },
          "metadata": {
            "needs_background": "light"
          },
          "output_type": "display_data"
        }
      ],
      "source": [
        "plot_confusion_matraix(voting_cls, X_test, y_test)"
      ]
    },
    {
      "cell_type": "markdown",
      "metadata": {
        "id": "Yb4tKuM1esOe"
      },
      "source": [
        "### Confusion Matraix for CNN"
      ]
    },
    {
      "cell_type": "code",
      "execution_count": 58,
      "metadata": {
        "colab": {
          "base_uri": "https://localhost:8080/",
          "height": 777
        },
        "id": "dioG-bK4cflq",
        "outputId": "2b734425-efca-4bd7-87c1-01ca9b6c21bd"
      },
      "outputs": [
        {
          "name": "stdout",
          "output_type": "stream",
          "text": [
            "              precision    recall  f1-score   support\n",
            "\n",
            "           0       0.92      0.92      0.92       127\n",
            "           1       0.93      0.93      0.93       138\n",
            "\n",
            "    accuracy                           0.92       265\n",
            "   macro avg       0.92      0.92      0.92       265\n",
            "weighted avg       0.92      0.92      0.92       265\n",
            "\n"
          ]
        },
        {
          "data": {
            "image/png": "[encoded data removed]",
            "text/plain": [
              "<Figure size 720x720 with 2 Axes>"
            ]
          },
          "metadata": {
            "needs_background": "light"
          },
          "output_type": "display_data"
        }
      ],
      "source": [
        "plot_confusion_matraix(model_cnn, X_test, y_test)"
      ]
    },
    {
      "cell_type": "markdown",
      "metadata": {
        "id": "RhLdEr-aezkJ"
      },
      "source": [
        "### Confusion Matraix for VGG"
      ]
    },
    {
      "cell_type": "code",
      "execution_count": 59,
      "metadata": {
        "colab": {
          "base_uri": "https://localhost:8080/",
          "height": 777
        },
        "id": "DjoeRaxscfoA",
        "outputId": "3489e268-062e-44a6-907a-2e7d592f8cf5"
      },
      "outputs": [
        {
          "name": "stdout",
          "output_type": "stream",
          "text": [
            "              precision    recall  f1-score   support\n",
            "\n",
            "           0       0.93      0.98      0.96       127\n",
            "           1       0.98      0.93      0.96       138\n",
            "\n",
            "    accuracy                           0.96       265\n",
            "   macro avg       0.96      0.96      0.96       265\n",
            "weighted avg       0.96      0.96      0.96       265\n",
            "\n"
          ]
        },
        {
          "data": {
            "image/png": "[encoded data removed]",
            "text/plain": [
              "<Figure size 720x720 with 2 Axes>"
            ]
          },
          "metadata": {
            "needs_background": "light"
          },
          "output_type": "display_data"
        }
      ],
      "source": [
        "plot_confusion_matraix(model_vgg, X_test, y_test)"
      ]
    },
    {
      "cell_type": "markdown",
      "metadata": {
        "id": "JeHnNMoDi9IH"
      },
      "source": [
        "### Confusion Matraix for Seg"
      ]
    },
    {
      "cell_type": "code",
      "execution_count": 60,
      "metadata": {
        "colab": {
          "base_uri": "https://localhost:8080/",
          "height": 777
        },
        "id": "KUxdS6SUcfqP",
        "outputId": "290ae132-8098-42d8-818c-2216787a315a"
      },
      "outputs": [
        {
          "name": "stdout",
          "output_type": "stream",
          "text": [
            "              precision    recall  f1-score   support\n",
            "\n",
            "           0       0.95      0.83      0.89       127\n",
            "           1       0.86      0.96      0.91       138\n",
            "\n",
            "    accuracy                           0.90       265\n",
            "   macro avg       0.90      0.90      0.90       265\n",
            "weighted avg       0.90      0.90      0.90       265\n",
            "\n"
          ]
        },
        {
          "data": {
            "image/png": "[encoded data removed]",
            "text/plain": [
              "<Figure size 720x720 with 2 Axes>"
            ]
          },
          "metadata": {
            "needs_background": "light"
          },
          "output_type": "display_data"
        }
      ],
      "source": [
        "plot_confusion_matraix(seg, X_test, y_test)"
      ]
    }
  ],
  "metadata": {
    "accelerator": "GPU",
    "colab": {
      "machine_shape": "hm",
      "name": "05-deep-learning-voting-classifier.ipynb",
      "provenance": []
    },
    "kernelspec": {
      "display_name": "Python 3",
      "name": "python3"
    },
    "language_info": {
      "name": "python"
    }
  },
  "nbformat": 4,
  "nbformat_minor": 0
}
