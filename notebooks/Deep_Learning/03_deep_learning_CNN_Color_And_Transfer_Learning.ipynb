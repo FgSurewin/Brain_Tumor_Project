{
  "cells": [
    {
      "cell_type": "markdown",
      "metadata": {
        "id": "Lhqcq4mmpNaC"
      },
      "source": [
        "# Download Dataset"
      ]
    },
    {
      "cell_type": "code",
      "execution_count": null,
      "metadata": {
        "id": "ijdMJQr0o1Y-"
      },
      "outputs": [],
      "source": [
        "!gdown --id 10fKUF1u3uhIrhEipoklNgysmPyYuYGV9 -O kaggle_m3.zip\n",
        "!gdown --id 1Leaos-3uB70Lex1qLE7FvrtaOBDOYKbQ -O data_aug.zip"
      ]
    },
    {
      "cell_type": "code",
      "execution_count": null,
      "metadata": {
        "id": "McvuUxAApMpr"
      },
      "outputs": [],
      "source": [
        "! mkdir fakes\n",
        "! cp data_aug.zip fakes\n",
        "%cd fakes\n",
        "! ls"
      ]
    },
    {
      "cell_type": "code",
      "execution_count": null,
      "metadata": {
        "id": "QbMLLD6_pMua"
      },
      "outputs": [],
      "source": [
        "! unzip data_aug.zip"
      ]
    },
    {
      "cell_type": "code",
      "execution_count": 4,
      "metadata": {
        "colab": {
          "base_uri": "https://localhost:8080/"
        },
        "id": "CMygt_8RpMr8",
        "outputId": "dc06d061-779b-40b6-c5a7-78b4b43bbe59"
      },
      "outputs": [
        {
          "name": "stdout",
          "output_type": "stream",
          "text": [
            "/content\n"
          ]
        }
      ],
      "source": [
        "%cd .."
      ]
    },
    {
      "cell_type": "code",
      "execution_count": null,
      "metadata": {
        "id": "FA8sx41SpSL6"
      },
      "outputs": [],
      "source": [
        "!unzip kaggle_m3.zip"
      ]
    },
    {
      "cell_type": "markdown",
      "metadata": {
        "id": "jQlmYNpqpXXC"
      },
      "source": [
        "# Import Dataset"
      ]
    },
    {
      "cell_type": "code",
      "execution_count": 1,
      "metadata": {
        "id": "2SFGFsaxpSQj"
      },
      "outputs": [],
      "source": [
        "import matplotlib.pyplot as plt\n",
        "import matplotlib.image as mpimg\n",
        "from glob import glob\n",
        "import pandas as pd\n",
        "import seaborn as sns\n",
        "\n",
        "from keras.preprocessing.image import ImageDataGenerator\n",
        "from keras.models import Sequential\n",
        "from keras.layers import Conv2D, MaxPooling2D, BatchNormalization\n",
        "from keras.layers import Activation, Dropout, Flatten, Dense\n",
        "from keras.callbacks import EarlyStopping\n",
        "import tensorflow as tf\n",
        "from skimage.color import rgb2gray\n",
        "\n",
        "import os\n",
        "import cv2\n",
        "from PIL import Image\n",
        "import numpy as np"
      ]
    },
    {
      "cell_type": "code",
      "execution_count": 2,
      "metadata": {
        "colab": {
          "base_uri": "https://localhost:8080/"
        },
        "id": "ZpPaxUYgpSTK",
        "outputId": "18282489-2869-4352-8d60-c33b0e2d8a60"
      },
      "outputs": [
        {
          "data": {
            "text/plain": [
              "(5302, 3)"
            ]
          },
          "execution_count": 2,
          "metadata": {},
          "output_type": "execute_result"
        }
      ],
      "source": [
        "# Set parameters\n",
        "file_path='/'\n",
        "Size = (256, 256)\n",
        "mask_files = glob(file_path + os.path.join('content','*','*_mask*'))\n",
        "train_files = [file.replace('_mask', '') for file in mask_files]\n",
        "\n",
        "# Create Dataframe\n",
        "def label(mask):\n",
        "    value = np.max(cv2.imread(mask))\n",
        "    return '1' if value > 0 else '0'\n",
        "df = pd.DataFrame({\"image\": train_files,\n",
        "                   \"mask\": mask_files,\n",
        "                  \"label\":[label(x) for x in mask_files]})\n",
        "\n",
        "\n",
        "df.shape"
      ]
    },
    {
      "cell_type": "code",
      "execution_count": 3,
      "metadata": {
        "colab": {
          "base_uri": "https://localhost:8080/"
        },
        "id": "lfismgKTuk1u",
        "outputId": "d0c5e5f7-316f-4113-da17-e79ab9af5906"
      },
      "outputs": [
        {
          "name": "stdout",
          "output_type": "stream",
          "text": [
            "(5302, 256, 256, 3)\n",
            "(5302,)\n"
          ]
        }
      ],
      "source": [
        "# Collect Data\n",
        "dataset = [ cv2.imread(path) for path in df[\"image\"]  ]\n",
        "label = df[\"label\"].values\n",
        "dataset = np.array(dataset)\n",
        "label = np.array(df[\"label\"].values).astype(int)\n",
        "print(dataset.shape)\n",
        "print(label.shape)"
      ]
    },
    {
      "cell_type": "code",
      "execution_count": null,
      "metadata": {
        "id": "Ds5o_nGNxVbr"
      },
      "outputs": [],
      "source": [
        "# dataset_gray = dataset[:, :, :, np.newaxis]"
      ]
    },
    {
      "cell_type": "markdown",
      "metadata": {
        "id": "KZRjpUy1uadd"
      },
      "source": [
        "# Split Data"
      ]
    },
    {
      "cell_type": "code",
      "execution_count": 4,
      "metadata": {
        "id": "bNcuHXjcuXbE"
      },
      "outputs": [],
      "source": [
        "from sklearn.model_selection import train_test_split\n",
        "#from keras.utils import to_categorical\n",
        "\n",
        "X_train, X_test, y_train, y_test = train_test_split(dataset, label, test_size = 0.1, random_state = 0)\n",
        "X_test, X_val, y_test, y_val = train_test_split(X_test, y_test, test_size = 0.5, random_state = 0)"
      ]
    },
    {
      "cell_type": "code",
      "execution_count": 5,
      "metadata": {
        "colab": {
          "base_uri": "https://localhost:8080/"
        },
        "id": "wXMgb9JjHgWs",
        "outputId": "14f30fd8-d660-49da-b0ce-6352ada47202"
      },
      "outputs": [
        {
          "name": "stdout",
          "output_type": "stream",
          "text": [
            "(4771, 256, 256, 3)\n",
            "(265, 256, 256, 3)\n",
            "(266, 256, 256, 3)\n"
          ]
        }
      ],
      "source": [
        "print(X_train.shape)\n",
        "print(X_test.shape)\n",
        "print(X_val.shape)"
      ]
    },
    {
      "cell_type": "code",
      "execution_count": 6,
      "metadata": {
        "id": "HihsAVPdHc-U"
      },
      "outputs": [],
      "source": [
        "X_train = X_train / 255.0\n",
        "X_test = X_test / 255.0\n",
        "X_val = X_val / 255.0"
      ]
    },
    {
      "cell_type": "markdown",
      "metadata": {
        "id": "tNqHx8UMu6F2"
      },
      "source": [
        "# CNN"
      ]
    },
    {
      "cell_type": "code",
      "execution_count": 23,
      "metadata": {
        "id": "Kj5YprfquXdX"
      },
      "outputs": [],
      "source": [
        "metrics = ['binary_accuracy', tf.keras.metrics.Precision(), tf.keras.metrics.Recall()]\n",
        "\n",
        "GRAY_INPUT_SHAPE = (256, 256, 1)\n",
        "COLOR_INPUT_SHAPE = (256, 256, 3)\n",
        "\n",
        "def model_builder(optimizer):\n",
        "    INPUT_SHAPE = COLOR_INPUT_SHAPE   #change to (SIZE, SIZE, 3)\n",
        "\n",
        "\n",
        "    model = Sequential()\n",
        "\n",
        "    model.add(Conv2D(32, (3, 3), input_shape=INPUT_SHAPE))\n",
        "    model.add(Activation('relu'))\n",
        "    model.add(BatchNormalization())\n",
        "    model.add(MaxPooling2D(pool_size=(2, 2)))\n",
        "\n",
        "    model.add(Conv2D(32, (3, 3), kernel_initializer = 'he_uniform', padding=\"same\"))\n",
        "    model.add(Activation('relu'))\n",
        "    model.add(BatchNormalization())\n",
        "    model.add(MaxPooling2D(pool_size=(2, 2)))\n",
        "\n",
        "    model.add(Conv2D(64, (3, 3), kernel_initializer = 'he_uniform', padding=\"same\"))\n",
        "    model.add(Activation('relu'))\n",
        "    model.add(BatchNormalization())\n",
        "    model.add(MaxPooling2D(pool_size=(2, 2)))\n",
        "\n",
        "    model.add(Flatten())\n",
        "\n",
        "    model.add(Dense(256))\n",
        "    model.add(Activation('relu'))\n",
        "    model.add(Dropout(0.5))\n",
        "\n",
        "    model.add(Dense(128))\n",
        "    model.add(Activation('relu'))\n",
        "\n",
        "    model.add(Dense(1))\n",
        "    model.add(Activation('sigmoid')) \n",
        "\n",
        "    model.compile(\n",
        "        optimizer=optimizer, \n",
        "        loss=\"binary_crossentropy\", \n",
        "        metrics=metrics,\n",
        "    )\n",
        "\n",
        "    return model"
      ]
    },
    {
      "cell_type": "markdown",
      "metadata": {
        "id": "J88LVKnpvIkt"
      },
      "source": [
        "## EarlyStopping"
      ]
    },
    {
      "cell_type": "code",
      "execution_count": 24,
      "metadata": {
        "id": "u5YXoiUbuXfp"
      },
      "outputs": [],
      "source": [
        "# patient early stopping\n",
        "es = EarlyStopping(monitor='val_loss', mode='min', verbose=1, patience=15, restore_best_weights=True)"
      ]
    },
    {
      "cell_type": "markdown",
      "metadata": {
        "id": "H8FWMeUqvEn9"
      },
      "source": [
        "## Hyper Params"
      ]
    },
    {
      "cell_type": "code",
      "execution_count": 8,
      "metadata": {
        "id": "cFrHs4xYu-Ku"
      },
      "outputs": [],
      "source": [
        "epochs = 1000\n",
        "learning_rate = 0.0005\n",
        "batch_size = 128"
      ]
    },
    {
      "cell_type": "markdown",
      "metadata": {
        "id": "fFD2lZfQvCcO"
      },
      "source": [
        "## Helper Functions"
      ]
    },
    {
      "cell_type": "code",
      "execution_count": 7,
      "metadata": {
        "id": "14uCY683u-M2"
      },
      "outputs": [],
      "source": [
        "def set_seed(seed):\n",
        "    tf.random.set_seed(seed)\n",
        "    np.random.seed(seed)\n",
        "    os.environ['PYTHONHASHSEED'] = str(seed)\n",
        "\n",
        "set_seed(888)"
      ]
    },
    {
      "cell_type": "code",
      "execution_count": 9,
      "metadata": {
        "id": "OEwEyO9mu-Pa"
      },
      "outputs": [],
      "source": [
        "def plot_loss_and_acurracy(history):\n",
        "  fig, axes = plt.subplots(nrows=1, ncols=2, figsize=(12, 8))\n",
        "  epochs = range(len(history.history['loss']))\n",
        "\n",
        "  loss = history.history['loss']\n",
        "  val_loss = history.history['val_loss']\n",
        "  axes[0].plot(epochs, loss, 'y', label='Training loss')\n",
        "  axes[0].plot(epochs, val_loss, 'r', label='Validation loss')\n",
        "  axes[0].set_title('Training and validation loss')\n",
        "  axes[0].set_xlabel('Epochs')\n",
        "  axes[0].set_ylabel('Loss')\n",
        "  axes[0].legend()\n",
        "\n",
        "  acc = history.history['binary_accuracy']\n",
        "  val_acc = history.history['val_binary_accuracy']\n",
        "  axes[1].plot(epochs, acc, 'y', label='Training acc')\n",
        "  axes[1].plot(epochs, val_acc, 'r', label='Validation acc')\n",
        "  axes[1].set_title('Training and validation accuracy')\n",
        "  axes[1].set_xlabel('Epochs')\n",
        "  axes[1].set_ylabel('Accuracy')\n",
        "  axes[1].legend()"
      ]
    },
    {
      "cell_type": "code",
      "execution_count": 10,
      "metadata": {
        "colab": {
          "base_uri": "https://localhost:8080/",
          "height": 377
        },
        "id": "O0fG2WJxu-R-",
        "outputId": "b5cdfed5-ac18-4ddd-9727-c937e283d6d4"
      },
      "outputs": [
        {
          "data": {
            "image/png": "[encoded data removed]",
            "text/plain": [
              "<Figure size 360x72 with 1 Axes>"
            ]
          },
          "metadata": {
            "needs_background": "light"
          },
          "output_type": "display_data"
        },
        {
          "data": {
            "image/png": "[encoded data removed]",
            "text/plain": [
              "<Figure size 360x72 with 1 Axes>"
            ]
          },
          "metadata": {
            "needs_background": "light"
          },
          "output_type": "display_data"
        },
        {
          "data": {
            "image/png": "[encoded data removed]",
            "text/plain": [
              "<Figure size 360x72 with 1 Axes>"
            ]
          },
          "metadata": {
            "needs_background": "light"
          },
          "output_type": "display_data"
        },
        {
          "data": {
            "image/png": "[encoded data removed]",
            "text/plain": [
              "<Figure size 360x72 with 1 Axes>"
            ]
          },
          "metadata": {
            "needs_background": "light"
          },
          "output_type": "display_data"
        },
        {
          "data": {
            "image/png": "[encoded data removed]",
            "text/plain": [
              "<Figure size 360x72 with 1 Axes>"
            ]
          },
          "metadata": {
            "needs_background": "light"
          },
          "output_type": "display_data"
        }
      ],
      "source": [
        "colors_dark = [\"#404040\", \"#676c72\", '#737980', '#8e959e', '#f9f9f9']\n",
        "colors_red = [\"#EA4335\", \"#E57373\", '#EF9A9A', '#FFCDD2', '#FFEBEE']\n",
        "colors_green = ['#34A853','#81C784','#A5D6A7','#C8E6C9','#E8F5E9']\n",
        "colors_blue = ['#4285F4','#42A5F5','#90CAF9','#BBDEFB','#E3F2FD']\n",
        "colors_yellow = ['#FBBC04','#FFCA28','#FFE082','#FFECB3','#FFF8E1']\n",
        "\n",
        "sns.palplot(colors_dark)\n",
        "sns.palplot(colors_green)\n",
        "sns.palplot(colors_red)\n",
        "sns.palplot(colors_blue)\n",
        "sns.palplot(colors_yellow)"
      ]
    },
    {
      "cell_type": "code",
      "execution_count": 11,
      "metadata": {
        "id": "9TL2iyTfu-UM"
      },
      "outputs": [],
      "source": [
        "def plot_history_precision_recall(history):\n",
        "    epochs = range(len(history.history['loss']))\n",
        "    fig, ax = plt.subplots(1,2,figsize=(14,7))\n",
        "    train_acc = history.history['precision_2']\n",
        "    train_loss = history.history['recall_2']\n",
        "    val_acc = history.history['val_precision_2']\n",
        "    val_loss = history.history['val_recall_2']\n",
        "\n",
        "    fig.text(s='Epochs vs. Training and Validation Precision/Recall',size=18,fontweight='bold',\n",
        "                 fontname='monospace',color=colors_dark[0],y=1,x=0.28,alpha=0.8)\n",
        "\n",
        "    sns.despine()\n",
        "    ax[0].plot(epochs, train_acc, color=colors_green[1],\n",
        "               label = 'Training Precision')\n",
        "    ax[0].plot(epochs, val_acc, color=colors_yellow[1],\n",
        "               label = 'Validation Precision')\n",
        "    ax[0].legend(frameon=False)\n",
        "    ax[0].set_xlabel('Epochs')\n",
        "    ax[0].set_ylabel('Training & Validation Precision')\n",
        "\n",
        "    sns.despine()\n",
        "    ax[1].plot(epochs, train_loss, color=colors_green[1],\n",
        "               label ='Training Recall')\n",
        "    ax[1].plot(epochs, val_loss, color=colors_yellow[1],\n",
        "               label = 'Validation Recall')\n",
        "    ax[1].legend(frameon=False)\n",
        "    ax[1].set_xlabel('Epochs')\n",
        "    ax[1].set_ylabel('Training & Validation Recall')\n",
        "\n",
        "    fig.show()"
      ]
    },
    {
      "cell_type": "code",
      "execution_count": 12,
      "metadata": {
        "id": "esc-6th1vOn2"
      },
      "outputs": [],
      "source": [
        "from sklearn.metrics import roc_curve\n",
        "from sklearn.metrics import auc\n",
        "from numpy.random import randint\n",
        "\n",
        "import matplotlib.colors as colors\n",
        "colors_list = list(colors._colors_full_map.values())\n",
        "\n",
        "\n",
        "def plot_roc_curve(models):\n",
        "  auc_list = []\n",
        "\n",
        "  plt.figure(figsize=(12, 8))\n",
        "  plt.plot([0, 1], [0, 1], 'y--')\n",
        "  plt.xlabel('False positive rate')\n",
        "  plt.ylabel('True positive rate')\n",
        "  plt.title('ROC curve')\n",
        "\n",
        "  for idx, (name, model) in enumerate(models):\n",
        "    y_preds = model.predict(X_test).ravel()\n",
        "    fpr, tpr, thresholds = roc_curve(y_test, y_preds) \n",
        "    auc_value = auc(fpr, tpr)\n",
        "    auc_list.append(auc_value)\n",
        "    label = str(name) + \" - AUC: \" + str(round(auc_value, 3))\n",
        "    plt.plot(fpr, tpr, marker='.', color=colors_list[randint(len(colors_list) - 1)], label=label)\n",
        "\n",
        "  plt.legend(fontsize=28)\n",
        "  \n",
        "  \n",
        "  return auc_list\n"
      ]
    },
    {
      "cell_type": "markdown",
      "metadata": {
        "id": "GYH_dCBrwcNM"
      },
      "source": [
        "## Optimizer - Adam"
      ]
    },
    {
      "cell_type": "code",
      "execution_count": 31,
      "metadata": {
        "colab": {
          "base_uri": "https://localhost:8080/"
        },
        "id": "J-BjMCt8vOxH",
        "outputId": "da684173-da1a-48c4-8adf-50d4da44c2ec"
      },
      "outputs": [
        {
          "name": "stdout",
          "output_type": "stream",
          "text": [
            "Epoch 1/1000\n",
            "38/38 [==============================] - 20s 191ms/step - loss: 2.0436 - binary_accuracy: 0.7114 - precision_2: 0.7221 - recall_2: 0.7218 - val_loss: 1.8448 - val_binary_accuracy: 0.4925 - val_precision_2: 0.4925 - val_recall_2: 1.0000\n",
            "Epoch 2/1000\n",
            "38/38 [==============================] - 6s 153ms/step - loss: 0.5511 - binary_accuracy: 0.7927 - precision_2: 0.7875 - recall_2: 0.8228 - val_loss: 1.4294 - val_binary_accuracy: 0.4925 - val_precision_2: 0.4925 - val_recall_2: 1.0000\n",
            "Epoch 3/1000\n",
            "38/38 [==============================] - 6s 151ms/step - loss: 0.3832 - binary_accuracy: 0.8288 - precision_2: 0.8278 - recall_2: 0.8462 - val_loss: 4.0651 - val_binary_accuracy: 0.4925 - val_precision_2: 0.4925 - val_recall_2: 1.0000\n",
            "Epoch 4/1000\n",
            "38/38 [==============================] - 6s 150ms/step - loss: 0.3404 - binary_accuracy: 0.8409 - precision_2: 0.8215 - recall_2: 0.8862 - val_loss: 6.6909 - val_binary_accuracy: 0.4925 - val_precision_2: 0.4925 - val_recall_2: 1.0000\n",
            "Epoch 5/1000\n",
            "38/38 [==============================] - 6s 152ms/step - loss: 0.3150 - binary_accuracy: 0.8537 - precision_2: 0.8373 - recall_2: 0.8914 - val_loss: 1.9284 - val_binary_accuracy: 0.5038 - val_precision_2: 0.4981 - val_recall_2: 1.0000\n",
            "Epoch 6/1000\n",
            "38/38 [==============================] - 6s 152ms/step - loss: 0.2664 - binary_accuracy: 0.8692 - precision_2: 0.8443 - recall_2: 0.9172 - val_loss: 0.8974 - val_binary_accuracy: 0.6353 - val_precision_2: 0.5752 - val_recall_2: 0.9924\n",
            "Epoch 7/1000\n",
            "38/38 [==============================] - 6s 151ms/step - loss: 0.2565 - binary_accuracy: 0.8841 - precision_2: 0.8936 - recall_2: 0.8817 - val_loss: 4.7881 - val_binary_accuracy: 0.4925 - val_precision_2: 0.4925 - val_recall_2: 1.0000\n",
            "Epoch 8/1000\n",
            "38/38 [==============================] - 6s 153ms/step - loss: 0.2539 - binary_accuracy: 0.8797 - precision_2: 0.8823 - recall_2: 0.8866 - val_loss: 4.5840 - val_binary_accuracy: 0.4925 - val_precision_2: 0.4924 - val_recall_2: 0.9924\n",
            "Epoch 9/1000\n",
            "38/38 [==============================] - 6s 151ms/step - loss: 0.2304 - binary_accuracy: 0.8971 - precision_2: 0.9151 - recall_2: 0.8837 - val_loss: 3.0701 - val_binary_accuracy: 0.5038 - val_precision_2: 0.4981 - val_recall_2: 1.0000\n",
            "Epoch 10/1000\n",
            "38/38 [==============================] - 6s 152ms/step - loss: 0.2135 - binary_accuracy: 0.9059 - precision_2: 0.9173 - recall_2: 0.8999 - val_loss: 4.7185 - val_binary_accuracy: 0.5000 - val_precision_2: 0.4962 - val_recall_2: 1.0000\n",
            "Epoch 11/1000\n",
            "38/38 [==============================] - 6s 152ms/step - loss: 0.1994 - binary_accuracy: 0.9164 - precision_2: 0.9308 - recall_2: 0.9063 - val_loss: 0.8170 - val_binary_accuracy: 0.7105 - val_precision_2: 0.6467 - val_recall_2: 0.9084\n",
            "Epoch 12/1000\n",
            "38/38 [==============================] - 6s 152ms/step - loss: 0.2165 - binary_accuracy: 0.9092 - precision_2: 0.9262 - recall_2: 0.8966 - val_loss: 0.6711 - val_binary_accuracy: 0.8233 - val_precision_2: 0.7763 - val_recall_2: 0.9008\n",
            "Epoch 13/1000\n",
            "38/38 [==============================] - 6s 151ms/step - loss: 0.1830 - binary_accuracy: 0.9132 - precision_2: 0.9300 - recall_2: 0.9007 - val_loss: 0.5493 - val_binary_accuracy: 0.8383 - val_precision_2: 0.8607 - val_recall_2: 0.8015\n",
            "Epoch 14/1000\n",
            "38/38 [==============================] - 6s 151ms/step - loss: 0.1753 - binary_accuracy: 0.9212 - precision_2: 0.9372 - recall_2: 0.9092 - val_loss: 0.6822 - val_binary_accuracy: 0.8195 - val_precision_2: 0.9109 - val_recall_2: 0.7023\n",
            "Epoch 15/1000\n",
            "38/38 [==============================] - 6s 151ms/step - loss: 0.1751 - binary_accuracy: 0.9233 - precision_2: 0.9396 - recall_2: 0.9108 - val_loss: 0.1971 - val_binary_accuracy: 0.9211 - val_precision_2: 0.9297 - val_recall_2: 0.9084\n",
            "Epoch 16/1000\n",
            "38/38 [==============================] - 6s 151ms/step - loss: 0.1532 - binary_accuracy: 0.9304 - precision_2: 0.9523 - recall_2: 0.9116 - val_loss: 0.1820 - val_binary_accuracy: 0.9060 - val_precision_2: 0.8533 - val_recall_2: 0.9771\n",
            "Epoch 17/1000\n",
            "38/38 [==============================] - 6s 151ms/step - loss: 0.1360 - binary_accuracy: 0.9390 - precision_2: 0.9558 - recall_2: 0.9253 - val_loss: 0.1621 - val_binary_accuracy: 0.9511 - val_precision_2: 0.9275 - val_recall_2: 0.9771\n",
            "Epoch 18/1000\n",
            "38/38 [==============================] - 6s 151ms/step - loss: 0.1217 - binary_accuracy: 0.9484 - precision_2: 0.9650 - recall_2: 0.9346 - val_loss: 0.1850 - val_binary_accuracy: 0.9323 - val_precision_2: 0.9124 - val_recall_2: 0.9542\n",
            "Epoch 19/1000\n",
            "38/38 [==============================] - 6s 152ms/step - loss: 0.1109 - binary_accuracy: 0.9486 - precision_2: 0.9612 - recall_2: 0.9390 - val_loss: 0.1318 - val_binary_accuracy: 0.9436 - val_precision_2: 0.9754 - val_recall_2: 0.9084\n",
            "Epoch 20/1000\n",
            "38/38 [==============================] - 6s 151ms/step - loss: 0.1114 - binary_accuracy: 0.9505 - precision_2: 0.9621 - recall_2: 0.9419 - val_loss: 0.0917 - val_binary_accuracy: 0.9549 - val_precision_2: 0.9474 - val_recall_2: 0.9618\n",
            "Epoch 21/1000\n",
            "38/38 [==============================] - 6s 149ms/step - loss: 0.1005 - binary_accuracy: 0.9539 - precision_2: 0.9654 - recall_2: 0.9451 - val_loss: 0.1101 - val_binary_accuracy: 0.9511 - val_precision_2: 0.9538 - val_recall_2: 0.9466\n",
            "Epoch 22/1000\n",
            "38/38 [==============================] - 6s 150ms/step - loss: 0.1143 - binary_accuracy: 0.9535 - precision_2: 0.9720 - recall_2: 0.9374 - val_loss: 0.1359 - val_binary_accuracy: 0.9511 - val_precision_2: 0.9609 - val_recall_2: 0.9389\n",
            "Epoch 23/1000\n",
            "38/38 [==============================] - 6s 152ms/step - loss: 0.1023 - binary_accuracy: 0.9551 - precision_2: 0.9662 - recall_2: 0.9467 - val_loss: 0.1760 - val_binary_accuracy: 0.9323 - val_precision_2: 0.9124 - val_recall_2: 0.9542\n",
            "Epoch 24/1000\n",
            "38/38 [==============================] - 6s 151ms/step - loss: 0.1055 - binary_accuracy: 0.9585 - precision_2: 0.9684 - recall_2: 0.9512 - val_loss: 0.1356 - val_binary_accuracy: 0.9549 - val_precision_2: 0.9612 - val_recall_2: 0.9466\n",
            "Epoch 25/1000\n",
            "38/38 [==============================] - 6s 150ms/step - loss: 0.0957 - binary_accuracy: 0.9639 - precision_2: 0.9729 - recall_2: 0.9572 - val_loss: 0.1795 - val_binary_accuracy: 0.9436 - val_precision_2: 0.9603 - val_recall_2: 0.9237\n",
            "Epoch 26/1000\n",
            "38/38 [==============================] - 6s 150ms/step - loss: 0.1027 - binary_accuracy: 0.9602 - precision_2: 0.9712 - recall_2: 0.9516 - val_loss: 0.1254 - val_binary_accuracy: 0.9624 - val_precision_2: 0.9919 - val_recall_2: 0.9313\n",
            "Epoch 27/1000\n",
            "38/38 [==============================] - 6s 156ms/step - loss: 0.0849 - binary_accuracy: 0.9696 - precision_2: 0.9763 - recall_2: 0.9649 - val_loss: 0.1510 - val_binary_accuracy: 0.9624 - val_precision_2: 0.9618 - val_recall_2: 0.9618\n",
            "Epoch 28/1000\n",
            "38/38 [==============================] - 6s 155ms/step - loss: 0.0723 - binary_accuracy: 0.9717 - precision_2: 0.9823 - recall_2: 0.9629 - val_loss: 0.1368 - val_binary_accuracy: 0.9549 - val_precision_2: 0.9917 - val_recall_2: 0.9160\n",
            "Epoch 29/1000\n",
            "38/38 [==============================] - 6s 151ms/step - loss: 0.0740 - binary_accuracy: 0.9704 - precision_2: 0.9791 - recall_2: 0.9637 - val_loss: 0.1699 - val_binary_accuracy: 0.9323 - val_precision_2: 0.8951 - val_recall_2: 0.9771\n",
            "Epoch 30/1000\n",
            "38/38 [==============================] - 6s 151ms/step - loss: 0.0783 - binary_accuracy: 0.9681 - precision_2: 0.9766 - recall_2: 0.9616 - val_loss: 0.2549 - val_binary_accuracy: 0.9248 - val_precision_2: 0.8828 - val_recall_2: 0.9771\n",
            "Epoch 31/1000\n",
            "38/38 [==============================] - 6s 151ms/step - loss: 0.0678 - binary_accuracy: 0.9713 - precision_2: 0.9855 - recall_2: 0.9588 - val_loss: 0.1140 - val_binary_accuracy: 0.9586 - val_precision_2: 0.9348 - val_recall_2: 0.9847\n",
            "Epoch 32/1000\n",
            "38/38 [==============================] - 6s 151ms/step - loss: 0.0721 - binary_accuracy: 0.9704 - precision_2: 0.9803 - recall_2: 0.9625 - val_loss: 0.1278 - val_binary_accuracy: 0.9474 - val_precision_2: 0.9270 - val_recall_2: 0.9695\n",
            "Epoch 33/1000\n",
            "38/38 [==============================] - 6s 152ms/step - loss: 0.0713 - binary_accuracy: 0.9730 - precision_2: 0.9819 - recall_2: 0.9657 - val_loss: 0.1205 - val_binary_accuracy: 0.9624 - val_precision_2: 0.9690 - val_recall_2: 0.9542\n",
            "Epoch 34/1000\n",
            "38/38 [==============================] - 6s 151ms/step - loss: 0.0657 - binary_accuracy: 0.9713 - precision_2: 0.9779 - recall_2: 0.9665 - val_loss: 0.1610 - val_binary_accuracy: 0.9323 - val_precision_2: 0.9748 - val_recall_2: 0.8855\n",
            "Epoch 35/1000\n",
            "37/38 [============================>.] - ETA: 0s - loss: 0.0834 - binary_accuracy: 0.9656 - precision_2: 0.9787 - recall_2: 0.9544Restoring model weights from the end of the best epoch: 20.\n",
            "38/38 [==============================] - 6s 151ms/step - loss: 0.0830 - binary_accuracy: 0.9658 - precision_2: 0.9789 - recall_2: 0.9548 - val_loss: 0.1642 - val_binary_accuracy: 0.9398 - val_precision_2: 0.9137 - val_recall_2: 0.9695\n",
            "Epoch 35: early stopping\n"
          ]
        }
      ],
      "source": [
        "opt = tf.keras.optimizers.Adam(learning_rate=learning_rate, amsgrad=True)\n",
        "model_adam = model_builder(opt)\n",
        "\n",
        "history_adam = model_adam.fit(X_train, \n",
        "                         y_train, \n",
        "                         batch_size = batch_size, \n",
        "                         verbose = 1, \n",
        "                         epochs = epochs,      \n",
        "                         validation_data=(X_val, y_val),\n",
        "                         shuffle = True,\n",
        "                         callbacks=[es]\n",
        "                     )"
      ]
    },
    {
      "cell_type": "code",
      "execution_count": 32,
      "metadata": {
        "colab": {
          "base_uri": "https://localhost:8080/",
          "height": 513
        },
        "id": "e5DNKJ1Bwdru",
        "outputId": "aa96e4a6-133a-4746-9458-07aae47b4231"
      },
      "outputs": [
        {
          "data": {
            "image/png": "[encoded data removed]",
            "text/plain": [
              "<Figure size 864x576 with 2 Axes>"
            ]
          },
          "metadata": {
            "needs_background": "light"
          },
          "output_type": "display_data"
        }
      ],
      "source": [
        "plot_loss_and_acurracy(history_adam)"
      ]
    },
    {
      "cell_type": "code",
      "execution_count": 41,
      "metadata": {
        "colab": {
          "base_uri": "https://localhost:8080/",
          "height": 518
        },
        "id": "sxysu05kwdt0",
        "outputId": "1acb7b27-286d-4590-ebd7-8cd747642ff1"
      },
      "outputs": [
        {
          "data": {
            "image/png": "[encoded data removed]",
            "text/plain": [
              "<Figure size 1008x504 with 2 Axes>"
            ]
          },
          "metadata": {
            "needs_background": "light"
          },
          "output_type": "display_data"
        }
      ],
      "source": [
        "plot_history_precision_recall(history_adam)"
      ]
    },
    {
      "cell_type": "code",
      "execution_count": 35,
      "metadata": {
        "colab": {
          "base_uri": "https://localhost:8080/"
        },
        "id": "oQR9u6_qwdwM",
        "outputId": "5c4d9e02-5043-4f48-99a8-f26f3b4d17eb"
      },
      "outputs": [
        {
          "name": "stdout",
          "output_type": "stream",
          "text": [
            "9/9 [==============================] - 0s 22ms/step - loss: 0.1717 - binary_accuracy: 0.9245 - precision_2: 0.9275 - recall_2: 0.9275\n"
          ]
        },
        {
          "data": {
            "text/plain": [
              "[0.17171892523765564,\n",
              " 0.9245283007621765,\n",
              " 0.9275362491607666,\n",
              " 0.9275362491607666]"
            ]
          },
          "execution_count": 35,
          "metadata": {},
          "output_type": "execute_result"
        }
      ],
      "source": [
        "model_adam.evaluate(X_test,y_test) "
      ]
    },
    {
      "cell_type": "code",
      "execution_count": 36,
      "metadata": {
        "colab": {
          "base_uri": "https://localhost:8080/",
          "height": 530
        },
        "id": "wyBvSxzRwdyy",
        "outputId": "7c70dc16-8e8d-429a-f3dd-ecd264b0d819"
      },
      "outputs": [
        {
          "data": {
            "text/plain": [
              "[0.9838525619080223]"
            ]
          },
          "execution_count": 36,
          "metadata": {},
          "output_type": "execute_result"
        },
        {
          "data": {
            "image/png": "[encoded data removed]",
            "text/plain": [
              "<Figure size 864x576 with 1 Axes>"
            ]
          },
          "metadata": {
            "needs_background": "light"
          },
          "output_type": "display_data"
        }
      ],
      "source": [
        "models = [(\"model_adam\", model_adam)]\n",
        "\n",
        "plot_roc_curve(models)"
      ]
    },
    {
      "cell_type": "markdown",
      "metadata": {
        "id": "j2MTecfbNAOy"
      },
      "source": [
        "# Transer Learning"
      ]
    },
    {
      "cell_type": "code",
      "execution_count": 15,
      "metadata": {
        "id": "eDF9j99iM_pc"
      },
      "outputs": [],
      "source": [
        "IMAGE_SIZE = (256, 256, 3)\n",
        "\n",
        "def make_model(transfer_model, learning_rate=learning_rate):\n",
        "  model = transfer_model.output\n",
        "  model = tf.keras.layers.Flatten()(model)\n",
        "  model = tf.keras.layers.Dropout(rate=0.2)(model)\n",
        "  model = tf.keras.layers.Dense(16, activation='relu')(model)\n",
        "  model = tf.keras.layers.Dense(32, activation='relu')(model)\n",
        "  model = tf.keras.layers.Dense(1, activation='sigmoid', kernel_regularizer='l1_l2')(model)\n",
        "  model = tf.keras.models.Model(inputs=transfer_model.input, outputs = model)\n",
        "\n",
        "  opt = tf.keras.optimizers.Adam(learning_rate= learning_rate, amsgrad=True)\n",
        "  metrics = ['binary_accuracy', tf.keras.metrics.Precision(), tf.keras.metrics.Recall()]\n",
        "\n",
        "  model.compile(\n",
        "          optimizer=opt, \n",
        "          loss=\"binary_crossentropy\", \n",
        "          metrics=metrics,\n",
        "      )\n",
        "\n",
        "  return model\n",
        "\n",
        "# patient early stopping\n",
        "es_transfer_learning = EarlyStopping(monitor='val_loss', mode='min', verbose=1, patience=5, restore_best_weights=True)"
      ]
    },
    {
      "cell_type": "markdown",
      "metadata": {
        "id": "PyiG-erlNLXw"
      },
      "source": [
        "## VGG 16"
      ]
    },
    {
      "cell_type": "code",
      "execution_count": 13,
      "metadata": {
        "id": "yJYlkFlyNLxX"
      },
      "outputs": [],
      "source": [
        "transfer_model_vgg16 = tf.keras.applications.VGG16(weights='imagenet', include_top=False, input_shape=(256, 256, 3))\n",
        "for l in transfer_model_vgg16.layers:\n",
        "# Freezing the model\n",
        "  l.trainable = False"
      ]
    },
    {
      "cell_type": "code",
      "execution_count": 16,
      "metadata": {
        "colab": {
          "base_uri": "https://localhost:8080/"
        },
        "id": "U4e19Y_kNL0B",
        "outputId": "ed14787a-3529-4fb6-f3f7-2fe384ebfc58"
      },
      "outputs": [
        {
          "name": "stdout",
          "output_type": "stream",
          "text": [
            "Epoch 1/80\n",
            "38/38 [==============================] - 31s 437ms/step - loss: 0.5403 - binary_accuracy: 0.7816 - precision: 0.7754 - recall: 0.8155 - val_loss: 0.4421 - val_binary_accuracy: 0.8308 - val_precision: 0.7905 - val_recall: 0.8931\n",
            "Epoch 2/80\n",
            "38/38 [==============================] - 15s 389ms/step - loss: 0.3792 - binary_accuracy: 0.8560 - precision: 0.8421 - recall: 0.8894 - val_loss: 0.4001 - val_binary_accuracy: 0.8421 - val_precision: 0.9238 - val_recall: 0.7405\n",
            "Epoch 3/80\n",
            "38/38 [==============================] - 15s 388ms/step - loss: 0.3274 - binary_accuracy: 0.8824 - precision: 0.8875 - recall: 0.8857 - val_loss: 0.3949 - val_binary_accuracy: 0.8571 - val_precision: 0.7853 - val_recall: 0.9771\n",
            "Epoch 4/80\n",
            "38/38 [==============================] - 15s 389ms/step - loss: 0.3218 - binary_accuracy: 0.8833 - precision: 0.8803 - recall: 0.8971 - val_loss: 0.3667 - val_binary_accuracy: 0.8496 - val_precision: 0.9789 - val_recall: 0.7099\n",
            "Epoch 5/80\n",
            "38/38 [==============================] - 15s 389ms/step - loss: 0.2668 - binary_accuracy: 0.9153 - precision: 0.9188 - recall: 0.9180 - val_loss: 0.2858 - val_binary_accuracy: 0.9060 - val_precision: 0.8841 - val_recall: 0.9313\n",
            "Epoch 6/80\n",
            "38/38 [==============================] - 15s 387ms/step - loss: 0.2400 - binary_accuracy: 0.9313 - precision: 0.9296 - recall: 0.9386 - val_loss: 0.3184 - val_binary_accuracy: 0.8872 - val_precision: 0.9810 - val_recall: 0.7863\n",
            "Epoch 7/80\n",
            "38/38 [==============================] - 15s 391ms/step - loss: 0.2340 - binary_accuracy: 0.9306 - precision: 0.9355 - recall: 0.9306 - val_loss: 0.2519 - val_binary_accuracy: 0.9323 - val_precision: 0.9669 - val_recall: 0.8931\n",
            "Epoch 8/80\n",
            "38/38 [==============================] - 15s 388ms/step - loss: 0.2069 - binary_accuracy: 0.9445 - precision: 0.9474 - recall: 0.9455 - val_loss: 0.2441 - val_binary_accuracy: 0.9248 - val_precision: 0.9587 - val_recall: 0.8855\n",
            "Epoch 9/80\n",
            "38/38 [==============================] - 15s 390ms/step - loss: 0.1955 - binary_accuracy: 0.9510 - precision: 0.9568 - recall: 0.9483 - val_loss: 0.2260 - val_binary_accuracy: 0.9286 - val_precision: 0.9308 - val_recall: 0.9237\n",
            "Epoch 10/80\n",
            "38/38 [==============================] - 15s 389ms/step - loss: 0.1903 - binary_accuracy: 0.9503 - precision: 0.9553 - recall: 0.9487 - val_loss: 0.2459 - val_binary_accuracy: 0.9098 - val_precision: 0.8741 - val_recall: 0.9542\n",
            "Epoch 11/80\n",
            "38/38 [==============================] - 15s 388ms/step - loss: 0.1778 - binary_accuracy: 0.9570 - precision: 0.9588 - recall: 0.9584 - val_loss: 0.2206 - val_binary_accuracy: 0.9286 - val_precision: 0.9118 - val_recall: 0.9466\n",
            "Epoch 12/80\n",
            "38/38 [==============================] - 15s 391ms/step - loss: 0.1665 - binary_accuracy: 0.9602 - precision: 0.9631 - recall: 0.9600 - val_loss: 0.2197 - val_binary_accuracy: 0.9398 - val_precision: 0.9675 - val_recall: 0.9084\n",
            "Epoch 13/80\n",
            "38/38 [==============================] - 15s 390ms/step - loss: 0.1478 - binary_accuracy: 0.9677 - precision: 0.9697 - recall: 0.9681 - val_loss: 0.2033 - val_binary_accuracy: 0.9286 - val_precision: 0.9242 - val_recall: 0.9313\n",
            "Epoch 14/80\n",
            "38/38 [==============================] - 15s 388ms/step - loss: 0.1394 - binary_accuracy: 0.9738 - precision: 0.9761 - recall: 0.9734 - val_loss: 0.2086 - val_binary_accuracy: 0.9474 - val_precision: 0.9835 - val_recall: 0.9084\n",
            "Epoch 15/80\n",
            "38/38 [==============================] - 15s 390ms/step - loss: 0.1335 - binary_accuracy: 0.9753 - precision: 0.9777 - recall: 0.9746 - val_loss: 0.1887 - val_binary_accuracy: 0.9398 - val_precision: 0.9457 - val_recall: 0.9313\n",
            "Epoch 16/80\n",
            "38/38 [==============================] - 15s 389ms/step - loss: 0.1316 - binary_accuracy: 0.9738 - precision: 0.9761 - recall: 0.9734 - val_loss: 0.2099 - val_binary_accuracy: 0.9286 - val_precision: 0.9000 - val_recall: 0.9618\n",
            "Epoch 17/80\n",
            "38/38 [==============================] - 15s 391ms/step - loss: 0.1316 - binary_accuracy: 0.9704 - precision: 0.9729 - recall: 0.9701 - val_loss: 0.1884 - val_binary_accuracy: 0.9474 - val_precision: 0.9466 - val_recall: 0.9466\n",
            "Epoch 18/80\n",
            "38/38 [==============================] - 15s 389ms/step - loss: 0.1130 - binary_accuracy: 0.9820 - precision: 0.9850 - recall: 0.9802 - val_loss: 0.1834 - val_binary_accuracy: 0.9474 - val_precision: 0.9466 - val_recall: 0.9466\n",
            "Epoch 19/80\n",
            "38/38 [==============================] - 15s 388ms/step - loss: 0.1203 - binary_accuracy: 0.9744 - precision: 0.9785 - recall: 0.9721 - val_loss: 0.1892 - val_binary_accuracy: 0.9398 - val_precision: 0.9600 - val_recall: 0.9160\n",
            "Epoch 20/80\n",
            "38/38 [==============================] - 15s 388ms/step - loss: 0.1081 - binary_accuracy: 0.9809 - precision: 0.9846 - recall: 0.9786 - val_loss: 0.1880 - val_binary_accuracy: 0.9361 - val_precision: 0.9254 - val_recall: 0.9466\n",
            "Epoch 21/80\n",
            "38/38 [==============================] - 15s 388ms/step - loss: 0.1084 - binary_accuracy: 0.9803 - precision: 0.9818 - recall: 0.9802 - val_loss: 0.1783 - val_binary_accuracy: 0.9474 - val_precision: 0.9756 - val_recall: 0.9160\n",
            "Epoch 22/80\n",
            "38/38 [==============================] - 15s 389ms/step - loss: 0.1090 - binary_accuracy: 0.9769 - precision: 0.9782 - recall: 0.9774 - val_loss: 0.1849 - val_binary_accuracy: 0.9323 - val_precision: 0.9520 - val_recall: 0.9084\n",
            "Epoch 23/80\n",
            "38/38 [==============================] - 15s 389ms/step - loss: 0.1122 - binary_accuracy: 0.9748 - precision: 0.9793 - recall: 0.9721 - val_loss: 0.1889 - val_binary_accuracy: 0.9398 - val_precision: 0.9600 - val_recall: 0.9160\n",
            "Epoch 24/80\n",
            "38/38 [==============================] - 15s 389ms/step - loss: 0.0913 - binary_accuracy: 0.9872 - precision: 0.9871 - recall: 0.9883 - val_loss: 0.1923 - val_binary_accuracy: 0.9436 - val_precision: 0.9677 - val_recall: 0.9160\n",
            "Epoch 25/80\n",
            "38/38 [==============================] - 15s 389ms/step - loss: 0.1009 - binary_accuracy: 0.9803 - precision: 0.9822 - recall: 0.9798 - val_loss: 0.1837 - val_binary_accuracy: 0.9474 - val_precision: 0.9535 - val_recall: 0.9389\n",
            "Epoch 26/80\n",
            "38/38 [==============================] - ETA: 0s - loss: 0.0888 - binary_accuracy: 0.9870 - precision: 0.9887 - recall: 0.9863Restoring model weights from the end of the best epoch: 21.\n",
            "38/38 [==============================] - 15s 388ms/step - loss: 0.0888 - binary_accuracy: 0.9870 - precision: 0.9887 - recall: 0.9863 - val_loss: 0.2230 - val_binary_accuracy: 0.9135 - val_precision: 0.8699 - val_recall: 0.9695\n",
            "Epoch 26: early stopping\n"
          ]
        }
      ],
      "source": [
        "model_vgg16 = make_model(transfer_model_vgg16)\n",
        "\n",
        "history_vgg16 = model_vgg16.fit(X_train, \n",
        "                    y_train, \n",
        "                    batch_size = 128, \n",
        "                    verbose = 1, \n",
        "                    epochs = 80,      \n",
        "                    validation_data=(X_val,y_val),\n",
        "                    callbacks=[es_transfer_learning]\n",
        "                 )"
      ]
    },
    {
      "cell_type": "code",
      "execution_count": 17,
      "metadata": {
        "colab": {
          "base_uri": "https://localhost:8080/"
        },
        "id": "QAdkfZNDNL2c",
        "outputId": "571f09a5-b2e7-4cd9-ba31-2c84c4b35ae8"
      },
      "outputs": [
        {
          "name": "stdout",
          "output_type": "stream",
          "text": [
            "9/9 [==============================] - 2s 125ms/step - loss: 0.1555 - binary_accuracy: 0.9585 - precision: 0.9847 - recall: 0.9348\n"
          ]
        },
        {
          "data": {
            "text/plain": [
              "[0.1555391252040863,\n",
              " 0.9584905505180359,\n",
              " 0.9847328066825867,\n",
              " 0.9347826242446899]"
            ]
          },
          "execution_count": 17,
          "metadata": {},
          "output_type": "execute_result"
        }
      ],
      "source": [
        "model_vgg16.evaluate(X_test, y_test)"
      ]
    },
    {
      "cell_type": "code",
      "execution_count": null,
      "metadata": {
        "id": "Yp_r4kN6NL5A"
      },
      "outputs": [],
      "source": []
    },
    {
      "cell_type": "code",
      "execution_count": null,
      "metadata": {
        "id": "i3Ye0byMNL7R"
      },
      "outputs": [],
      "source": []
    },
    {
      "cell_type": "markdown",
      "metadata": {
        "id": "lN72WTZi2IP8"
      },
      "source": [
        "# Save model to my drive"
      ]
    },
    {
      "cell_type": "code",
      "execution_count": 42,
      "metadata": {
        "colab": {
          "base_uri": "https://localhost:8080/"
        },
        "id": "NycIzinuwd09",
        "outputId": "3056a034-7bd7-4dae-c727-a56c69c6c6b1"
      },
      "outputs": [
        {
          "name": "stdout",
          "output_type": "stream",
          "text": [
            "Mounted at /gdrive\n"
          ]
        }
      ],
      "source": [
        "from google.colab import drive\n",
        "drive.mount('/gdrive')"
      ]
    },
    {
      "cell_type": "code",
      "execution_count": 22,
      "metadata": {
        "id": "JVXPMcSM2WSX"
      },
      "outputs": [],
      "source": [
        "model_vgg16.save('new_vgg_transfer_learning_model_full_dataset_color_image.h5')"
      ]
    }
  ],
  "metadata": {
    "accelerator": "GPU",
    "colab": {
      "collapsed_sections": [],
      "machine_shape": "hm",
      "name": "03-deep_learning-CNN-Color-And-Transfer-Learning.ipynb",
      "provenance": []
    },
    "kernelspec": {
      "display_name": "Python 3",
      "name": "python3"
    },
    "language_info": {
      "name": "python"
    }
  },
  "nbformat": 4,
  "nbformat_minor": 0
}
