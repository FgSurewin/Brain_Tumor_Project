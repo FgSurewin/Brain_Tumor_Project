{
  "cells": [
    {
      "cell_type": "markdown",
      "metadata": {
        "id": "Lhqcq4mmpNaC"
      },
      "source": [
        "# Download Dataset"
      ]
    },
    {
      "cell_type": "code",
      "execution_count": null,
      "metadata": {
        "id": "ijdMJQr0o1Y-"
      },
      "outputs": [],
      "source": [
        "!gdown --id 10fKUF1u3uhIrhEipoklNgysmPyYuYGV9 -O kaggle_m3.zip\n",
        "!gdown --id 1Leaos-3uB70Lex1qLE7FvrtaOBDOYKbQ -O data_aug.zip"
      ]
    },
    {
      "cell_type": "code",
      "execution_count": null,
      "metadata": {
        "id": "McvuUxAApMpr"
      },
      "outputs": [],
      "source": [
        "! mkdir fakes\n",
        "! cp data_aug.zip fakes\n",
        "%cd fakes\n",
        "! ls"
      ]
    },
    {
      "cell_type": "code",
      "execution_count": null,
      "metadata": {
        "id": "QbMLLD6_pMua"
      },
      "outputs": [],
      "source": [
        "! unzip data_aug.zip"
      ]
    },
    {
      "cell_type": "code",
      "execution_count": 4,
      "metadata": {
        "colab": {
          "base_uri": "https://localhost:8080/"
        },
        "id": "CMygt_8RpMr8",
        "outputId": "634b542d-962c-4e0d-a88f-f7309e2ec17b"
      },
      "outputs": [
        {
          "name": "stdout",
          "output_type": "stream",
          "text": [
            "/content\n"
          ]
        }
      ],
      "source": [
        "%cd .."
      ]
    },
    {
      "cell_type": "code",
      "execution_count": null,
      "metadata": {
        "id": "FA8sx41SpSL6"
      },
      "outputs": [],
      "source": [
        "!unzip kaggle_m3.zip"
      ]
    },
    {
      "cell_type": "markdown",
      "metadata": {
        "id": "jQlmYNpqpXXC"
      },
      "source": [
        "# Import Dataset"
      ]
    },
    {
      "cell_type": "code",
      "execution_count": 6,
      "metadata": {
        "id": "2SFGFsaxpSQj"
      },
      "outputs": [],
      "source": [
        "import matplotlib.pyplot as plt\n",
        "import matplotlib.image as mpimg\n",
        "from glob import glob\n",
        "import pandas as pd\n",
        "import seaborn as sns\n",
        "\n",
        "from keras.preprocessing.image import ImageDataGenerator\n",
        "from keras.models import Sequential\n",
        "from keras.layers import Conv2D, MaxPooling2D, BatchNormalization\n",
        "from keras.layers import Activation, Dropout, Flatten, Dense\n",
        "from keras.callbacks import EarlyStopping\n",
        "import tensorflow as tf\n",
        "from skimage.color import rgb2gray\n",
        "\n",
        "import os\n",
        "import cv2\n",
        "from PIL import Image\n",
        "import numpy as np"
      ]
    },
    {
      "cell_type": "code",
      "execution_count": 7,
      "metadata": {
        "colab": {
          "base_uri": "https://localhost:8080/"
        },
        "id": "ZpPaxUYgpSTK",
        "outputId": "1d648fbe-2943-4dad-bd99-90ad181f6e14"
      },
      "outputs": [
        {
          "data": {
            "text/plain": [
              "(5302, 3)"
            ]
          },
          "execution_count": 7,
          "metadata": {},
          "output_type": "execute_result"
        }
      ],
      "source": [
        "# Set parameters\n",
        "file_path='/'\n",
        "Size = (256, 256)\n",
        "mask_files = glob(file_path + os.path.join('content','*','*_mask*'))\n",
        "train_files = [file.replace('_mask', '') for file in mask_files]\n",
        "\n",
        "# Create Dataframe\n",
        "def label(mask):\n",
        "    value = np.max(cv2.imread(mask))\n",
        "    return '1' if value > 0 else '0'\n",
        "df = pd.DataFrame({\"image\": train_files,\n",
        "                   \"mask\": mask_files,\n",
        "                  \"label\":[label(x) for x in mask_files]})\n",
        "\n",
        "\n",
        "df.shape"
      ]
    },
    {
      "cell_type": "code",
      "execution_count": 8,
      "metadata": {
        "colab": {
          "base_uri": "https://localhost:8080/"
        },
        "id": "lfismgKTuk1u",
        "outputId": "0750a558-0c8f-45d1-ab46-610c2281cca4"
      },
      "outputs": [
        {
          "name": "stdout",
          "output_type": "stream",
          "text": [
            "(5302, 256, 256)\n",
            "(5302,)\n"
          ]
        }
      ],
      "source": [
        "# Collect Data\n",
        "dataset = [ rgb2gray(cv2.imread(path)) for path in df[\"image\"]  ]\n",
        "label = df[\"label\"].values\n",
        "dataset = np.array(dataset)\n",
        "label = np.array(df[\"label\"].values).astype(int)\n",
        "print(dataset.shape)\n",
        "print(label.shape)"
      ]
    },
    {
      "cell_type": "code",
      "execution_count": null,
      "metadata": {
        "id": "Ds5o_nGNxVbr"
      },
      "outputs": [],
      "source": [
        "# dataset_gray = dataset[:, :, :, np.newaxis]\n",
        "\n"
      ]
    },
    {
      "cell_type": "markdown",
      "metadata": {
        "id": "KZRjpUy1uadd"
      },
      "source": [
        "# Split Data"
      ]
    },
    {
      "cell_type": "code",
      "execution_count": 9,
      "metadata": {
        "id": "bNcuHXjcuXbE"
      },
      "outputs": [],
      "source": [
        "from sklearn.model_selection import train_test_split\n",
        "#from keras.utils import to_categorical\n",
        "\n",
        "X_train, X_test, y_train, y_test = train_test_split(dataset, label, test_size = 0.1, random_state = 0)\n",
        "X_test, X_val, y_test, y_val = train_test_split(X_test, y_test, test_size = 0.5, random_state = 0)"
      ]
    },
    {
      "cell_type": "code",
      "execution_count": 12,
      "metadata": {
        "colab": {
          "base_uri": "https://localhost:8080/"
        },
        "id": "e3eZqaPF-Pib",
        "outputId": "7135368c-d785-4f31-cde7-f94457505c18"
      },
      "outputs": [
        {
          "name": "stdout",
          "output_type": "stream",
          "text": [
            "(4771, 256, 256)\n",
            "(265, 256, 256)\n"
          ]
        }
      ],
      "source": [
        "print(X_train.shape)\n",
        "print(X_test.shape)"
      ]
    },
    {
      "cell_type": "markdown",
      "metadata": {
        "id": "dPRO9BIf9gl6"
      },
      "source": [
        "# PCA - PC-reconstructed image using less features (90%)"
      ]
    },
    {
      "cell_type": "code",
      "execution_count": 11,
      "metadata": {
        "id": "ST4OAcUx9OFe"
      },
      "outputs": [],
      "source": [
        "from sklearn  import decomposition \n",
        "pca_model = decomposition.PCA(0.9) #if you dont specify n_componenets it will be min(n_sample,n_features)"
      ]
    },
    {
      "cell_type": "code",
      "execution_count": 15,
      "metadata": {
        "id": "9ungXTHE9OIX"
      },
      "outputs": [],
      "source": [
        "X_train_flat = X_train.reshape(X_train.shape[0], -1)\n",
        "X_test_flat = X_test.reshape(X_test.shape[0], -1)\n",
        "X_val_flat = X_val.reshape(X_val.shape[0], -1)"
      ]
    },
    {
      "cell_type": "code",
      "execution_count": 16,
      "metadata": {
        "colab": {
          "base_uri": "https://localhost:8080/"
        },
        "id": "cUD06zqw9ONL",
        "outputId": "81d374d5-edac-435b-8ce1-1a11261fed79"
      },
      "outputs": [
        {
          "name": "stdout",
          "output_type": "stream",
          "text": [
            "(4771, 65536)\n",
            "(265, 65536)\n",
            "(265, 65536)\n"
          ]
        }
      ],
      "source": [
        "print(X_train_flat.shape)\n",
        "print(X_test_flat.shape)\n",
        "print(X_test_flat.shape)"
      ]
    },
    {
      "cell_type": "code",
      "execution_count": 17,
      "metadata": {
        "id": "OgiVixAI9OQP"
      },
      "outputs": [],
      "source": [
        "pca_model.fit(X_train_flat)\n",
        "pca_projection_train = pca_model.transform(X_train_flat) #this is scores"
      ]
    },
    {
      "cell_type": "code",
      "execution_count": 18,
      "metadata": {
        "id": "z3Owohjz9OY0"
      },
      "outputs": [],
      "source": [
        "pca_projection_test = pca_model.transform(X_test_flat) #this is scores\n",
        "pca_projection_val = pca_model.transform(X_val_flat) #this is scores"
      ]
    },
    {
      "cell_type": "code",
      "execution_count": 25,
      "metadata": {
        "colab": {
          "base_uri": "https://localhost:8080/"
        },
        "id": "56dlx24SA5jD",
        "outputId": "a2e894d3-d6c1-438d-c14a-80b071f6c393"
      },
      "outputs": [
        {
          "name": "stdout",
          "output_type": "stream",
          "text": [
            "(4771, 457)\n",
            "(265, 457)\n",
            "(266, 457)\n"
          ]
        }
      ],
      "source": [
        "print(pca_projection_train.shape)\n",
        "print(pca_projection_test.shape)\n",
        "print(pca_projection_val.shape)"
      ]
    },
    {
      "cell_type": "markdown",
      "metadata": {
        "id": "exV3KqHUBXxX"
      },
      "source": [
        "## Image for eigenvector\n",
        "\n"
      ]
    },
    {
      "cell_type": "code",
      "execution_count": 20,
      "metadata": {
        "colab": {
          "base_uri": "https://localhost:8080/",
          "height": 286
        },
        "id": "KRVqMaq7A5lh",
        "outputId": "fdf3df8a-e1dd-447c-fada-462f0b85b683"
      },
      "outputs": [
        {
          "data": {
            "text/plain": [
              "<matplotlib.image.AxesImage at 0x7ff0957ed2d0>"
            ]
          },
          "execution_count": 20,
          "metadata": {},
          "output_type": "execute_result"
        },
        {
          "data": {
            "image/png": "[encoded data removed]",
            "text/plain": [
              "<Figure size 432x288 with 1 Axes>"
            ]
          },
          "metadata": {
            "needs_background": "light"
          },
          "output_type": "display_data"
        }
      ],
      "source": [
        "eigenvectors = pca_model.components_  \n",
        "pc1= eigenvectors[0,:].reshape(256,256)\n",
        "plt.imshow(pc1,cmap='gray_r') "
      ]
    },
    {
      "cell_type": "code",
      "execution_count": 26,
      "metadata": {
        "colab": {
          "base_uri": "https://localhost:8080/"
        },
        "id": "OMqU87-nA5oJ",
        "outputId": "88bb53b9-8343-4451-8c44-2d7642452950"
      },
      "outputs": [
        {
          "name": "stdout",
          "output_type": "stream",
          "text": [
            "(4771, 65536)\n",
            "(265, 65536)\n",
            "(266, 65536)\n"
          ]
        }
      ],
      "source": [
        "pca_recovered_train = pca_model.inverse_transform(pca_projection_train)\n",
        "pca_recovered_test = pca_model.inverse_transform(pca_projection_test)\n",
        "pca_recovered_val = pca_model.inverse_transform(pca_projection_val)\n",
        "\n",
        "print(pca_recovered_train.shape)\n",
        "print(pca_recovered_test.shape)\n",
        "print(pca_recovered_val.shape)"
      ]
    },
    {
      "cell_type": "code",
      "execution_count": 27,
      "metadata": {
        "colab": {
          "base_uri": "https://localhost:8080/"
        },
        "id": "alfZBU0qCNHr",
        "outputId": "466bf0ec-2da1-4b5c-8d6f-21c03575e565"
      },
      "outputs": [
        {
          "name": "stdout",
          "output_type": "stream",
          "text": [
            "(4771, 256, 256)\n",
            "(265, 256, 256)\n",
            "(266, 256, 256)\n"
          ]
        }
      ],
      "source": [
        "pca_recovered_train_image = pca_recovered_train.reshape(pca_recovered_train.shape[0], 256, 256)\n",
        "pca_recovered_test_image = pca_recovered_test.reshape(pca_recovered_test.shape[0], 256, 256)\n",
        "pca_recovered_val_image = pca_recovered_val.reshape(pca_recovered_val.shape[0], 256, 256)\n",
        "\n",
        "print(pca_recovered_train_image.shape)\n",
        "print(pca_recovered_test_image.shape)\n",
        "print(pca_recovered_val_image.shape)"
      ]
    },
    {
      "cell_type": "code",
      "execution_count": 28,
      "metadata": {
        "colab": {
          "base_uri": "https://localhost:8080/"
        },
        "id": "z7nGJA0rCNJ4",
        "outputId": "7a9ec10f-4ab4-4b56-954f-c3602b00c931"
      },
      "outputs": [
        {
          "name": "stdout",
          "output_type": "stream",
          "text": [
            "(4771, 256, 256, 1)\n",
            "(265, 256, 256, 1)\n",
            "(266, 256, 256, 1)\n"
          ]
        }
      ],
      "source": [
        "pca_recovered_train_image = pca_recovered_train_image[:, :, :, np.newaxis]\n",
        "pca_recovered_test_image = pca_recovered_test_image[:, :, :, np.newaxis]\n",
        "pca_recovered_val_image = pca_recovered_val_image[:, :, :, np.newaxis]\n",
        "\n",
        "print(pca_recovered_train_image.shape)\n",
        "print(pca_recovered_test_image.shape)\n",
        "print(pca_recovered_val_image.shape)"
      ]
    },
    {
      "cell_type": "markdown",
      "metadata": {
        "id": "tNqHx8UMu6F2"
      },
      "source": [
        "# CNN"
      ]
    },
    {
      "cell_type": "code",
      "execution_count": 29,
      "metadata": {
        "id": "Kj5YprfquXdX"
      },
      "outputs": [],
      "source": [
        "metrics = ['binary_accuracy', tf.keras.metrics.Precision(), tf.keras.metrics.Recall()]\n",
        "\n",
        "GRAY_INPUT_SHAPE = (256, 256, 1)\n",
        "COLOR_INPUT_SHAPE = (256, 256, 3)\n",
        "\n",
        "def model_builder(optimizer):\n",
        "    INPUT_SHAPE = GRAY_INPUT_SHAPE   #change to (SIZE, SIZE, 3)\n",
        "\n",
        "\n",
        "    model = Sequential()\n",
        "\n",
        "    model.add(Conv2D(32, (3, 3), input_shape=INPUT_SHAPE))\n",
        "    model.add(Activation('relu'))\n",
        "    model.add(BatchNormalization())\n",
        "    model.add(MaxPooling2D(pool_size=(2, 2)))\n",
        "\n",
        "    model.add(Conv2D(32, (3, 3), kernel_initializer = 'he_uniform', padding=\"same\"))\n",
        "    model.add(Activation('relu'))\n",
        "    model.add(BatchNormalization())\n",
        "    model.add(MaxPooling2D(pool_size=(2, 2)))\n",
        "\n",
        "    model.add(Conv2D(64, (3, 3), kernel_initializer = 'he_uniform', padding=\"same\"))\n",
        "    model.add(Activation('relu'))\n",
        "    model.add(BatchNormalization())\n",
        "    model.add(MaxPooling2D(pool_size=(2, 2)))\n",
        "\n",
        "    model.add(Flatten())\n",
        "\n",
        "    model.add(Dense(256))\n",
        "    model.add(Activation('relu'))\n",
        "    model.add(Dropout(0.5))\n",
        "\n",
        "    model.add(Dense(128))\n",
        "    model.add(Activation('relu'))\n",
        "\n",
        "    model.add(Dense(1))\n",
        "    model.add(Activation('sigmoid')) \n",
        "\n",
        "    model.compile(\n",
        "        optimizer=optimizer, \n",
        "        loss=\"binary_crossentropy\", \n",
        "        metrics=metrics,\n",
        "    )\n",
        "\n",
        "    return model"
      ]
    },
    {
      "cell_type": "markdown",
      "metadata": {
        "id": "J88LVKnpvIkt"
      },
      "source": [
        "## EarlyStopping"
      ]
    },
    {
      "cell_type": "code",
      "execution_count": 30,
      "metadata": {
        "id": "u5YXoiUbuXfp"
      },
      "outputs": [],
      "source": [
        "# patient early stopping\n",
        "es = EarlyStopping(monitor='val_loss', mode='min', verbose=1, patience=15, restore_best_weights=True)"
      ]
    },
    {
      "cell_type": "markdown",
      "metadata": {
        "id": "H8FWMeUqvEn9"
      },
      "source": [
        "## Hyper Params"
      ]
    },
    {
      "cell_type": "code",
      "execution_count": 31,
      "metadata": {
        "id": "cFrHs4xYu-Ku"
      },
      "outputs": [],
      "source": [
        "epochs = 1000\n",
        "learning_rate = 0.0005\n",
        "batch_size = 128"
      ]
    },
    {
      "cell_type": "markdown",
      "metadata": {
        "id": "fFD2lZfQvCcO"
      },
      "source": [
        "## Helper Functions"
      ]
    },
    {
      "cell_type": "code",
      "execution_count": 32,
      "metadata": {
        "id": "14uCY683u-M2"
      },
      "outputs": [],
      "source": [
        "def set_seed(seed):\n",
        "    tf.random.set_seed(seed)\n",
        "    np.random.seed(seed)\n",
        "    os.environ['PYTHONHASHSEED'] = str(seed)\n",
        "\n",
        "set_seed(888)"
      ]
    },
    {
      "cell_type": "code",
      "execution_count": 33,
      "metadata": {
        "id": "OEwEyO9mu-Pa"
      },
      "outputs": [],
      "source": [
        "def plot_loss_and_acurracy(history):\n",
        "  fig, axes = plt.subplots(nrows=1, ncols=2, figsize=(12, 8))\n",
        "  epochs = range(len(history.history['loss']))\n",
        "\n",
        "  loss = history.history['loss']\n",
        "  val_loss = history.history['val_loss']\n",
        "  axes[0].plot(epochs, loss, 'y', label='Training loss')\n",
        "  axes[0].plot(epochs, val_loss, 'r', label='Validation loss')\n",
        "  axes[0].set_title('Training and validation loss')\n",
        "  axes[0].set_xlabel('Epochs')\n",
        "  axes[0].set_ylabel('Loss')\n",
        "  axes[0].legend()\n",
        "\n",
        "  acc = history.history['binary_accuracy']\n",
        "  val_acc = history.history['val_binary_accuracy']\n",
        "  axes[1].plot(epochs, acc, 'y', label='Training acc')\n",
        "  axes[1].plot(epochs, val_acc, 'r', label='Validation acc')\n",
        "  axes[1].set_title('Training and validation accuracy')\n",
        "  axes[1].set_xlabel('Epochs')\n",
        "  axes[1].set_ylabel('Accuracy')\n",
        "  axes[1].legend()"
      ]
    },
    {
      "cell_type": "code",
      "execution_count": 34,
      "metadata": {
        "colab": {
          "base_uri": "https://localhost:8080/",
          "height": 377
        },
        "id": "O0fG2WJxu-R-",
        "outputId": "7b84a032-c89d-499a-82d0-98e4fc402e21"
      },
      "outputs": [
        {
          "data": {
            "image/png": "[encoded data removed]",
            "text/plain": [
              "<Figure size 360x72 with 1 Axes>"
            ]
          },
          "metadata": {
            "needs_background": "light"
          },
          "output_type": "display_data"
        },
        {
          "data": {
            "image/png": "[encoded data removed]",
            "text/plain": [
              "<Figure size 360x72 with 1 Axes>"
            ]
          },
          "metadata": {
            "needs_background": "light"
          },
          "output_type": "display_data"
        },
        {
          "data": {
            "image/png": "[encoded data removed]",
            "text/plain": [
              "<Figure size 360x72 with 1 Axes>"
            ]
          },
          "metadata": {
            "needs_background": "light"
          },
          "output_type": "display_data"
        },
        {
          "data": {
            "image/png": "[encoded data removed]",
            "text/plain": [
              "<Figure size 360x72 with 1 Axes>"
            ]
          },
          "metadata": {
            "needs_background": "light"
          },
          "output_type": "display_data"
        },
        {
          "data": {
            "image/png": "[encoded data removed]",
            "text/plain": [
              "<Figure size 360x72 with 1 Axes>"
            ]
          },
          "metadata": {
            "needs_background": "light"
          },
          "output_type": "display_data"
        }
      ],
      "source": [
        "colors_dark = [\"#404040\", \"#676c72\", '#737980', '#8e959e', '#f9f9f9']\n",
        "colors_red = [\"#EA4335\", \"#E57373\", '#EF9A9A', '#FFCDD2', '#FFEBEE']\n",
        "colors_green = ['#34A853','#81C784','#A5D6A7','#C8E6C9','#E8F5E9']\n",
        "colors_blue = ['#4285F4','#42A5F5','#90CAF9','#BBDEFB','#E3F2FD']\n",
        "colors_yellow = ['#FBBC04','#FFCA28','#FFE082','#FFECB3','#FFF8E1']\n",
        "\n",
        "sns.palplot(colors_dark)\n",
        "sns.palplot(colors_green)\n",
        "sns.palplot(colors_red)\n",
        "sns.palplot(colors_blue)\n",
        "sns.palplot(colors_yellow)"
      ]
    },
    {
      "cell_type": "code",
      "execution_count": 35,
      "metadata": {
        "id": "9TL2iyTfu-UM"
      },
      "outputs": [],
      "source": [
        "def plot_history_precision_recall(history):\n",
        "    epochs = range(len(history.history['loss']))\n",
        "    fig, ax = plt.subplots(1,2,figsize=(14,7))\n",
        "    train_acc = history.history['precision']\n",
        "    train_loss = history.history['recall']\n",
        "    val_acc = history.history['val_precision']\n",
        "    val_loss = history.history['val_recall']\n",
        "\n",
        "    fig.text(s='Epochs vs. Training and Validation Precision/Recall',size=18,fontweight='bold',\n",
        "                 fontname='monospace',color=colors_dark[0],y=1,x=0.28,alpha=0.8)\n",
        "\n",
        "    sns.despine()\n",
        "    ax[0].plot(epochs, train_acc, color=colors_green[1],\n",
        "               label = 'Training Precision')\n",
        "    ax[0].plot(epochs, val_acc, color=colors_yellow[1],\n",
        "               label = 'Validation Precision')\n",
        "    ax[0].legend(frameon=False)\n",
        "    ax[0].set_xlabel('Epochs')\n",
        "    ax[0].set_ylabel('Training & Validation Precision')\n",
        "\n",
        "    sns.despine()\n",
        "    ax[1].plot(epochs, train_loss, color=colors_green[1],\n",
        "               label ='Training Recall')\n",
        "    ax[1].plot(epochs, val_loss, color=colors_yellow[1],\n",
        "               label = 'Validation Recall')\n",
        "    ax[1].legend(frameon=False)\n",
        "    ax[1].set_xlabel('Epochs')\n",
        "    ax[1].set_ylabel('Training & Validation Recall')\n",
        "\n",
        "    fig.show()"
      ]
    },
    {
      "cell_type": "code",
      "execution_count": 36,
      "metadata": {
        "id": "esc-6th1vOn2"
      },
      "outputs": [],
      "source": [
        "from sklearn.metrics import roc_curve\n",
        "from sklearn.metrics import auc\n",
        "from numpy.random import randint\n",
        "\n",
        "import matplotlib.colors as colors\n",
        "colors_list = list(colors._colors_full_map.values())\n",
        "\n",
        "\n",
        "def plot_roc_curve(models):\n",
        "  auc_list = []\n",
        "\n",
        "  plt.figure(figsize=(12, 8))\n",
        "  plt.plot([0, 1], [0, 1], 'y--')\n",
        "  plt.xlabel('False positive rate')\n",
        "  plt.ylabel('True positive rate')\n",
        "  plt.title('ROC curve')\n",
        "\n",
        "  for idx, (name, model) in enumerate(models):\n",
        "    y_preds = model.predict(X_test).ravel()\n",
        "    fpr, tpr, thresholds = roc_curve(y_test, y_preds) \n",
        "    auc_value = auc(fpr, tpr)\n",
        "    auc_list.append(auc_value)\n",
        "    label = str(name) + \" - AUC: \" + str(round(auc_value, 3))\n",
        "    plt.plot(fpr, tpr, marker='.', color=colors_list[randint(len(colors_list) - 1)], label=label)\n",
        "\n",
        "  plt.legend()\n",
        "  \n",
        "  return auc_list\n"
      ]
    },
    {
      "cell_type": "markdown",
      "metadata": {
        "id": "GYH_dCBrwcNM"
      },
      "source": [
        "## Optimizer - Adam"
      ]
    },
    {
      "cell_type": "code",
      "execution_count": 37,
      "metadata": {
        "colab": {
          "base_uri": "https://localhost:8080/"
        },
        "id": "J-BjMCt8vOxH",
        "outputId": "794ed0aa-45b3-44e2-f337-0c2ce72a9b34"
      },
      "outputs": [
        {
          "name": "stdout",
          "output_type": "stream",
          "text": [
            "Epoch 1/1000\n",
            "38/38 [==============================] - 27s 303ms/step - loss: 1.8440 - binary_accuracy: 0.6841 - precision: 0.6919 - recall: 0.7061 - val_loss: 0.8930 - val_binary_accuracy: 0.4925 - val_precision: 0.4925 - val_recall: 1.0000\n",
            "Epoch 2/1000\n",
            "38/38 [==============================] - 9s 243ms/step - loss: 0.4937 - binary_accuracy: 0.7743 - precision: 0.7596 - recall: 0.8268 - val_loss: 3.5560 - val_binary_accuracy: 0.4925 - val_precision: 0.4925 - val_recall: 1.0000\n",
            "Epoch 3/1000\n",
            "38/38 [==============================] - 9s 243ms/step - loss: 0.4160 - binary_accuracy: 0.8000 - precision: 0.7652 - recall: 0.8870 - val_loss: 5.8425 - val_binary_accuracy: 0.4925 - val_precision: 0.4925 - val_recall: 1.0000\n",
            "Epoch 4/1000\n",
            "38/38 [==============================] - 9s 246ms/step - loss: 0.3679 - binary_accuracy: 0.8128 - precision: 0.7628 - recall: 0.9281 - val_loss: 5.9714 - val_binary_accuracy: 0.4925 - val_precision: 0.4925 - val_recall: 1.0000\n",
            "Epoch 5/1000\n",
            "38/38 [==============================] - 9s 246ms/step - loss: 0.3434 - binary_accuracy: 0.8311 - precision: 0.7898 - recall: 0.9193 - val_loss: 9.4623 - val_binary_accuracy: 0.4925 - val_precision: 0.4925 - val_recall: 1.0000\n",
            "Epoch 6/1000\n",
            "38/38 [==============================] - 9s 244ms/step - loss: 0.3357 - binary_accuracy: 0.8359 - precision: 0.7875 - recall: 0.9366 - val_loss: 10.6141 - val_binary_accuracy: 0.4925 - val_precision: 0.4925 - val_recall: 1.0000\n",
            "Epoch 7/1000\n",
            "38/38 [==============================] - 9s 246ms/step - loss: 0.3063 - binary_accuracy: 0.8443 - precision: 0.8015 - recall: 0.9306 - val_loss: 10.4179 - val_binary_accuracy: 0.4925 - val_precision: 0.4925 - val_recall: 1.0000\n",
            "Epoch 8/1000\n",
            "38/38 [==============================] - 9s 247ms/step - loss: 0.3157 - binary_accuracy: 0.8409 - precision: 0.7995 - recall: 0.9257 - val_loss: 11.4741 - val_binary_accuracy: 0.4925 - val_precision: 0.4925 - val_recall: 1.0000\n",
            "Epoch 9/1000\n",
            "38/38 [==============================] - 9s 247ms/step - loss: 0.2800 - binary_accuracy: 0.8535 - precision: 0.8164 - recall: 0.9261 - val_loss: 12.0440 - val_binary_accuracy: 0.4925 - val_precision: 0.4925 - val_recall: 1.0000\n",
            "Epoch 10/1000\n",
            "38/38 [==============================] - 9s 248ms/step - loss: 0.2863 - binary_accuracy: 0.8529 - precision: 0.8762 - recall: 0.8345 - val_loss: 10.1334 - val_binary_accuracy: 0.4925 - val_precision: 0.4925 - val_recall: 1.0000\n",
            "Epoch 11/1000\n",
            "38/38 [==============================] - 9s 248ms/step - loss: 0.2781 - binary_accuracy: 0.8558 - precision: 0.8847 - recall: 0.8304 - val_loss: 9.9285 - val_binary_accuracy: 0.4925 - val_precision: 0.4925 - val_recall: 1.0000\n",
            "Epoch 12/1000\n",
            "38/38 [==============================] - 9s 248ms/step - loss: 0.2632 - binary_accuracy: 0.8713 - precision: 0.8932 - recall: 0.8543 - val_loss: 9.9660 - val_binary_accuracy: 0.4925 - val_precision: 0.4925 - val_recall: 1.0000\n",
            "Epoch 13/1000\n",
            "38/38 [==============================] - 9s 249ms/step - loss: 0.2626 - binary_accuracy: 0.8650 - precision: 0.9018 - recall: 0.8304 - val_loss: 7.5583 - val_binary_accuracy: 0.4925 - val_precision: 0.4925 - val_recall: 1.0000\n",
            "Epoch 14/1000\n",
            "38/38 [==============================] - 9s 250ms/step - loss: 0.2544 - binary_accuracy: 0.8774 - precision: 0.8445 - recall: 0.9362 - val_loss: 3.4336 - val_binary_accuracy: 0.5564 - val_precision: 0.5261 - val_recall: 1.0000\n",
            "Epoch 15/1000\n",
            "38/38 [==============================] - 9s 247ms/step - loss: 0.2330 - binary_accuracy: 0.8791 - precision: 0.8477 - recall: 0.9350 - val_loss: 3.6802 - val_binary_accuracy: 0.5865 - val_precision: 0.5436 - val_recall: 1.0000\n",
            "Epoch 16/1000\n",
            "38/38 [==============================] - 9s 249ms/step - loss: 0.2193 - binary_accuracy: 0.8795 - precision: 0.8486 - recall: 0.9346 - val_loss: 0.3343 - val_binary_accuracy: 0.8459 - val_precision: 0.8082 - val_recall: 0.9008\n",
            "Epoch 17/1000\n",
            "38/38 [==============================] - 9s 249ms/step - loss: 0.2151 - binary_accuracy: 0.8906 - precision: 0.9034 - recall: 0.8837 - val_loss: 0.2836 - val_binary_accuracy: 0.8647 - val_precision: 0.8322 - val_recall: 0.9084\n",
            "Epoch 18/1000\n",
            "38/38 [==============================] - 9s 249ms/step - loss: 0.2063 - binary_accuracy: 0.8935 - precision: 0.9271 - recall: 0.8627 - val_loss: 0.2394 - val_binary_accuracy: 0.8835 - val_precision: 0.8521 - val_recall: 0.9237\n",
            "Epoch 19/1000\n",
            "38/38 [==============================] - 9s 248ms/step - loss: 0.2004 - binary_accuracy: 0.8967 - precision: 0.9355 - recall: 0.8603 - val_loss: 0.2460 - val_binary_accuracy: 0.8797 - val_precision: 0.8462 - val_recall: 0.9237\n",
            "Epoch 20/1000\n",
            "38/38 [==============================] - 9s 248ms/step - loss: 0.1707 - binary_accuracy: 0.9111 - precision: 0.9496 - recall: 0.8753 - val_loss: 0.2687 - val_binary_accuracy: 0.8722 - val_precision: 0.8819 - val_recall: 0.8550\n",
            "Epoch 21/1000\n",
            "38/38 [==============================] - 9s 247ms/step - loss: 0.1795 - binary_accuracy: 0.9105 - precision: 0.9321 - recall: 0.8926 - val_loss: 0.2487 - val_binary_accuracy: 0.8872 - val_precision: 0.8915 - val_recall: 0.8779\n",
            "Epoch 22/1000\n",
            "38/38 [==============================] - 9s 248ms/step - loss: 0.1946 - binary_accuracy: 0.8986 - precision: 0.9376 - recall: 0.8619 - val_loss: 0.2295 - val_binary_accuracy: 0.8947 - val_precision: 0.8815 - val_recall: 0.9084\n",
            "Epoch 23/1000\n",
            "38/38 [==============================] - 9s 249ms/step - loss: 0.1671 - binary_accuracy: 0.9120 - precision: 0.9334 - recall: 0.8942 - val_loss: 0.2190 - val_binary_accuracy: 0.8872 - val_precision: 0.8855 - val_recall: 0.8855\n",
            "Epoch 24/1000\n",
            "38/38 [==============================] - 9s 248ms/step - loss: 0.1649 - binary_accuracy: 0.9164 - precision: 0.9425 - recall: 0.8934 - val_loss: 0.2345 - val_binary_accuracy: 0.8910 - val_precision: 0.9113 - val_recall: 0.8626\n",
            "Epoch 25/1000\n",
            "38/38 [==============================] - 9s 248ms/step - loss: 0.1521 - binary_accuracy: 0.9218 - precision: 0.9500 - recall: 0.8966 - val_loss: 0.2514 - val_binary_accuracy: 0.8947 - val_precision: 0.8759 - val_recall: 0.9160\n",
            "Epoch 26/1000\n",
            "38/38 [==============================] - 9s 248ms/step - loss: 0.1664 - binary_accuracy: 0.9162 - precision: 0.9414 - recall: 0.8942 - val_loss: 0.2192 - val_binary_accuracy: 0.8947 - val_precision: 0.8931 - val_recall: 0.8931\n",
            "Epoch 27/1000\n",
            "38/38 [==============================] - 9s 248ms/step - loss: 0.1433 - binary_accuracy: 0.9325 - precision: 0.9522 - recall: 0.9160 - val_loss: 0.2622 - val_binary_accuracy: 0.8910 - val_precision: 0.8696 - val_recall: 0.9160\n",
            "Epoch 28/1000\n",
            "38/38 [==============================] - 9s 248ms/step - loss: 0.1424 - binary_accuracy: 0.9308 - precision: 0.9486 - recall: 0.9164 - val_loss: 0.2611 - val_binary_accuracy: 0.8797 - val_precision: 0.8561 - val_recall: 0.9084\n",
            "Epoch 29/1000\n",
            "38/38 [==============================] - 9s 248ms/step - loss: 0.1385 - binary_accuracy: 0.9367 - precision: 0.9575 - recall: 0.9189 - val_loss: 0.1995 - val_binary_accuracy: 0.9023 - val_precision: 0.8889 - val_recall: 0.9160\n",
            "Epoch 30/1000\n",
            "38/38 [==============================] - 9s 248ms/step - loss: 0.1403 - binary_accuracy: 0.9321 - precision: 0.9499 - recall: 0.9176 - val_loss: 0.2277 - val_binary_accuracy: 0.9135 - val_precision: 0.9219 - val_recall: 0.9008\n",
            "Epoch 31/1000\n",
            "38/38 [==============================] - 9s 248ms/step - loss: 0.1225 - binary_accuracy: 0.9382 - precision: 0.9615 - recall: 0.9176 - val_loss: 0.2164 - val_binary_accuracy: 0.9211 - val_precision: 0.9231 - val_recall: 0.9160\n",
            "Epoch 32/1000\n",
            "38/38 [==============================] - 9s 249ms/step - loss: 0.1249 - binary_accuracy: 0.9361 - precision: 0.9621 - recall: 0.9128 - val_loss: 0.1700 - val_binary_accuracy: 0.9398 - val_precision: 0.9600 - val_recall: 0.9160\n",
            "Epoch 33/1000\n",
            "38/38 [==============================] - 9s 248ms/step - loss: 0.1151 - binary_accuracy: 0.9413 - precision: 0.9587 - recall: 0.9269 - val_loss: 0.2353 - val_binary_accuracy: 0.9023 - val_precision: 0.9200 - val_recall: 0.8779\n",
            "Epoch 34/1000\n",
            "38/38 [==============================] - 9s 248ms/step - loss: 0.1160 - binary_accuracy: 0.9468 - precision: 0.9668 - recall: 0.9294 - val_loss: 0.1928 - val_binary_accuracy: 0.9211 - val_precision: 0.9167 - val_recall: 0.9237\n",
            "Epoch 35/1000\n",
            "38/38 [==============================] - 9s 248ms/step - loss: 0.1206 - binary_accuracy: 0.9411 - precision: 0.9633 - recall: 0.9217 - val_loss: 0.2620 - val_binary_accuracy: 0.9098 - val_precision: 0.8905 - val_recall: 0.9313\n",
            "Epoch 36/1000\n",
            "38/38 [==============================] - 9s 248ms/step - loss: 0.1242 - binary_accuracy: 0.9447 - precision: 0.9647 - recall: 0.9273 - val_loss: 0.2329 - val_binary_accuracy: 0.9211 - val_precision: 0.9231 - val_recall: 0.9160\n",
            "Epoch 37/1000\n",
            "38/38 [==============================] - 9s 248ms/step - loss: 0.1237 - binary_accuracy: 0.9453 - precision: 0.9699 - recall: 0.9233 - val_loss: 0.2025 - val_binary_accuracy: 0.9211 - val_precision: 0.9297 - val_recall: 0.9084\n",
            "Epoch 38/1000\n",
            "38/38 [==============================] - 9s 248ms/step - loss: 0.1018 - binary_accuracy: 0.9554 - precision: 0.9713 - recall: 0.9419 - val_loss: 0.2580 - val_binary_accuracy: 0.8947 - val_precision: 0.8872 - val_recall: 0.9008\n",
            "Epoch 39/1000\n",
            "38/38 [==============================] - 9s 249ms/step - loss: 0.1140 - binary_accuracy: 0.9434 - precision: 0.9674 - recall: 0.9221 - val_loss: 0.1691 - val_binary_accuracy: 0.9286 - val_precision: 0.9590 - val_recall: 0.8931\n",
            "Epoch 40/1000\n",
            "38/38 [==============================] - 9s 248ms/step - loss: 0.0945 - binary_accuracy: 0.9522 - precision: 0.9715 - recall: 0.9354 - val_loss: 0.1693 - val_binary_accuracy: 0.9286 - val_precision: 0.9667 - val_recall: 0.8855\n",
            "Epoch 41/1000\n",
            "38/38 [==============================] - 9s 248ms/step - loss: 0.1136 - binary_accuracy: 0.9524 - precision: 0.9695 - recall: 0.9378 - val_loss: 0.2275 - val_binary_accuracy: 0.9173 - val_precision: 0.9504 - val_recall: 0.8779\n",
            "Epoch 42/1000\n",
            "38/38 [==============================] - 9s 248ms/step - loss: 0.0752 - binary_accuracy: 0.9602 - precision: 0.9795 - recall: 0.9431 - val_loss: 0.2348 - val_binary_accuracy: 0.9323 - val_precision: 0.9313 - val_recall: 0.9313\n",
            "Epoch 43/1000\n",
            "38/38 [==============================] - 9s 248ms/step - loss: 0.0956 - binary_accuracy: 0.9572 - precision: 0.9745 - recall: 0.9423 - val_loss: 0.2511 - val_binary_accuracy: 0.9211 - val_precision: 0.9365 - val_recall: 0.9008\n",
            "Epoch 44/1000\n",
            "38/38 [==============================] - 9s 249ms/step - loss: 0.0950 - binary_accuracy: 0.9512 - precision: 0.9783 - recall: 0.9265 - val_loss: 0.1672 - val_binary_accuracy: 0.9474 - val_precision: 0.9606 - val_recall: 0.9313\n",
            "Epoch 45/1000\n",
            "38/38 [==============================] - 9s 248ms/step - loss: 0.0779 - binary_accuracy: 0.9629 - precision: 0.9804 - recall: 0.9475 - val_loss: 0.2095 - val_binary_accuracy: 0.9323 - val_precision: 0.9248 - val_recall: 0.9389\n",
            "Epoch 46/1000\n",
            "38/38 [==============================] - 9s 248ms/step - loss: 0.0809 - binary_accuracy: 0.9572 - precision: 0.9753 - recall: 0.9415 - val_loss: 0.2634 - val_binary_accuracy: 0.9098 - val_precision: 0.9421 - val_recall: 0.8702\n",
            "Epoch 47/1000\n",
            "38/38 [==============================] - 9s 248ms/step - loss: 0.0851 - binary_accuracy: 0.9648 - precision: 0.9816 - recall: 0.9499 - val_loss: 0.2169 - val_binary_accuracy: 0.9060 - val_precision: 0.9077 - val_recall: 0.9008\n",
            "Epoch 48/1000\n",
            "38/38 [==============================] - 9s 248ms/step - loss: 0.0721 - binary_accuracy: 0.9671 - precision: 0.9805 - recall: 0.9556 - val_loss: 0.2080 - val_binary_accuracy: 0.9211 - val_precision: 0.9435 - val_recall: 0.8931\n",
            "Epoch 49/1000\n",
            "38/38 [==============================] - 9s 248ms/step - loss: 0.0798 - binary_accuracy: 0.9663 - precision: 0.9781 - recall: 0.9564 - val_loss: 0.2380 - val_binary_accuracy: 0.9173 - val_precision: 0.9431 - val_recall: 0.8855\n",
            "Epoch 50/1000\n",
            "38/38 [==============================] - 9s 249ms/step - loss: 0.0741 - binary_accuracy: 0.9673 - precision: 0.9809 - recall: 0.9556 - val_loss: 0.3335 - val_binary_accuracy: 0.9060 - val_precision: 0.8955 - val_recall: 0.9160\n",
            "Epoch 51/1000\n",
            "38/38 [==============================] - 9s 248ms/step - loss: 0.0615 - binary_accuracy: 0.9723 - precision: 0.9811 - recall: 0.9653 - val_loss: 0.2792 - val_binary_accuracy: 0.9135 - val_precision: 0.9655 - val_recall: 0.8550\n",
            "Epoch 52/1000\n",
            "38/38 [==============================] - 9s 247ms/step - loss: 0.0700 - binary_accuracy: 0.9665 - precision: 0.9821 - recall: 0.9528 - val_loss: 0.2811 - val_binary_accuracy: 0.9135 - val_precision: 0.9091 - val_recall: 0.9160\n",
            "Epoch 53/1000\n",
            "38/38 [==============================] - 9s 248ms/step - loss: 0.0660 - binary_accuracy: 0.9719 - precision: 0.9859 - recall: 0.9596 - val_loss: 0.2668 - val_binary_accuracy: 0.9248 - val_precision: 0.9237 - val_recall: 0.9237\n",
            "Epoch 54/1000\n",
            "38/38 [==============================] - 9s 248ms/step - loss: 0.0660 - binary_accuracy: 0.9717 - precision: 0.9791 - recall: 0.9661 - val_loss: 0.2900 - val_binary_accuracy: 0.9060 - val_precision: 0.9077 - val_recall: 0.9008\n",
            "Epoch 55/1000\n",
            "38/38 [==============================] - 9s 247ms/step - loss: 0.0597 - binary_accuracy: 0.9723 - precision: 0.9859 - recall: 0.9604 - val_loss: 0.3029 - val_binary_accuracy: 0.9135 - val_precision: 0.9154 - val_recall: 0.9084\n",
            "Epoch 56/1000\n",
            "38/38 [==============================] - 9s 247ms/step - loss: 0.0724 - binary_accuracy: 0.9692 - precision: 0.9794 - recall: 0.9608 - val_loss: 0.2682 - val_binary_accuracy: 0.9173 - val_precision: 0.9291 - val_recall: 0.9008\n",
            "Epoch 57/1000\n",
            "38/38 [==============================] - 9s 247ms/step - loss: 0.0630 - binary_accuracy: 0.9704 - precision: 0.9834 - recall: 0.9592 - val_loss: 0.2427 - val_binary_accuracy: 0.9248 - val_precision: 0.9237 - val_recall: 0.9237\n",
            "Epoch 58/1000\n",
            "38/38 [==============================] - 9s 248ms/step - loss: 0.0587 - binary_accuracy: 0.9679 - precision: 0.9810 - recall: 0.9568 - val_loss: 0.2241 - val_binary_accuracy: 0.9211 - val_precision: 0.9365 - val_recall: 0.9008\n",
            "Epoch 59/1000\n",
            "38/38 [==============================] - ETA: 0s - loss: 0.0720 - binary_accuracy: 0.9707 - precision: 0.9815 - recall: 0.9616Restoring model weights from the end of the best epoch: 44.\n",
            "38/38 [==============================] - 9s 249ms/step - loss: 0.0720 - binary_accuracy: 0.9707 - precision: 0.9815 - recall: 0.9616 - val_loss: 0.2398 - val_binary_accuracy: 0.9286 - val_precision: 0.9118 - val_recall: 0.9466\n",
            "Epoch 59: early stopping\n"
          ]
        }
      ],
      "source": [
        "opt = tf.keras.optimizers.Adam(learning_rate=learning_rate, amsgrad=True)\n",
        "model_adam = model_builder(opt)\n",
        "\n",
        "history_adam = model_adam.fit(pca_recovered_train_image, \n",
        "                         y_train, \n",
        "                         batch_size = batch_size, \n",
        "                         verbose = 1, \n",
        "                         epochs = epochs,      \n",
        "                         validation_data=(pca_recovered_val_image,y_val), # I will use X_val as hold out dataset\n",
        "                         shuffle = True,\n",
        "                         callbacks=[es]\n",
        "                     )"
      ]
    },
    {
      "cell_type": "code",
      "execution_count": 38,
      "metadata": {
        "colab": {
          "base_uri": "https://localhost:8080/",
          "height": 513
        },
        "id": "e5DNKJ1Bwdru",
        "outputId": "4b33e92f-fb37-42d1-d37e-323a42e0b300"
      },
      "outputs": [
        {
          "data": {
            "image/png": "[encoded data removed]",
            "text/plain": [
              "<Figure size 864x576 with 2 Axes>"
            ]
          },
          "metadata": {
            "needs_background": "light"
          },
          "output_type": "display_data"
        }
      ],
      "source": [
        "plot_loss_and_acurracy(history_adam)"
      ]
    },
    {
      "cell_type": "code",
      "execution_count": 39,
      "metadata": {
        "colab": {
          "base_uri": "https://localhost:8080/",
          "height": 518
        },
        "id": "sxysu05kwdt0",
        "outputId": "4df685d9-de2f-4d9a-f2ec-669bac05b8be"
      },
      "outputs": [
        {
          "data": {
            "image/png": "[encoded data removed]",
            "text/plain": [
              "<Figure size 1008x504 with 2 Axes>"
            ]
          },
          "metadata": {
            "needs_background": "light"
          },
          "output_type": "display_data"
        }
      ],
      "source": [
        "plot_history_precision_recall(history_adam)"
      ]
    },
    {
      "cell_type": "code",
      "execution_count": 40,
      "metadata": {
        "colab": {
          "base_uri": "https://localhost:8080/"
        },
        "id": "oQR9u6_qwdwM",
        "outputId": "62891db1-b2aa-43a8-ff43-189c32ade97b"
      },
      "outputs": [
        {
          "name": "stdout",
          "output_type": "stream",
          "text": [
            "9/9 [==============================] - 1s 38ms/step - loss: 0.3539 - binary_accuracy: 0.9094 - precision: 0.9071 - recall: 0.9203\n"
          ]
        },
        {
          "data": {
            "text/plain": [
              "[0.35390007495880127,\n",
              " 0.9094339609146118,\n",
              " 0.9071428775787354,\n",
              " 0.9202898740768433]"
            ]
          },
          "execution_count": 40,
          "metadata": {},
          "output_type": "execute_result"
        }
      ],
      "source": [
        "model_adam.evaluate(pca_recovered_test_image,y_test) # use X_val as hold out dataset"
      ]
    },
    {
      "cell_type": "code",
      "execution_count": 41,
      "metadata": {
        "colab": {
          "base_uri": "https://localhost:8080/",
          "height": 530
        },
        "id": "wyBvSxzRwdyy",
        "outputId": "54825d3c-4e5c-4c76-bd02-67e39054fca2"
      },
      "outputs": [
        {
          "data": {
            "text/plain": [
              "[0.9292479744379778]"
            ]
          },
          "execution_count": 41,
          "metadata": {},
          "output_type": "execute_result"
        },
        {
          "data": {
            "image/png": "[encoded data removed]",
            "text/plain": [
              "<Figure size 864x576 with 1 Axes>"
            ]
          },
          "metadata": {
            "needs_background": "light"
          },
          "output_type": "display_data"
        }
      ],
      "source": [
        "models = [(\"model_adam\", model_adam)]\n",
        "\n",
        "plot_roc_curve(models)"
      ]
    },
    {
      "cell_type": "markdown",
      "metadata": {
        "id": "lN72WTZi2IP8"
      },
      "source": [
        "# Save model to my drive"
      ]
    },
    {
      "cell_type": "code",
      "execution_count": 42,
      "metadata": {
        "colab": {
          "base_uri": "https://localhost:8080/"
        },
        "id": "NycIzinuwd09",
        "outputId": "40e90e94-3b3b-4014-d6c4-689e74810fe2"
      },
      "outputs": [
        {
          "name": "stdout",
          "output_type": "stream",
          "text": [
            "Mounted at /gdrive\n"
          ]
        }
      ],
      "source": [
        "from google.colab import drive\n",
        "drive.mount('/gdrive')"
      ]
    },
    {
      "cell_type": "code",
      "execution_count": 46,
      "metadata": {
        "id": "JVXPMcSM2WSX"
      },
      "outputs": [],
      "source": [
        "model_adam.save('new_cnn_model_full_dataset_gray_image_pca.h5')"
      ]
    }
  ],
  "metadata": {
    "accelerator": "GPU",
    "colab": {
      "collapsed_sections": [],
      "machine_shape": "hm",
      "name": "02-deep_learning-CNN-Gray-PCA.ipynb",
      "provenance": []
    },
    "kernelspec": {
      "display_name": "Python 3",
      "name": "python3"
    },
    "language_info": {
      "name": "python"
    }
  },
  "nbformat": 4,
  "nbformat_minor": 0
}
