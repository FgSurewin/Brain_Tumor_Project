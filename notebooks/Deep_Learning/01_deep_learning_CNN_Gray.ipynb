{
  "nbformat": 4,
  "nbformat_minor": 0,
  "metadata": {
    "colab": {
      "name": "01-deep_learning-CNN-Gray.ipynb",
      "provenance": [],
      "collapsed_sections": [],
      "machine_shape": "hm"
    },
    "kernelspec": {
      "name": "python3",
      "display_name": "Python 3"
    },
    "language_info": {
      "name": "python"
    },
    "accelerator": "GPU"
  },
  "cells": [
    {
      "cell_type": "markdown",
      "source": [
        "# Download Dataset"
      ],
      "metadata": {
        "id": "Lhqcq4mmpNaC"
      }
    },
    {
      "cell_type": "code",
      "execution_count": null,
      "metadata": {
        "id": "ijdMJQr0o1Y-"
      },
      "outputs": [],
      "source": [
        "!gdown --id 10fKUF1u3uhIrhEipoklNgysmPyYuYGV9 -O kaggle_m3.zip\n",
        "!gdown --id 1Leaos-3uB70Lex1qLE7FvrtaOBDOYKbQ -O data_aug.zip"
      ]
    },
    {
      "cell_type": "code",
      "source": [
        "! mkdir fakes\n",
        "! cp data_aug.zip fakes\n",
        "%cd fakes\n",
        "! ls"
      ],
      "metadata": {
        "colab": {
          "base_uri": "https://localhost:8080/"
        },
        "id": "McvuUxAApMpr",
        "outputId": "e75d3abb-c8fd-4722-ce1a-eb96df0ae64a"
      },
      "execution_count": 2,
      "outputs": [
        {
          "output_type": "stream",
          "name": "stdout",
          "text": [
            "/content/fakes\n",
            "data_aug.zip\n"
          ]
        }
      ]
    },
    {
      "cell_type": "code",
      "source": [
        "! unzip data_aug.zip"
      ],
      "metadata": {
        "id": "QbMLLD6_pMua"
      },
      "execution_count": null,
      "outputs": []
    },
    {
      "cell_type": "code",
      "source": [
        "%cd .."
      ],
      "metadata": {
        "colab": {
          "base_uri": "https://localhost:8080/"
        },
        "id": "CMygt_8RpMr8",
        "outputId": "a795e44f-aa25-4306-80c3-388a7ccedd40"
      },
      "execution_count": 4,
      "outputs": [
        {
          "output_type": "stream",
          "name": "stdout",
          "text": [
            "/content\n"
          ]
        }
      ]
    },
    {
      "cell_type": "code",
      "source": [
        "!unzip kaggle_m3.zip"
      ],
      "metadata": {
        "id": "FA8sx41SpSL6"
      },
      "execution_count": null,
      "outputs": []
    },
    {
      "cell_type": "markdown",
      "source": [
        "# Import Dataset"
      ],
      "metadata": {
        "id": "jQlmYNpqpXXC"
      }
    },
    {
      "cell_type": "code",
      "source": [
        "import matplotlib.pyplot as plt\n",
        "import matplotlib.image as mpimg\n",
        "from glob import glob\n",
        "import pandas as pd\n",
        "import seaborn as sns\n",
        "\n",
        "from keras.preprocessing.image import ImageDataGenerator\n",
        "from keras.models import Sequential\n",
        "from keras.layers import Conv2D, MaxPooling2D, BatchNormalization\n",
        "from keras.layers import Activation, Dropout, Flatten, Dense\n",
        "from keras.callbacks import EarlyStopping\n",
        "import tensorflow as tf\n",
        "from skimage.color import rgb2gray\n",
        "\n",
        "import os\n",
        "import cv2\n",
        "from PIL import Image\n",
        "import numpy as np"
      ],
      "metadata": {
        "id": "2SFGFsaxpSQj"
      },
      "execution_count": 6,
      "outputs": []
    },
    {
      "cell_type": "code",
      "source": [
        "# Set parameters\n",
        "file_path='/'\n",
        "Size = (256, 256)\n",
        "mask_files = glob(file_path + os.path.join('content','*','*_mask*'))\n",
        "train_files = [file.replace('_mask', '') for file in mask_files]\n",
        "\n",
        "# Create Dataframe\n",
        "def label(mask):\n",
        "    value = np.max(cv2.imread(mask))\n",
        "    return '1' if value > 0 else '0'\n",
        "df = pd.DataFrame({\"image\": train_files,\n",
        "                   \"mask\": mask_files,\n",
        "                  \"label\":[label(x) for x in mask_files]})\n",
        "\n",
        "\n",
        "df.shape"
      ],
      "metadata": {
        "colab": {
          "base_uri": "https://localhost:8080/"
        },
        "id": "ZpPaxUYgpSTK",
        "outputId": "9b8827a9-4f07-4b1b-fc6e-b2ed361c7fa6"
      },
      "execution_count": 7,
      "outputs": [
        {
          "output_type": "execute_result",
          "data": {
            "text/plain": [
              "(5302, 3)"
            ]
          },
          "metadata": {},
          "execution_count": 7
        }
      ]
    },
    {
      "cell_type": "code",
      "source": [
        "# Collect Data\n",
        "dataset = [ rgb2gray(cv2.imread(path)) for path in df[\"image\"]  ]\n",
        "label = df[\"label\"].values\n",
        "dataset = np.array(dataset)\n",
        "label = np.array(df[\"label\"].values).astype(int)\n",
        "print(dataset.shape)\n",
        "print(label.shape)"
      ],
      "metadata": {
        "colab": {
          "base_uri": "https://localhost:8080/"
        },
        "id": "lfismgKTuk1u",
        "outputId": "faeba340-271c-4f05-cf9a-1d9c8911c13a"
      },
      "execution_count": 8,
      "outputs": [
        {
          "output_type": "stream",
          "name": "stdout",
          "text": [
            "(5302, 256, 256)\n",
            "(5302,)\n"
          ]
        }
      ]
    },
    {
      "cell_type": "code",
      "source": [
        "dataset_gray = dataset[:, :, :, np.newaxis]"
      ],
      "metadata": {
        "id": "Ds5o_nGNxVbr"
      },
      "execution_count": 11,
      "outputs": []
    },
    {
      "cell_type": "markdown",
      "source": [
        "# Split Data"
      ],
      "metadata": {
        "id": "KZRjpUy1uadd"
      }
    },
    {
      "cell_type": "code",
      "source": [
        "from sklearn.model_selection import train_test_split\n",
        "#from keras.utils import to_categorical\n",
        "\n",
        "X_train, X_test, y_train, y_test = train_test_split(dataset_gray, label, test_size = 0.1, random_state = 0)\n",
        "X_test, X_val, y_test, y_val = train_test_split(X_test, y_test, test_size = 0.5, random_state = 0)"
      ],
      "metadata": {
        "id": "bNcuHXjcuXbE"
      },
      "execution_count": 13,
      "outputs": []
    },
    {
      "cell_type": "markdown",
      "source": [
        "# CNN"
      ],
      "metadata": {
        "id": "tNqHx8UMu6F2"
      }
    },
    {
      "cell_type": "code",
      "source": [
        "metrics = ['binary_accuracy', tf.keras.metrics.Precision(), tf.keras.metrics.Recall()]\n",
        "\n",
        "GRAY_INPUT_SHAPE = (256, 256, 1)\n",
        "COLOR_INPUT_SHAPE = (256, 256, 3)\n",
        "\n",
        "def model_builder(optimizer):\n",
        "    INPUT_SHAPE = GRAY_INPUT_SHAPE   #change to (SIZE, SIZE, 3)\n",
        "\n",
        "\n",
        "    model = Sequential()\n",
        "\n",
        "    model.add(Conv2D(32, (3, 3), input_shape=INPUT_SHAPE))\n",
        "    model.add(Activation('relu'))\n",
        "    model.add(BatchNormalization())\n",
        "    model.add(MaxPooling2D(pool_size=(2, 2)))\n",
        "\n",
        "    model.add(Conv2D(32, (3, 3), kernel_initializer = 'he_uniform', padding=\"same\"))\n",
        "    model.add(Activation('relu'))\n",
        "    model.add(BatchNormalization())\n",
        "    model.add(MaxPooling2D(pool_size=(2, 2)))\n",
        "\n",
        "    model.add(Conv2D(64, (3, 3), kernel_initializer = 'he_uniform', padding=\"same\"))\n",
        "    model.add(Activation('relu'))\n",
        "    model.add(BatchNormalization())\n",
        "    model.add(MaxPooling2D(pool_size=(2, 2)))\n",
        "\n",
        "    model.add(Flatten())\n",
        "\n",
        "    model.add(Dense(256))\n",
        "    model.add(Activation('relu'))\n",
        "    model.add(Dropout(0.5))\n",
        "\n",
        "    model.add(Dense(128))\n",
        "    model.add(Activation('relu'))\n",
        "\n",
        "    model.add(Dense(1))\n",
        "    model.add(Activation('sigmoid')) \n",
        "\n",
        "    model.compile(\n",
        "        optimizer=optimizer, \n",
        "        loss=\"binary_crossentropy\", \n",
        "        metrics=metrics,\n",
        "    )\n",
        "\n",
        "    return model"
      ],
      "metadata": {
        "id": "Kj5YprfquXdX"
      },
      "execution_count": 16,
      "outputs": []
    },
    {
      "cell_type": "markdown",
      "source": [
        "## EarlyStopping"
      ],
      "metadata": {
        "id": "J88LVKnpvIkt"
      }
    },
    {
      "cell_type": "code",
      "source": [
        "# patient early stopping\n",
        "es = EarlyStopping(monitor='val_loss', mode='min', verbose=1, patience=15, restore_best_weights=True)"
      ],
      "metadata": {
        "id": "u5YXoiUbuXfp"
      },
      "execution_count": 18,
      "outputs": []
    },
    {
      "cell_type": "markdown",
      "source": [
        "## Hyper Params"
      ],
      "metadata": {
        "id": "H8FWMeUqvEn9"
      }
    },
    {
      "cell_type": "code",
      "source": [
        "epochs = 1000\n",
        "learning_rate = 0.0005\n",
        "batch_size = 128"
      ],
      "metadata": {
        "id": "cFrHs4xYu-Ku"
      },
      "execution_count": 19,
      "outputs": []
    },
    {
      "cell_type": "markdown",
      "source": [
        "## Helper Functions"
      ],
      "metadata": {
        "id": "fFD2lZfQvCcO"
      }
    },
    {
      "cell_type": "code",
      "source": [
        "def set_seed(seed):\n",
        "    tf.random.set_seed(seed)\n",
        "    np.random.seed(seed)\n",
        "    os.environ['PYTHONHASHSEED'] = str(seed)\n",
        "\n",
        "set_seed(888)"
      ],
      "metadata": {
        "id": "14uCY683u-M2"
      },
      "execution_count": 20,
      "outputs": []
    },
    {
      "cell_type": "code",
      "source": [
        "def plot_loss_and_acurracy(history):\n",
        "  fig, axes = plt.subplots(nrows=1, ncols=2, figsize=(12, 8))\n",
        "  epochs = range(len(history.history['loss']))\n",
        "\n",
        "  loss = history.history['loss']\n",
        "  val_loss = history.history['val_loss']\n",
        "  axes[0].plot(epochs, loss, 'y', label='Training loss')\n",
        "  axes[0].plot(epochs, val_loss, 'r', label='Validation loss')\n",
        "  axes[0].set_title('Training and validation loss')\n",
        "  axes[0].set_xlabel('Epochs')\n",
        "  axes[0].set_ylabel('Loss')\n",
        "  axes[0].legend()\n",
        "\n",
        "  acc = history.history['binary_accuracy']\n",
        "  val_acc = history.history['val_binary_accuracy']\n",
        "  axes[1].plot(epochs, acc, 'y', label='Training acc')\n",
        "  axes[1].plot(epochs, val_acc, 'r', label='Validation acc')\n",
        "  axes[1].set_title('Training and validation accuracy')\n",
        "  axes[1].set_xlabel('Epochs')\n",
        "  axes[1].set_ylabel('Accuracy')\n",
        "  axes[1].legend()"
      ],
      "metadata": {
        "id": "OEwEyO9mu-Pa"
      },
      "execution_count": 21,
      "outputs": []
    },
    {
      "cell_type": "code",
      "source": [
        "colors_dark = [\"#404040\", \"#676c72\", '#737980', '#8e959e', '#f9f9f9']\n",
        "colors_red = [\"#EA4335\", \"#E57373\", '#EF9A9A', '#FFCDD2', '#FFEBEE']\n",
        "colors_green = ['#34A853','#81C784','#A5D6A7','#C8E6C9','#E8F5E9']\n",
        "colors_blue = ['#4285F4','#42A5F5','#90CAF9','#BBDEFB','#E3F2FD']\n",
        "colors_yellow = ['#FBBC04','#FFCA28','#FFE082','#FFECB3','#FFF8E1']\n",
        "\n",
        "sns.palplot(colors_dark)\n",
        "sns.palplot(colors_green)\n",
        "sns.palplot(colors_red)\n",
        "sns.palplot(colors_blue)\n",
        "sns.palplot(colors_yellow)"
      ],
      "metadata": {
        "colab": {
          "base_uri": "https://localhost:8080/",
          "height": 377
        },
        "id": "O0fG2WJxu-R-",
        "outputId": "5bcdd955-90ce-4ca8-83eb-1ce37eb02165"
      },
      "execution_count": 22,
      "outputs": [
        {
          "output_type": "display_data",
          "data": {
            "text/plain": [
              "<Figure size 360x72 with 1 Axes>"
            ],
            "image/png": "[encoded data removed]"
          },
          "metadata": {
            "needs_background": "light"
          }
        },
        {
          "output_type": "display_data",
          "data": {
            "text/plain": [
              "<Figure size 360x72 with 1 Axes>"
            ],
            "image/png": "[encoded data removed]"
          },
          "metadata": {
            "needs_background": "light"
          }
        },
        {
          "output_type": "display_data",
          "data": {
            "text/plain": [
              "<Figure size 360x72 with 1 Axes>"
            ],
            "image/png": "[encoded data removed]"
          },
          "metadata": {
            "needs_background": "light"
          }
        },
        {
          "output_type": "display_data",
          "data": {
            "text/plain": [
              "<Figure size 360x72 with 1 Axes>"
            ],
            "image/png": "[encoded data removed]"
          },
          "metadata": {
            "needs_background": "light"
          }
        },
        {
          "output_type": "display_data",
          "data": {
            "text/plain": [
              "<Figure size 360x72 with 1 Axes>"
            ],
            "image/png": "[encoded data removed]"
          },
          "metadata": {
            "needs_background": "light"
          }
        }
      ]
    },
    {
      "cell_type": "code",
      "source": [
        "def plot_history_precision_recall(history):\n",
        "    epochs = range(len(history.history['loss']))\n",
        "    fig, ax = plt.subplots(1,2,figsize=(14,7))\n",
        "    train_acc = history.history['precision']\n",
        "    train_loss = history.history['recall']\n",
        "    val_acc = history.history['val_precision']\n",
        "    val_loss = history.history['val_recall']\n",
        "\n",
        "    fig.text(s='Epochs vs. Training and Validation Precision/Recall',size=18,fontweight='bold',\n",
        "                 fontname='monospace',color=colors_dark[0],y=1,x=0.28,alpha=0.8)\n",
        "\n",
        "    sns.despine()\n",
        "    ax[0].plot(epochs, train_acc, color=colors_green[1],\n",
        "               label = 'Training Precision')\n",
        "    ax[0].plot(epochs, val_acc, color=colors_yellow[1],\n",
        "               label = 'Validation Precision')\n",
        "    ax[0].legend(frameon=False)\n",
        "    ax[0].set_xlabel('Epochs')\n",
        "    ax[0].set_ylabel('Training & Validation Precision')\n",
        "\n",
        "    sns.despine()\n",
        "    ax[1].plot(epochs, train_loss, color=colors_green[1],\n",
        "               label ='Training Recall')\n",
        "    ax[1].plot(epochs, val_loss, color=colors_yellow[1],\n",
        "               label = 'Validation Recall')\n",
        "    ax[1].legend(frameon=False)\n",
        "    ax[1].set_xlabel('Epochs')\n",
        "    ax[1].set_ylabel('Training & Validation Recall')\n",
        "\n",
        "    fig.show()"
      ],
      "metadata": {
        "id": "9TL2iyTfu-UM"
      },
      "execution_count": 23,
      "outputs": []
    },
    {
      "cell_type": "code",
      "source": [
        "from sklearn.metrics import roc_curve\n",
        "from sklearn.metrics import auc\n",
        "from numpy.random import randint\n",
        "\n",
        "import matplotlib.colors as colors\n",
        "colors_list = list(colors._colors_full_map.values())\n",
        "\n",
        "\n",
        "def plot_roc_curve(models):\n",
        "  auc_list = []\n",
        "\n",
        "  plt.figure(figsize=(12, 8))\n",
        "  plt.plot([0, 1], [0, 1], 'y--')\n",
        "  plt.xlabel('False positive rate')\n",
        "  plt.ylabel('True positive rate')\n",
        "  plt.title('ROC curve')\n",
        "\n",
        "  for idx, (name, model) in enumerate(models):\n",
        "    y_preds = model.predict(X_test).ravel()\n",
        "    fpr, tpr, thresholds = roc_curve(y_test, y_preds) \n",
        "    auc_value = auc(fpr, tpr)\n",
        "    auc_list.append(auc_value)\n",
        "    label = str(name) + \" - AUC: \" + str(round(auc_value, 3))\n",
        "    plt.plot(fpr, tpr, marker='.', color=colors_list[randint(len(colors_list) - 1)], label=label)\n",
        "\n",
        "  plt.legend()\n",
        "  \n",
        "  return auc_list\n"
      ],
      "metadata": {
        "id": "esc-6th1vOn2"
      },
      "execution_count": 24,
      "outputs": []
    },
    {
      "cell_type": "markdown",
      "source": [
        "## Optimizer - Adam"
      ],
      "metadata": {
        "id": "GYH_dCBrwcNM"
      }
    },
    {
      "cell_type": "code",
      "source": [
        "opt = tf.keras.optimizers.Adam(learning_rate=learning_rate, amsgrad=True)\n",
        "model_adam = model_builder(opt)\n",
        "\n",
        "history_adam = model_adam.fit(X_train, \n",
        "                         y_train, \n",
        "                         batch_size = batch_size, \n",
        "                         verbose = 1, \n",
        "                         epochs = epochs,      \n",
        "                         validation_data=(X_test,y_test), # I will use X_val as hold out dataset\n",
        "                         shuffle = True,\n",
        "                         callbacks=[es]\n",
        "                     )"
      ],
      "metadata": {
        "colab": {
          "base_uri": "https://localhost:8080/"
        },
        "id": "J-BjMCt8vOxH",
        "outputId": "42e3685c-89ef-45e9-b4cb-97be1cb8aeb3"
      },
      "execution_count": 25,
      "outputs": [
        {
          "output_type": "stream",
          "name": "stdout",
          "text": [
            "Epoch 1/1000\n",
            "38/38 [==============================] - 27s 301ms/step - loss: 1.6070 - binary_accuracy: 0.7240 - precision: 0.7278 - recall: 0.7452 - val_loss: 1.5520 - val_binary_accuracy: 0.4868 - val_precision: 0.0000e+00 - val_recall: 0.0000e+00\n",
            "Epoch 2/1000\n",
            "38/38 [==============================] - 9s 242ms/step - loss: 0.4460 - binary_accuracy: 0.7877 - precision: 0.7743 - recall: 0.8323 - val_loss: 1.4504 - val_binary_accuracy: 0.4868 - val_precision: 0.0000e+00 - val_recall: 0.0000e+00\n",
            "Epoch 3/1000\n",
            "38/38 [==============================] - 9s 243ms/step - loss: 0.3925 - binary_accuracy: 0.8103 - precision: 0.7833 - recall: 0.8757 - val_loss: 1.3142 - val_binary_accuracy: 0.5132 - val_precision: 0.5132 - val_recall: 1.0000\n",
            "Epoch 4/1000\n",
            "38/38 [==============================] - 9s 243ms/step - loss: 0.3579 - binary_accuracy: 0.8288 - precision: 0.7892 - recall: 0.9129 - val_loss: 1.4596 - val_binary_accuracy: 0.5132 - val_precision: 0.5132 - val_recall: 1.0000\n",
            "Epoch 5/1000\n",
            "38/38 [==============================] - 9s 243ms/step - loss: 0.3285 - binary_accuracy: 0.8359 - precision: 0.7960 - recall: 0.9182 - val_loss: 5.3176 - val_binary_accuracy: 0.5132 - val_precision: 0.5132 - val_recall: 1.0000\n",
            "Epoch 6/1000\n",
            "38/38 [==============================] - 9s 244ms/step - loss: 0.3128 - binary_accuracy: 0.8497 - precision: 0.8113 - recall: 0.9247 - val_loss: 6.2570 - val_binary_accuracy: 0.5132 - val_precision: 0.5132 - val_recall: 1.0000\n",
            "Epoch 7/1000\n",
            "38/38 [==============================] - 9s 244ms/step - loss: 0.3163 - binary_accuracy: 0.8438 - precision: 0.8059 - recall: 0.9198 - val_loss: 5.6641 - val_binary_accuracy: 0.5132 - val_precision: 0.5132 - val_recall: 1.0000\n",
            "Epoch 8/1000\n",
            "38/38 [==============================] - 9s 245ms/step - loss: 0.2943 - binary_accuracy: 0.8527 - precision: 0.8109 - recall: 0.9328 - val_loss: 7.8034 - val_binary_accuracy: 0.5132 - val_precision: 0.5132 - val_recall: 1.0000\n",
            "Epoch 9/1000\n",
            "38/38 [==============================] - 9s 244ms/step - loss: 0.2907 - binary_accuracy: 0.8491 - precision: 0.8021 - recall: 0.9405 - val_loss: 6.8808 - val_binary_accuracy: 0.5132 - val_precision: 0.5132 - val_recall: 1.0000\n",
            "Epoch 10/1000\n",
            "38/38 [==============================] - 9s 245ms/step - loss: 0.2689 - binary_accuracy: 0.8604 - precision: 0.8171 - recall: 0.9409 - val_loss: 6.9989 - val_binary_accuracy: 0.5132 - val_precision: 0.5132 - val_recall: 1.0000\n",
            "Epoch 11/1000\n",
            "38/38 [==============================] - 9s 246ms/step - loss: 0.2702 - binary_accuracy: 0.8640 - precision: 0.8155 - recall: 0.9526 - val_loss: 9.3871 - val_binary_accuracy: 0.5132 - val_precision: 0.5132 - val_recall: 1.0000\n",
            "Epoch 12/1000\n",
            "38/38 [==============================] - 9s 246ms/step - loss: 0.2401 - binary_accuracy: 0.8797 - precision: 0.8395 - recall: 0.9490 - val_loss: 8.6748 - val_binary_accuracy: 0.5132 - val_precision: 0.5132 - val_recall: 1.0000\n",
            "Epoch 13/1000\n",
            "38/38 [==============================] - 9s 247ms/step - loss: 0.2210 - binary_accuracy: 0.8822 - precision: 0.8494 - recall: 0.9388 - val_loss: 4.9441 - val_binary_accuracy: 0.5170 - val_precision: 0.5152 - val_recall: 1.0000\n",
            "Epoch 14/1000\n",
            "38/38 [==============================] - 9s 247ms/step - loss: 0.2195 - binary_accuracy: 0.8826 - precision: 0.8391 - recall: 0.9567 - val_loss: 3.6020 - val_binary_accuracy: 0.5321 - val_precision: 0.5231 - val_recall: 1.0000\n",
            "Epoch 15/1000\n",
            "38/38 [==============================] - 9s 247ms/step - loss: 0.1917 - binary_accuracy: 0.8962 - precision: 0.8629 - recall: 0.9506 - val_loss: 1.4394 - val_binary_accuracy: 0.6755 - val_precision: 0.6126 - val_recall: 1.0000\n",
            "Epoch 16/1000\n",
            "38/38 [==============================] - 9s 249ms/step - loss: 0.1854 - binary_accuracy: 0.9011 - precision: 0.8719 - recall: 0.9482 - val_loss: 0.7117 - val_binary_accuracy: 0.7208 - val_precision: 0.6476 - val_recall: 1.0000\n",
            "Epoch 17/1000\n",
            "38/38 [==============================] - 9s 249ms/step - loss: 0.1865 - binary_accuracy: 0.9042 - precision: 0.8757 - recall: 0.9498 - val_loss: 0.3679 - val_binary_accuracy: 0.8189 - val_precision: 0.7444 - val_recall: 0.9853\n",
            "Epoch 18/1000\n",
            "38/38 [==============================] - 9s 248ms/step - loss: 0.1776 - binary_accuracy: 0.9080 - precision: 0.8822 - recall: 0.9490 - val_loss: 0.2190 - val_binary_accuracy: 0.8868 - val_precision: 0.8442 - val_recall: 0.9559\n",
            "Epoch 19/1000\n",
            "38/38 [==============================] - 9s 249ms/step - loss: 0.1909 - binary_accuracy: 0.9042 - precision: 0.8737 - recall: 0.9526 - val_loss: 0.1937 - val_binary_accuracy: 0.9094 - val_precision: 0.8636 - val_recall: 0.9779\n",
            "Epoch 20/1000\n",
            "38/38 [==============================] - 9s 249ms/step - loss: 0.1796 - binary_accuracy: 0.9069 - precision: 0.8738 - recall: 0.9587 - val_loss: 0.2351 - val_binary_accuracy: 0.8830 - val_precision: 0.8261 - val_recall: 0.9779\n",
            "Epoch 21/1000\n",
            "38/38 [==============================] - 10s 251ms/step - loss: 0.1735 - binary_accuracy: 0.9069 - precision: 0.8705 - recall: 0.9635 - val_loss: 0.1704 - val_binary_accuracy: 0.9132 - val_precision: 0.9124 - val_recall: 0.9191\n",
            "Epoch 22/1000\n",
            "38/38 [==============================] - 9s 250ms/step - loss: 0.1548 - binary_accuracy: 0.9201 - precision: 0.8928 - recall: 0.9611 - val_loss: 0.1486 - val_binary_accuracy: 0.9208 - val_precision: 0.8966 - val_recall: 0.9559\n",
            "Epoch 23/1000\n",
            "38/38 [==============================] - 10s 251ms/step - loss: 0.1382 - binary_accuracy: 0.9264 - precision: 0.9005 - recall: 0.9644 - val_loss: 0.1483 - val_binary_accuracy: 0.9208 - val_precision: 0.8859 - val_recall: 0.9706\n",
            "Epoch 24/1000\n",
            "38/38 [==============================] - 10s 251ms/step - loss: 0.1267 - binary_accuracy: 0.9340 - precision: 0.9114 - recall: 0.9664 - val_loss: 0.1410 - val_binary_accuracy: 0.9396 - val_precision: 0.9286 - val_recall: 0.9559\n",
            "Epoch 25/1000\n",
            "38/38 [==============================] - 9s 250ms/step - loss: 0.1244 - binary_accuracy: 0.9375 - precision: 0.9225 - recall: 0.9599 - val_loss: 0.1519 - val_binary_accuracy: 0.9283 - val_precision: 0.9034 - val_recall: 0.9632\n",
            "Epoch 26/1000\n",
            "38/38 [==============================] - 10s 250ms/step - loss: 0.1413 - binary_accuracy: 0.9256 - precision: 0.8959 - recall: 0.9688 - val_loss: 0.1328 - val_binary_accuracy: 0.9434 - val_precision: 0.9481 - val_recall: 0.9412\n",
            "Epoch 27/1000\n",
            "38/38 [==============================] - 9s 250ms/step - loss: 0.1105 - binary_accuracy: 0.9388 - precision: 0.9201 - recall: 0.9656 - val_loss: 0.1644 - val_binary_accuracy: 0.9283 - val_precision: 0.9466 - val_recall: 0.9118\n",
            "Epoch 28/1000\n",
            "38/38 [==============================] - 9s 249ms/step - loss: 0.1191 - binary_accuracy: 0.9415 - precision: 0.9620 - recall: 0.9235 - val_loss: 0.1479 - val_binary_accuracy: 0.9321 - val_precision: 0.9275 - val_recall: 0.9412\n",
            "Epoch 29/1000\n",
            "38/38 [==============================] - 9s 249ms/step - loss: 0.1036 - binary_accuracy: 0.9507 - precision: 0.9693 - recall: 0.9344 - val_loss: 0.1680 - val_binary_accuracy: 0.9396 - val_precision: 0.9545 - val_recall: 0.9265\n",
            "Epoch 30/1000\n",
            "38/38 [==============================] - 10s 250ms/step - loss: 0.0978 - binary_accuracy: 0.9505 - precision: 0.9709 - recall: 0.9324 - val_loss: 0.1229 - val_binary_accuracy: 0.9585 - val_precision: 0.9845 - val_recall: 0.9338\n",
            "Epoch 31/1000\n",
            "38/38 [==============================] - 9s 249ms/step - loss: 0.0958 - binary_accuracy: 0.9545 - precision: 0.9711 - recall: 0.9401 - val_loss: 0.2502 - val_binary_accuracy: 0.8943 - val_precision: 0.9821 - val_recall: 0.8088\n",
            "Epoch 32/1000\n",
            "38/38 [==============================] - 9s 249ms/step - loss: 0.1070 - binary_accuracy: 0.9491 - precision: 0.9641 - recall: 0.9364 - val_loss: 0.1885 - val_binary_accuracy: 0.9245 - val_precision: 0.8766 - val_recall: 0.9926\n",
            "Epoch 33/1000\n",
            "38/38 [==============================] - 9s 250ms/step - loss: 0.1330 - binary_accuracy: 0.9396 - precision: 0.9527 - recall: 0.9295 - val_loss: 0.1532 - val_binary_accuracy: 0.9358 - val_precision: 0.9048 - val_recall: 0.9779\n",
            "Epoch 34/1000\n",
            "38/38 [==============================] - 10s 250ms/step - loss: 0.1154 - binary_accuracy: 0.9495 - precision: 0.9657 - recall: 0.9356 - val_loss: 0.3382 - val_binary_accuracy: 0.9094 - val_precision: 0.8544 - val_recall: 0.9926\n",
            "Epoch 35/1000\n",
            "38/38 [==============================] - 9s 250ms/step - loss: 0.1003 - binary_accuracy: 0.9530 - precision: 0.9710 - recall: 0.9372 - val_loss: 0.1364 - val_binary_accuracy: 0.9472 - val_precision: 0.9357 - val_recall: 0.9632\n",
            "Epoch 36/1000\n",
            "38/38 [==============================] - 9s 249ms/step - loss: 0.0944 - binary_accuracy: 0.9575 - precision: 0.9725 - recall: 0.9445 - val_loss: 0.2305 - val_binary_accuracy: 0.9208 - val_precision: 0.8662 - val_recall: 1.0000\n",
            "Epoch 37/1000\n",
            "38/38 [==============================] - 10s 251ms/step - loss: 0.1187 - binary_accuracy: 0.9419 - precision: 0.9613 - recall: 0.9251 - val_loss: 0.1806 - val_binary_accuracy: 0.9358 - val_precision: 0.9103 - val_recall: 0.9706\n",
            "Epoch 38/1000\n",
            "38/38 [==============================] - 10s 250ms/step - loss: 0.0870 - binary_accuracy: 0.9591 - precision: 0.9737 - recall: 0.9465 - val_loss: 0.1631 - val_binary_accuracy: 0.9472 - val_precision: 0.9236 - val_recall: 0.9779\n",
            "Epoch 39/1000\n",
            "38/38 [==============================] - 9s 250ms/step - loss: 0.0833 - binary_accuracy: 0.9602 - precision: 0.9738 - recall: 0.9486 - val_loss: 0.1894 - val_binary_accuracy: 0.9358 - val_precision: 0.9103 - val_recall: 0.9706\n",
            "Epoch 40/1000\n",
            "38/38 [==============================] - 10s 250ms/step - loss: 0.0774 - binary_accuracy: 0.9631 - precision: 0.9720 - recall: 0.9563 - val_loss: 0.1079 - val_binary_accuracy: 0.9585 - val_precision: 0.9630 - val_recall: 0.9559\n",
            "Epoch 41/1000\n",
            "38/38 [==============================] - 9s 249ms/step - loss: 0.0757 - binary_accuracy: 0.9658 - precision: 0.9820 - recall: 0.9514 - val_loss: 0.1514 - val_binary_accuracy: 0.9472 - val_precision: 0.9357 - val_recall: 0.9632\n",
            "Epoch 42/1000\n",
            "38/38 [==============================] - 9s 250ms/step - loss: 0.0617 - binary_accuracy: 0.9694 - precision: 0.9794 - recall: 0.9611 - val_loss: 0.1105 - val_binary_accuracy: 0.9660 - val_precision: 0.9504 - val_recall: 0.9853\n",
            "Epoch 43/1000\n",
            "38/38 [==============================] - 9s 250ms/step - loss: 0.0530 - binary_accuracy: 0.9746 - precision: 0.9823 - recall: 0.9684 - val_loss: 0.1808 - val_binary_accuracy: 0.9396 - val_precision: 0.9688 - val_recall: 0.9118\n",
            "Epoch 44/1000\n",
            "38/38 [==============================] - 9s 249ms/step - loss: 0.0682 - binary_accuracy: 0.9681 - precision: 0.9758 - recall: 0.9623 - val_loss: 0.1848 - val_binary_accuracy: 0.9396 - val_precision: 0.9225 - val_recall: 0.9632\n",
            "Epoch 45/1000\n",
            "38/38 [==============================] - 9s 249ms/step - loss: 0.0517 - binary_accuracy: 0.9761 - precision: 0.9904 - recall: 0.9631 - val_loss: 0.1971 - val_binary_accuracy: 0.9472 - val_precision: 0.9420 - val_recall: 0.9559\n",
            "Epoch 46/1000\n",
            "38/38 [==============================] - 9s 250ms/step - loss: 0.0553 - binary_accuracy: 0.9746 - precision: 0.9827 - recall: 0.9680 - val_loss: 0.1789 - val_binary_accuracy: 0.9208 - val_precision: 0.9675 - val_recall: 0.8750\n",
            "Epoch 47/1000\n",
            "38/38 [==============================] - 9s 249ms/step - loss: 0.0554 - binary_accuracy: 0.9765 - precision: 0.9836 - recall: 0.9708 - val_loss: 0.1508 - val_binary_accuracy: 0.9585 - val_precision: 0.9562 - val_recall: 0.9632\n",
            "Epoch 48/1000\n",
            "38/38 [==============================] - 10s 250ms/step - loss: 0.0515 - binary_accuracy: 0.9751 - precision: 0.9876 - recall: 0.9640 - val_loss: 0.0937 - val_binary_accuracy: 0.9585 - val_precision: 0.9496 - val_recall: 0.9706\n",
            "Epoch 49/1000\n",
            "38/38 [==============================] - 10s 250ms/step - loss: 0.0464 - binary_accuracy: 0.9782 - precision: 0.9852 - recall: 0.9725 - val_loss: 0.1190 - val_binary_accuracy: 0.9623 - val_precision: 0.9565 - val_recall: 0.9706\n",
            "Epoch 50/1000\n",
            "38/38 [==============================] - 9s 249ms/step - loss: 0.0478 - binary_accuracy: 0.9772 - precision: 0.9884 - recall: 0.9672 - val_loss: 0.1565 - val_binary_accuracy: 0.9623 - val_precision: 0.9565 - val_recall: 0.9706\n",
            "Epoch 51/1000\n",
            "38/38 [==============================] - 9s 249ms/step - loss: 0.0451 - binary_accuracy: 0.9784 - precision: 0.9884 - recall: 0.9696 - val_loss: 0.1339 - val_binary_accuracy: 0.9509 - val_precision: 0.9424 - val_recall: 0.9632\n",
            "Epoch 52/1000\n",
            "38/38 [==============================] - 9s 249ms/step - loss: 0.0444 - binary_accuracy: 0.9774 - precision: 0.9872 - recall: 0.9688 - val_loss: 0.1508 - val_binary_accuracy: 0.9472 - val_precision: 0.9621 - val_recall: 0.9338\n",
            "Epoch 53/1000\n",
            "38/38 [==============================] - 10s 250ms/step - loss: 0.0412 - binary_accuracy: 0.9786 - precision: 0.9856 - recall: 0.9729 - val_loss: 0.1434 - val_binary_accuracy: 0.9509 - val_precision: 0.9301 - val_recall: 0.9779\n",
            "Epoch 54/1000\n",
            "38/38 [==============================] - 9s 250ms/step - loss: 0.0406 - binary_accuracy: 0.9813 - precision: 0.9869 - recall: 0.9769 - val_loss: 0.1721 - val_binary_accuracy: 0.9547 - val_precision: 0.9493 - val_recall: 0.9632\n",
            "Epoch 55/1000\n",
            "38/38 [==============================] - 9s 249ms/step - loss: 0.0343 - binary_accuracy: 0.9841 - precision: 0.9902 - recall: 0.9789 - val_loss: 0.1649 - val_binary_accuracy: 0.9585 - val_precision: 0.9371 - val_recall: 0.9853\n",
            "Epoch 56/1000\n",
            "38/38 [==============================] - 9s 250ms/step - loss: 0.0303 - binary_accuracy: 0.9866 - precision: 0.9906 - recall: 0.9834 - val_loss: 0.2057 - val_binary_accuracy: 0.9434 - val_precision: 0.9291 - val_recall: 0.9632\n",
            "Epoch 57/1000\n",
            "38/38 [==============================] - 9s 249ms/step - loss: 0.0409 - binary_accuracy: 0.9837 - precision: 0.9894 - recall: 0.9789 - val_loss: 0.1041 - val_binary_accuracy: 0.9623 - val_precision: 0.9565 - val_recall: 0.9706\n",
            "Epoch 58/1000\n",
            "38/38 [==============================] - 9s 250ms/step - loss: 0.0378 - binary_accuracy: 0.9813 - precision: 0.9885 - recall: 0.9753 - val_loss: 0.2130 - val_binary_accuracy: 0.9472 - val_precision: 0.9621 - val_recall: 0.9338\n",
            "Epoch 59/1000\n",
            "38/38 [==============================] - 9s 250ms/step - loss: 0.0407 - binary_accuracy: 0.9809 - precision: 0.9905 - recall: 0.9725 - val_loss: 0.1167 - val_binary_accuracy: 0.9509 - val_precision: 0.9489 - val_recall: 0.9559\n",
            "Epoch 60/1000\n",
            "38/38 [==============================] - 9s 250ms/step - loss: 0.0289 - binary_accuracy: 0.9868 - precision: 0.9918 - recall: 0.9826 - val_loss: 0.1532 - val_binary_accuracy: 0.9547 - val_precision: 0.9429 - val_recall: 0.9706\n",
            "Epoch 61/1000\n",
            "38/38 [==============================] - 9s 250ms/step - loss: 0.0275 - binary_accuracy: 0.9870 - precision: 0.9930 - recall: 0.9818 - val_loss: 0.1793 - val_binary_accuracy: 0.9547 - val_precision: 0.9493 - val_recall: 0.9632\n",
            "Epoch 62/1000\n",
            "38/38 [==============================] - 9s 249ms/step - loss: 0.0300 - binary_accuracy: 0.9853 - precision: 0.9918 - recall: 0.9797 - val_loss: 0.1337 - val_binary_accuracy: 0.9623 - val_precision: 0.9632 - val_recall: 0.9632\n",
            "Epoch 63/1000\n",
            "38/38 [==============================] - ETA: 0s - loss: 0.0268 - binary_accuracy: 0.9876 - precision: 0.9934 - recall: 0.9826Restoring model weights from the end of the best epoch: 48.\n",
            "38/38 [==============================] - 10s 250ms/step - loss: 0.0268 - binary_accuracy: 0.9876 - precision: 0.9934 - recall: 0.9826 - val_loss: 0.1157 - val_binary_accuracy: 0.9736 - val_precision: 0.9640 - val_recall: 0.9853\n",
            "Epoch 63: early stopping\n"
          ]
        }
      ]
    },
    {
      "cell_type": "code",
      "source": [
        "plot_loss_and_acurracy(history_adam)"
      ],
      "metadata": {
        "colab": {
          "base_uri": "https://localhost:8080/",
          "height": 513
        },
        "id": "e5DNKJ1Bwdru",
        "outputId": "b0902214-e8f3-414f-ed6a-db1315263f35"
      },
      "execution_count": 26,
      "outputs": [
        {
          "output_type": "display_data",
          "data": {
            "text/plain": [
              "<Figure size 864x576 with 2 Axes>"
            ],
            "image/png": "[encoded data removed]"
          },
          "metadata": {
            "needs_background": "light"
          }
        }
      ]
    },
    {
      "cell_type": "code",
      "source": [
        "plot_history_precision_recall(history_adam)"
      ],
      "metadata": {
        "colab": {
          "base_uri": "https://localhost:8080/",
          "height": 518
        },
        "id": "sxysu05kwdt0",
        "outputId": "e764a485-5955-4941-8bea-ba404a9da227"
      },
      "execution_count": 27,
      "outputs": [
        {
          "output_type": "display_data",
          "data": {
            "text/plain": [
              "<Figure size 1008x504 with 2 Axes>"
            ],
            "image/png": "[encoded data removed]"
          },
          "metadata": {
            "needs_background": "light"
          }
        }
      ]
    },
    {
      "cell_type": "code",
      "source": [
        "model_adam.evaluate(X_val,y_val) # use X_val as hold out dataset"
      ],
      "metadata": {
        "colab": {
          "base_uri": "https://localhost:8080/"
        },
        "id": "oQR9u6_qwdwM",
        "outputId": "4d77d32f-37ab-430f-c0d1-42f51d918d4e"
      },
      "execution_count": 28,
      "outputs": [
        {
          "output_type": "stream",
          "name": "stdout",
          "text": [
            "9/9 [==============================] - 1s 42ms/step - loss: 0.1875 - binary_accuracy: 0.9211 - precision: 0.9412 - recall: 0.9078\n"
          ]
        },
        {
          "output_type": "execute_result",
          "data": {
            "text/plain": [
              "[0.187526136636734, 0.9210526347160339, 0.9411764740943909, 0.9078013896942139]"
            ]
          },
          "metadata": {},
          "execution_count": 28
        }
      ]
    },
    {
      "cell_type": "code",
      "source": [
        "models = [(\"model_adam\", model_adam)]\n",
        "\n",
        "plot_roc_curve(models)"
      ],
      "metadata": {
        "colab": {
          "base_uri": "https://localhost:8080/",
          "height": 530
        },
        "id": "wyBvSxzRwdyy",
        "outputId": "031697bc-86aa-4a2a-fe90-2e3be01d1dd7"
      },
      "execution_count": 29,
      "outputs": [
        {
          "output_type": "execute_result",
          "data": {
            "text/plain": [
              "[0.9943570451436389]"
            ]
          },
          "metadata": {},
          "execution_count": 29
        },
        {
          "output_type": "display_data",
          "data": {
            "text/plain": [
              "<Figure size 864x576 with 1 Axes>"
            ],
            "image/png": "[encoded data removed]"
          },
          "metadata": {
            "needs_background": "light"
          }
        }
      ]
    },
    {
      "cell_type": "markdown",
      "source": [
        "# Save model to my drive"
      ],
      "metadata": {
        "id": "lN72WTZi2IP8"
      }
    },
    {
      "cell_type": "code",
      "source": [
        "from google.colab import drive\n",
        "drive.mount('/gdrive')"
      ],
      "metadata": {
        "colab": {
          "base_uri": "https://localhost:8080/"
        },
        "id": "NycIzinuwd09",
        "outputId": "a1cef2be-5a0f-47a6-ad23-407873de12d8"
      },
      "execution_count": 30,
      "outputs": [
        {
          "output_type": "stream",
          "name": "stdout",
          "text": [
            "Mounted at /gdrive\n"
          ]
        }
      ]
    },
    {
      "cell_type": "code",
      "source": [
        "! pwd"
      ],
      "metadata": {
        "colab": {
          "base_uri": "https://localhost:8080/"
        },
        "id": "ZtUluJQkwd3O",
        "outputId": "ba884ca2-ee72-4736-c897-2b7c00850438"
      },
      "execution_count": 31,
      "outputs": [
        {
          "output_type": "stream",
          "name": "stdout",
          "text": [
            "/content\n"
          ]
        }
      ]
    },
    {
      "cell_type": "code",
      "source": [
        "%cd ..\n",
        "%cd /gdrive/MyDrive/Master/DSE_I_2100/Final_Project/NN_Models"
      ],
      "metadata": {
        "colab": {
          "base_uri": "https://localhost:8080/"
        },
        "id": "cf7W3YAj2SuT",
        "outputId": "39945d69-3957-49f4-b9f7-b8caa1158a6c"
      },
      "execution_count": 32,
      "outputs": [
        {
          "output_type": "stream",
          "name": "stdout",
          "text": [
            "/\n",
            "/gdrive/MyDrive/Master/DSE_I_2100/Final_Project/NN_Models\n"
          ]
        }
      ]
    },
    {
      "cell_type": "code",
      "source": [
        "! pwd"
      ],
      "metadata": {
        "colab": {
          "base_uri": "https://localhost:8080/"
        },
        "id": "ZuXESpho2WPg",
        "outputId": "dbcd1071-bf29-49a7-b3f2-1b272aa6ae48"
      },
      "execution_count": 33,
      "outputs": [
        {
          "output_type": "stream",
          "name": "stdout",
          "text": [
            "/gdrive/MyDrive/Master/DSE_I_2100/Final_Project/NN_Models\n"
          ]
        }
      ]
    },
    {
      "cell_type": "code",
      "source": [
        "model_adam.save('new_cnn_model_full_dataset_gray_image.h5')"
      ],
      "metadata": {
        "id": "JVXPMcSM2WSX"
      },
      "execution_count": 34,
      "outputs": []
    }
  ]
}