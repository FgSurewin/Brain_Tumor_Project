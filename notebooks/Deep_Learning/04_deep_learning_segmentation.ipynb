{
  "nbformat": 4,
  "nbformat_minor": 0,
  "metadata": {
    "colab": {
      "name": "(Modify - 1) 04-deep-learning-segmentation.ipynb",
      "provenance": [],
      "machine_shape": "hm",
      "collapsed_sections": []
    },
    "kernelspec": {
      "name": "python3",
      "display_name": "Python 3"
    },
    "language_info": {
      "name": "python"
    },
    "accelerator": "GPU"
  },
  "cells": [
    {
      "cell_type": "code",
      "execution_count": null,
      "metadata": {
        "id": "uY4cEWb361Ff"
      },
      "outputs": [],
      "source": [
        "!gdown --id 10fKUF1u3uhIrhEipoklNgysmPyYuYGV9 -O kaggle_m3.zip\n",
        "!gdown --id 1Leaos-3uB70Lex1qLE7FvrtaOBDOYKbQ -O data_aug.zip"
      ]
    },
    {
      "cell_type": "code",
      "source": [
        "! mkdir fakes\n",
        "! cp data_aug.zip fakes\n",
        "%cd fakes\n",
        "! ls"
      ],
      "metadata": {
        "colab": {
          "base_uri": "https://localhost:8080/"
        },
        "id": "v5_wBP1n7BLp",
        "outputId": "9734d338-6158-4902-babb-8a8c3ae5aa29"
      },
      "execution_count": null,
      "outputs": [
        {
          "output_type": "stream",
          "name": "stdout",
          "text": [
            "/content/fakes\n",
            "data_aug.zip\n"
          ]
        }
      ]
    },
    {
      "cell_type": "code",
      "source": [
        "! unzip data_aug.zip"
      ],
      "metadata": {
        "id": "bnlnNRgC7BNu"
      },
      "execution_count": null,
      "outputs": []
    },
    {
      "cell_type": "code",
      "source": [
        "%cd .."
      ],
      "metadata": {
        "colab": {
          "base_uri": "https://localhost:8080/"
        },
        "id": "NqhTr_XG7BQO",
        "outputId": "f2d89238-3673-4b67-ee94-11fb3727ed6a"
      },
      "execution_count": null,
      "outputs": [
        {
          "output_type": "stream",
          "name": "stdout",
          "text": [
            "/content\n"
          ]
        }
      ]
    },
    {
      "cell_type": "code",
      "source": [
        "!unzip kaggle_m3.zip"
      ],
      "metadata": {
        "id": "QRk2Wo-O7BSz"
      },
      "execution_count": null,
      "outputs": []
    },
    {
      "cell_type": "markdown",
      "source": [
        "# Import Dataset"
      ],
      "metadata": {
        "id": "MK2ZmEtND5Di"
      }
    },
    {
      "cell_type": "code",
      "source": [
        "import matplotlib.pyplot as plt\n",
        "import matplotlib.image as mpimg\n",
        "from glob import glob\n",
        "import pandas as pd\n",
        "import seaborn as sns\n",
        "\n",
        "from keras.preprocessing.image import ImageDataGenerator\n",
        "from keras.models import Sequential, Model\n",
        "from keras.layers import Conv2D, MaxPooling2D, BatchNormalization,Conv2DTranspose, Concatenate, Activation, Dropout, Flatten, Dense, Input,concatenate, UpSampling2D\n",
        "from keras.callbacks import EarlyStopping\n",
        "import tensorflow as tf\n",
        "\n",
        "import os\n",
        "import cv2\n",
        "from PIL import Image\n",
        "import numpy as np"
      ],
      "metadata": {
        "id": "92KxqQVI7BVP"
      },
      "execution_count": 1,
      "outputs": []
    },
    {
      "cell_type": "code",
      "source": [
        "# Set parameters\n",
        "file_path='/'\n",
        "Size = (256, 256)\n",
        "mask_files = glob(file_path + os.path.join('content','*','*_mask*'))\n",
        "train_files = [file.replace('_mask', '') for file in mask_files]\n",
        "\n",
        "\n",
        "def label(mask):\n",
        "    value = np.max(cv2.imread(mask))\n",
        "    return 1 if value > 0 else 0\n",
        "df = pd.DataFrame({\"image\": train_files,\n",
        "                   \"mask\": mask_files,\n",
        "                  \"label\":[label(x) for x in mask_files]})\n",
        "\n",
        "df.shape"
      ],
      "metadata": {
        "colab": {
          "base_uri": "https://localhost:8080/"
        },
        "id": "RuzAEbC-7BYR",
        "outputId": "5757ba29-a04a-4327-f6d5-2b41230d6fe6"
      },
      "execution_count": 2,
      "outputs": [
        {
          "output_type": "execute_result",
          "data": {
            "text/plain": [
              "(5302, 3)"
            ]
          },
          "metadata": {},
          "execution_count": 2
        }
      ]
    },
    {
      "cell_type": "markdown",
      "source": [
        "# Split Data\n",
        "\n",
        "Due to the lack of memory problem, we have to use Keras `ImageDataGenerator` to dynamically load images in each epoch.\n",
        "\n",
        "reference: \n",
        "* How to use `ImageDataGenerator`: https://blog.keras.io/building-powerful-image-classification-models-using-very-little-data.html\n",
        "* How to combine mask and image together: https://stackoverflow.com/questions/56517963/keras-imagedatagenerator-for-segmentation-with-images-and-masks-in-separate-dire\n",
        "\n",
        "\n"
      ],
      "metadata": {
        "id": "spuR0l9sRUBZ"
      }
    },
    {
      "cell_type": "markdown",
      "source": [
        "## Split the dataframe first"
      ],
      "metadata": {
        "id": "XxxyVI0uhNdv"
      }
    },
    {
      "cell_type": "code",
      "source": [
        "from sklearn.model_selection import train_test_split\n",
        "df_train, df_test = train_test_split(df, test_size=0.1)\n",
        "df_test, df_val = train_test_split(df_test, test_size=0.5)\n",
        "print(df_train.values.shape)\n",
        "print(df_val.values.shape)\n",
        "print(df_test.values.shape)"
      ],
      "metadata": {
        "colab": {
          "base_uri": "https://localhost:8080/"
        },
        "id": "jPraXUJ_RTHo",
        "outputId": "e7cd92b3-0278-4a55-8ca5-4e4773779143"
      },
      "execution_count": 3,
      "outputs": [
        {
          "output_type": "stream",
          "name": "stdout",
          "text": [
            "(4771, 3)\n",
            "(266, 3)\n",
            "(265, 3)\n"
          ]
        }
      ]
    },
    {
      "cell_type": "markdown",
      "source": [
        "## Helper function: zip image generator and mask generator"
      ],
      "metadata": {
        "id": "CPbmdsEUhQG_"
      }
    },
    {
      "cell_type": "code",
      "source": [
        "def image_mask_generator(image_data_generator, mask_data_generator):\n",
        "    train_generator = zip(image_data_generator, mask_data_generator)\n",
        "    for (img, mask) in train_generator:\n",
        "        yield (img, mask)"
      ],
      "metadata": {
        "id": "FW1pAJSghPZ-"
      },
      "execution_count": 4,
      "outputs": []
    },
    {
      "cell_type": "code",
      "source": [
        "SEED = 8\n",
        "EPOCHS = 60\n",
        "BATCH_SIZE = 32\n",
        "LEARNING_RATE = 0.0001\n",
        "IMAGE_COLOR_MODE = \"rgb\"\n",
        "MASK_COLOR_MODE = \"grayscale\""
      ],
      "metadata": {
        "id": "G2NKfjf3iYBB"
      },
      "execution_count": 5,
      "outputs": []
    },
    {
      "cell_type": "markdown",
      "source": [
        "## Train Generator"
      ],
      "metadata": {
        "id": "OEabqxPbhuFH"
      }
    },
    {
      "cell_type": "code",
      "source": [
        "train_image_generator = ImageDataGenerator(\n",
        "        rescale=1./255,\n",
        "        rotation_range=60,\n",
        "        horizontal_flip=True,\n",
        "        vertical_flip=True).flow_from_dataframe(df_train, x_col = \"image\", class_mode = None, color_mode = IMAGE_COLOR_MODE, batch_size = BATCH_SIZE, target_size = Size, seed = SEED)\n",
        "\n",
        "train_mask_generator = ImageDataGenerator(\n",
        "        rescale=1./255,\n",
        "        rotation_range=60,\n",
        "        horizontal_flip=True,\n",
        "        vertical_flip=True).flow_from_dataframe(df_train, x_col = \"mask\", class_mode = None, color_mode = MASK_COLOR_MODE, batch_size = BATCH_SIZE, target_size = Size, seed = SEED)\n",
        "\n",
        "train_gen = image_mask_generator(train_image_generator, train_mask_generator)"
      ],
      "metadata": {
        "colab": {
          "base_uri": "https://localhost:8080/"
        },
        "id": "n7MJPxz3ST61",
        "outputId": "30b59726-7a42-4235-ae75-621b7bdd0e5a"
      },
      "execution_count": 6,
      "outputs": [
        {
          "output_type": "stream",
          "name": "stdout",
          "text": [
            "Found 4771 validated image filenames.\n",
            "Found 4771 validated image filenames.\n"
          ]
        }
      ]
    },
    {
      "cell_type": "markdown",
      "source": [
        "## Validation Generator"
      ],
      "metadata": {
        "id": "SS8UmMTqlnlF"
      }
    },
    {
      "cell_type": "code",
      "source": [
        "val_image_generator = ImageDataGenerator(rescale=1./255).flow_from_dataframe(df_val, x_col = \"image\", class_mode = None, color_mode = IMAGE_COLOR_MODE, batch_size = BATCH_SIZE, target_size = Size, seed = SEED)\n",
        "val_mask_generator = ImageDataGenerator(rescale=1./255).flow_from_dataframe(df_val, x_col = \"mask\", class_mode = None, color_mode = MASK_COLOR_MODE, batch_size = BATCH_SIZE, target_size = Size, seed = SEED)\n",
        "\n",
        "val_gen = image_mask_generator(val_image_generator, val_mask_generator)"
      ],
      "metadata": {
        "colab": {
          "base_uri": "https://localhost:8080/"
        },
        "id": "cD9r1zUZST9J",
        "outputId": "c0e8888a-46a1-47b7-bdca-294807581e8a"
      },
      "execution_count": 7,
      "outputs": [
        {
          "output_type": "stream",
          "name": "stdout",
          "text": [
            "Found 266 validated image filenames.\n",
            "Found 266 validated image filenames.\n"
          ]
        }
      ]
    },
    {
      "cell_type": "markdown",
      "source": [
        "## Test Generator"
      ],
      "metadata": {
        "id": "EWJOba5xls70"
      }
    },
    {
      "cell_type": "code",
      "source": [
        "test_image_generator = ImageDataGenerator(rescale=1./255).flow_from_dataframe(df_test, x_col = \"image\", class_mode = None, color_mode = IMAGE_COLOR_MODE, batch_size = BATCH_SIZE, target_size = Size, seed = SEED)\n",
        "test_mask_generator = ImageDataGenerator(rescale=1./255).flow_from_dataframe(df_test, x_col = \"mask\", class_mode = None, color_mode = MASK_COLOR_MODE, batch_size = BATCH_SIZE, target_size = Size, seed = SEED)\n",
        "\n",
        "test_gen = image_mask_generator(test_image_generator, test_mask_generator)"
      ],
      "metadata": {
        "colab": {
          "base_uri": "https://localhost:8080/"
        },
        "id": "CpoGlKwrST_a",
        "outputId": "be64d1ba-bb1e-48cb-9809-264ee99b098d"
      },
      "execution_count": 8,
      "outputs": [
        {
          "output_type": "stream",
          "name": "stdout",
          "text": [
            "Found 265 validated image filenames.\n",
            "Found 265 validated image filenames.\n"
          ]
        }
      ]
    },
    {
      "cell_type": "markdown",
      "source": [
        "# Segmentation"
      ],
      "metadata": {
        "id": "tfFxaN8IPj3v"
      }
    },
    {
      "cell_type": "markdown",
      "source": [
        "## Helper functions: Plot graphs"
      ],
      "metadata": {
        "id": "-TMVMdP-P9uy"
      }
    },
    {
      "cell_type": "code",
      "source": [
        "def plot_loss_and_acurracy(history):\n",
        "  fig, axes = plt.subplots(nrows=1, ncols=2, figsize=(12, 8))\n",
        "  epochs = range(len(history.history['loss']))\n",
        "\n",
        "  loss = history.history['loss']\n",
        "  val_loss = history.history['val_loss']\n",
        "  axes[0].plot(epochs, loss, 'y', label='Training loss')\n",
        "  axes[0].plot(epochs, val_loss, 'r', label='Validation loss')\n",
        "  axes[0].set_title('Training and validation loss')\n",
        "  axes[0].set_xlabel('Epochs')\n",
        "  axes[0].set_ylabel('Loss')\n",
        "  axes[0].legend()\n",
        "\n",
        "  acc = history.history['accuracy']\n",
        "  val_acc = history.history['val_accuracy']\n",
        "  axes[1].plot(epochs, acc, 'y', label='Training acc')\n",
        "  axes[1].plot(epochs, val_acc, 'r', label='Validation acc')\n",
        "  axes[1].set_title('Training and validation accuracy')\n",
        "  axes[1].set_xlabel('Epochs')\n",
        "  axes[1].set_ylabel('Accuracy')\n",
        "  axes[1].legend()"
      ],
      "metadata": {
        "id": "nVV4g6FTP9AL"
      },
      "execution_count": 32,
      "outputs": []
    },
    {
      "cell_type": "markdown",
      "source": [
        "## Helper functions: Unit block "
      ],
      "metadata": {
        "id": "HlEqBC7KqE5-"
      }
    },
    {
      "cell_type": "code",
      "source": [
        "def convolutional_layer(input, filter_nums):\n",
        "    output = Conv2D(filter_nums, 3, padding=\"same\", kernel_initializer = 'he_normal')(input)\n",
        "    output = Activation(\"relu\")(output)\n",
        "\n",
        "    output = Conv2D(filter_nums, 3, padding=\"same\", kernel_initializer = 'he_normal')(output)\n",
        "    output = Activation(\"relu\")(output)\n",
        "    return output\n",
        "\n",
        "\n",
        "def encoder_layer(input, filter_nums, has_drop_out=False, drop_value=0.5):\n",
        "    output = convolutional_layer(input, filter_nums)\n",
        "    if has_drop_out: \n",
        "      drop = Dropout(drop_value)(output)\n",
        "      pool = MaxPooling2D((2, 2))(drop)\n",
        "      return output, pool\n",
        "    else:\n",
        "      pool = MaxPooling2D((2, 2))(output)\n",
        "      return output, pool \n",
        "    \n",
        "\n",
        "def decoder_layer(input, conte_feature, filter_nums):\n",
        "    conv_tran = Conv2DTranspose(filter_nums, (2, 2), strides=2, padding=\"same\", kernel_initializer = 'he_normal')(input)\n",
        "    uconv = Concatenate()([conv_tran, conte_feature])\n",
        "    output = convolutional_layer(uconv, filter_nums)\n",
        "    return output"
      ],
      "metadata": {
        "id": "a1188b_IPiur"
      },
      "execution_count": 9,
      "outputs": []
    },
    {
      "cell_type": "markdown",
      "source": [
        "## U-Net Builder"
      ],
      "metadata": {
        "id": "qP1ZKsFJqRsf"
      }
    },
    {
      "cell_type": "code",
      "source": [
        "INPUT_SHAPE = (256, 256, 3)\n",
        "def build_unet():\n",
        "    inputs = Input(INPUT_SHAPE)\n",
        "    \n",
        "    # Encoder process\n",
        "    con1, pool1 = encoder_layer(inputs, 64)\n",
        "    con2, pool2 = encoder_layer(pool1, 128)\n",
        "    con3, pool3 = encoder_layer(pool2, 256)\n",
        "    con4, pool4 = encoder_layer(pool3, 512, True)\n",
        "\n",
        "    # Bridge/Middle\n",
        "    bridge = convolutional_layer(pool4, 1024) \n",
        "    drop5 = Dropout(0.5)(bridge)\n",
        "\n",
        "    # Decoder process\n",
        "    dec1 = decoder_layer(drop5, con4, 512)\n",
        "    dec2 = decoder_layer(dec1, con3, 256)\n",
        "    dec3 = decoder_layer(dec2, con2, 128)\n",
        "    dec4 = decoder_layer(dec3, con1, 64)\n",
        "\n",
        "    outputs = Conv2D(1, 1, padding=\"same\", activation='sigmoid')(dec4) \n",
        "    model = Model(inputs, outputs, name=\"U-Net\")\n",
        "    return model\n"
      ],
      "metadata": {
        "id": "r07Vg1tGPixA"
      },
      "execution_count": 10,
      "outputs": []
    },
    {
      "cell_type": "markdown",
      "source": [
        "## EarlyStopping"
      ],
      "metadata": {
        "id": "BuWI7lsjyhFh"
      }
    },
    {
      "cell_type": "code",
      "source": [
        "# patient early stopping\n",
        "es = EarlyStopping(monitor='val_loss', mode='min', verbose=1, patience=5, restore_best_weights=True)"
      ],
      "metadata": {
        "id": "iznCLMs5Pizh"
      },
      "execution_count": 11,
      "outputs": []
    },
    {
      "cell_type": "markdown",
      "source": [
        "## Optimizer - Adam"
      ],
      "metadata": {
        "id": "CL5JOS1SyzDS"
      }
    },
    {
      "cell_type": "code",
      "source": [
        "opt = tf.keras.optimizers.Adam(learning_rate=LEARNING_RATE, amsgrad=True)"
      ],
      "metadata": {
        "id": "cvx5WkaQPi18"
      },
      "execution_count": 12,
      "outputs": []
    },
    {
      "cell_type": "markdown",
      "source": [
        "## Metrics"
      ],
      "metadata": {
        "id": "urOJ4L7Vy8iN"
      }
    },
    {
      "cell_type": "code",
      "source": [
        "from keras import backend as K\n",
        "smooth=1.\n",
        "\n",
        "def dice_coef(y_true, y_pred):\n",
        "    y_true = K.flatten(y_true)\n",
        "    y_pred = K.flatten(y_pred)\n",
        "    intersection = K.sum(y_true * y_pred)\n",
        "    union = K.sum(y_true) + K.sum(y_pred)\n",
        "    return (2.0 * intersection + smooth) / (union + smooth)\n",
        "\n",
        "def IoU(y_true, y_pred):\n",
        "    intersection = K.sum(y_true * y_pred)\n",
        "    sum_ = K.sum(y_true + y_pred)\n",
        "    jac = (intersection + smooth) / (sum_ - intersection + smooth)\n",
        "    return jac\n",
        "\n",
        "metrics = ['accuracy', IoU, dice_coef, tf.keras.metrics.MeanIoU(num_classes=2)]"
      ],
      "metadata": {
        "id": "npESgpacPi4g"
      },
      "execution_count": 13,
      "outputs": []
    },
    {
      "cell_type": "markdown",
      "source": [
        "## Train Model"
      ],
      "metadata": {
        "id": "KjcMkEBB0ybP"
      }
    },
    {
      "cell_type": "code",
      "source": [
        "model = build_unet()"
      ],
      "metadata": {
        "id": "pUNJfnZc00mZ"
      },
      "execution_count": 14,
      "outputs": []
    },
    {
      "cell_type": "code",
      "source": [
        "model.compile(optimizer=opt, loss=\"binary_crossentropy\", metrics=metrics)"
      ],
      "metadata": {
        "id": "NG2x99-WPi66"
      },
      "execution_count": 15,
      "outputs": []
    },
    {
      "cell_type": "code",
      "source": [
        "history = model.fit(train_gen,\n",
        "                    steps_per_epoch=len(df_train) // BATCH_SIZE, \n",
        "                    epochs=EPOCHS, \n",
        "                    callbacks=[es],\n",
        "                    validation_data = val_gen,\n",
        "                    validation_steps=len(df_val) // BATCH_SIZE)"
      ],
      "metadata": {
        "colab": {
          "base_uri": "https://localhost:8080/"
        },
        "id": "7fQrj_tfPi9b",
        "outputId": "415f3c9d-fa5e-4403-bccd-10cf84bec72f"
      },
      "execution_count": 16,
      "outputs": [
        {
          "output_type": "stream",
          "name": "stdout",
          "text": [
            "Epoch 1/60\n",
            "149/149 [==============================] - 116s 723ms/step - loss: 0.0980 - accuracy: 0.9682 - IoU: 0.0896 - dice_coef: 0.1571 - mean_io_u: 0.4929 - val_loss: 0.0434 - val_accuracy: 0.9888 - val_IoU: 0.1694 - val_dice_coef: 0.2886 - val_mean_io_u: 0.4919\n",
            "Epoch 2/60\n",
            "149/149 [==============================] - 107s 717ms/step - loss: 0.0317 - accuracy: 0.9890 - IoU: 0.2827 - dice_coef: 0.4355 - mean_io_u: 0.4929 - val_loss: 0.0276 - val_accuracy: 0.9909 - val_IoU: 0.3729 - val_dice_coef: 0.5429 - val_mean_io_u: 0.4916\n",
            "Epoch 3/60\n",
            "149/149 [==============================] - 107s 716ms/step - loss: 0.0267 - accuracy: 0.9903 - IoU: 0.3738 - dice_coef: 0.5402 - mean_io_u: 0.4929 - val_loss: 0.0325 - val_accuracy: 0.9897 - val_IoU: 0.3397 - val_dice_coef: 0.5067 - val_mean_io_u: 0.4918\n",
            "Epoch 4/60\n",
            "149/149 [==============================] - 107s 715ms/step - loss: 0.0235 - accuracy: 0.9910 - IoU: 0.4185 - dice_coef: 0.5861 - mean_io_u: 0.4928 - val_loss: 0.0302 - val_accuracy: 0.9897 - val_IoU: 0.3694 - val_dice_coef: 0.5353 - val_mean_io_u: 0.4917\n",
            "Epoch 5/60\n",
            "149/149 [==============================] - 107s 715ms/step - loss: 0.0204 - accuracy: 0.9916 - IoU: 0.4587 - dice_coef: 0.6255 - mean_io_u: 0.4929 - val_loss: 0.0221 - val_accuracy: 0.9921 - val_IoU: 0.4688 - val_dice_coef: 0.6349 - val_mean_io_u: 0.4917\n",
            "Epoch 6/60\n",
            "149/149 [==============================] - 107s 716ms/step - loss: 0.0173 - accuracy: 0.9926 - IoU: 0.5191 - dice_coef: 0.6810 - mean_io_u: 0.4929 - val_loss: 0.0171 - val_accuracy: 0.9938 - val_IoU: 0.5576 - val_dice_coef: 0.7148 - val_mean_io_u: 0.4918\n",
            "Epoch 7/60\n",
            "149/149 [==============================] - 107s 715ms/step - loss: 0.0158 - accuracy: 0.9931 - IoU: 0.5511 - dice_coef: 0.7079 - mean_io_u: 0.4929 - val_loss: 0.0188 - val_accuracy: 0.9934 - val_IoU: 0.4893 - val_dice_coef: 0.6552 - val_mean_io_u: 0.4922\n",
            "Epoch 8/60\n",
            "149/149 [==============================] - 107s 715ms/step - loss: 0.0156 - accuracy: 0.9932 - IoU: 0.5531 - dice_coef: 0.7099 - mean_io_u: 0.4929 - val_loss: 0.0168 - val_accuracy: 0.9947 - val_IoU: 0.5214 - val_dice_coef: 0.6843 - val_mean_io_u: 0.4917\n",
            "Epoch 9/60\n",
            "149/149 [==============================] - 107s 716ms/step - loss: 0.0132 - accuracy: 0.9940 - IoU: 0.6065 - dice_coef: 0.7533 - mean_io_u: 0.4929 - val_loss: 0.0152 - val_accuracy: 0.9949 - val_IoU: 0.5814 - val_dice_coef: 0.7350 - val_mean_io_u: 0.4915\n",
            "Epoch 10/60\n",
            "149/149 [==============================] - 107s 715ms/step - loss: 0.0131 - accuracy: 0.9940 - IoU: 0.6074 - dice_coef: 0.7535 - mean_io_u: 0.4930 - val_loss: 0.0153 - val_accuracy: 0.9945 - val_IoU: 0.5711 - val_dice_coef: 0.7256 - val_mean_io_u: 0.4917\n",
            "Epoch 11/60\n",
            "149/149 [==============================] - 107s 715ms/step - loss: 0.0117 - accuracy: 0.9944 - IoU: 0.6424 - dice_coef: 0.7809 - mean_io_u: 0.4929 - val_loss: 0.0131 - val_accuracy: 0.9953 - val_IoU: 0.6546 - val_dice_coef: 0.7906 - val_mean_io_u: 0.4915\n",
            "Epoch 12/60\n",
            "149/149 [==============================] - 107s 715ms/step - loss: 0.0109 - accuracy: 0.9947 - IoU: 0.6576 - dice_coef: 0.7920 - mean_io_u: 0.4934 - val_loss: 0.0136 - val_accuracy: 0.9949 - val_IoU: 0.6000 - val_dice_coef: 0.7498 - val_mean_io_u: 0.4915\n",
            "Epoch 13/60\n",
            "149/149 [==============================] - 107s 716ms/step - loss: 0.0104 - accuracy: 0.9948 - IoU: 0.6763 - dice_coef: 0.8060 - mean_io_u: 0.4933 - val_loss: 0.0115 - val_accuracy: 0.9958 - val_IoU: 0.6497 - val_dice_coef: 0.7874 - val_mean_io_u: 0.4917\n",
            "Epoch 14/60\n",
            "149/149 [==============================] - 107s 716ms/step - loss: 0.0099 - accuracy: 0.9950 - IoU: 0.6846 - dice_coef: 0.8119 - mean_io_u: 0.4937 - val_loss: 0.0110 - val_accuracy: 0.9959 - val_IoU: 0.6728 - val_dice_coef: 0.8039 - val_mean_io_u: 0.4927\n",
            "Epoch 15/60\n",
            "149/149 [==============================] - 106s 715ms/step - loss: 0.0099 - accuracy: 0.9950 - IoU: 0.6806 - dice_coef: 0.8090 - mean_io_u: 0.4948 - val_loss: 0.0113 - val_accuracy: 0.9957 - val_IoU: 0.6742 - val_dice_coef: 0.8046 - val_mean_io_u: 0.4920\n",
            "Epoch 16/60\n",
            "149/149 [==============================] - 107s 715ms/step - loss: 0.0100 - accuracy: 0.9950 - IoU: 0.6794 - dice_coef: 0.8056 - mean_io_u: 0.4940 - val_loss: 0.0111 - val_accuracy: 0.9958 - val_IoU: 0.6771 - val_dice_coef: 0.8063 - val_mean_io_u: 0.4922\n",
            "Epoch 17/60\n",
            "149/149 [==============================] - 107s 715ms/step - loss: 0.0093 - accuracy: 0.9952 - IoU: 0.6926 - dice_coef: 0.8167 - mean_io_u: 0.4939 - val_loss: 0.0109 - val_accuracy: 0.9958 - val_IoU: 0.6777 - val_dice_coef: 0.8070 - val_mean_io_u: 0.4919\n",
            "Epoch 18/60\n",
            "149/149 [==============================] - 107s 715ms/step - loss: 0.0089 - accuracy: 0.9953 - IoU: 0.7099 - dice_coef: 0.8298 - mean_io_u: 0.4940 - val_loss: 0.0109 - val_accuracy: 0.9957 - val_IoU: 0.6833 - val_dice_coef: 0.8111 - val_mean_io_u: 0.4943\n",
            "Epoch 19/60\n",
            "149/149 [==============================] - 107s 715ms/step - loss: 0.0090 - accuracy: 0.9953 - IoU: 0.7026 - dice_coef: 0.8223 - mean_io_u: 0.4944 - val_loss: 0.0099 - val_accuracy: 0.9961 - val_IoU: 0.6778 - val_dice_coef: 0.8076 - val_mean_io_u: 0.4922\n",
            "Epoch 20/60\n",
            "149/149 [==============================] - 107s 715ms/step - loss: 0.0095 - accuracy: 0.9951 - IoU: 0.6871 - dice_coef: 0.8112 - mean_io_u: 0.4954 - val_loss: 0.0107 - val_accuracy: 0.9959 - val_IoU: 0.6628 - val_dice_coef: 0.7961 - val_mean_io_u: 0.4931\n",
            "Epoch 21/60\n",
            "149/149 [==============================] - 107s 715ms/step - loss: 0.0084 - accuracy: 0.9954 - IoU: 0.7192 - dice_coef: 0.8358 - mean_io_u: 0.4950 - val_loss: 0.0095 - val_accuracy: 0.9962 - val_IoU: 0.7034 - val_dice_coef: 0.8256 - val_mean_io_u: 0.4925\n",
            "Epoch 22/60\n",
            "149/149 [==============================] - 107s 717ms/step - loss: 0.0083 - accuracy: 0.9955 - IoU: 0.7255 - dice_coef: 0.8401 - mean_io_u: 0.4950 - val_loss: 0.0093 - val_accuracy: 0.9962 - val_IoU: 0.7237 - val_dice_coef: 0.8394 - val_mean_io_u: 0.4918\n",
            "Epoch 23/60\n",
            "149/149 [==============================] - 107s 715ms/step - loss: 0.0080 - accuracy: 0.9956 - IoU: 0.7298 - dice_coef: 0.8432 - mean_io_u: 0.4940 - val_loss: 0.0103 - val_accuracy: 0.9959 - val_IoU: 0.6996 - val_dice_coef: 0.8220 - val_mean_io_u: 0.4945\n",
            "Epoch 24/60\n",
            "149/149 [==============================] - 107s 715ms/step - loss: 0.0080 - accuracy: 0.9956 - IoU: 0.7331 - dice_coef: 0.8452 - mean_io_u: 0.4943 - val_loss: 0.0095 - val_accuracy: 0.9962 - val_IoU: 0.7191 - val_dice_coef: 0.8364 - val_mean_io_u: 0.4919\n",
            "Epoch 25/60\n",
            "149/149 [==============================] - 107s 715ms/step - loss: 0.0094 - accuracy: 0.9954 - IoU: 0.7075 - dice_coef: 0.8263 - mean_io_u: 0.4931 - val_loss: 0.0101 - val_accuracy: 0.9960 - val_IoU: 0.6705 - val_dice_coef: 0.8022 - val_mean_io_u: 0.4917\n",
            "Epoch 26/60\n",
            "149/149 [==============================] - 107s 715ms/step - loss: 0.0078 - accuracy: 0.9956 - IoU: 0.7377 - dice_coef: 0.8483 - mean_io_u: 0.4944 - val_loss: 0.0091 - val_accuracy: 0.9963 - val_IoU: 0.7124 - val_dice_coef: 0.8311 - val_mean_io_u: 0.4932\n",
            "Epoch 27/60\n",
            "149/149 [==============================] - 107s 716ms/step - loss: 0.0078 - accuracy: 0.9956 - IoU: 0.7416 - dice_coef: 0.8511 - mean_io_u: 0.4946 - val_loss: 0.0089 - val_accuracy: 0.9964 - val_IoU: 0.7204 - val_dice_coef: 0.8369 - val_mean_io_u: 0.4928\n",
            "Epoch 28/60\n",
            "149/149 [==============================] - 106s 715ms/step - loss: 0.0076 - accuracy: 0.9957 - IoU: 0.7460 - dice_coef: 0.8540 - mean_io_u: 0.4942 - val_loss: 0.0091 - val_accuracy: 0.9963 - val_IoU: 0.7179 - val_dice_coef: 0.8353 - val_mean_io_u: 0.4920\n",
            "Epoch 29/60\n",
            "149/149 [==============================] - 107s 717ms/step - loss: 0.0073 - accuracy: 0.9958 - IoU: 0.7432 - dice_coef: 0.8522 - mean_io_u: 0.4950 - val_loss: 0.0089 - val_accuracy: 0.9964 - val_IoU: 0.7280 - val_dice_coef: 0.8420 - val_mean_io_u: 0.4926\n",
            "Epoch 30/60\n",
            "149/149 [==============================] - 106s 715ms/step - loss: 0.0073 - accuracy: 0.9958 - IoU: 0.7500 - dice_coef: 0.8565 - mean_io_u: 0.4957 - val_loss: 0.0089 - val_accuracy: 0.9963 - val_IoU: 0.7256 - val_dice_coef: 0.8406 - val_mean_io_u: 0.4931\n",
            "Epoch 31/60\n",
            "149/149 [==============================] - 107s 715ms/step - loss: 0.0071 - accuracy: 0.9958 - IoU: 0.7545 - dice_coef: 0.8595 - mean_io_u: 0.4957 - val_loss: 0.0087 - val_accuracy: 0.9965 - val_IoU: 0.7015 - val_dice_coef: 0.8237 - val_mean_io_u: 0.4920\n",
            "Epoch 32/60\n",
            "149/149 [==============================] - 107s 716ms/step - loss: 0.0070 - accuracy: 0.9959 - IoU: 0.7553 - dice_coef: 0.8600 - mean_io_u: 0.4959 - val_loss: 0.0084 - val_accuracy: 0.9965 - val_IoU: 0.7314 - val_dice_coef: 0.8447 - val_mean_io_u: 0.4938\n",
            "Epoch 33/60\n",
            "149/149 [==============================] - 107s 716ms/step - loss: 0.0072 - accuracy: 0.9958 - IoU: 0.7499 - dice_coef: 0.8542 - mean_io_u: 0.4956 - val_loss: 0.0083 - val_accuracy: 0.9966 - val_IoU: 0.7250 - val_dice_coef: 0.8393 - val_mean_io_u: 0.4952\n",
            "Epoch 34/60\n",
            "149/149 [==============================] - 107s 715ms/step - loss: 0.0071 - accuracy: 0.9958 - IoU: 0.7596 - dice_coef: 0.8629 - mean_io_u: 0.4958 - val_loss: 0.0086 - val_accuracy: 0.9965 - val_IoU: 0.7138 - val_dice_coef: 0.8325 - val_mean_io_u: 0.4932\n",
            "Epoch 35/60\n",
            "149/149 [==============================] - 107s 716ms/step - loss: 0.0069 - accuracy: 0.9959 - IoU: 0.7581 - dice_coef: 0.8618 - mean_io_u: 0.4951 - val_loss: 0.0083 - val_accuracy: 0.9966 - val_IoU: 0.7484 - val_dice_coef: 0.8554 - val_mean_io_u: 0.4932\n",
            "Epoch 36/60\n",
            "149/149 [==============================] - 106s 714ms/step - loss: 0.0069 - accuracy: 0.9959 - IoU: 0.7584 - dice_coef: 0.8621 - mean_io_u: 0.4950 - val_loss: 0.0084 - val_accuracy: 0.9966 - val_IoU: 0.7410 - val_dice_coef: 0.8510 - val_mean_io_u: 0.4932\n",
            "Epoch 37/60\n",
            "149/149 [==============================] - 106s 714ms/step - loss: 0.0068 - accuracy: 0.9960 - IoU: 0.7658 - dice_coef: 0.8669 - mean_io_u: 0.4969 - val_loss: 0.0087 - val_accuracy: 0.9964 - val_IoU: 0.7352 - val_dice_coef: 0.8472 - val_mean_io_u: 0.4916\n",
            "Epoch 38/60\n",
            "149/149 [==============================] - 106s 714ms/step - loss: 0.0070 - accuracy: 0.9959 - IoU: 0.7573 - dice_coef: 0.8613 - mean_io_u: 0.4947 - val_loss: 0.0092 - val_accuracy: 0.9963 - val_IoU: 0.7056 - val_dice_coef: 0.8269 - val_mean_io_u: 0.4922\n",
            "Epoch 39/60\n",
            "149/149 [==============================] - 107s 716ms/step - loss: 0.0067 - accuracy: 0.9960 - IoU: 0.7671 - dice_coef: 0.8676 - mean_io_u: 0.4944 - val_loss: 0.0082 - val_accuracy: 0.9966 - val_IoU: 0.7434 - val_dice_coef: 0.8525 - val_mean_io_u: 0.4928\n",
            "Epoch 40/60\n",
            "149/149 [==============================] - 107s 715ms/step - loss: 0.0065 - accuracy: 0.9961 - IoU: 0.7730 - dice_coef: 0.8715 - mean_io_u: 0.4961 - val_loss: 0.0088 - val_accuracy: 0.9964 - val_IoU: 0.7376 - val_dice_coef: 0.8486 - val_mean_io_u: 0.4962\n",
            "Epoch 41/60\n",
            "149/149 [==============================] - 107s 715ms/step - loss: 0.0065 - accuracy: 0.9961 - IoU: 0.7666 - dice_coef: 0.8673 - mean_io_u: 0.4969 - val_loss: 0.0084 - val_accuracy: 0.9966 - val_IoU: 0.7430 - val_dice_coef: 0.8522 - val_mean_io_u: 0.4964\n",
            "Epoch 42/60\n",
            "149/149 [==============================] - 107s 715ms/step - loss: 0.0066 - accuracy: 0.9960 - IoU: 0.7778 - dice_coef: 0.8747 - mean_io_u: 0.4947 - val_loss: 0.0082 - val_accuracy: 0.9966 - val_IoU: 0.7503 - val_dice_coef: 0.8568 - val_mean_io_u: 0.4939\n",
            "Epoch 43/60\n",
            "149/149 [==============================] - 106s 714ms/step - loss: 0.0064 - accuracy: 0.9961 - IoU: 0.7677 - dice_coef: 0.8664 - mean_io_u: 0.4960 - val_loss: 0.0083 - val_accuracy: 0.9966 - val_IoU: 0.7475 - val_dice_coef: 0.8553 - val_mean_io_u: 0.4934\n",
            "Epoch 44/60\n",
            "149/149 [==============================] - 107s 716ms/step - loss: 0.0063 - accuracy: 0.9961 - IoU: 0.7809 - dice_coef: 0.8766 - mean_io_u: 0.4971 - val_loss: 0.0085 - val_accuracy: 0.9966 - val_IoU: 0.7489 - val_dice_coef: 0.8559 - val_mean_io_u: 0.4974\n",
            "Epoch 45/60\n",
            "149/149 [==============================] - 107s 715ms/step - loss: 0.0066 - accuracy: 0.9960 - IoU: 0.7646 - dice_coef: 0.8659 - mean_io_u: 0.4974 - val_loss: 0.0082 - val_accuracy: 0.9967 - val_IoU: 0.7208 - val_dice_coef: 0.8366 - val_mean_io_u: 0.4960\n",
            "Epoch 46/60\n",
            "149/149 [==============================] - 107s 716ms/step - loss: 0.0062 - accuracy: 0.9961 - IoU: 0.7780 - dice_coef: 0.8748 - mean_io_u: 0.4985 - val_loss: 0.0081 - val_accuracy: 0.9968 - val_IoU: 0.7634 - val_dice_coef: 0.8655 - val_mean_io_u: 0.4996\n",
            "Epoch 47/60\n",
            "149/149 [==============================] - 107s 715ms/step - loss: 0.0063 - accuracy: 0.9961 - IoU: 0.7770 - dice_coef: 0.8734 - mean_io_u: 0.4970 - val_loss: 0.0078 - val_accuracy: 0.9968 - val_IoU: 0.7615 - val_dice_coef: 0.8642 - val_mean_io_u: 0.4960\n",
            "Epoch 48/60\n",
            "149/149 [==============================] - 107s 715ms/step - loss: 0.0062 - accuracy: 0.9961 - IoU: 0.7780 - dice_coef: 0.8747 - mean_io_u: 0.4988 - val_loss: 0.0082 - val_accuracy: 0.9967 - val_IoU: 0.7485 - val_dice_coef: 0.8557 - val_mean_io_u: 0.4975\n",
            "Epoch 49/60\n",
            "149/149 [==============================] - 106s 715ms/step - loss: 0.0063 - accuracy: 0.9961 - IoU: 0.7806 - dice_coef: 0.8763 - mean_io_u: 0.4976 - val_loss: 0.0082 - val_accuracy: 0.9967 - val_IoU: 0.7477 - val_dice_coef: 0.8555 - val_mean_io_u: 0.4926\n",
            "Epoch 50/60\n",
            "149/149 [==============================] - 106s 715ms/step - loss: 0.0062 - accuracy: 0.9961 - IoU: 0.7800 - dice_coef: 0.8760 - mean_io_u: 0.4974 - val_loss: 0.0079 - val_accuracy: 0.9967 - val_IoU: 0.7570 - val_dice_coef: 0.8610 - val_mean_io_u: 0.4974\n",
            "Epoch 51/60\n",
            "149/149 [==============================] - 107s 716ms/step - loss: 0.0062 - accuracy: 0.9961 - IoU: 0.7826 - dice_coef: 0.8777 - mean_io_u: 0.4993 - val_loss: 0.0080 - val_accuracy: 0.9966 - val_IoU: 0.7614 - val_dice_coef: 0.8643 - val_mean_io_u: 0.4986\n",
            "Epoch 52/60\n",
            "149/149 [==============================] - ETA: 0s - loss: 0.0060 - accuracy: 0.9962 - IoU: 0.7835 - dice_coef: 0.8782 - mean_io_u: 0.4981Restoring model weights from the end of the best epoch: 47.\n",
            "149/149 [==============================] - 107s 717ms/step - loss: 0.0060 - accuracy: 0.9962 - IoU: 0.7835 - dice_coef: 0.8782 - mean_io_u: 0.4981 - val_loss: 0.0079 - val_accuracy: 0.9968 - val_IoU: 0.7642 - val_dice_coef: 0.8660 - val_mean_io_u: 0.4984\n",
            "Epoch 52: early stopping\n"
          ]
        }
      ]
    },
    {
      "cell_type": "code",
      "source": [
        "plot_loss_and_acurracy(history)"
      ],
      "metadata": {
        "colab": {
          "base_uri": "https://localhost:8080/",
          "height": 513
        },
        "id": "w6BbejjJP1GD",
        "outputId": "f781819f-3046-4d16-d8e0-ef10bd9de3f2"
      },
      "execution_count": 33,
      "outputs": [
        {
          "output_type": "display_data",
          "data": {
            "text/plain": [
              "<Figure size 864x576 with 2 Axes>"
            ],
            "image/png": "[encoded data removed]"
          },
          "metadata": {
            "needs_background": "light"
          }
        }
      ]
    },
    {
      "cell_type": "code",
      "source": [
        "results = model.evaluate(test_gen, steps=len(df_test) / BATCH_SIZE)"
      ],
      "metadata": {
        "id": "mzUWOawxPjAF",
        "colab": {
          "base_uri": "https://localhost:8080/"
        },
        "outputId": "84dbb366-6754-4ca4-a36d-446bbf28ec5f"
      },
      "execution_count": 34,
      "outputs": [
        {
          "output_type": "stream",
          "name": "stdout",
          "text": [
            "8/8 [==============================] - 2s 249ms/step - loss: 0.0064 - accuracy: 0.9974 - IoU: 0.7523 - dice_coef: 0.8580 - mean_io_u: 0.4952\n"
          ]
        }
      ]
    },
    {
      "cell_type": "markdown",
      "source": [
        "## Sanity check"
      ],
      "metadata": {
        "id": "f229bGlaPfNk"
      }
    },
    {
      "cell_type": "code",
      "source": [
        "def show_prediction(df):\n",
        "    index=np.random.randint(1,len(df.index))\n",
        "    img = cv2.imread(df['image'].iloc[index])\n",
        "    img = cv2.resize(img ,Size)\n",
        "    img = img / 255\n",
        "    img = img[np.newaxis, :, :, :]\n",
        "    pred=model.predict(img)\n",
        "\n",
        "    plt.figure(figsize=(12,12))\n",
        "    plt.subplot(1,3,1)\n",
        "    plt.imshow(np.squeeze(img))\n",
        "    plt.title('Original Image')\n",
        "    plt.subplot(1,3,2)\n",
        "    plt.imshow(np.squeeze(cv2.imread(df_test['mask'].iloc[index])))\n",
        "    plt.title('Original Mask')\n",
        "    plt.subplot(1,3,3)\n",
        "    plt.imshow(np.squeeze(pred) > .5)\n",
        "    plt.title('Prediction')\n",
        "    plt.show()"
      ],
      "metadata": {
        "id": "ANPtgU3mEdPR"
      },
      "execution_count": 26,
      "outputs": []
    },
    {
      "cell_type": "code",
      "source": [
        "show_prediction(df_test)"
      ],
      "metadata": {
        "colab": {
          "base_uri": "https://localhost:8080/",
          "height": 261
        },
        "id": "eUb1Mji5EdTx",
        "outputId": "0dcab7f1-56b3-4f75-a48a-91b1c83fcd1c"
      },
      "execution_count": 31,
      "outputs": [
        {
          "output_type": "display_data",
          "data": {
            "text/plain": [
              "<Figure size 864x864 with 3 Axes>"
            ],
            "image/png": "[encoded data removed]"
          },
          "metadata": {
            "needs_background": "light"
          }
        }
      ]
    },
    {
      "cell_type": "markdown",
      "source": [
        "# CLassification with segmentation"
      ],
      "metadata": {
        "id": "qQZEoTOCOtTV"
      }
    },
    {
      "cell_type": "code",
      "source": [
        "My_X_test = [ cv2.imread(path) for path in df_test[\"image\"]  ]\n",
        "My_y_test = df_test[\"label\"].values\n",
        "\n",
        "My_X_test = np.array(My_X_test) / 255.0\n",
        "\n",
        "print(My_X_test.shape)\n",
        "print(My_y_test.shape)"
      ],
      "metadata": {
        "colab": {
          "base_uri": "https://localhost:8080/"
        },
        "id": "UDgvA3SU-bKs",
        "outputId": "2a1c8308-57de-4dde-8a2f-b3d06df2fedc"
      },
      "execution_count": 22,
      "outputs": [
        {
          "output_type": "stream",
          "name": "stdout",
          "text": [
            "(265, 256, 256, 3)\n",
            "(265,)\n"
          ]
        }
      ]
    },
    {
      "cell_type": "code",
      "source": [
        "class MyModel:\n",
        "  def __init__(self, model) -> None:\n",
        "      self.model = model\n",
        "\n",
        "  def predict(self, images):\n",
        "      final_pred = []\n",
        "      y_pred = self.model.predict(images)\n",
        "      for idx in range(y_pred.shape[0]):\n",
        "        pred_mask = y_pred[idx]\n",
        "        result = 1 if np.max(pred_mask.reshape(-1)) > 0.1 else 0\n",
        "        final_pred.append(result)\n",
        "      \n",
        "      return np.array(final_pred)"
      ],
      "metadata": {
        "id": "OyKq8s4W-KbC"
      },
      "execution_count": 19,
      "outputs": []
    },
    {
      "cell_type": "code",
      "source": [
        "from sklearn.metrics import confusion_matrix, classification_report\n",
        "def plot_confusion_matraix(model, X_test, y_test, threshold=0.5):\n",
        "    y_pred = model.predict(X_test)\n",
        "    # y_pred = np.where(np.max(y_pred.reshape(-1)) >= threshold, 1, 0)\n",
        "    print(classification_report(y_test, y_pred))\n",
        "    cm = confusion_matrix(y_test, y_pred)\n",
        "    cm = pd.DataFrame(cm, range(2),range(2))\n",
        "    plt.figure(figsize = (10,10))\n",
        "    # plt.xlabel(\"Predicted Label\")\n",
        "    # plt.ylabel(\"True Label\")\n",
        "    plt.title(\"Confusion Matrix\")\n",
        "    s = sns.heatmap(cm, annot=True, annot_kws={\"size\": 12}, fmt='g') # font size\n",
        "    s.set(xlabel='Predicted Label', ylabel='True Label')"
      ],
      "metadata": {
        "id": "lwiqwDlA-KdF"
      },
      "execution_count": 20,
      "outputs": []
    },
    {
      "cell_type": "code",
      "source": [
        "my_model = MyModel(model)\n",
        "\n",
        "plot_confusion_matraix(my_model, My_X_test, My_y_test)"
      ],
      "metadata": {
        "colab": {
          "base_uri": "https://localhost:8080/",
          "height": 777
        },
        "id": "TSjp7hi1-KfU",
        "outputId": "dcb97651-c7b1-4ce4-8e4c-c6728231ed79"
      },
      "execution_count": 23,
      "outputs": [
        {
          "output_type": "stream",
          "name": "stdout",
          "text": [
            "              precision    recall  f1-score   support\n",
            "\n",
            "           0       1.00      0.81      0.90       135\n",
            "           1       0.84      1.00      0.91       130\n",
            "\n",
            "    accuracy                           0.91       265\n",
            "   macro avg       0.92      0.91      0.91       265\n",
            "weighted avg       0.92      0.91      0.90       265\n",
            "\n"
          ]
        },
        {
          "output_type": "display_data",
          "data": {
            "text/plain": [
              "<Figure size 720x720 with 2 Axes>"
            ],
            "image/png": "[encoded data removed]"
          },
          "metadata": {
            "needs_background": "light"
          }
        }
      ]
    },
    {
      "cell_type": "markdown",
      "source": [
        "# Save model to my drive"
      ],
      "metadata": {
        "id": "sBeV0ShsR3Jq"
      }
    },
    {
      "cell_type": "code",
      "source": [
        "from google.colab import drive\n",
        "drive.mount('/gdrive')"
      ],
      "metadata": {
        "colab": {
          "base_uri": "https://localhost:8080/"
        },
        "id": "1YoSsV6LR4IZ",
        "outputId": "e7ee3003-ab2a-47fd-f69f-1c5acde108ca"
      },
      "execution_count": 35,
      "outputs": [
        {
          "output_type": "stream",
          "name": "stdout",
          "text": [
            "Mounted at /gdrive\n"
          ]
        }
      ]
    },
    {
      "cell_type": "code",
      "source": [
        "! pwd"
      ],
      "metadata": {
        "colab": {
          "base_uri": "https://localhost:8080/"
        },
        "id": "N11dD28tR-eQ",
        "outputId": "a046f411-60f3-4dc3-f010-d8b07f5867bd"
      },
      "execution_count": 36,
      "outputs": [
        {
          "output_type": "stream",
          "name": "stdout",
          "text": [
            "/content\n"
          ]
        }
      ]
    },
    {
      "cell_type": "code",
      "source": [
        "model.save('new_brainMRI_Segment.h5')"
      ],
      "metadata": {
        "id": "3-NSKYGcSE9x"
      },
      "execution_count": 38,
      "outputs": []
    }
  ]
}