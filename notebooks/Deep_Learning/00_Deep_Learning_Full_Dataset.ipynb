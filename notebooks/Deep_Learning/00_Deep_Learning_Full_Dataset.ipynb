{
  "cells": [
    {
      "cell_type": "code",
      "execution_count": 1,
      "metadata": {
        "colab": {
          "base_uri": "https://localhost:8080/"
        },
        "id": "mVqrAqSL_zE9",
        "outputId": "2bce8644-06e1-4723-da23-688d7bd2e075"
      },
      "outputs": [
        {
          "name": "stdout",
          "output_type": "stream",
          "text": [
            "/usr/local/lib/python3.7/dist-packages/gdown/cli.py:131: FutureWarning: Option `--id` was deprecated in version 4.3.1 and will be removed in 5.0. You don't need to pass it anymore to use a file ID.\n",
            "  category=FutureWarning,\n",
            "Downloading...\n",
            "From: https://drive.google.com/uc?id=10fKUF1u3uhIrhEipoklNgysmPyYuYGV9\n",
            "To: /content/kaggle_m3.zip\n",
            "100% 368M/368M [00:05<00:00, 65.1MB/s]\n"
          ]
        }
      ],
      "source": [
        "!gdown --id 10fKUF1u3uhIrhEipoklNgysmPyYuYGV9 -O kaggle_m3.zip"
      ]
    },
    {
      "cell_type": "code",
      "execution_count": 2,
      "metadata": {
        "colab": {
          "base_uri": "https://localhost:8080/"
        },
        "id": "2DRY2A2S_4fT",
        "outputId": "85d99abc-8199-4514-8a0e-2c3c43014264"
      },
      "outputs": [
        {
          "name": "stdout",
          "output_type": "stream",
          "text": [
            "/usr/local/lib/python3.7/dist-packages/gdown/cli.py:131: FutureWarning: Option `--id` was deprecated in version 4.3.1 and will be removed in 5.0. You don't need to pass it anymore to use a file ID.\n",
            "  category=FutureWarning,\n",
            "Downloading...\n",
            "From: https://drive.google.com/uc?id=1Leaos-3uB70Lex1qLE7FvrtaOBDOYKbQ\n",
            "To: /content/data_aug.zip\n",
            "100% 123M/123M [00:02<00:00, 60.8MB/s]\n"
          ]
        }
      ],
      "source": [
        "!gdown --id 1Leaos-3uB70Lex1qLE7FvrtaOBDOYKbQ -O data_aug.zip"
      ]
    },
    {
      "cell_type": "code",
      "execution_count": 3,
      "metadata": {
        "id": "gpjVbG_a_4ho"
      },
      "outputs": [],
      "source": [
        "! mkdir fakes"
      ]
    },
    {
      "cell_type": "code",
      "execution_count": 6,
      "metadata": {
        "id": "RqYytEY7_4kC"
      },
      "outputs": [],
      "source": [
        "! cp data_aug.zip fakes"
      ]
    },
    {
      "cell_type": "code",
      "execution_count": 7,
      "metadata": {
        "colab": {
          "base_uri": "https://localhost:8080/"
        },
        "id": "sBJ6Y8hM_4mR",
        "outputId": "768b6b49-4c61-41c9-c656-ce8f38295eaf"
      },
      "outputs": [
        {
          "name": "stdout",
          "output_type": "stream",
          "text": [
            "/content/fakes\n"
          ]
        }
      ],
      "source": [
        "%cd fakes"
      ]
    },
    {
      "cell_type": "code",
      "execution_count": 8,
      "metadata": {
        "colab": {
          "base_uri": "https://localhost:8080/"
        },
        "id": "SLd_OGbI_4oo",
        "outputId": "4a16afe3-356c-4dc3-80c2-2a1addd09da0"
      },
      "outputs": [
        {
          "name": "stdout",
          "output_type": "stream",
          "text": [
            "data_aug.zip\n"
          ]
        }
      ],
      "source": [
        "! ls"
      ]
    },
    {
      "cell_type": "code",
      "execution_count": null,
      "metadata": {
        "id": "JC6vtxqG_4q4"
      },
      "outputs": [],
      "source": [
        "! unzip data_aug.zip"
      ]
    },
    {
      "cell_type": "code",
      "execution_count": 10,
      "metadata": {
        "colab": {
          "base_uri": "https://localhost:8080/"
        },
        "id": "FfLPUYEp_4tK",
        "outputId": "065373d7-7572-460b-ec2e-6ce178c2866d"
      },
      "outputs": [
        {
          "name": "stdout",
          "output_type": "stream",
          "text": [
            "/content\n"
          ]
        }
      ],
      "source": [
        "%cd .."
      ]
    },
    {
      "cell_type": "code",
      "execution_count": null,
      "metadata": {
        "id": "_E1BQaca_4vQ"
      },
      "outputs": [],
      "source": [
        "!unzip kaggle_m3.zip"
      ]
    },
    {
      "cell_type": "markdown",
      "metadata": {
        "id": "w2zTcCyNAjgl"
      },
      "source": [
        "# Import Data"
      ]
    },
    {
      "cell_type": "code",
      "execution_count": 12,
      "metadata": {
        "id": "ccIpwuGi_4xw"
      },
      "outputs": [],
      "source": [
        "import matplotlib.pyplot as plt\n",
        "import matplotlib.image as mpimg\n",
        "from glob import glob\n",
        "import pandas as pd\n",
        "import seaborn as sns\n",
        "\n",
        "from keras.preprocessing.image import ImageDataGenerator\n",
        "from keras.models import Sequential\n",
        "from keras.layers import Conv2D, MaxPooling2D, BatchNormalization\n",
        "from keras.layers import Activation, Dropout, Flatten, Dense\n",
        "from keras.callbacks import EarlyStopping\n",
        "import tensorflow as tf\n",
        "\n",
        "import os\n",
        "import cv2\n",
        "from PIL import Image\n",
        "import numpy as np"
      ]
    },
    {
      "cell_type": "code",
      "execution_count": 13,
      "metadata": {
        "colab": {
          "base_uri": "https://localhost:8080/"
        },
        "id": "aWYIGeAj_40K",
        "outputId": "de75b93c-6393-40b2-f26e-5a76a099bf8f"
      },
      "outputs": [
        {
          "data": {
            "text/plain": [
              "(5302, 3)"
            ]
          },
          "execution_count": 13,
          "metadata": {},
          "output_type": "execute_result"
        }
      ],
      "source": [
        "# Set parameters\n",
        "file_path='/'\n",
        "Size = (256, 256)\n",
        "mask_files = glob(file_path + os.path.join('content','*','*_mask*'))\n",
        "train_files = [file.replace('_mask', '') for file in mask_files]\n",
        "\n",
        "# Create Dataframe\n",
        "def label(mask):\n",
        "    value = np.max(cv2.imread(mask))\n",
        "    return '1' if value > 0 else '0'\n",
        "df = pd.DataFrame({\"image\": train_files,\n",
        "                   \"mask\": mask_files,\n",
        "                  \"label\":[label(x) for x in mask_files]})\n",
        "\n",
        "\n",
        "df.shape"
      ]
    },
    {
      "cell_type": "code",
      "execution_count": 14,
      "metadata": {
        "colab": {
          "base_uri": "https://localhost:8080/"
        },
        "id": "7J1wpiYG_42Y",
        "outputId": "fa9fce9f-2c89-43a9-9e28-0b24623f26f4"
      },
      "outputs": [
        {
          "name": "stdout",
          "output_type": "stream",
          "text": [
            "(5302, 256, 256, 3)\n",
            "(5302,)\n"
          ]
        }
      ],
      "source": [
        "# Collect Data\n",
        "dataset = [ cv2.imread(path) for path in df[\"image\"]  ]\n",
        "label = df[\"label\"].values\n",
        "dataset = np.array(dataset)\n",
        "label = np.array(df[\"label\"].values).astype(int)\n",
        "print(dataset.shape)\n",
        "print(label.shape)"
      ]
    },
    {
      "cell_type": "markdown",
      "metadata": {
        "id": "hk_jyZsRBRWe"
      },
      "source": [
        "# Split Data"
      ]
    },
    {
      "cell_type": "code",
      "execution_count": 15,
      "metadata": {
        "id": "zGewqm5D_44w"
      },
      "outputs": [],
      "source": [
        "from sklearn.model_selection import train_test_split\n",
        "#from keras.utils import to_categorical\n",
        "\n",
        "X_train, X_test, y_train, y_test = train_test_split(dataset, label, test_size = 0.20, random_state = 0)"
      ]
    },
    {
      "cell_type": "code",
      "execution_count": 16,
      "metadata": {
        "id": "qamxXiNh_5Bo"
      },
      "outputs": [],
      "source": [
        "X_train = X_train / 255.0\n",
        "X_test = X_test / 255.0"
      ]
    },
    {
      "cell_type": "markdown",
      "metadata": {
        "id": "VxxXvRGTBx7v"
      },
      "source": [
        "# CNN"
      ]
    },
    {
      "cell_type": "code",
      "execution_count": 17,
      "metadata": {
        "id": "7sa8njKJB4Ga"
      },
      "outputs": [],
      "source": [
        "metrics = ['binary_accuracy', tf.keras.metrics.Precision(), tf.keras.metrics.Recall()]\n",
        "\n",
        "def model_builder(optimizer):\n",
        "    INPUT_SHAPE = (256, 256, 3)   #change to (SIZE, SIZE, 3)\n",
        "\n",
        "\n",
        "    model = Sequential()\n",
        "\n",
        "    model.add(Conv2D(32, (3, 3), input_shape=INPUT_SHAPE))\n",
        "    model.add(Activation('relu'))\n",
        "    model.add(BatchNormalization())\n",
        "    model.add(MaxPooling2D(pool_size=(2, 2)))\n",
        "\n",
        "    model.add(Conv2D(32, (3, 3), kernel_initializer = 'he_uniform', padding=\"same\"))\n",
        "    model.add(Activation('relu'))\n",
        "    model.add(BatchNormalization())\n",
        "    model.add(MaxPooling2D(pool_size=(2, 2)))\n",
        "\n",
        "    model.add(Conv2D(64, (3, 3), kernel_initializer = 'he_uniform', padding=\"same\"))\n",
        "    model.add(Activation('relu'))\n",
        "    model.add(BatchNormalization())\n",
        "    model.add(MaxPooling2D(pool_size=(2, 2)))\n",
        "\n",
        "    model.add(Flatten())\n",
        "\n",
        "    model.add(Dense(256))\n",
        "    model.add(Activation('relu'))\n",
        "    model.add(Dropout(0.5))\n",
        "\n",
        "    model.add(Dense(128))\n",
        "    model.add(Activation('relu'))\n",
        "\n",
        "    model.add(Dense(1))\n",
        "    model.add(Activation('sigmoid')) \n",
        "\n",
        "    model.compile(\n",
        "        optimizer=optimizer, \n",
        "        loss=\"binary_crossentropy\", \n",
        "        metrics=metrics,\n",
        "    )\n",
        "\n",
        "    return model"
      ]
    },
    {
      "cell_type": "markdown",
      "metadata": {
        "id": "ZRgMI4ByCFV4"
      },
      "source": [
        "## EarlyStopping"
      ]
    },
    {
      "cell_type": "code",
      "execution_count": 22,
      "metadata": {
        "id": "BTTXCO21CIFf"
      },
      "outputs": [],
      "source": [
        "# patient early stopping\n",
        "es = EarlyStopping(monitor='val_loss', mode='min', verbose=1, patience=20, restore_best_weights=True)"
      ]
    },
    {
      "cell_type": "markdown",
      "metadata": {
        "id": "D_Xn8rGwCLDB"
      },
      "source": [
        "## Hyper Params"
      ]
    },
    {
      "cell_type": "code",
      "execution_count": 24,
      "metadata": {
        "id": "Cp_SQI-KCLL5"
      },
      "outputs": [],
      "source": [
        "epochs = 1000\n",
        "learning_rate = 0.0005\n",
        "batch_size = 128"
      ]
    },
    {
      "cell_type": "markdown",
      "metadata": {
        "id": "JXtR9fVQBy3X"
      },
      "source": [
        "## Helper Functions"
      ]
    },
    {
      "cell_type": "code",
      "execution_count": 18,
      "metadata": {
        "id": "lSfW0XuCBUwJ"
      },
      "outputs": [],
      "source": [
        "def set_seed(seed):\n",
        "    tf.random.set_seed(seed)\n",
        "    np.random.seed(seed)\n",
        "    os.environ['PYTHONHASHSEED'] = str(seed)\n",
        "\n",
        "set_seed(888)"
      ]
    },
    {
      "cell_type": "code",
      "execution_count": 19,
      "metadata": {
        "id": "15uP6Js2BUyc"
      },
      "outputs": [],
      "source": [
        "def plot_loss_and_acurracy(history):\n",
        "  fig, axes = plt.subplots(nrows=1, ncols=2, figsize=(12, 8))\n",
        "  epochs = range(len(history.history['loss']))\n",
        "\n",
        "  loss = history.history['loss']\n",
        "  val_loss = history.history['val_loss']\n",
        "  axes[0].plot(epochs, loss, 'y', label='Training loss')\n",
        "  axes[0].plot(epochs, val_loss, 'r', label='Validation loss')\n",
        "  axes[0].set_title('Training and validation loss')\n",
        "  axes[0].set_xlabel('Epochs')\n",
        "  axes[0].set_ylabel('Loss')\n",
        "  axes[0].legend()\n",
        "\n",
        "  acc = history.history['binary_accuracy']\n",
        "  val_acc = history.history['val_binary_accuracy']\n",
        "  axes[1].plot(epochs, acc, 'y', label='Training acc')\n",
        "  axes[1].plot(epochs, val_acc, 'r', label='Validation acc')\n",
        "  axes[1].set_title('Training and validation accuracy')\n",
        "  axes[1].set_xlabel('Epochs')\n",
        "  axes[1].set_ylabel('Accuracy')\n",
        "  axes[1].legend()"
      ]
    },
    {
      "cell_type": "code",
      "execution_count": 20,
      "metadata": {
        "colab": {
          "base_uri": "https://localhost:8080/",
          "height": 377
        },
        "id": "A2_aTUUFBU09",
        "outputId": "9dda4301-a587-46d2-e0d3-8c29e44dd0fa"
      },
      "outputs": [
        {
          "data": {
            "image/png": "[encoded data removed]",
            "text/plain": [
              "<Figure size 360x72 with 1 Axes>"
            ]
          },
          "metadata": {
            "needs_background": "light"
          },
          "output_type": "display_data"
        },
        {
          "data": {
            "image/png": "[encoded data removed]",
            "text/plain": [
              "<Figure size 360x72 with 1 Axes>"
            ]
          },
          "metadata": {
            "needs_background": "light"
          },
          "output_type": "display_data"
        },
        {
          "data": {
            "image/png": "[encoded data removed]",
            "text/plain": [
              "<Figure size 360x72 with 1 Axes>"
            ]
          },
          "metadata": {
            "needs_background": "light"
          },
          "output_type": "display_data"
        },
        {
          "data": {
            "image/png": "[encoded data removed]",
            "text/plain": [
              "<Figure size 360x72 with 1 Axes>"
            ]
          },
          "metadata": {
            "needs_background": "light"
          },
          "output_type": "display_data"
        },
        {
          "data": {
            "image/png": "[encoded data removed]",
            "text/plain": [
              "<Figure size 360x72 with 1 Axes>"
            ]
          },
          "metadata": {
            "needs_background": "light"
          },
          "output_type": "display_data"
        }
      ],
      "source": [
        "colors_dark = [\"#404040\", \"#676c72\", '#737980', '#8e959e', '#f9f9f9']\n",
        "colors_red = [\"#EA4335\", \"#E57373\", '#EF9A9A', '#FFCDD2', '#FFEBEE']\n",
        "colors_green = ['#34A853','#81C784','#A5D6A7','#C8E6C9','#E8F5E9']\n",
        "colors_blue = ['#4285F4','#42A5F5','#90CAF9','#BBDEFB','#E3F2FD']\n",
        "colors_yellow = ['#FBBC04','#FFCA28','#FFE082','#FFECB3','#FFF8E1']\n",
        "\n",
        "sns.palplot(colors_dark)\n",
        "sns.palplot(colors_green)\n",
        "sns.palplot(colors_red)\n",
        "sns.palplot(colors_blue)\n",
        "sns.palplot(colors_yellow)"
      ]
    },
    {
      "cell_type": "code",
      "execution_count": 21,
      "metadata": {
        "id": "a3b52K7VBU3l"
      },
      "outputs": [],
      "source": [
        "def plot_history_precision_recall(history):\n",
        "    epochs = range(len(history.history['loss']))\n",
        "    fig, ax = plt.subplots(1,2,figsize=(14,7))\n",
        "    train_acc = history.history['precision']\n",
        "    train_loss = history.history['recall']\n",
        "    val_acc = history.history['val_precision']\n",
        "    val_loss = history.history['val_recall']\n",
        "\n",
        "    fig.text(s='Epochs vs. Training and Validation Precision/Recall',size=18,fontweight='bold',\n",
        "                 fontname='monospace',color=colors_dark[0],y=1,x=0.28,alpha=0.8)\n",
        "\n",
        "    sns.despine()\n",
        "    ax[0].plot(epochs, train_acc, color=colors_green[1],\n",
        "               label = 'Training Precision')\n",
        "    ax[0].plot(epochs, val_acc, color=colors_yellow[1],\n",
        "               label = 'Validation Precision')\n",
        "    ax[0].legend(frameon=False)\n",
        "    ax[0].set_xlabel('Epochs')\n",
        "    ax[0].set_ylabel('Training & Validation Precision')\n",
        "\n",
        "    sns.despine()\n",
        "    ax[1].plot(epochs, train_loss, color=colors_green[1],\n",
        "               label ='Training Recall')\n",
        "    ax[1].plot(epochs, val_loss, color=colors_yellow[1],\n",
        "               label = 'Validation Recall')\n",
        "    ax[1].legend(frameon=False)\n",
        "    ax[1].set_xlabel('Epochs')\n",
        "    ax[1].set_ylabel('Training & Validation Recall')\n",
        "\n",
        "    fig.show()"
      ]
    },
    {
      "cell_type": "code",
      "execution_count": 29,
      "metadata": {
        "id": "PmDlgVSbFcfR"
      },
      "outputs": [],
      "source": [
        "from sklearn.metrics import roc_curve\n",
        "from sklearn.metrics import auc\n",
        "from numpy.random import randint\n",
        "\n",
        "import matplotlib.colors as colors\n",
        "colors_list = list(colors._colors_full_map.values())\n",
        "\n",
        "\n",
        "def plot_roc_curve(models):\n",
        "  auc_list = []\n",
        "\n",
        "  plt.figure(figsize=(12, 8))\n",
        "  plt.plot([0, 1], [0, 1], 'y--')\n",
        "  plt.xlabel('False positive rate')\n",
        "  plt.ylabel('True positive rate')\n",
        "  plt.title('ROC curve')\n",
        "\n",
        "  for idx, (name, model) in enumerate(models):\n",
        "    y_preds = model.predict(X_test).ravel()\n",
        "    fpr, tpr, thresholds = roc_curve(y_test, y_preds)\n",
        "    auc_value = auc(fpr, tpr)\n",
        "    auc_list.append(auc_value)\n",
        "    label = str(name) + \" - AUC: \" + str(round(auc_value, 3))\n",
        "    plt.plot(fpr, tpr, marker='.', color=colors_list[randint(len(colors_list) - 1)], label=label)\n",
        "\n",
        "  plt.legend()\n",
        "  \n",
        "  return auc_list\n"
      ]
    },
    {
      "cell_type": "markdown",
      "metadata": {
        "id": "QNQSfTjECjHe"
      },
      "source": [
        "## Optimizer - Adam"
      ]
    },
    {
      "cell_type": "code",
      "execution_count": 25,
      "metadata": {
        "colab": {
          "base_uri": "https://localhost:8080/"
        },
        "id": "W50aHCmxBU6T",
        "outputId": "ecf74181-7d47-420f-cd00-daa4057fed69"
      },
      "outputs": [
        {
          "name": "stdout",
          "output_type": "stream",
          "text": [
            "Epoch 1/1000\n",
            "34/34 [==============================] - 28s 371ms/step - loss: 1.5712 - binary_accuracy: 0.7258 - precision: 0.7372 - recall: 0.7281 - val_loss: 0.6704 - val_binary_accuracy: 0.6032 - val_precision: 0.5760 - val_recall: 0.9301\n",
            "Epoch 2/1000\n",
            "34/34 [==============================] - 9s 276ms/step - loss: 0.6274 - binary_accuracy: 0.7779 - precision: 0.7866 - recall: 0.7815 - val_loss: 1.1184 - val_binary_accuracy: 0.4826 - val_precision: 0.8462 - val_recall: 0.0197\n",
            "Epoch 3/1000\n",
            "34/34 [==============================] - 9s 274ms/step - loss: 0.3995 - binary_accuracy: 0.8210 - precision: 0.8057 - recall: 0.8606 - val_loss: 2.2407 - val_binary_accuracy: 0.5259 - val_precision: 0.5259 - val_recall: 1.0000\n",
            "Epoch 4/1000\n",
            "34/34 [==============================] - 9s 279ms/step - loss: 0.3650 - binary_accuracy: 0.8380 - precision: 0.8195 - recall: 0.8798 - val_loss: 0.6471 - val_binary_accuracy: 0.6541 - val_precision: 0.6053 - val_recall: 0.9839\n",
            "Epoch 5/1000\n",
            "34/34 [==============================] - 9s 277ms/step - loss: 0.3209 - binary_accuracy: 0.8550 - precision: 0.8320 - recall: 0.9008 - val_loss: 0.9131 - val_binary_accuracy: 0.6183 - val_precision: 0.5796 - val_recall: 0.9982\n",
            "Epoch 6/1000\n",
            "34/34 [==============================] - 9s 277ms/step - loss: 0.2899 - binary_accuracy: 0.8609 - precision: 0.8397 - recall: 0.9027 - val_loss: 2.4546 - val_binary_accuracy: 0.5259 - val_precision: 0.5259 - val_recall: 1.0000\n",
            "Epoch 7/1000\n",
            "34/34 [==============================] - 9s 278ms/step - loss: 0.2634 - binary_accuracy: 0.8753 - precision: 0.8618 - recall: 0.9031 - val_loss: 3.1898 - val_binary_accuracy: 0.5269 - val_precision: 0.5264 - val_recall: 1.0000\n",
            "Epoch 8/1000\n",
            "34/34 [==============================] - 9s 277ms/step - loss: 0.2508 - binary_accuracy: 0.8859 - precision: 0.8760 - recall: 0.9072 - val_loss: 2.9384 - val_binary_accuracy: 0.5306 - val_precision: 0.5284 - val_recall: 1.0000\n",
            "Epoch 9/1000\n",
            "34/34 [==============================] - 9s 279ms/step - loss: 0.2442 - binary_accuracy: 0.8927 - precision: 0.8792 - recall: 0.9182 - val_loss: 3.6410 - val_binary_accuracy: 0.5730 - val_precision: 0.5519 - val_recall: 1.0000\n",
            "Epoch 10/1000\n",
            "34/34 [==============================] - 9s 279ms/step - loss: 0.2063 - binary_accuracy: 0.9057 - precision: 0.8959 - recall: 0.9246 - val_loss: 4.4592 - val_binary_accuracy: 0.5325 - val_precision: 0.5294 - val_recall: 1.0000\n",
            "Epoch 11/1000\n",
            "34/34 [==============================] - 9s 280ms/step - loss: 0.1934 - binary_accuracy: 0.9085 - precision: 0.9000 - recall: 0.9255 - val_loss: 5.9570 - val_binary_accuracy: 0.5269 - val_precision: 0.5264 - val_recall: 1.0000\n",
            "Epoch 12/1000\n",
            "34/34 [==============================] - 9s 278ms/step - loss: 0.1872 - binary_accuracy: 0.9194 - precision: 0.9066 - recall: 0.9406 - val_loss: 2.9139 - val_binary_accuracy: 0.5598 - val_precision: 0.5444 - val_recall: 1.0000\n",
            "Epoch 13/1000\n",
            "34/34 [==============================] - 10s 282ms/step - loss: 0.1696 - binary_accuracy: 0.9231 - precision: 0.9190 - recall: 0.9333 - val_loss: 1.3866 - val_binary_accuracy: 0.6503 - val_precision: 0.6020 - val_recall: 0.9892\n",
            "Epoch 14/1000\n",
            "34/34 [==============================] - 10s 283ms/step - loss: 0.1493 - binary_accuracy: 0.9342 - precision: 0.9237 - recall: 0.9511 - val_loss: 0.5060 - val_binary_accuracy: 0.8011 - val_precision: 0.7387 - val_recall: 0.9624\n",
            "Epoch 15/1000\n",
            "34/34 [==============================] - 10s 282ms/step - loss: 0.1498 - binary_accuracy: 0.9337 - precision: 0.9328 - recall: 0.9392 - val_loss: 0.7331 - val_binary_accuracy: 0.7286 - val_precision: 0.6634 - val_recall: 0.9821\n",
            "Epoch 16/1000\n",
            "34/34 [==============================] - 10s 284ms/step - loss: 0.1581 - binary_accuracy: 0.9271 - precision: 0.9257 - recall: 0.9337 - val_loss: 0.4971 - val_binary_accuracy: 0.7889 - val_precision: 0.7152 - val_recall: 0.9946\n",
            "Epoch 17/1000\n",
            "34/34 [==============================] - 10s 284ms/step - loss: 0.1245 - binary_accuracy: 0.9427 - precision: 0.9517 - recall: 0.9365 - val_loss: 0.3182 - val_binary_accuracy: 0.8652 - val_precision: 0.8102 - val_recall: 0.9713\n",
            "Epoch 18/1000\n",
            "34/34 [==============================] - 10s 284ms/step - loss: 0.1232 - binary_accuracy: 0.9453 - precision: 0.9515 - recall: 0.9420 - val_loss: 0.2652 - val_binary_accuracy: 0.9152 - val_precision: 0.8953 - val_recall: 0.9498\n",
            "Epoch 19/1000\n",
            "34/34 [==============================] - 10s 284ms/step - loss: 0.1349 - binary_accuracy: 0.9429 - precision: 0.9534 - recall: 0.9351 - val_loss: 0.2285 - val_binary_accuracy: 0.9067 - val_precision: 0.8732 - val_recall: 0.9624\n",
            "Epoch 20/1000\n",
            "34/34 [==============================] - 10s 286ms/step - loss: 0.1037 - binary_accuracy: 0.9531 - precision: 0.9645 - recall: 0.9438 - val_loss: 0.1693 - val_binary_accuracy: 0.9303 - val_precision: 0.9116 - val_recall: 0.9606\n",
            "Epoch 21/1000\n",
            "34/34 [==============================] - 10s 285ms/step - loss: 0.1258 - binary_accuracy: 0.9479 - precision: 0.9551 - recall: 0.9433 - val_loss: 0.1597 - val_binary_accuracy: 0.9369 - val_precision: 0.9572 - val_recall: 0.9211\n",
            "Epoch 22/1000\n",
            "34/34 [==============================] - 10s 284ms/step - loss: 0.1025 - binary_accuracy: 0.9521 - precision: 0.9675 - recall: 0.9388 - val_loss: 0.1965 - val_binary_accuracy: 0.9369 - val_precision: 0.9694 - val_recall: 0.9086\n",
            "Epoch 23/1000\n",
            "34/34 [==============================] - 10s 284ms/step - loss: 0.1117 - binary_accuracy: 0.9491 - precision: 0.9595 - recall: 0.9410 - val_loss: 0.1690 - val_binary_accuracy: 0.9397 - val_precision: 0.9574 - val_recall: 0.9265\n",
            "Epoch 24/1000\n",
            "34/34 [==============================] - 10s 286ms/step - loss: 0.0888 - binary_accuracy: 0.9625 - precision: 0.9597 - recall: 0.9680 - val_loss: 0.1669 - val_binary_accuracy: 0.9416 - val_precision: 0.9733 - val_recall: 0.9140\n",
            "Epoch 25/1000\n",
            "34/34 [==============================] - 10s 287ms/step - loss: 0.0845 - binary_accuracy: 0.9639 - precision: 0.9615 - recall: 0.9689 - val_loss: 0.1722 - val_binary_accuracy: 0.9425 - val_precision: 0.9461 - val_recall: 0.9444\n",
            "Epoch 26/1000\n",
            "34/34 [==============================] - 10s 283ms/step - loss: 0.0736 - binary_accuracy: 0.9710 - precision: 0.9674 - recall: 0.9767 - val_loss: 0.2303 - val_binary_accuracy: 0.9406 - val_precision: 0.9592 - val_recall: 0.9265\n",
            "Epoch 27/1000\n",
            "34/34 [==============================] - 10s 284ms/step - loss: 0.0718 - binary_accuracy: 0.9682 - precision: 0.9647 - recall: 0.9739 - val_loss: 0.2197 - val_binary_accuracy: 0.9255 - val_precision: 0.9477 - val_recall: 0.9086\n",
            "Epoch 28/1000\n",
            "34/34 [==============================] - 10s 284ms/step - loss: 0.0927 - binary_accuracy: 0.9599 - precision: 0.9574 - recall: 0.9653 - val_loss: 0.2548 - val_binary_accuracy: 0.9312 - val_precision: 0.9802 - val_recall: 0.8871\n",
            "Epoch 29/1000\n",
            "34/34 [==============================] - 10s 285ms/step - loss: 0.0863 - binary_accuracy: 0.9651 - precision: 0.9753 - recall: 0.9566 - val_loss: 0.1516 - val_binary_accuracy: 0.9463 - val_precision: 0.9682 - val_recall: 0.9283\n",
            "Epoch 30/1000\n",
            "34/34 [==============================] - 10s 284ms/step - loss: 0.0808 - binary_accuracy: 0.9684 - precision: 0.9664 - recall: 0.9726 - val_loss: 0.2098 - val_binary_accuracy: 0.9425 - val_precision: 0.9807 - val_recall: 0.9086\n",
            "Epoch 31/1000\n",
            "34/34 [==============================] - 10s 284ms/step - loss: 0.0651 - binary_accuracy: 0.9731 - precision: 0.9792 - recall: 0.9685 - val_loss: 0.2122 - val_binary_accuracy: 0.9529 - val_precision: 0.9739 - val_recall: 0.9355\n",
            "Epoch 32/1000\n",
            "34/34 [==============================] - 10s 287ms/step - loss: 0.0527 - binary_accuracy: 0.9771 - precision: 0.9852 - recall: 0.9703 - val_loss: 0.1942 - val_binary_accuracy: 0.9482 - val_precision: 0.9736 - val_recall: 0.9265\n",
            "Epoch 33/1000\n",
            "34/34 [==============================] - 10s 285ms/step - loss: 0.0628 - binary_accuracy: 0.9715 - precision: 0.9787 - recall: 0.9657 - val_loss: 0.1782 - val_binary_accuracy: 0.9378 - val_precision: 0.9316 - val_recall: 0.9516\n",
            "Epoch 34/1000\n",
            "34/34 [==============================] - 10s 285ms/step - loss: 0.0592 - binary_accuracy: 0.9755 - precision: 0.9793 - recall: 0.9730 - val_loss: 0.3490 - val_binary_accuracy: 0.9237 - val_precision: 0.9877 - val_recall: 0.8656\n",
            "Epoch 35/1000\n",
            "34/34 [==============================] - 10s 286ms/step - loss: 0.0958 - binary_accuracy: 0.9698 - precision: 0.9712 - recall: 0.9703 - val_loss: 0.2305 - val_binary_accuracy: 0.9425 - val_precision: 0.9593 - val_recall: 0.9301\n",
            "Epoch 36/1000\n",
            "34/34 [==============================] - 10s 284ms/step - loss: 0.0802 - binary_accuracy: 0.9684 - precision: 0.9668 - recall: 0.9721 - val_loss: 0.2145 - val_binary_accuracy: 0.9208 - val_precision: 0.9506 - val_recall: 0.8961\n",
            "Epoch 37/1000\n",
            "34/34 [==============================] - 10s 285ms/step - loss: 0.1123 - binary_accuracy: 0.9559 - precision: 0.9481 - recall: 0.9676 - val_loss: 0.2346 - val_binary_accuracy: 0.9303 - val_precision: 0.9321 - val_recall: 0.9355\n",
            "Epoch 38/1000\n",
            "34/34 [==============================] - 10s 285ms/step - loss: 0.0898 - binary_accuracy: 0.9642 - precision: 0.9606 - recall: 0.9703 - val_loss: 0.2191 - val_binary_accuracy: 0.9482 - val_precision: 0.9598 - val_recall: 0.9409\n",
            "Epoch 39/1000\n",
            "34/34 [==============================] - 10s 285ms/step - loss: 0.0722 - binary_accuracy: 0.9679 - precision: 0.9622 - recall: 0.9762 - val_loss: 0.2828 - val_binary_accuracy: 0.9265 - val_precision: 0.9743 - val_recall: 0.8835\n",
            "Epoch 40/1000\n",
            "34/34 [==============================] - 10s 285ms/step - loss: 0.0546 - binary_accuracy: 0.9767 - precision: 0.9789 - recall: 0.9758 - val_loss: 0.2130 - val_binary_accuracy: 0.9416 - val_precision: 0.9627 - val_recall: 0.9247\n",
            "Epoch 41/1000\n",
            "34/34 [==============================] - 10s 285ms/step - loss: 0.0648 - binary_accuracy: 0.9741 - precision: 0.9676 - recall: 0.9826 - val_loss: 0.3482 - val_binary_accuracy: 0.9274 - val_precision: 0.9744 - val_recall: 0.8853\n",
            "Epoch 42/1000\n",
            "34/34 [==============================] - 10s 283ms/step - loss: 0.0557 - binary_accuracy: 0.9774 - precision: 0.9733 - recall: 0.9831 - val_loss: 0.3076 - val_binary_accuracy: 0.9237 - val_precision: 0.9760 - val_recall: 0.8763\n",
            "Epoch 43/1000\n",
            "34/34 [==============================] - 10s 285ms/step - loss: 0.0538 - binary_accuracy: 0.9797 - precision: 0.9760 - recall: 0.9849 - val_loss: 0.2605 - val_binary_accuracy: 0.9463 - val_precision: 0.9700 - val_recall: 0.9265\n",
            "Epoch 44/1000\n",
            "34/34 [==============================] - 10s 283ms/step - loss: 0.0462 - binary_accuracy: 0.9811 - precision: 0.9778 - recall: 0.9858 - val_loss: 0.2374 - val_binary_accuracy: 0.9463 - val_precision: 0.9790 - val_recall: 0.9176\n",
            "Epoch 45/1000\n",
            "34/34 [==============================] - 10s 284ms/step - loss: 0.0487 - binary_accuracy: 0.9809 - precision: 0.9743 - recall: 0.9890 - val_loss: 0.2710 - val_binary_accuracy: 0.9482 - val_precision: 0.9649 - val_recall: 0.9355\n",
            "Epoch 46/1000\n",
            "34/34 [==============================] - 10s 285ms/step - loss: 0.0401 - binary_accuracy: 0.9823 - precision: 0.9757 - recall: 0.9904 - val_loss: 0.2512 - val_binary_accuracy: 0.9406 - val_precision: 0.9732 - val_recall: 0.9122\n",
            "Epoch 47/1000\n",
            "34/34 [==============================] - 10s 285ms/step - loss: 0.0296 - binary_accuracy: 0.9863 - precision: 0.9810 - recall: 0.9927 - val_loss: 0.3415 - val_binary_accuracy: 0.9416 - val_precision: 0.9806 - val_recall: 0.9068\n",
            "Epoch 48/1000\n",
            "34/34 [==============================] - 10s 285ms/step - loss: 0.0303 - binary_accuracy: 0.9861 - precision: 0.9802 - recall: 0.9931 - val_loss: 0.2731 - val_binary_accuracy: 0.9425 - val_precision: 0.9715 - val_recall: 0.9176\n",
            "Epoch 49/1000\n",
            "33/34 [============================>.] - ETA: 0s - loss: 0.0251 - binary_accuracy: 0.9870 - precision: 0.9823 - recall: 0.9927Restoring model weights from the end of the best epoch: 29.\n",
            "34/34 [==============================] - 10s 285ms/step - loss: 0.0254 - binary_accuracy: 0.9868 - precision: 0.9824 - recall: 0.9922 - val_loss: 0.2449 - val_binary_accuracy: 0.9500 - val_precision: 0.9650 - val_recall: 0.9391\n",
            "Epoch 49: early stopping\n"
          ]
        }
      ],
      "source": [
        "opt = tf.keras.optimizers.Adam(learning_rate=learning_rate, amsgrad=True)\n",
        "model_adam = model_builder(opt)\n",
        "\n",
        "history_adam = model_adam.fit(X_train, \n",
        "                         y_train, \n",
        "                         batch_size = batch_size, \n",
        "                         verbose = 1, \n",
        "                         epochs = epochs,      \n",
        "                         validation_data=(X_test,y_test),\n",
        "                         shuffle = True,\n",
        "                         callbacks=[es]\n",
        "                     )"
      ]
    },
    {
      "cell_type": "code",
      "execution_count": 26,
      "metadata": {
        "colab": {
          "base_uri": "https://localhost:8080/",
          "height": 513
        },
        "id": "jU1VXrNGBU8n",
        "outputId": "3f615360-e194-477d-d62a-70628417cd5a"
      },
      "outputs": [
        {
          "data": {
            "image/png": "[encoded data removed]",
            "text/plain": [
              "<Figure size 864x576 with 2 Axes>"
            ]
          },
          "metadata": {
            "needs_background": "light"
          },
          "output_type": "display_data"
        }
      ],
      "source": [
        "plot_loss_and_acurracy(history_adam)"
      ]
    },
    {
      "cell_type": "code",
      "execution_count": 27,
      "metadata": {
        "colab": {
          "base_uri": "https://localhost:8080/",
          "height": 518
        },
        "id": "UPaIbSy5BU_K",
        "outputId": "cf93608a-3c57-400a-a142-aba1303323d4"
      },
      "outputs": [
        {
          "data": {
            "image/png": "[encoded data removed]",
            "text/plain": [
              "<Figure size 1008x504 with 2 Axes>"
            ]
          },
          "metadata": {
            "needs_background": "light"
          },
          "output_type": "display_data"
        }
      ],
      "source": [
        "plot_history_precision_recall(history_adam)"
      ]
    },
    {
      "cell_type": "code",
      "execution_count": 28,
      "metadata": {
        "colab": {
          "base_uri": "https://localhost:8080/"
        },
        "id": "NhEAGehHBVBy",
        "outputId": "0ce3de7f-1de9-4436-a5fe-08456e8350db"
      },
      "outputs": [
        {
          "name": "stdout",
          "output_type": "stream",
          "text": [
            "34/34 [==============================] - 1s 25ms/step - loss: 0.1516 - binary_accuracy: 0.9463 - precision: 0.9682 - recall: 0.9283\n"
          ]
        },
        {
          "data": {
            "text/plain": [
              "[0.15160825848579407,\n",
              " 0.9462770819664001,\n",
              " 0.968224287033081,\n",
              " 0.9283154010772705]"
            ]
          },
          "execution_count": 28,
          "metadata": {},
          "output_type": "execute_result"
        }
      ],
      "source": [
        "model_adam.evaluate(X_test, y_test)"
      ]
    },
    {
      "cell_type": "code",
      "execution_count": 30,
      "metadata": {
        "colab": {
          "base_uri": "https://localhost:8080/",
          "height": 530
        },
        "id": "euGqCEKfBVOv",
        "outputId": "596750d8-1ff3-46f0-ba82-8857da075af3"
      },
      "outputs": [
        {
          "data": {
            "text/plain": [
              "[0.9889872236117346]"
            ]
          },
          "execution_count": 30,
          "metadata": {},
          "output_type": "execute_result"
        },
        {
          "data": {
            "image/png": "[encoded data removed]",
            "text/plain": [
              "<Figure size 864x576 with 1 Axes>"
            ]
          },
          "metadata": {
            "needs_background": "light"
          },
          "output_type": "display_data"
        }
      ],
      "source": [
        "models = [(\"model_adam\", model_adam)]\n",
        "\n",
        "plot_roc_curve(models)"
      ]
    },
    {
      "cell_type": "code",
      "execution_count": 32,
      "metadata": {
        "id": "pZWX1esRGTIE"
      },
      "outputs": [],
      "source": [
        "model_adam.save('cnn_model_full_dataset.h5')"
      ]
    },
    {
      "cell_type": "markdown",
      "metadata": {
        "id": "SXfp2JT2Jev-"
      },
      "source": [
        "# Transer Learning"
      ]
    },
    {
      "cell_type": "code",
      "execution_count": 33,
      "metadata": {
        "id": "L5lWy3CyJf7L"
      },
      "outputs": [],
      "source": [
        "IMAGE_SIZE = (256, 256, 3)\n",
        "\n",
        "def make_model(transfer_model, learning_rate=learning_rate):\n",
        "  model = transfer_model.output\n",
        "  model = tf.keras.layers.Flatten()(model)\n",
        "  model = tf.keras.layers.Dropout(rate=0.2)(model)\n",
        "  model = tf.keras.layers.Dense(16, activation='relu')(model)\n",
        "  model = tf.keras.layers.Dense(32, activation='relu')(model)\n",
        "  model = tf.keras.layers.Dense(1, activation='sigmoid', kernel_regularizer='l1_l2')(model)\n",
        "  model = tf.keras.models.Model(inputs=transfer_model.input, outputs = model)\n",
        "\n",
        "  opt = tf.keras.optimizers.Adam(learning_rate= learning_rate, amsgrad=True)\n",
        "  metrics = ['binary_accuracy', tf.keras.metrics.Precision(), tf.keras.metrics.Recall()]\n",
        "\n",
        "  model.compile(\n",
        "          optimizer=opt, \n",
        "          loss=\"binary_crossentropy\", \n",
        "          metrics=metrics,\n",
        "      )\n",
        "\n",
        "  return model"
      ]
    },
    {
      "cell_type": "markdown",
      "metadata": {
        "id": "vrbDA7KpLskB"
      },
      "source": [
        "## EarlyStopping"
      ]
    },
    {
      "cell_type": "code",
      "execution_count": 42,
      "metadata": {
        "id": "I_mdwWMVLtwV"
      },
      "outputs": [],
      "source": [
        "# patient early stopping\n",
        "es_transfer_learning = EarlyStopping(monitor='val_loss', mode='min', verbose=1, patience=5, restore_best_weights=True)"
      ]
    },
    {
      "cell_type": "markdown",
      "metadata": {
        "id": "SN8KtawmK94R"
      },
      "source": [
        "## MobileNet"
      ]
    },
    {
      "cell_type": "code",
      "execution_count": 37,
      "metadata": {
        "colab": {
          "base_uri": "https://localhost:8080/"
        },
        "id": "pa0Gn7DMK0H1",
        "outputId": "cb31c9f1-14ed-4a04-a4ff-c04f11acaeb1"
      },
      "outputs": [
        {
          "name": "stdout",
          "output_type": "stream",
          "text": [
            "WARNING:tensorflow:`input_shape` is undefined or non-square, or `rows` is not in [128, 160, 192, 224]. Weights for input shape (224, 224) will be loaded as the default.\n"
          ]
        }
      ],
      "source": [
        "transfer_model_mobilenet = tf.keras.applications.MobileNet(weights='imagenet', include_top=False, input_shape=(256, 256, 3))\n",
        "for l in transfer_model_mobilenet.layers:\n",
        "# Freezing the model\n",
        "  l.trainable = False"
      ]
    },
    {
      "cell_type": "code",
      "execution_count": 38,
      "metadata": {
        "id": "l3VRehQLK0Kg"
      },
      "outputs": [],
      "source": [
        "model_mobilenet = make_model(transfer_model_mobilenet)"
      ]
    },
    {
      "cell_type": "code",
      "execution_count": 39,
      "metadata": {
        "colab": {
          "base_uri": "https://localhost:8080/"
        },
        "id": "T1Vl5JQWK0Pw",
        "outputId": "ae58cb29-5025-4ac9-aee9-3fb75838390e"
      },
      "outputs": [
        {
          "name": "stdout",
          "output_type": "stream",
          "text": [
            "Epoch 1/80\n",
            "34/34 [==============================] - 13s 294ms/step - loss: 0.4902 - binary_accuracy: 0.8166 - precision_2: 0.7896 - recall_2: 0.8784 - val_loss: 0.3909 - val_binary_accuracy: 0.8860 - val_precision_2: 0.9524 - val_recall_2: 0.8244\n",
            "Epoch 2/80\n",
            "34/34 [==============================] - 7s 221ms/step - loss: 0.2827 - binary_accuracy: 0.9154 - precision_2: 0.9155 - recall_2: 0.9209 - val_loss: 0.2917 - val_binary_accuracy: 0.9142 - val_precision_2: 0.9679 - val_recall_2: 0.8656\n",
            "Epoch 3/80\n",
            "34/34 [==============================] - 8s 222ms/step - loss: 0.2107 - binary_accuracy: 0.9486 - precision_2: 0.9599 - recall_2: 0.9397 - val_loss: 0.2480 - val_binary_accuracy: 0.9321 - val_precision_2: 0.9500 - val_recall_2: 0.9194\n",
            "Epoch 4/80\n",
            "34/34 [==============================] - 8s 225ms/step - loss: 0.1496 - binary_accuracy: 0.9793 - precision_2: 0.9808 - recall_2: 0.9790 - val_loss: 0.2193 - val_binary_accuracy: 0.9406 - val_precision_2: 0.9575 - val_recall_2: 0.9283\n",
            "Epoch 5/80\n",
            "34/34 [==============================] - 8s 226ms/step - loss: 0.1187 - binary_accuracy: 0.9925 - precision_2: 0.9936 - recall_2: 0.9918 - val_loss: 0.2171 - val_binary_accuracy: 0.9416 - val_precision_2: 0.9397 - val_recall_2: 0.9498\n",
            "Epoch 6/80\n",
            "34/34 [==============================] - 7s 220ms/step - loss: 0.1035 - binary_accuracy: 0.9955 - precision_2: 0.9959 - recall_2: 0.9954 - val_loss: 0.2254 - val_binary_accuracy: 0.9453 - val_precision_2: 0.9771 - val_recall_2: 0.9176\n",
            "Epoch 7/80\n",
            "34/34 [==============================] - 7s 218ms/step - loss: 0.0951 - binary_accuracy: 0.9974 - precision_2: 0.9968 - recall_2: 0.9982 - val_loss: 0.2070 - val_binary_accuracy: 0.9500 - val_precision_2: 0.9469 - val_recall_2: 0.9588\n",
            "Epoch 8/80\n",
            "34/34 [==============================] - 7s 220ms/step - loss: 0.0887 - binary_accuracy: 0.9976 - precision_2: 0.9977 - recall_2: 0.9977 - val_loss: 0.2098 - val_binary_accuracy: 0.9482 - val_precision_2: 0.9632 - val_recall_2: 0.9373\n",
            "Epoch 9/80\n",
            "34/34 [==============================] - 7s 215ms/step - loss: 0.0815 - binary_accuracy: 0.9998 - precision_2: 0.9995 - recall_2: 1.0000 - val_loss: 0.2246 - val_binary_accuracy: 0.9350 - val_precision_2: 0.9208 - val_recall_2: 0.9588\n",
            "Epoch 10/80\n",
            "34/34 [==============================] - 7s 217ms/step - loss: 0.0783 - binary_accuracy: 0.9986 - precision_2: 0.9995 - recall_2: 0.9977 - val_loss: 0.2076 - val_binary_accuracy: 0.9510 - val_precision_2: 0.9486 - val_recall_2: 0.9588\n",
            "Epoch 11/80\n",
            "34/34 [==============================] - 7s 216ms/step - loss: 0.0711 - binary_accuracy: 0.9995 - precision_2: 0.9991 - recall_2: 1.0000 - val_loss: 0.2097 - val_binary_accuracy: 0.9500 - val_precision_2: 0.9702 - val_recall_2: 0.9337\n",
            "Epoch 12/80\n",
            "34/34 [==============================] - 7s 217ms/step - loss: 0.0684 - binary_accuracy: 0.9995 - precision_2: 1.0000 - recall_2: 0.9991 - val_loss: 0.2079 - val_binary_accuracy: 0.9500 - val_precision_2: 0.9533 - val_recall_2: 0.9516\n",
            "Epoch 13/80\n",
            "34/34 [==============================] - 7s 220ms/step - loss: 0.0634 - binary_accuracy: 0.9998 - precision_2: 1.0000 - recall_2: 0.9995 - val_loss: 0.2010 - val_binary_accuracy: 0.9510 - val_precision_2: 0.9550 - val_recall_2: 0.9516\n",
            "Epoch 14/80\n",
            "34/34 [==============================] - 7s 219ms/step - loss: 0.0605 - binary_accuracy: 1.0000 - precision_2: 1.0000 - recall_2: 1.0000 - val_loss: 0.2037 - val_binary_accuracy: 0.9482 - val_precision_2: 0.9736 - val_recall_2: 0.9265\n",
            "Epoch 15/80\n",
            "34/34 [==============================] - 7s 220ms/step - loss: 0.0573 - binary_accuracy: 1.0000 - precision_2: 1.0000 - recall_2: 1.0000 - val_loss: 0.2005 - val_binary_accuracy: 0.9453 - val_precision_2: 0.9562 - val_recall_2: 0.9391\n",
            "Epoch 16/80\n",
            "34/34 [==============================] - 7s 218ms/step - loss: 0.0547 - binary_accuracy: 1.0000 - precision_2: 1.0000 - recall_2: 1.0000 - val_loss: 0.2037 - val_binary_accuracy: 0.9491 - val_precision_2: 0.9737 - val_recall_2: 0.9283\n",
            "Epoch 17/80\n",
            "34/34 [==============================] - 7s 221ms/step - loss: 0.0529 - binary_accuracy: 1.0000 - precision_2: 1.0000 - recall_2: 1.0000 - val_loss: 0.1929 - val_binary_accuracy: 0.9491 - val_precision_2: 0.9701 - val_recall_2: 0.9319\n",
            "Epoch 18/80\n",
            "34/34 [==============================] - 7s 220ms/step - loss: 0.0507 - binary_accuracy: 1.0000 - precision_2: 1.0000 - recall_2: 1.0000 - val_loss: 0.1907 - val_binary_accuracy: 0.9491 - val_precision_2: 0.9582 - val_recall_2: 0.9444\n",
            "Epoch 19/80\n",
            "34/34 [==============================] - 7s 219ms/step - loss: 0.0494 - binary_accuracy: 0.9998 - precision_2: 1.0000 - recall_2: 0.9995 - val_loss: 0.1877 - val_binary_accuracy: 0.9491 - val_precision_2: 0.9582 - val_recall_2: 0.9444\n",
            "Epoch 20/80\n",
            "34/34 [==============================] - 7s 216ms/step - loss: 0.0471 - binary_accuracy: 1.0000 - precision_2: 1.0000 - recall_2: 1.0000 - val_loss: 0.1901 - val_binary_accuracy: 0.9500 - val_precision_2: 0.9566 - val_recall_2: 0.9480\n",
            "Epoch 21/80\n",
            "34/34 [==============================] - 7s 217ms/step - loss: 0.0453 - binary_accuracy: 1.0000 - precision_2: 1.0000 - recall_2: 1.0000 - val_loss: 0.1965 - val_binary_accuracy: 0.9491 - val_precision_2: 0.9684 - val_recall_2: 0.9337\n",
            "Epoch 22/80\n",
            "34/34 [==============================] - 7s 218ms/step - loss: 0.0436 - binary_accuracy: 1.0000 - precision_2: 1.0000 - recall_2: 1.0000 - val_loss: 0.1967 - val_binary_accuracy: 0.9500 - val_precision_2: 0.9755 - val_recall_2: 0.9283\n",
            "Epoch 23/80\n",
            "34/34 [==============================] - 7s 218ms/step - loss: 0.0424 - binary_accuracy: 1.0000 - precision_2: 1.0000 - recall_2: 1.0000 - val_loss: 0.1960 - val_binary_accuracy: 0.9491 - val_precision_2: 0.9755 - val_recall_2: 0.9265\n",
            "Epoch 24/80\n",
            "34/34 [==============================] - 7s 218ms/step - loss: 0.0414 - binary_accuracy: 1.0000 - precision_2: 1.0000 - recall_2: 1.0000 - val_loss: 0.1796 - val_binary_accuracy: 0.9538 - val_precision_2: 0.9569 - val_recall_2: 0.9552\n",
            "Epoch 25/80\n",
            "34/34 [==============================] - 7s 218ms/step - loss: 0.0404 - binary_accuracy: 1.0000 - precision_2: 1.0000 - recall_2: 1.0000 - val_loss: 0.1885 - val_binary_accuracy: 0.9472 - val_precision_2: 0.9648 - val_recall_2: 0.9337\n",
            "Epoch 26/80\n",
            "34/34 [==============================] - 7s 218ms/step - loss: 0.0392 - binary_accuracy: 1.0000 - precision_2: 1.0000 - recall_2: 1.0000 - val_loss: 0.1880 - val_binary_accuracy: 0.9472 - val_precision_2: 0.9683 - val_recall_2: 0.9301\n",
            "Epoch 27/80\n",
            "34/34 [==============================] - 7s 219ms/step - loss: 0.0385 - binary_accuracy: 1.0000 - precision_2: 1.0000 - recall_2: 1.0000 - val_loss: 0.1919 - val_binary_accuracy: 0.9500 - val_precision_2: 0.9737 - val_recall_2: 0.9301\n",
            "Epoch 28/80\n",
            "34/34 [==============================] - 7s 219ms/step - loss: 0.0375 - binary_accuracy: 1.0000 - precision_2: 1.0000 - recall_2: 1.0000 - val_loss: 0.1811 - val_binary_accuracy: 0.9482 - val_precision_2: 0.9598 - val_recall_2: 0.9409\n",
            "Epoch 29/80\n",
            "34/34 [==============================] - 7s 220ms/step - loss: 0.0365 - binary_accuracy: 1.0000 - precision_2: 1.0000 - recall_2: 1.0000 - val_loss: 0.1799 - val_binary_accuracy: 0.9491 - val_precision_2: 0.9565 - val_recall_2: 0.9462\n",
            "Epoch 30/80\n",
            "34/34 [==============================] - 7s 220ms/step - loss: 0.0360 - binary_accuracy: 1.0000 - precision_2: 1.0000 - recall_2: 1.0000 - val_loss: 0.1788 - val_binary_accuracy: 0.9500 - val_precision_2: 0.9583 - val_recall_2: 0.9462\n",
            "Epoch 31/80\n",
            "34/34 [==============================] - 7s 218ms/step - loss: 0.0351 - binary_accuracy: 1.0000 - precision_2: 1.0000 - recall_2: 1.0000 - val_loss: 0.1878 - val_binary_accuracy: 0.9482 - val_precision_2: 0.9736 - val_recall_2: 0.9265\n",
            "Epoch 32/80\n",
            "34/34 [==============================] - 7s 218ms/step - loss: 0.0347 - binary_accuracy: 1.0000 - precision_2: 1.0000 - recall_2: 1.0000 - val_loss: 0.1842 - val_binary_accuracy: 0.9463 - val_precision_2: 0.9630 - val_recall_2: 0.9337\n",
            "Epoch 33/80\n",
            "34/34 [==============================] - 7s 218ms/step - loss: 0.0342 - binary_accuracy: 1.0000 - precision_2: 1.0000 - recall_2: 1.0000 - val_loss: 0.1810 - val_binary_accuracy: 0.9472 - val_precision_2: 0.9614 - val_recall_2: 0.9373\n",
            "Epoch 34/80\n",
            "34/34 [==============================] - 7s 219ms/step - loss: 0.0336 - binary_accuracy: 1.0000 - precision_2: 1.0000 - recall_2: 1.0000 - val_loss: 0.1797 - val_binary_accuracy: 0.9482 - val_precision_2: 0.9615 - val_recall_2: 0.9391\n",
            "Epoch 35/80\n",
            "34/34 [==============================] - 7s 218ms/step - loss: 0.0331 - binary_accuracy: 1.0000 - precision_2: 1.0000 - recall_2: 1.0000 - val_loss: 0.1811 - val_binary_accuracy: 0.9453 - val_precision_2: 0.9630 - val_recall_2: 0.9319\n",
            "Epoch 36/80\n",
            "34/34 [==============================] - 7s 219ms/step - loss: 0.0327 - binary_accuracy: 1.0000 - precision_2: 1.0000 - recall_2: 1.0000 - val_loss: 0.1901 - val_binary_accuracy: 0.9500 - val_precision_2: 0.9737 - val_recall_2: 0.9301\n",
            "Epoch 37/80\n",
            "34/34 [==============================] - 7s 218ms/step - loss: 0.0325 - binary_accuracy: 1.0000 - precision_2: 1.0000 - recall_2: 1.0000 - val_loss: 0.1823 - val_binary_accuracy: 0.9472 - val_precision_2: 0.9683 - val_recall_2: 0.9301\n",
            "Epoch 38/80\n",
            "34/34 [==============================] - 7s 217ms/step - loss: 0.0320 - binary_accuracy: 1.0000 - precision_2: 1.0000 - recall_2: 1.0000 - val_loss: 0.1826 - val_binary_accuracy: 0.9482 - val_precision_2: 0.9649 - val_recall_2: 0.9355\n",
            "Epoch 39/80\n",
            "34/34 [==============================] - 7s 218ms/step - loss: 0.0314 - binary_accuracy: 1.0000 - precision_2: 1.0000 - recall_2: 1.0000 - val_loss: 0.1809 - val_binary_accuracy: 0.9491 - val_precision_2: 0.9684 - val_recall_2: 0.9337\n",
            "Epoch 40/80\n",
            "33/34 [============================>.] - ETA: 0s - loss: 0.0312 - binary_accuracy: 1.0000 - precision_2: 1.0000 - recall_2: 1.0000Restoring model weights from the end of the best epoch: 30.\n",
            "34/34 [==============================] - 7s 221ms/step - loss: 0.0312 - binary_accuracy: 1.0000 - precision_2: 1.0000 - recall_2: 1.0000 - val_loss: 0.1831 - val_binary_accuracy: 0.9491 - val_precision_2: 0.9737 - val_recall_2: 0.9283\n",
            "Epoch 40: early stopping\n"
          ]
        }
      ],
      "source": [
        "history_mobilenet = model_mobilenet.fit(X_train, \n",
        "                    y_train, \n",
        "                    batch_size = 128, \n",
        "                    verbose = 1, \n",
        "                    epochs = 80,      \n",
        "                    validation_data=(X_test,y_test),\n",
        "                    callbacks=[es_transfer_learning]\n",
        "                 )"
      ]
    },
    {
      "cell_type": "code",
      "execution_count": 40,
      "metadata": {
        "colab": {
          "base_uri": "https://localhost:8080/"
        },
        "id": "ZF2TbsnmK0Sh",
        "outputId": "144aba9e-0c27-4119-f821-55a2a031dd5b"
      },
      "outputs": [
        {
          "name": "stdout",
          "output_type": "stream",
          "text": [
            "34/34 [==============================] - 2s 54ms/step - loss: 0.1788 - binary_accuracy: 0.9500 - precision_2: 0.9583 - recall_2: 0.9462\n"
          ]
        },
        {
          "data": {
            "text/plain": [
              "[0.1787669062614441,\n",
              " 0.9500471353530884,\n",
              " 0.9582577347755432,\n",
              " 0.9462365508079529]"
            ]
          },
          "execution_count": 40,
          "metadata": {},
          "output_type": "execute_result"
        }
      ],
      "source": [
        "model_mobilenet.evaluate(X_test, y_test)"
      ]
    },
    {
      "cell_type": "markdown",
      "metadata": {
        "id": "cMsRSVLCOTEP"
      },
      "source": [
        "## VGG16"
      ]
    },
    {
      "cell_type": "code",
      "execution_count": 41,
      "metadata": {
        "colab": {
          "base_uri": "https://localhost:8080/"
        },
        "id": "csIZEx5_K0Vg",
        "outputId": "21eb0b59-046c-4db2-daa8-a997c9b18bb8"
      },
      "outputs": [
        {
          "name": "stdout",
          "output_type": "stream",
          "text": [
            "Downloading data from https://storage.googleapis.com/tensorflow/keras-applications/vgg16/vgg16_weights_tf_dim_ordering_tf_kernels_notop.h5\n",
            "58892288/58889256 [==============================] - 1s 0us/step\n",
            "58900480/58889256 [==============================] - 1s 0us/step\n"
          ]
        }
      ],
      "source": [
        "transfer_model_vgg16 = tf.keras.applications.VGG16(weights='imagenet', include_top=False, input_shape=(256, 256, 3))\n",
        "for l in transfer_model_vgg16.layers:\n",
        "# Freezing the model\n",
        "  l.trainable = False"
      ]
    },
    {
      "cell_type": "code",
      "execution_count": 43,
      "metadata": {
        "colab": {
          "base_uri": "https://localhost:8080/"
        },
        "id": "TG7vjpY4K0YQ",
        "outputId": "a7803d79-e8d1-4992-eb10-81d30806730a"
      },
      "outputs": [
        {
          "name": "stdout",
          "output_type": "stream",
          "text": [
            "Epoch 1/80\n",
            "34/34 [==============================] - 60s 1s/step - loss: 0.5305 - binary_accuracy: 0.7833 - precision_3: 0.7619 - recall_3: 0.8437 - val_loss: 0.4095 - val_binary_accuracy: 0.8549 - val_precision_3: 0.8620 - val_recall_3: 0.8620\n",
            "Epoch 2/80\n",
            "34/34 [==============================] - 36s 1s/step - loss: 0.3943 - binary_accuracy: 0.8451 - precision_3: 0.8248 - recall_3: 0.8885 - val_loss: 0.3693 - val_binary_accuracy: 0.8643 - val_precision_3: 0.9207 - val_recall_3: 0.8118\n",
            "Epoch 3/80\n",
            "34/34 [==============================] - 36s 1s/step - loss: 0.3613 - binary_accuracy: 0.8684 - precision_3: 0.8638 - recall_3: 0.8844 - val_loss: 0.3180 - val_binary_accuracy: 0.8907 - val_precision_3: 0.8696 - val_recall_3: 0.9319\n",
            "Epoch 4/80\n",
            "34/34 [==============================] - 36s 1s/step - loss: 0.3184 - binary_accuracy: 0.8885 - precision_3: 0.8786 - recall_3: 0.9095 - val_loss: 0.3080 - val_binary_accuracy: 0.8973 - val_precision_3: 0.9181 - val_recall_3: 0.8835\n",
            "Epoch 5/80\n",
            "34/34 [==============================] - 36s 1s/step - loss: 0.2924 - binary_accuracy: 0.8965 - precision_3: 0.8909 - recall_3: 0.9109 - val_loss: 0.2779 - val_binary_accuracy: 0.9095 - val_precision_3: 0.8929 - val_recall_3: 0.9409\n",
            "Epoch 6/80\n",
            "34/34 [==============================] - 36s 1s/step - loss: 0.2567 - binary_accuracy: 0.9208 - precision_3: 0.9175 - recall_3: 0.9301 - val_loss: 0.2839 - val_binary_accuracy: 0.9039 - val_precision_3: 0.9578 - val_recall_3: 0.8548\n",
            "Epoch 7/80\n",
            "34/34 [==============================] - 36s 1s/step - loss: 0.2464 - binary_accuracy: 0.9196 - precision_3: 0.9188 - recall_3: 0.9260 - val_loss: 0.2507 - val_binary_accuracy: 0.9067 - val_precision_3: 0.8793 - val_recall_3: 0.9534\n",
            "Epoch 8/80\n",
            "34/34 [==============================] - 36s 1s/step - loss: 0.2219 - binary_accuracy: 0.9363 - precision_3: 0.9363 - recall_3: 0.9406 - val_loss: 0.2407 - val_binary_accuracy: 0.9208 - val_precision_3: 0.9523 - val_recall_3: 0.8943\n",
            "Epoch 9/80\n",
            "34/34 [==============================] - 36s 1s/step - loss: 0.2024 - binary_accuracy: 0.9479 - precision_3: 0.9518 - recall_3: 0.9470 - val_loss: 0.2273 - val_binary_accuracy: 0.9199 - val_precision_3: 0.9015 - val_recall_3: 0.9516\n",
            "Epoch 10/80\n",
            "34/34 [==============================] - 36s 1s/step - loss: 0.1936 - binary_accuracy: 0.9462 - precision_3: 0.9479 - recall_3: 0.9479 - val_loss: 0.2338 - val_binary_accuracy: 0.9246 - val_precision_3: 0.9650 - val_recall_3: 0.8889\n",
            "Epoch 11/80\n",
            "34/34 [==============================] - 36s 1s/step - loss: 0.1872 - binary_accuracy: 0.9448 - precision_3: 0.9490 - recall_3: 0.9438 - val_loss: 0.2113 - val_binary_accuracy: 0.9359 - val_precision_3: 0.9571 - val_recall_3: 0.9194\n",
            "Epoch 12/80\n",
            "34/34 [==============================] - 36s 1s/step - loss: 0.1626 - binary_accuracy: 0.9630 - precision_3: 0.9678 - recall_3: 0.9602 - val_loss: 0.2000 - val_binary_accuracy: 0.9350 - val_precision_3: 0.9421 - val_recall_3: 0.9337\n",
            "Epoch 13/80\n",
            "34/34 [==============================] - 36s 1s/step - loss: 0.1545 - binary_accuracy: 0.9672 - precision_3: 0.9719 - recall_3: 0.9644 - val_loss: 0.1943 - val_binary_accuracy: 0.9378 - val_precision_3: 0.9424 - val_recall_3: 0.9391\n",
            "Epoch 14/80\n",
            "34/34 [==============================] - 36s 1s/step - loss: 0.1471 - binary_accuracy: 0.9679 - precision_3: 0.9711 - recall_3: 0.9666 - val_loss: 0.1950 - val_binary_accuracy: 0.9265 - val_precision_3: 0.9152 - val_recall_3: 0.9480\n",
            "Epoch 15/80\n",
            "34/34 [==============================] - 36s 1s/step - loss: 0.1532 - binary_accuracy: 0.9594 - precision_3: 0.9649 - recall_3: 0.9561 - val_loss: 0.1975 - val_binary_accuracy: 0.9321 - val_precision_3: 0.9147 - val_recall_3: 0.9606\n",
            "Epoch 16/80\n",
            "34/34 [==============================] - 36s 1s/step - loss: 0.1508 - binary_accuracy: 0.9613 - precision_3: 0.9579 - recall_3: 0.9676 - val_loss: 0.1808 - val_binary_accuracy: 0.9416 - val_precision_3: 0.9477 - val_recall_3: 0.9409\n",
            "Epoch 17/80\n",
            "34/34 [==============================] - 36s 1s/step - loss: 0.1301 - binary_accuracy: 0.9691 - precision_3: 0.9729 - recall_3: 0.9671 - val_loss: 0.1825 - val_binary_accuracy: 0.9444 - val_precision_3: 0.9699 - val_recall_3: 0.9229\n",
            "Epoch 18/80\n",
            "34/34 [==============================] - 36s 1s/step - loss: 0.1283 - binary_accuracy: 0.9682 - precision_3: 0.9715 - recall_3: 0.9666 - val_loss: 0.1857 - val_binary_accuracy: 0.9425 - val_precision_3: 0.9680 - val_recall_3: 0.9211\n",
            "Epoch 19/80\n",
            "34/34 [==============================] - 36s 1s/step - loss: 0.1191 - binary_accuracy: 0.9736 - precision_3: 0.9761 - recall_3: 0.9726 - val_loss: 0.1747 - val_binary_accuracy: 0.9406 - val_precision_3: 0.9428 - val_recall_3: 0.9444\n",
            "Epoch 20/80\n",
            "34/34 [==============================] - 36s 1s/step - loss: 0.1221 - binary_accuracy: 0.9686 - precision_3: 0.9651 - recall_3: 0.9744 - val_loss: 0.1803 - val_binary_accuracy: 0.9434 - val_precision_3: 0.9698 - val_recall_3: 0.9211\n",
            "Epoch 21/80\n",
            "34/34 [==============================] - 36s 1s/step - loss: 0.1129 - binary_accuracy: 0.9757 - precision_3: 0.9780 - recall_3: 0.9749 - val_loss: 0.1752 - val_binary_accuracy: 0.9482 - val_precision_3: 0.9736 - val_recall_3: 0.9265\n",
            "Epoch 22/80\n",
            "34/34 [==============================] - 36s 1s/step - loss: 0.1062 - binary_accuracy: 0.9776 - precision_3: 0.9794 - recall_3: 0.9771 - val_loss: 0.2391 - val_binary_accuracy: 0.9265 - val_precision_3: 0.9938 - val_recall_3: 0.8656\n",
            "Epoch 23/80\n",
            "34/34 [==============================] - 36s 1s/step - loss: 0.1044 - binary_accuracy: 0.9781 - precision_3: 0.9812 - recall_3: 0.9762 - val_loss: 0.1651 - val_binary_accuracy: 0.9482 - val_precision_3: 0.9548 - val_recall_3: 0.9462\n",
            "Epoch 24/80\n",
            "34/34 [==============================] - 36s 1s/step - loss: 0.0994 - binary_accuracy: 0.9840 - precision_3: 0.9853 - recall_3: 0.9835 - val_loss: 0.1687 - val_binary_accuracy: 0.9463 - val_precision_3: 0.9682 - val_recall_3: 0.9283\n",
            "Epoch 25/80\n",
            "34/34 [==============================] - 36s 1s/step - loss: 0.0894 - binary_accuracy: 0.9866 - precision_3: 0.9885 - recall_3: 0.9854 - val_loss: 0.1756 - val_binary_accuracy: 0.9463 - val_precision_3: 0.9735 - val_recall_3: 0.9229\n",
            "Epoch 26/80\n",
            "34/34 [==============================] - 36s 1s/step - loss: 0.0903 - binary_accuracy: 0.9859 - precision_3: 0.9885 - recall_3: 0.9840 - val_loss: 0.1677 - val_binary_accuracy: 0.9491 - val_precision_3: 0.9719 - val_recall_3: 0.9301\n",
            "Epoch 27/80\n",
            "34/34 [==============================] - 36s 1s/step - loss: 0.0871 - binary_accuracy: 0.9873 - precision_3: 0.9890 - recall_3: 0.9863 - val_loss: 0.1816 - val_binary_accuracy: 0.9472 - val_precision_3: 0.9827 - val_recall_3: 0.9158\n",
            "Epoch 28/80\n",
            "34/34 [==============================] - ETA: 0s - loss: 0.0860 - binary_accuracy: 0.9866 - precision_3: 0.9881 - recall_3: 0.9858Restoring model weights from the end of the best epoch: 23.\n",
            "34/34 [==============================] - 36s 1s/step - loss: 0.0860 - binary_accuracy: 0.9866 - precision_3: 0.9881 - recall_3: 0.9858 - val_loss: 0.1818 - val_binary_accuracy: 0.9463 - val_precision_3: 0.9808 - val_recall_3: 0.9158\n",
            "Epoch 28: early stopping\n"
          ]
        }
      ],
      "source": [
        "model_vgg16 = make_model(transfer_model_vgg16)\n",
        "\n",
        "history_vgg16 = model_vgg16.fit(X_train, \n",
        "                    y_train, \n",
        "                    batch_size = 128, \n",
        "                    verbose = 1, \n",
        "                    epochs = 80,      \n",
        "                    validation_data=(X_test,y_test),\n",
        "                    callbacks=[es_transfer_learning]\n",
        "                 )"
      ]
    },
    {
      "cell_type": "code",
      "execution_count": 44,
      "metadata": {
        "colab": {
          "base_uri": "https://localhost:8080/"
        },
        "id": "MFvsEnWDOjtW",
        "outputId": "82e23ff1-f891-46ba-e35f-b7d79fa27f9a"
      },
      "outputs": [
        {
          "name": "stdout",
          "output_type": "stream",
          "text": [
            "34/34 [==============================] - 12s 226ms/step - loss: 0.1651 - binary_accuracy: 0.9482 - precision_3: 0.9548 - recall_3: 0.9462\n"
          ]
        },
        {
          "data": {
            "text/plain": [
              "[0.16508258879184723,\n",
              " 0.9481621384620667,\n",
              " 0.9547920227050781,\n",
              " 0.9462365508079529]"
            ]
          },
          "execution_count": 44,
          "metadata": {},
          "output_type": "execute_result"
        }
      ],
      "source": [
        "model_vgg16.evaluate(X_test, y_test)"
      ]
    },
    {
      "cell_type": "markdown",
      "metadata": {
        "id": "IXIIVa3VT9pJ"
      },
      "source": [
        "# Save model to my drive"
      ]
    },
    {
      "cell_type": "code",
      "execution_count": 45,
      "metadata": {
        "colab": {
          "base_uri": "https://localhost:8080/"
        },
        "id": "J34czN8OOjvu",
        "outputId": "20a6eb40-edec-44cd-f389-a88fa5ef17c2"
      },
      "outputs": [
        {
          "name": "stdout",
          "output_type": "stream",
          "text": [
            "Mounted at /gdrive\n"
          ]
        }
      ],
      "source": [
        "from google.colab import drive\n",
        "drive.mount('/gdrive')"
      ]
    },
    {
      "cell_type": "code",
      "execution_count": 46,
      "metadata": {
        "colab": {
          "base_uri": "https://localhost:8080/"
        },
        "id": "9HuapCHIOjyU",
        "outputId": "29a09482-babf-4c28-8da8-462c33cfd4df"
      },
      "outputs": [
        {
          "name": "stdout",
          "output_type": "stream",
          "text": [
            "/content\n"
          ]
        }
      ],
      "source": [
        "! pwd"
      ]
    },
    {
      "cell_type": "code",
      "execution_count": 47,
      "metadata": {
        "colab": {
          "base_uri": "https://localhost:8080/"
        },
        "id": "z-mpKcGrOj0t",
        "outputId": "aca9d6f8-9e90-4e07-e48b-69625482f94b"
      },
      "outputs": [
        {
          "name": "stdout",
          "output_type": "stream",
          "text": [
            "/\n"
          ]
        }
      ],
      "source": [
        "%cd .."
      ]
    },
    {
      "cell_type": "code",
      "execution_count": 50,
      "metadata": {
        "id": "8SaK7EXMUtq5"
      },
      "outputs": [],
      "source": [
        "model_vgg16.save('transfer_model_vgg16_full_dataset.h5')"
      ]
    },
    {
      "cell_type": "code",
      "execution_count": 51,
      "metadata": {
        "id": "osBIGsC0XF7J"
      },
      "outputs": [],
      "source": [
        "model_mobilenet.save('transfer_model_mobilenet_full_dataset.h5')"
      ]
    },
    {
      "cell_type": "code",
      "execution_count": 52,
      "metadata": {
        "id": "jvdyApgaXKvB"
      },
      "outputs": [],
      "source": [
        "model_adam.save('cnn_model_full_dataset.h5')"
      ]
    },
    {
      "cell_type": "markdown",
      "metadata": {
        "id": "HZrKMel1Zlm2"
      },
      "source": [
        "# Final ROC Curve"
      ]
    },
    {
      "cell_type": "code",
      "execution_count": 53,
      "metadata": {
        "colab": {
          "base_uri": "https://localhost:8080/",
          "height": 530
        },
        "id": "8Wwz8xWIZnnh",
        "outputId": "00354ecd-8b7a-42aa-9e06-afe576ab0295"
      },
      "outputs": [
        {
          "data": {
            "text/plain": [
              "[0.9889872236117346, 0.9893684488053756, 0.989820931044557]"
            ]
          },
          "execution_count": 53,
          "metadata": {},
          "output_type": "execute_result"
        },
        {
          "data": {
            "image/png": "[encoded data removed]",
            "text/plain": [
              "<Figure size 864x576 with 1 Axes>"
            ]
          },
          "metadata": {
            "needs_background": "light"
          },
          "output_type": "display_data"
        }
      ],
      "source": [
        "models = [(\"model_adam\", model_adam), (\"model_vgg16\", model_vgg16), (\"model_mobilenet\", model_mobilenet)]\n",
        "\n",
        "plot_roc_curve(models)"
      ]
    },
    {
      "cell_type": "code",
      "execution_count": null,
      "metadata": {
        "id": "KC0rAVmhZ6gd"
      },
      "outputs": [],
      "source": []
    }
  ],
  "metadata": {
    "accelerator": "GPU",
    "colab": {
      "collapsed_sections": [],
      "machine_shape": "hm",
      "name": "Deep Learning - Full Dataset.ipynb",
      "provenance": []
    },
    "kernelspec": {
      "display_name": "Python 3",
      "name": "python3"
    },
    "language_info": {
      "name": "python"
    }
  },
  "nbformat": 4,
  "nbformat_minor": 0
}
