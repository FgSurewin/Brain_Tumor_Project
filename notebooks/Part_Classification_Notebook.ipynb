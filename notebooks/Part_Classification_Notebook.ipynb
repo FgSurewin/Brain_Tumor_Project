{
  "cells": [
    {
      "cell_type": "code",
      "execution_count": 1,
      "metadata": {
        "id": "Ep1RB48M-URy"
      },
      "outputs": [
        {
          "name": "stderr",
          "output_type": "stream",
          "text": [
            "Fontconfig warning: ignoring UTF-8: not a valid region tag\n"
          ]
        }
      ],
      "source": [
        "import os\n",
        "import random\n",
        "import pandas as pd\n",
        "import numpy as np\n",
        "import matplotlib.pyplot as plt\n",
        "from skimage.io import imread\n",
        "from glob import glob\n",
        "import warnings\n",
        "\n",
        "warnings.filterwarnings('ignore')\n",
        "%matplotlib inline\n",
        "\n",
        "import seaborn as sns\n",
        "from sklearn.metrics import classification_report\n",
        "from sklearn.metrics import confusion_matrix"
      ]
    },
    {
      "cell_type": "code",
      "execution_count": 37,
      "metadata": {},
      "outputs": [],
      "source": [
        "from pathlib import Path\n",
        "\n",
        "if os.name == 'nt':\n",
        "    file_path = 'C:\\\\JL\\\\Master\\\\DSE_I2100_Applied Machine Learning and Data Mining\\\\Final_Project\\\\lgg-mri-segmentation'\n",
        "else:\n",
        "    file_path = os.path.join(os.path.expanduser(\"~\"), \"Downloads/\")\n"
      ]
    },
    {
      "cell_type": "code",
      "execution_count": 38,
      "metadata": {},
      "outputs": [
        {
          "data": {
            "text/plain": [
              "'/Users/juanguerrero/Downloads/kaggle_3m/*/*_mask*'"
            ]
          },
          "execution_count": 38,
          "metadata": {},
          "output_type": "execute_result"
        }
      ],
      "source": [
        "os.path.join(os.path.expanduser('~'), 'Downloads/')+ os.path.join('kaggle_3m','*','*_mask*')"
      ]
    },
    {
      "cell_type": "code",
      "execution_count": 40,
      "metadata": {},
      "outputs": [],
      "source": [
        "# Set parameters\n",
        "Size = (256, 256)\n",
        "# mask_files = glob('../input/lgg-mri-segmentation/kaggle_3m/*/*_mask*')\n",
        "mask_files = glob(file_path + os.path.join('kaggle_3m','*','*_mask*'))\n",
        "train_files = [file.replace('_mask', '') for file in mask_files]"
      ]
    },
    {
      "cell_type": "code",
      "execution_count": 41,
      "metadata": {},
      "outputs": [],
      "source": [
        "\n",
        "def label(mask):\n",
        "    value = np.max(imread(mask))\n",
        "    return '1' if value > 0 else '0'\n",
        "df = pd.DataFrame({\"image\": train_files,\n",
        "                   \"mask\": mask_files,\n",
        "                  \"label\":[label(x) for x in mask_files]})"
      ]
    },
    {
      "cell_type": "code",
      "execution_count": 42,
      "metadata": {},
      "outputs": [
        {
          "data": {
            "text/plain": [
              "3929"
            ]
          },
          "execution_count": 42,
          "metadata": {},
          "output_type": "execute_result"
        }
      ],
      "source": [
        "len(train_files)"
      ]
    },
    {
      "cell_type": "code",
      "execution_count": 43,
      "metadata": {},
      "outputs": [
        {
          "data": {
            "text/html": [
              "<div>\n",
              "<style scoped>\n",
              "    .dataframe tbody tr th:only-of-type {\n",
              "        vertical-align: middle;\n",
              "    }\n",
              "\n",
              "    .dataframe tbody tr th {\n",
              "        vertical-align: top;\n",
              "    }\n",
              "\n",
              "    .dataframe thead th {\n",
              "        text-align: right;\n",
              "    }\n",
              "</style>\n",
              "<table border=\"1\" class=\"dataframe\">\n",
              "  <thead>\n",
              "    <tr style=\"text-align: right;\">\n",
              "      <th></th>\n",
              "      <th>image</th>\n",
              "      <th>mask</th>\n",
              "      <th>label</th>\n",
              "    </tr>\n",
              "  </thead>\n",
              "  <tbody>\n",
              "    <tr>\n",
              "      <th>0</th>\n",
              "      <td>/Users/juanguerrero/Downloads/kaggle_3m/TCGA_C...</td>\n",
              "      <td>/Users/juanguerrero/Downloads/kaggle_3m/TCGA_C...</td>\n",
              "      <td>0</td>\n",
              "    </tr>\n",
              "    <tr>\n",
              "      <th>1</th>\n",
              "      <td>/Users/juanguerrero/Downloads/kaggle_3m/TCGA_C...</td>\n",
              "      <td>/Users/juanguerrero/Downloads/kaggle_3m/TCGA_C...</td>\n",
              "      <td>0</td>\n",
              "    </tr>\n",
              "    <tr>\n",
              "      <th>2</th>\n",
              "      <td>/Users/juanguerrero/Downloads/kaggle_3m/TCGA_C...</td>\n",
              "      <td>/Users/juanguerrero/Downloads/kaggle_3m/TCGA_C...</td>\n",
              "      <td>0</td>\n",
              "    </tr>\n",
              "    <tr>\n",
              "      <th>3</th>\n",
              "      <td>/Users/juanguerrero/Downloads/kaggle_3m/TCGA_C...</td>\n",
              "      <td>/Users/juanguerrero/Downloads/kaggle_3m/TCGA_C...</td>\n",
              "      <td>0</td>\n",
              "    </tr>\n",
              "    <tr>\n",
              "      <th>4</th>\n",
              "      <td>/Users/juanguerrero/Downloads/kaggle_3m/TCGA_C...</td>\n",
              "      <td>/Users/juanguerrero/Downloads/kaggle_3m/TCGA_C...</td>\n",
              "      <td>0</td>\n",
              "    </tr>\n",
              "  </tbody>\n",
              "</table>\n",
              "</div>"
            ],
            "text/plain": [
              "                                               image  \\\n",
              "0  /Users/juanguerrero/Downloads/kaggle_3m/TCGA_C...   \n",
              "1  /Users/juanguerrero/Downloads/kaggle_3m/TCGA_C...   \n",
              "2  /Users/juanguerrero/Downloads/kaggle_3m/TCGA_C...   \n",
              "3  /Users/juanguerrero/Downloads/kaggle_3m/TCGA_C...   \n",
              "4  /Users/juanguerrero/Downloads/kaggle_3m/TCGA_C...   \n",
              "\n",
              "                                                mask label  \n",
              "0  /Users/juanguerrero/Downloads/kaggle_3m/TCGA_C...     0  \n",
              "1  /Users/juanguerrero/Downloads/kaggle_3m/TCGA_C...     0  \n",
              "2  /Users/juanguerrero/Downloads/kaggle_3m/TCGA_C...     0  \n",
              "3  /Users/juanguerrero/Downloads/kaggle_3m/TCGA_C...     0  \n",
              "4  /Users/juanguerrero/Downloads/kaggle_3m/TCGA_C...     0  "
            ]
          },
          "execution_count": 43,
          "metadata": {},
          "output_type": "execute_result"
        }
      ],
      "source": [
        "df.head()"
      ]
    },
    {
      "cell_type": "code",
      "execution_count": 44,
      "metadata": {},
      "outputs": [
        {
          "data": {
            "image/png": "[encoded data removed]",
            "text/plain": [
              "<Figure size 432x288 with 1 Axes>"
            ]
          },
          "metadata": {
            "needs_background": "light"
          },
          "output_type": "display_data"
        }
      ],
      "source": [
        "sns.countplot(data=df,x=df['label'])\n",
        "plt.title('Length Of Classes')\n",
        "plt.show()"
      ]
    },
    {
      "cell_type": "code",
      "execution_count": null,
      "metadata": {},
      "outputs": [],
      "source": []
    },
    {
      "cell_type": "markdown",
      "metadata": {},
      "source": [
        "# EDA"
      ]
    },
    {
      "cell_type": "markdown",
      "metadata": {},
      "source": []
    }
  ],
  "metadata": {
    "colab": {
      "name": "Part-Classification_Notebook.ipynb",
      "provenance": []
    },
    "kernelspec": {
      "display_name": "Python 3",
      "name": "python3"
    },
    "language_info": {
      "codemirror_mode": {
        "name": "ipython",
        "version": 3
      },
      "file_extension": ".py",
      "mimetype": "text/x-python",
      "name": "python",
      "nbconvert_exporter": "python",
      "pygments_lexer": "ipython3",
      "version": "3.9.7"
    }
  },
  "nbformat": 4,
  "nbformat_minor": 0
}
