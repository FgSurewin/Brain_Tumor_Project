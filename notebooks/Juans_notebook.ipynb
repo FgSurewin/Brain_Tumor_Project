{
 "cells": [
  {
   "cell_type": "code",
   "execution_count": 45,
   "metadata": {
    "id": "m5XIGXEkWHdS"
   },
   "outputs": [],
   "source": [
    "import os\n",
    "import random\n",
    "import pandas as pd\n",
    "import numpy as np\n",
    "import matplotlib.pyplot as plt\n",
    "from skimage.io import imread\n",
    "from glob import glob\n",
    "import warnings\n",
    "import cv2\n",
    "import time\n",
    "from skimage.color import rgb2gray\n",
    "\n",
    "warnings.filterwarnings('ignore')\n",
    "%matplotlib inline\n",
    "\n",
    "import seaborn as sns\n",
    "from sklearn.metrics import classification_report\n",
    "from sklearn.metrics import confusion_matrix\n",
    "from sklearn.metrics import ConfusionMatrixDisplay\n",
    "\n",
    "from sklearn.ensemble import RandomForestClassifier\n",
    "from sklearn.datasets import make_classification\n",
    "from sklearn import metrics\n",
    "from sklearn.decomposition import PCA\n",
    "\n",
    "from sklearn.svm import SVC"
   ]
  },
  {
   "cell_type": "code",
   "execution_count": 2,
   "metadata": {
    "id": "cdk3QGnyWNqD"
   },
   "outputs": [],
   "source": [
    "from pathlib import Path\n",
    "\n",
    "if os.name == 'nt':\n",
    "    file_path = 'C:\\\\JL\\\\Master\\\\DSE_I2100_Applied Machine Learning and Data Mining\\\\Final_Project\\\\lgg-mri-segmentation'\n",
    "else:\n",
    "    file_path = os.path.join(os.path.expanduser(\"~\"), \"Downloads/\")\n",
    "\n",
    "## Comment below if using outside of collab\n",
    "#file_path='/'"
   ]
  },
  {
   "cell_type": "code",
   "execution_count": 3,
   "metadata": {},
   "outputs": [
    {
     "data": {
      "text/plain": [
       "'/Users/juanguerrero/Downloads/'"
      ]
     },
     "execution_count": 3,
     "metadata": {},
     "output_type": "execute_result"
    }
   ],
   "source": [
    "file_path"
   ]
  },
  {
   "cell_type": "code",
   "execution_count": 4,
   "metadata": {
    "id": "5NiUUlXkWffi"
   },
   "outputs": [],
   "source": [
    "# Set parameters\n",
    "Size = (256, 256)\n",
    "mask_files = glob(file_path + os.path.join('kaggle_3m','*','*_mask*'))\n",
    "train_files = [file.replace('_mask', '') for file in mask_files]"
   ]
  },
  {
   "cell_type": "code",
   "execution_count": 5,
   "metadata": {
    "id": "7r-QOer4W6-u"
   },
   "outputs": [],
   "source": [
    "def label(mask):\n",
    "    value = np.max(imread(mask))\n",
    "    return '1' if value > 0 else '0'\n",
    "df = pd.DataFrame({\"image\": train_files,\n",
    "                   \"mask\": mask_files,\n",
    "                  \"label\":[label(x) for x in mask_files]})"
   ]
  },
  {
   "cell_type": "code",
   "execution_count": 6,
   "metadata": {
    "colab": {
     "base_uri": "https://localhost:8080/"
    },
    "id": "ss4AtyZbXYjr",
    "outputId": "f3d040b4-7cf6-4d5b-c908-9a98fed8a180"
   },
   "outputs": [
    {
     "data": {
      "text/plain": [
       "(3929, 3)"
      ]
     },
     "execution_count": 6,
     "metadata": {},
     "output_type": "execute_result"
    }
   ],
   "source": [
    "df.shape"
   ]
  },
  {
   "cell_type": "code",
   "execution_count": 7,
   "metadata": {
    "colab": {
     "base_uri": "https://localhost:8080/",
     "height": 206
    },
    "id": "ozGMEfZMXEzS",
    "outputId": "7751f4cf-8772-4adb-9744-962d392ef729"
   },
   "outputs": [
    {
     "data": {
      "text/html": [
       "<div>\n",
       "<style scoped>\n",
       "    .dataframe tbody tr th:only-of-type {\n",
       "        vertical-align: middle;\n",
       "    }\n",
       "\n",
       "    .dataframe tbody tr th {\n",
       "        vertical-align: top;\n",
       "    }\n",
       "\n",
       "    .dataframe thead th {\n",
       "        text-align: right;\n",
       "    }\n",
       "</style>\n",
       "<table border=\"1\" class=\"dataframe\">\n",
       "  <thead>\n",
       "    <tr style=\"text-align: right;\">\n",
       "      <th></th>\n",
       "      <th>image</th>\n",
       "      <th>mask</th>\n",
       "      <th>label</th>\n",
       "    </tr>\n",
       "  </thead>\n",
       "  <tbody>\n",
       "    <tr>\n",
       "      <th>0</th>\n",
       "      <td>/Users/juanguerrero/Downloads/kaggle_3m/TCGA_C...</td>\n",
       "      <td>/Users/juanguerrero/Downloads/kaggle_3m/TCGA_C...</td>\n",
       "      <td>0</td>\n",
       "    </tr>\n",
       "    <tr>\n",
       "      <th>1</th>\n",
       "      <td>/Users/juanguerrero/Downloads/kaggle_3m/TCGA_C...</td>\n",
       "      <td>/Users/juanguerrero/Downloads/kaggle_3m/TCGA_C...</td>\n",
       "      <td>0</td>\n",
       "    </tr>\n",
       "    <tr>\n",
       "      <th>2</th>\n",
       "      <td>/Users/juanguerrero/Downloads/kaggle_3m/TCGA_C...</td>\n",
       "      <td>/Users/juanguerrero/Downloads/kaggle_3m/TCGA_C...</td>\n",
       "      <td>0</td>\n",
       "    </tr>\n",
       "    <tr>\n",
       "      <th>3</th>\n",
       "      <td>/Users/juanguerrero/Downloads/kaggle_3m/TCGA_C...</td>\n",
       "      <td>/Users/juanguerrero/Downloads/kaggle_3m/TCGA_C...</td>\n",
       "      <td>0</td>\n",
       "    </tr>\n",
       "    <tr>\n",
       "      <th>4</th>\n",
       "      <td>/Users/juanguerrero/Downloads/kaggle_3m/TCGA_C...</td>\n",
       "      <td>/Users/juanguerrero/Downloads/kaggle_3m/TCGA_C...</td>\n",
       "      <td>0</td>\n",
       "    </tr>\n",
       "  </tbody>\n",
       "</table>\n",
       "</div>"
      ],
      "text/plain": [
       "                                               image  \\\n",
       "0  /Users/juanguerrero/Downloads/kaggle_3m/TCGA_C...   \n",
       "1  /Users/juanguerrero/Downloads/kaggle_3m/TCGA_C...   \n",
       "2  /Users/juanguerrero/Downloads/kaggle_3m/TCGA_C...   \n",
       "3  /Users/juanguerrero/Downloads/kaggle_3m/TCGA_C...   \n",
       "4  /Users/juanguerrero/Downloads/kaggle_3m/TCGA_C...   \n",
       "\n",
       "                                                mask label  \n",
       "0  /Users/juanguerrero/Downloads/kaggle_3m/TCGA_C...     0  \n",
       "1  /Users/juanguerrero/Downloads/kaggle_3m/TCGA_C...     0  \n",
       "2  /Users/juanguerrero/Downloads/kaggle_3m/TCGA_C...     0  \n",
       "3  /Users/juanguerrero/Downloads/kaggle_3m/TCGA_C...     0  \n",
       "4  /Users/juanguerrero/Downloads/kaggle_3m/TCGA_C...     0  "
      ]
     },
     "execution_count": 7,
     "metadata": {},
     "output_type": "execute_result"
    }
   ],
   "source": [
    "df.head()"
   ]
  },
  {
   "cell_type": "code",
   "execution_count": 8,
   "metadata": {
    "colab": {
     "base_uri": "https://localhost:8080/",
     "height": 295
    },
    "id": "Mj_QUNRUXGhV",
    "outputId": "cb60ac44-3a15-4099-8322-7476f163e8ce"
   },
   "outputs": [
    {
     "data": {
      "image/png": "[encoded data removed]",
      "text/plain": [
       "<Figure size 432x288 with 1 Axes>"
      ]
     },
     "metadata": {
      "needs_background": "light"
     },
     "output_type": "display_data"
    }
   ],
   "source": [
    "sns.countplot(data=df,x=df['label'])\n",
    "plt.title('Length Of Classes')\n",
    "plt.show()"
   ]
  },
  {
   "cell_type": "code",
   "execution_count": 9,
   "metadata": {
    "id": "7wG7LV98o02_"
   },
   "outputs": [],
   "source": [
    "from skimage.color import rgb2gray\n",
    "\n",
    "image_dataset = []\n",
    "\n",
    "for path in df[\"image\"]:\n",
    "  image_dataset.append(rgb2gray(cv2.imread(path)).reshape(-1))\n",
    "\n",
    "image_dataset_np = np.array(image_dataset)\n",
    "\n",
    "\n",
    "image_df = pd.DataFrame(image_dataset_np)"
   ]
  },
  {
   "cell_type": "code",
   "execution_count": 10,
   "metadata": {
    "colab": {
     "base_uri": "https://localhost:8080/",
     "height": 236
    },
    "id": "MK57ZfRWo05f",
    "outputId": "67ca6040-53d8-4d57-e6a6-694a17922c2b"
   },
   "outputs": [
    {
     "data": {
      "text/html": [
       "<div>\n",
       "<style scoped>\n",
       "    .dataframe tbody tr th:only-of-type {\n",
       "        vertical-align: middle;\n",
       "    }\n",
       "\n",
       "    .dataframe tbody tr th {\n",
       "        vertical-align: top;\n",
       "    }\n",
       "\n",
       "    .dataframe thead th {\n",
       "        text-align: right;\n",
       "    }\n",
       "</style>\n",
       "<table border=\"1\" class=\"dataframe\">\n",
       "  <thead>\n",
       "    <tr style=\"text-align: right;\">\n",
       "      <th></th>\n",
       "      <th>0</th>\n",
       "      <th>1</th>\n",
       "      <th>2</th>\n",
       "      <th>3</th>\n",
       "      <th>4</th>\n",
       "      <th>5</th>\n",
       "      <th>6</th>\n",
       "      <th>7</th>\n",
       "      <th>8</th>\n",
       "      <th>9</th>\n",
       "      <th>...</th>\n",
       "      <th>65526</th>\n",
       "      <th>65527</th>\n",
       "      <th>65528</th>\n",
       "      <th>65529</th>\n",
       "      <th>65530</th>\n",
       "      <th>65531</th>\n",
       "      <th>65532</th>\n",
       "      <th>65533</th>\n",
       "      <th>65534</th>\n",
       "      <th>65535</th>\n",
       "    </tr>\n",
       "  </thead>\n",
       "  <tbody>\n",
       "    <tr>\n",
       "      <th>0</th>\n",
       "      <td>0.003639</td>\n",
       "      <td>0.003639</td>\n",
       "      <td>0.003639</td>\n",
       "      <td>0.003639</td>\n",
       "      <td>0.003639</td>\n",
       "      <td>0.003639</td>\n",
       "      <td>0.003639</td>\n",
       "      <td>0.003639</td>\n",
       "      <td>0.003639</td>\n",
       "      <td>0.003639</td>\n",
       "      <td>...</td>\n",
       "      <td>0.000833</td>\n",
       "      <td>0.000833</td>\n",
       "      <td>0.000833</td>\n",
       "      <td>0.000833</td>\n",
       "      <td>0.000833</td>\n",
       "      <td>0.000833</td>\n",
       "      <td>0.000833</td>\n",
       "      <td>0.000833</td>\n",
       "      <td>0.000833</td>\n",
       "      <td>0.000833</td>\n",
       "    </tr>\n",
       "    <tr>\n",
       "      <th>1</th>\n",
       "      <td>0.003639</td>\n",
       "      <td>0.003639</td>\n",
       "      <td>0.003639</td>\n",
       "      <td>0.003639</td>\n",
       "      <td>0.003639</td>\n",
       "      <td>0.003639</td>\n",
       "      <td>0.003639</td>\n",
       "      <td>0.003639</td>\n",
       "      <td>0.003639</td>\n",
       "      <td>0.003639</td>\n",
       "      <td>...</td>\n",
       "      <td>0.000833</td>\n",
       "      <td>0.000833</td>\n",
       "      <td>0.000833</td>\n",
       "      <td>0.000833</td>\n",
       "      <td>0.000833</td>\n",
       "      <td>0.000833</td>\n",
       "      <td>0.000833</td>\n",
       "      <td>0.000833</td>\n",
       "      <td>0.000833</td>\n",
       "      <td>0.000833</td>\n",
       "    </tr>\n",
       "    <tr>\n",
       "      <th>2</th>\n",
       "      <td>0.003639</td>\n",
       "      <td>0.003639</td>\n",
       "      <td>0.003639</td>\n",
       "      <td>0.003639</td>\n",
       "      <td>0.003639</td>\n",
       "      <td>0.003922</td>\n",
       "      <td>0.003922</td>\n",
       "      <td>0.003922</td>\n",
       "      <td>0.003922</td>\n",
       "      <td>0.003922</td>\n",
       "      <td>...</td>\n",
       "      <td>0.000833</td>\n",
       "      <td>0.000833</td>\n",
       "      <td>0.000833</td>\n",
       "      <td>0.000833</td>\n",
       "      <td>0.000833</td>\n",
       "      <td>0.000833</td>\n",
       "      <td>0.000833</td>\n",
       "      <td>0.000833</td>\n",
       "      <td>0.000833</td>\n",
       "      <td>0.000833</td>\n",
       "    </tr>\n",
       "    <tr>\n",
       "      <th>3</th>\n",
       "      <td>0.003639</td>\n",
       "      <td>0.003639</td>\n",
       "      <td>0.003639</td>\n",
       "      <td>0.003639</td>\n",
       "      <td>0.003639</td>\n",
       "      <td>0.003639</td>\n",
       "      <td>0.003639</td>\n",
       "      <td>0.003639</td>\n",
       "      <td>0.003639</td>\n",
       "      <td>0.003639</td>\n",
       "      <td>...</td>\n",
       "      <td>0.000833</td>\n",
       "      <td>0.000833</td>\n",
       "      <td>0.000833</td>\n",
       "      <td>0.000833</td>\n",
       "      <td>0.000833</td>\n",
       "      <td>0.000833</td>\n",
       "      <td>0.000833</td>\n",
       "      <td>0.000833</td>\n",
       "      <td>0.000833</td>\n",
       "      <td>0.000833</td>\n",
       "    </tr>\n",
       "    <tr>\n",
       "      <th>4</th>\n",
       "      <td>0.003639</td>\n",
       "      <td>0.003639</td>\n",
       "      <td>0.003639</td>\n",
       "      <td>0.003639</td>\n",
       "      <td>0.003639</td>\n",
       "      <td>0.003639</td>\n",
       "      <td>0.003639</td>\n",
       "      <td>0.003639</td>\n",
       "      <td>0.003639</td>\n",
       "      <td>0.003639</td>\n",
       "      <td>...</td>\n",
       "      <td>0.000833</td>\n",
       "      <td>0.000833</td>\n",
       "      <td>0.000833</td>\n",
       "      <td>0.000833</td>\n",
       "      <td>0.000833</td>\n",
       "      <td>0.000833</td>\n",
       "      <td>0.000833</td>\n",
       "      <td>0.000833</td>\n",
       "      <td>0.000833</td>\n",
       "      <td>0.000833</td>\n",
       "    </tr>\n",
       "  </tbody>\n",
       "</table>\n",
       "<p>5 rows × 65536 columns</p>\n",
       "</div>"
      ],
      "text/plain": [
       "      0         1         2         3         4         5         6      \\\n",
       "0  0.003639  0.003639  0.003639  0.003639  0.003639  0.003639  0.003639   \n",
       "1  0.003639  0.003639  0.003639  0.003639  0.003639  0.003639  0.003639   \n",
       "2  0.003639  0.003639  0.003639  0.003639  0.003639  0.003922  0.003922   \n",
       "3  0.003639  0.003639  0.003639  0.003639  0.003639  0.003639  0.003639   \n",
       "4  0.003639  0.003639  0.003639  0.003639  0.003639  0.003639  0.003639   \n",
       "\n",
       "      7         8         9      ...     65526     65527     65528     65529  \\\n",
       "0  0.003639  0.003639  0.003639  ...  0.000833  0.000833  0.000833  0.000833   \n",
       "1  0.003639  0.003639  0.003639  ...  0.000833  0.000833  0.000833  0.000833   \n",
       "2  0.003922  0.003922  0.003922  ...  0.000833  0.000833  0.000833  0.000833   \n",
       "3  0.003639  0.003639  0.003639  ...  0.000833  0.000833  0.000833  0.000833   \n",
       "4  0.003639  0.003639  0.003639  ...  0.000833  0.000833  0.000833  0.000833   \n",
       "\n",
       "      65530     65531     65532     65533     65534     65535  \n",
       "0  0.000833  0.000833  0.000833  0.000833  0.000833  0.000833  \n",
       "1  0.000833  0.000833  0.000833  0.000833  0.000833  0.000833  \n",
       "2  0.000833  0.000833  0.000833  0.000833  0.000833  0.000833  \n",
       "3  0.000833  0.000833  0.000833  0.000833  0.000833  0.000833  \n",
       "4  0.000833  0.000833  0.000833  0.000833  0.000833  0.000833  \n",
       "\n",
       "[5 rows x 65536 columns]"
      ]
     },
     "execution_count": 10,
     "metadata": {},
     "output_type": "execute_result"
    }
   ],
   "source": [
    "image_df.head()"
   ]
  },
  {
   "cell_type": "code",
   "execution_count": 11,
   "metadata": {
    "colab": {
     "base_uri": "https://localhost:8080/"
    },
    "id": "5MZRIQlio08I",
    "outputId": "58569729-4fd6-41bc-dfc1-eefaa6dd5f52"
   },
   "outputs": [
    {
     "name": "stdout",
     "output_type": "stream",
     "text": [
      "(3929, 65536)\n",
      "(3929,)\n"
     ]
    }
   ],
   "source": [
    "from sklearn.model_selection import train_test_split\n",
    "\n",
    "X = image_df\n",
    "y = df.label\n",
    "\n",
    "print(X.shape)\n",
    "print(y.shape)\n",
    " \n",
    "X_train, X_test, y_train, y_test = train_test_split(X, y, test_size=0.33, random_state=42)\n"
   ]
  },
  {
   "cell_type": "markdown",
   "metadata": {},
   "source": [
    "### Run a Random Forest classifier without any image pre-processing"
   ]
  },
  {
   "cell_type": "markdown",
   "metadata": {},
   "source": [
    "#### Initialize and train"
   ]
  },
  {
   "cell_type": "code",
   "execution_count": 14,
   "metadata": {},
   "outputs": [
    {
     "name": "stdout",
     "output_type": "stream",
     "text": [
      "Total time to initialize and train the classifier:  95.74980616569519 seconds\n"
     ]
    }
   ],
   "source": [
    "start = time.time()\n",
    "clf = RandomForestClassifier(n_estimators=300 ,random_state=0)\n",
    "clf.fit(X_train, y_train)\n",
    "end = time.time()\n",
    "print('Total time to initialize and train the classifier: ', end-start, 'seconds')"
   ]
  },
  {
   "cell_type": "markdown",
   "metadata": {},
   "source": [
    "#### Predict"
   ]
  },
  {
   "cell_type": "code",
   "execution_count": 15,
   "metadata": {},
   "outputs": [
    {
     "name": "stdout",
     "output_type": "stream",
     "text": [
      "Total time to make a prediction on the test dataset:  0.9115760326385498 seconds\n"
     ]
    }
   ],
   "source": [
    "start = time.time()\n",
    "ytest_pred = clf.predict(X_test)\n",
    "end = time.time()\n",
    "print('Total time to make a prediction on the test dataset: ', end-start, 'seconds')"
   ]
  },
  {
   "cell_type": "markdown",
   "metadata": {
    "id": "rzv-p09kPGJb"
   },
   "source": [
    "### Image Compression using PCA"
   ]
  },
  {
   "cell_type": "markdown",
   "metadata": {},
   "source": [
    "We will use PCA to choose the right number of dimensions (i.e the right number of principal components)"
   ]
  },
  {
   "cell_type": "code",
   "execution_count": 17,
   "metadata": {
    "id": "MeMEZWuiSDF1"
   },
   "outputs": [],
   "source": [
    "pca = PCA()"
   ]
  },
  {
   "cell_type": "code",
   "execution_count": 18,
   "metadata": {
    "id": "Mrqr6odzSfij"
   },
   "outputs": [
    {
     "data": {
      "text/plain": [
       "PCA()"
      ]
     },
     "execution_count": 18,
     "metadata": {},
     "output_type": "execute_result"
    }
   ],
   "source": [
    "pca.fit(image_df)"
   ]
  },
  {
   "cell_type": "code",
   "execution_count": 19,
   "metadata": {
    "id": "BlOWlGJ2S7ca"
   },
   "outputs": [
    {
     "data": {
      "image/png": "[encoded data removed]",
      "text/plain": [
       "<Figure size 432x288 with 1 Axes>"
      ]
     },
     "metadata": {
      "needs_background": "light"
     },
     "output_type": "display_data"
    }
   ],
   "source": [
    "plt.grid()\n",
    "plt.plot(np.cumsum(pca.explained_variance_ratio_*100))\n",
    "plt.xlabel('Number of components')\n",
    "plt.ylabel('Explained variance')\n",
    "plt.show()"
   ]
  },
  {
   "cell_type": "markdown",
   "metadata": {},
   "source": [
    "#### PCA with 10 components"
   ]
  },
  {
   "cell_type": "markdown",
   "metadata": {},
   "source": [
    "Lets try out the first 10 components to compress the image. As you may notice, the first 10 components might not capture all of the variability from the original data thus genreating a blurry image."
   ]
  },
  {
   "cell_type": "code",
   "execution_count": 20,
   "metadata": {},
   "outputs": [],
   "source": [
    "pca_10 = PCA(n_components=10)\n",
    "pca_reduced_10 = pca_10.fit_transform(image_df)\n",
    "pca_recovered_10 = pca_10.inverse_transform(pca_reduced_10)"
   ]
  },
  {
   "cell_type": "code",
   "execution_count": 21,
   "metadata": {},
   "outputs": [
    {
     "data": {
      "image/png": "[encoded data removed]",
      "text/plain": [
       "<Figure size 432x288 with 1 Axes>"
      ]
     },
     "metadata": {
      "needs_background": "light"
     },
     "output_type": "display_data"
    }
   ],
   "source": [
    "img_pca_10 = pca_recovered_10[1,:].reshape([256,256])\n",
    "plt.imshow(img_pca_10, cmap='gray_r')\n",
    "plt.title('Compressed image with 10 components', fontsize=15, pad=15)\n",
    "plt.show()"
   ]
  },
  {
   "cell_type": "markdown",
   "metadata": {},
   "source": [
    "#### PCA with 1000 components "
   ]
  },
  {
   "cell_type": "markdown",
   "metadata": {},
   "source": [
    "Next lets try 1000 components and view the image to see if the clarity increased"
   ]
  },
  {
   "cell_type": "code",
   "execution_count": 22,
   "metadata": {},
   "outputs": [],
   "source": [
    "pca_1000 = PCA(n_components=1000)\n",
    "pca_reduced_1000 = pca_1000.fit_transform(image_df)\n",
    "pca_recovered_1000 = pca_1000.inverse_transform(pca_reduced_1000)"
   ]
  },
  {
   "cell_type": "code",
   "execution_count": 23,
   "metadata": {},
   "outputs": [
    {
     "data": {
      "image/png": "[encoded data removed]",
      "text/plain": [
       "<Figure size 432x288 with 1 Axes>"
      ]
     },
     "metadata": {
      "needs_background": "light"
     },
     "output_type": "display_data"
    }
   ],
   "source": [
    "img_pca_1000 = pca_recovered_1000[1,:].reshape([256,256])\n",
    "plt.imshow(img_pca_1000, cmap='gray_r')\n",
    "plt.title('Compressed image with 1000 components', fontsize=15, pad=15)\n",
    "plt.show()"
   ]
  },
  {
   "cell_type": "markdown",
   "metadata": {},
   "source": [
    "#### PCA with 90% of the components"
   ]
  },
  {
   "cell_type": "markdown",
   "metadata": {},
   "source": [
    "It seems that we can get away with using the number of components that yield 90% of the overall variability. This number is exactly 329 components"
   ]
  },
  {
   "cell_type": "code",
   "execution_count": 24,
   "metadata": {},
   "outputs": [],
   "source": [
    "pca_90_percent = PCA(n_components=.9)\n",
    "pca_reduced_90_percent = pca_90_percent.fit_transform(image_df)\n",
    "pca_recovered_90_percent = pca_90_percent.inverse_transform(pca_reduced_90_percent)"
   ]
  },
  {
   "cell_type": "code",
   "execution_count": 25,
   "metadata": {},
   "outputs": [
    {
     "data": {
      "image/png": "[encoded data removed]",
      "text/plain": [
       "<Figure size 432x288 with 1 Axes>"
      ]
     },
     "metadata": {
      "needs_background": "light"
     },
     "output_type": "display_data"
    }
   ],
   "source": [
    "pca_90_percent_img = pca_recovered_90_percent[1,:].reshape([256,256])\n",
    "plt.imshow(pca_90_percent_img, cmap='gray_r')\n",
    "plt.title('Compressed image with 90% components', fontsize=15, pad=15)\n",
    "plt.show()"
   ]
  },
  {
   "cell_type": "code",
   "execution_count": 26,
   "metadata": {},
   "outputs": [
    {
     "data": {
      "text/plain": [
       "(3929, 329)"
      ]
     },
     "execution_count": 26,
     "metadata": {},
     "output_type": "execute_result"
    }
   ],
   "source": [
    "pca_reduced_90_percent.shape"
   ]
  },
  {
   "cell_type": "code",
   "execution_count": 27,
   "metadata": {},
   "outputs": [
    {
     "name": "stdout",
     "output_type": "stream",
     "text": [
      "(3929, 329)\n"
     ]
    }
   ],
   "source": [
    "## Re-assign the X value and re-run a train-test split\n",
    "\n",
    "X = pca_reduced_90_percent\n",
    "\n",
    "## Check the shape\n",
    "print(X.shape)\n",
    " \n",
    "X_train, X_test, y_train, y_test = train_test_split(X, y, test_size=0.33, random_state=42)"
   ]
  },
  {
   "cell_type": "markdown",
   "metadata": {},
   "source": [
    "#### Re run the Random Forest Classifier and read its performance"
   ]
  },
  {
   "cell_type": "markdown",
   "metadata": {},
   "source": [
    "##### Initialize and train"
   ]
  },
  {
   "cell_type": "code",
   "execution_count": 47,
   "metadata": {},
   "outputs": [
    {
     "name": "stdout",
     "output_type": "stream",
     "text": [
      "Total time to initialize and train the classifier:  6.66703987121582 seconds\n"
     ]
    }
   ],
   "source": [
    "start = time.time()\n",
    "clf = RandomForestClassifier(n_estimators=300 ,random_state=0)\n",
    "clf.fit(X_train, y_train)\n",
    "end = time.time()\n",
    "print('Total time to initialize and train the classifier: ', end-start, 'seconds')"
   ]
  },
  {
   "cell_type": "markdown",
   "metadata": {},
   "source": [
    "##### Predict"
   ]
  },
  {
   "cell_type": "code",
   "execution_count": 48,
   "metadata": {},
   "outputs": [
    {
     "name": "stdout",
     "output_type": "stream",
     "text": [
      "Total time to make a prediction on the test dataset:  0.07030105590820312 seconds\n"
     ]
    }
   ],
   "source": [
    "start = time.time()\n",
    "ytest_pred = clf.predict(X_test)\n",
    "end = time.time()\n",
    "print('Total time to make a prediction on the test dataset: ', end-start, 'seconds')"
   ]
  },
  {
   "cell_type": "code",
   "execution_count": 49,
   "metadata": {},
   "outputs": [
    {
     "name": "stdout",
     "output_type": "stream",
     "text": [
      "Accuracy RF=  0.843484965304549\n"
     ]
    }
   ],
   "source": [
    "print (\"Accuracy RF= \", metrics.accuracy_score(y_test,ytest_pred))"
   ]
  },
  {
   "cell_type": "code",
   "execution_count": 61,
   "metadata": {},
   "outputs": [
    {
     "name": "stdout",
     "output_type": "stream",
     "text": [
      "              =======Classification Report RF========\n",
      "\n",
      "              precision    recall  f1-score   support\n",
      "\n",
      "           0       0.82      0.98      0.89       852\n",
      "           1       0.94      0.58      0.72       445\n",
      "\n",
      "    accuracy                           0.84      1297\n",
      "   macro avg       0.88      0.78      0.80      1297\n",
      "weighted avg       0.86      0.84      0.83      1297\n",
      "\n"
     ]
    }
   ],
   "source": [
    "print('              =======Classification Report RF========')\n",
    "print('')\n",
    "print (metrics.classification_report(y_test,ytest_pred))"
   ]
  },
  {
   "cell_type": "code",
   "execution_count": 51,
   "metadata": {},
   "outputs": [],
   "source": [
    "cm = confusion_matrix(y_test,ytest_pred)"
   ]
  },
  {
   "cell_type": "code",
   "execution_count": 52,
   "metadata": {},
   "outputs": [
    {
     "data": {
      "image/png": "[encoded data removed]",
      "text/plain": [
       "<Figure size 432x288 with 2 Axes>"
      ]
     },
     "metadata": {
      "needs_background": "light"
     },
     "output_type": "display_data"
    }
   ],
   "source": [
    "cm_display = ConfusionMatrixDisplay(cm).plot()"
   ]
  },
  {
   "cell_type": "markdown",
   "metadata": {},
   "source": [
    "### Lets now run a support vector machine classifier"
   ]
  },
  {
   "cell_type": "markdown",
   "metadata": {},
   "source": [
    "#### Initialize and train"
   ]
  },
  {
   "cell_type": "code",
   "execution_count": 62,
   "metadata": {},
   "outputs": [
    {
     "name": "stdout",
     "output_type": "stream",
     "text": [
      "Total time to initialize and train the classifier:  0.5572559833526611 seconds\n"
     ]
    }
   ],
   "source": [
    "start = time.time()\n",
    "SVM = SVC(kernel='rbf')\n",
    "SVM.fit(X_train,y_train)\n",
    "end = time.time()\n",
    "print('Total time to initialize and train the classifier: ', end-start, 'seconds')"
   ]
  },
  {
   "cell_type": "markdown",
   "metadata": {},
   "source": [
    "#### Predict"
   ]
  },
  {
   "cell_type": "code",
   "execution_count": 63,
   "metadata": {},
   "outputs": [
    {
     "name": "stdout",
     "output_type": "stream",
     "text": [
      "Total time to make a prediction on the test dataset:  0.41004276275634766 seconds\n"
     ]
    }
   ],
   "source": [
    "start = time.time()\n",
    "ytest_pred = SVM.predict(X_test)\n",
    "end = time.time()\n",
    "print('Total time to make a prediction on the test dataset: ', end-start, 'seconds')"
   ]
  },
  {
   "cell_type": "code",
   "execution_count": 64,
   "metadata": {},
   "outputs": [
    {
     "name": "stdout",
     "output_type": "stream",
     "text": [
      "Accuracy SVM=  0.8797224363916731\n"
     ]
    }
   ],
   "source": [
    "print (\"Accuracy SVM= \", metrics.accuracy_score(y_test,ytest_pred))"
   ]
  },
  {
   "cell_type": "code",
   "execution_count": 65,
   "metadata": {},
   "outputs": [
    {
     "name": "stdout",
     "output_type": "stream",
     "text": [
      "              =======Classification Report SVM========\n",
      "\n",
      "              precision    recall  f1-score   support\n",
      "\n",
      "           0       0.90      0.92      0.91       852\n",
      "           1       0.84      0.81      0.82       445\n",
      "\n",
      "    accuracy                           0.88      1297\n",
      "   macro avg       0.87      0.86      0.87      1297\n",
      "weighted avg       0.88      0.88      0.88      1297\n",
      "\n"
     ]
    }
   ],
   "source": [
    "print('              =======Classification Report SVM========')\n",
    "print('')\n",
    "print (metrics.classification_report(y_test,ytest_pred))"
   ]
  },
  {
   "cell_type": "code",
   "execution_count": 66,
   "metadata": {},
   "outputs": [],
   "source": [
    "cm = confusion_matrix(y_test,ytest_pred)"
   ]
  },
  {
   "cell_type": "code",
   "execution_count": 67,
   "metadata": {},
   "outputs": [
    {
     "data": {
      "image/png": "[encoded data removed]",
      "text/plain": [
       "<Figure size 432x288 with 2 Axes>"
      ]
     },
     "metadata": {
      "needs_background": "light"
     },
     "output_type": "display_data"
    }
   ],
   "source": [
    "cm_display = ConfusionMatrixDisplay(cm).plot()"
   ]
  },
  {
   "cell_type": "code",
   "execution_count": 68,
   "metadata": {},
   "outputs": [
    {
     "name": "stdout",
     "output_type": "stream",
     "text": [
      "/Users/juanguerrero/Desktop/ML Project/Brain_Tumor_Project/notebooks\r\n"
     ]
    }
   ],
   "source": [
    "!pwd"
   ]
  },
  {
   "cell_type": "markdown",
   "metadata": {
    "id": "AlJ0hZxPYZVh"
   },
   "source": [
    "### TODO's\n",
    "- Research what other EDA techniques we can apply to the images\n",
    "- Apply some sort of Visualization.\n",
    "- Data Augmentation to balance images (Check for class imbalance)\n",
    "\n",
    "\n",
    "### Resources\n",
    "- [EDA for Image Classification](https://medium.com/geekculture/eda-for-image-classification-dcada9f2567a)\n",
    "- [How to Do Data Exploration for Image Segmentation and Object Detection (Things I Had to Learn the Hard Way) | Neptune Blog](https://neptune.ai/blog/data-exploration-for-image-segmentation-and-object-detection)\n",
    "- [Exploratory Data Analysis Ideas for Image Classification](https://towardsdatascience.com/exploratory-data-analysis-ideas-for-image-classification-d3fc6bbfb2d2)\n",
    "- [4 Ways to Improve Class Imbalance for Image Data](https://towardsdatascience.com/4-ways-to-improve-class-imbalance-for-image-data-9adec8f390f1)\n",
    "\n",
    "\n",
    "\n",
    "### Videos\n",
    "- [Image classification using traditional machine learning](https://www.youtube.com/watch?v=nK-2k_ENgEc)\n",
    "- [Working with imbalanced data during machine learning training](https://www.youtube.com/watch?v=kus4kmDhfdM)\n",
    "- [Feature selection for speeding up machine learning training​](https://www.youtube.com/watch?v=xvmtpWGBLjI&list=PLHae9ggVvqPgyRQQOtENr6hK0m1UquGaG&index=93)\n",
    "- [Deep Learning terminology explained - Data augmentation](https://www.youtube.com/watch?v=_bahDWWufCc&list=PLHae9ggVvqPgyRQQOtENr6hK0m1UquGaG&index=107)\n",
    "- [Binary Classification using Deep Learning](https://www.youtube.com/watch?v=L-flsWk692E&list=PLHae9ggVvqPgyRQQOtENr6hK0m1UquGaG&index=114)\n",
    "- [Binary semantic segmentation using U-Net (in Keras)](https://www.youtube.com/watch?v=oBIkr7CAE6g&list=PLHae9ggVvqPgyRQQOtENr6hK0m1UquGaG&index=122)"
   ]
  },
  {
   "cell_type": "code",
   "execution_count": null,
   "metadata": {
    "id": "7wKpJezkYWN2"
   },
   "outputs": [],
   "source": []
  },
  {
   "cell_type": "markdown",
   "metadata": {
    "id": "S2qti1llaECH"
   },
   "source": [
    "## Feature Selection"
   ]
  },
  {
   "cell_type": "code",
   "execution_count": null,
   "metadata": {
    "id": "Hs46VcOqaJA0"
   },
   "outputs": [],
   "source": []
  },
  {
   "cell_type": "markdown",
   "metadata": {
    "id": "Vq6bqHOcaRCb"
   },
   "source": [
    "## Classification"
   ]
  },
  {
   "cell_type": "code",
   "execution_count": null,
   "metadata": {
    "id": "2nKG8OZGaZxx"
   },
   "outputs": [],
   "source": []
  },
  {
   "cell_type": "markdown",
   "metadata": {
    "id": "LlutAq--ahjL"
   },
   "source": [
    "### Evaluation and Conclusion"
   ]
  },
  {
   "cell_type": "markdown",
   "metadata": {
    "id": "v_ayrYrPabW_"
   },
   "source": [
    "## Segmentation"
   ]
  },
  {
   "cell_type": "code",
   "execution_count": null,
   "metadata": {
    "id": "5437CluzadJS"
   },
   "outputs": [],
   "source": []
  },
  {
   "cell_type": "markdown",
   "metadata": {
    "id": "knIWfXvhatHD"
   },
   "source": [
    "### Evaluation and Conclusion"
   ]
  },
  {
   "cell_type": "code",
   "execution_count": null,
   "metadata": {
    "id": "EHoTOR8EayT0"
   },
   "outputs": [],
   "source": []
  }
 ],
 "metadata": {
  "colab": {
   "collapsed_sections": [],
   "name": "Copy of ML_Project_Colab.ipynb",
   "provenance": []
  },
  "kernelspec": {
   "display_name": "Python 3 (ipykernel)",
   "language": "python",
   "name": "python3"
  },
  "language_info": {
   "codemirror_mode": {
    "name": "ipython",
    "version": 3
   },
   "file_extension": ".py",
   "mimetype": "text/x-python",
   "name": "python",
   "nbconvert_exporter": "python",
   "pygments_lexer": "ipython3",
   "version": "3.9.7"
  }
 },
 "nbformat": 4,
 "nbformat_minor": 1
}
