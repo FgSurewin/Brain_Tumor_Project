{
 "cells": [
  {
   "cell_type": "code",
   "execution_count": 205,
   "metadata": {
    "id": "m5XIGXEkWHdS"
   },
   "outputs": [],
   "source": [
    "import os\n",
    "import random\n",
    "import pandas as pd\n",
    "import numpy as np\n",
    "import matplotlib.pyplot as plt\n",
    "from skimage.io import imread\n",
    "from glob import glob\n",
    "import warnings\n",
    "import cv2\n",
    "import time\n",
    "from skimage.color import rgb2gray\n",
    "\n",
    "warnings.filterwarnings('ignore')\n",
    "%matplotlib inline\n",
    "\n",
    "import seaborn as sns\n",
    "from sklearn.metrics import classification_report\n",
    "from sklearn.metrics import confusion_matrix\n",
    "from sklearn.metrics import ConfusionMatrixDisplay\n",
    "from sklearn.metrics import roc_curve, auc\n",
    "from sklearn.metrics import roc_auc_score\n",
    "from sklearn.preprocessing import label_binarize\n",
    "\n",
    "from sklearn.model_selection import cross_val_score\n",
    "\n",
    "from sklearn.pipeline import Pipeline\n",
    "\n",
    "from sklearn.ensemble import RandomForestClassifier\n",
    "from sklearn.ensemble import VotingClassifier\n",
    "from sklearn.datasets import make_classification\n",
    "from sklearn import metrics\n",
    "from sklearn.decomposition import PCA\n",
    "\n",
    "from sklearn.svm import SVC"
   ]
  },
  {
   "cell_type": "code",
   "execution_count": 2,
   "metadata": {
    "id": "cdk3QGnyWNqD"
   },
   "outputs": [],
   "source": [
    "from pathlib import Path\n",
    "\n",
    "if os.name == 'nt':\n",
    "    file_path = 'C:\\\\JL\\\\Master\\\\DSE_I2100_Applied Machine Learning and Data Mining\\\\Final_Project\\\\lgg-mri-segmentation'\n",
    "else:\n",
    "    file_path = os.path.join(os.path.expanduser(\"~\"), \"Downloads/\")\n",
    "\n",
    "## Comment below if using outside of collab\n",
    "#file_path='/'"
   ]
  },
  {
   "cell_type": "code",
   "execution_count": 3,
   "metadata": {},
   "outputs": [
    {
     "data": {
      "text/plain": [
       "'/Users/juanguerrero/Downloads/'"
      ]
     },
     "execution_count": 3,
     "metadata": {},
     "output_type": "execute_result"
    }
   ],
   "source": [
    "file_path"
   ]
  },
  {
   "cell_type": "code",
   "execution_count": 236,
   "metadata": {
    "id": "5NiUUlXkWffi"
   },
   "outputs": [],
   "source": [
    "# Set parameters\n",
    "Size = (256, 256)\n",
    "# mask_files = glob(file_path + os.path.join('kaggle_3m','*','*_mask*'))\n",
    "mask_files = glob(file_path + os.path.join('kaggle_3m','*','*_mask*'))\n",
    "train_files = [file.replace('_mask', '') for file in mask_files]"
   ]
  },
  {
   "cell_type": "code",
   "execution_count": 237,
   "metadata": {
    "id": "7r-QOer4W6-u"
   },
   "outputs": [],
   "source": [
    "def label(mask):\n",
    "    value = np.max(imread(mask))\n",
    "    return '1' if value > 0 else '0'\n",
    "df = pd.DataFrame({\"image\": train_files,\n",
    "                   \"mask\": mask_files,\n",
    "                  \"label\":[label(x) for x in mask_files]})"
   ]
  },
  {
   "cell_type": "code",
   "execution_count": 238,
   "metadata": {
    "colab": {
     "base_uri": "https://localhost:8080/"
    },
    "id": "ss4AtyZbXYjr",
    "outputId": "f3d040b4-7cf6-4d5b-c908-9a98fed8a180"
   },
   "outputs": [
    {
     "data": {
      "text/plain": [
       "(5302, 3)"
      ]
     },
     "execution_count": 238,
     "metadata": {},
     "output_type": "execute_result"
    }
   ],
   "source": [
    "df.shape"
   ]
  },
  {
   "cell_type": "code",
   "execution_count": 239,
   "metadata": {
    "colab": {
     "base_uri": "https://localhost:8080/",
     "height": 206
    },
    "id": "ozGMEfZMXEzS",
    "outputId": "7751f4cf-8772-4adb-9744-962d392ef729"
   },
   "outputs": [
    {
     "data": {
      "text/html": [
       "<div>\n",
       "<style scoped>\n",
       "    .dataframe tbody tr th:only-of-type {\n",
       "        vertical-align: middle;\n",
       "    }\n",
       "\n",
       "    .dataframe tbody tr th {\n",
       "        vertical-align: top;\n",
       "    }\n",
       "\n",
       "    .dataframe thead th {\n",
       "        text-align: right;\n",
       "    }\n",
       "</style>\n",
       "<table border=\"1\" class=\"dataframe\">\n",
       "  <thead>\n",
       "    <tr style=\"text-align: right;\">\n",
       "      <th></th>\n",
       "      <th>image</th>\n",
       "      <th>mask</th>\n",
       "      <th>label</th>\n",
       "    </tr>\n",
       "  </thead>\n",
       "  <tbody>\n",
       "    <tr>\n",
       "      <th>0</th>\n",
       "      <td>/Users/juanguerrero/Downloads/kaggle_3m/TCGA_C...</td>\n",
       "      <td>/Users/juanguerrero/Downloads/kaggle_3m/TCGA_C...</td>\n",
       "      <td>0</td>\n",
       "    </tr>\n",
       "    <tr>\n",
       "      <th>1</th>\n",
       "      <td>/Users/juanguerrero/Downloads/kaggle_3m/TCGA_C...</td>\n",
       "      <td>/Users/juanguerrero/Downloads/kaggle_3m/TCGA_C...</td>\n",
       "      <td>0</td>\n",
       "    </tr>\n",
       "    <tr>\n",
       "      <th>2</th>\n",
       "      <td>/Users/juanguerrero/Downloads/kaggle_3m/TCGA_C...</td>\n",
       "      <td>/Users/juanguerrero/Downloads/kaggle_3m/TCGA_C...</td>\n",
       "      <td>0</td>\n",
       "    </tr>\n",
       "    <tr>\n",
       "      <th>3</th>\n",
       "      <td>/Users/juanguerrero/Downloads/kaggle_3m/TCGA_C...</td>\n",
       "      <td>/Users/juanguerrero/Downloads/kaggle_3m/TCGA_C...</td>\n",
       "      <td>0</td>\n",
       "    </tr>\n",
       "    <tr>\n",
       "      <th>4</th>\n",
       "      <td>/Users/juanguerrero/Downloads/kaggle_3m/TCGA_C...</td>\n",
       "      <td>/Users/juanguerrero/Downloads/kaggle_3m/TCGA_C...</td>\n",
       "      <td>0</td>\n",
       "    </tr>\n",
       "  </tbody>\n",
       "</table>\n",
       "</div>"
      ],
      "text/plain": [
       "                                               image  \\\n",
       "0  /Users/juanguerrero/Downloads/kaggle_3m/TCGA_C...   \n",
       "1  /Users/juanguerrero/Downloads/kaggle_3m/TCGA_C...   \n",
       "2  /Users/juanguerrero/Downloads/kaggle_3m/TCGA_C...   \n",
       "3  /Users/juanguerrero/Downloads/kaggle_3m/TCGA_C...   \n",
       "4  /Users/juanguerrero/Downloads/kaggle_3m/TCGA_C...   \n",
       "\n",
       "                                                mask label  \n",
       "0  /Users/juanguerrero/Downloads/kaggle_3m/TCGA_C...     0  \n",
       "1  /Users/juanguerrero/Downloads/kaggle_3m/TCGA_C...     0  \n",
       "2  /Users/juanguerrero/Downloads/kaggle_3m/TCGA_C...     0  \n",
       "3  /Users/juanguerrero/Downloads/kaggle_3m/TCGA_C...     0  \n",
       "4  /Users/juanguerrero/Downloads/kaggle_3m/TCGA_C...     0  "
      ]
     },
     "execution_count": 239,
     "metadata": {},
     "output_type": "execute_result"
    }
   ],
   "source": [
    "df.head()"
   ]
  },
  {
   "cell_type": "code",
   "execution_count": 240,
   "metadata": {
    "colab": {
     "base_uri": "https://localhost:8080/",
     "height": 295
    },
    "id": "Mj_QUNRUXGhV",
    "outputId": "cb60ac44-3a15-4099-8322-7476f163e8ce"
   },
   "outputs": [
    {
     "data": {
      "image/png": "[encoded data removed]",
      "text/plain": [
       "<Figure size 432x288 with 1 Axes>"
      ]
     },
     "metadata": {
      "needs_background": "light"
     },
     "output_type": "display_data"
    }
   ],
   "source": [
    "sns.countplot(data=df,x=df['label'])\n",
    "plt.title('Length Of Classes')\n",
    "plt.show()"
   ]
  },
  {
   "cell_type": "code",
   "execution_count": 241,
   "metadata": {
    "id": "7wG7LV98o02_"
   },
   "outputs": [],
   "source": [
    "from skimage.color import rgb2gray\n",
    "\n",
    "image_dataset = []\n",
    "\n",
    "for path in df[\"image\"]:\n",
    "  image_dataset.append(rgb2gray(cv2.imread(path)).reshape(-1))\n",
    "\n",
    "image_dataset_np = np.array(image_dataset)\n",
    "\n",
    "\n",
    "image_df = pd.DataFrame(image_dataset_np)"
   ]
  },
  {
   "cell_type": "code",
   "execution_count": 242,
   "metadata": {
    "colab": {
     "base_uri": "https://localhost:8080/",
     "height": 236
    },
    "id": "MK57ZfRWo05f",
    "outputId": "67ca6040-53d8-4d57-e6a6-694a17922c2b"
   },
   "outputs": [
    {
     "data": {
      "text/html": [
       "<div>\n",
       "<style scoped>\n",
       "    .dataframe tbody tr th:only-of-type {\n",
       "        vertical-align: middle;\n",
       "    }\n",
       "\n",
       "    .dataframe tbody tr th {\n",
       "        vertical-align: top;\n",
       "    }\n",
       "\n",
       "    .dataframe thead th {\n",
       "        text-align: right;\n",
       "    }\n",
       "</style>\n",
       "<table border=\"1\" class=\"dataframe\">\n",
       "  <thead>\n",
       "    <tr style=\"text-align: right;\">\n",
       "      <th></th>\n",
       "      <th>0</th>\n",
       "      <th>1</th>\n",
       "      <th>2</th>\n",
       "      <th>3</th>\n",
       "      <th>4</th>\n",
       "      <th>5</th>\n",
       "      <th>6</th>\n",
       "      <th>7</th>\n",
       "      <th>8</th>\n",
       "      <th>9</th>\n",
       "      <th>...</th>\n",
       "      <th>65526</th>\n",
       "      <th>65527</th>\n",
       "      <th>65528</th>\n",
       "      <th>65529</th>\n",
       "      <th>65530</th>\n",
       "      <th>65531</th>\n",
       "      <th>65532</th>\n",
       "      <th>65533</th>\n",
       "      <th>65534</th>\n",
       "      <th>65535</th>\n",
       "    </tr>\n",
       "  </thead>\n",
       "  <tbody>\n",
       "    <tr>\n",
       "      <th>0</th>\n",
       "      <td>0.003639</td>\n",
       "      <td>0.003639</td>\n",
       "      <td>0.003639</td>\n",
       "      <td>0.003639</td>\n",
       "      <td>0.003639</td>\n",
       "      <td>0.003639</td>\n",
       "      <td>0.003639</td>\n",
       "      <td>0.003639</td>\n",
       "      <td>0.003639</td>\n",
       "      <td>0.003639</td>\n",
       "      <td>...</td>\n",
       "      <td>0.000833</td>\n",
       "      <td>0.000833</td>\n",
       "      <td>0.000833</td>\n",
       "      <td>0.000833</td>\n",
       "      <td>0.000833</td>\n",
       "      <td>0.000833</td>\n",
       "      <td>0.000833</td>\n",
       "      <td>0.000833</td>\n",
       "      <td>0.000833</td>\n",
       "      <td>0.000833</td>\n",
       "    </tr>\n",
       "    <tr>\n",
       "      <th>1</th>\n",
       "      <td>0.003639</td>\n",
       "      <td>0.003639</td>\n",
       "      <td>0.003639</td>\n",
       "      <td>0.003639</td>\n",
       "      <td>0.003639</td>\n",
       "      <td>0.003639</td>\n",
       "      <td>0.003639</td>\n",
       "      <td>0.003639</td>\n",
       "      <td>0.003639</td>\n",
       "      <td>0.003639</td>\n",
       "      <td>...</td>\n",
       "      <td>0.000833</td>\n",
       "      <td>0.000833</td>\n",
       "      <td>0.000833</td>\n",
       "      <td>0.000833</td>\n",
       "      <td>0.000833</td>\n",
       "      <td>0.000833</td>\n",
       "      <td>0.000833</td>\n",
       "      <td>0.000833</td>\n",
       "      <td>0.000833</td>\n",
       "      <td>0.000833</td>\n",
       "    </tr>\n",
       "    <tr>\n",
       "      <th>2</th>\n",
       "      <td>0.003639</td>\n",
       "      <td>0.003639</td>\n",
       "      <td>0.003639</td>\n",
       "      <td>0.003639</td>\n",
       "      <td>0.003639</td>\n",
       "      <td>0.003922</td>\n",
       "      <td>0.003922</td>\n",
       "      <td>0.003922</td>\n",
       "      <td>0.003922</td>\n",
       "      <td>0.003922</td>\n",
       "      <td>...</td>\n",
       "      <td>0.000833</td>\n",
       "      <td>0.000833</td>\n",
       "      <td>0.000833</td>\n",
       "      <td>0.000833</td>\n",
       "      <td>0.000833</td>\n",
       "      <td>0.000833</td>\n",
       "      <td>0.000833</td>\n",
       "      <td>0.000833</td>\n",
       "      <td>0.000833</td>\n",
       "      <td>0.000833</td>\n",
       "    </tr>\n",
       "    <tr>\n",
       "      <th>3</th>\n",
       "      <td>0.003639</td>\n",
       "      <td>0.003639</td>\n",
       "      <td>0.003639</td>\n",
       "      <td>0.003639</td>\n",
       "      <td>0.003639</td>\n",
       "      <td>0.003639</td>\n",
       "      <td>0.003639</td>\n",
       "      <td>0.003639</td>\n",
       "      <td>0.003639</td>\n",
       "      <td>0.003639</td>\n",
       "      <td>...</td>\n",
       "      <td>0.000833</td>\n",
       "      <td>0.000833</td>\n",
       "      <td>0.000833</td>\n",
       "      <td>0.000833</td>\n",
       "      <td>0.000833</td>\n",
       "      <td>0.000833</td>\n",
       "      <td>0.000833</td>\n",
       "      <td>0.000833</td>\n",
       "      <td>0.000833</td>\n",
       "      <td>0.000833</td>\n",
       "    </tr>\n",
       "    <tr>\n",
       "      <th>4</th>\n",
       "      <td>0.003639</td>\n",
       "      <td>0.003639</td>\n",
       "      <td>0.003639</td>\n",
       "      <td>0.003639</td>\n",
       "      <td>0.003639</td>\n",
       "      <td>0.003639</td>\n",
       "      <td>0.003639</td>\n",
       "      <td>0.003639</td>\n",
       "      <td>0.003639</td>\n",
       "      <td>0.003639</td>\n",
       "      <td>...</td>\n",
       "      <td>0.000833</td>\n",
       "      <td>0.000833</td>\n",
       "      <td>0.000833</td>\n",
       "      <td>0.000833</td>\n",
       "      <td>0.000833</td>\n",
       "      <td>0.000833</td>\n",
       "      <td>0.000833</td>\n",
       "      <td>0.000833</td>\n",
       "      <td>0.000833</td>\n",
       "      <td>0.000833</td>\n",
       "    </tr>\n",
       "  </tbody>\n",
       "</table>\n",
       "<p>5 rows × 65536 columns</p>\n",
       "</div>"
      ],
      "text/plain": [
       "      0         1         2         3         4         5         6      \\\n",
       "0  0.003639  0.003639  0.003639  0.003639  0.003639  0.003639  0.003639   \n",
       "1  0.003639  0.003639  0.003639  0.003639  0.003639  0.003639  0.003639   \n",
       "2  0.003639  0.003639  0.003639  0.003639  0.003639  0.003922  0.003922   \n",
       "3  0.003639  0.003639  0.003639  0.003639  0.003639  0.003639  0.003639   \n",
       "4  0.003639  0.003639  0.003639  0.003639  0.003639  0.003639  0.003639   \n",
       "\n",
       "      7         8         9      ...     65526     65527     65528     65529  \\\n",
       "0  0.003639  0.003639  0.003639  ...  0.000833  0.000833  0.000833  0.000833   \n",
       "1  0.003639  0.003639  0.003639  ...  0.000833  0.000833  0.000833  0.000833   \n",
       "2  0.003922  0.003922  0.003922  ...  0.000833  0.000833  0.000833  0.000833   \n",
       "3  0.003639  0.003639  0.003639  ...  0.000833  0.000833  0.000833  0.000833   \n",
       "4  0.003639  0.003639  0.003639  ...  0.000833  0.000833  0.000833  0.000833   \n",
       "\n",
       "      65530     65531     65532     65533     65534     65535  \n",
       "0  0.000833  0.000833  0.000833  0.000833  0.000833  0.000833  \n",
       "1  0.000833  0.000833  0.000833  0.000833  0.000833  0.000833  \n",
       "2  0.000833  0.000833  0.000833  0.000833  0.000833  0.000833  \n",
       "3  0.000833  0.000833  0.000833  0.000833  0.000833  0.000833  \n",
       "4  0.000833  0.000833  0.000833  0.000833  0.000833  0.000833  \n",
       "\n",
       "[5 rows x 65536 columns]"
      ]
     },
     "execution_count": 242,
     "metadata": {},
     "output_type": "execute_result"
    }
   ],
   "source": [
    "image_df.head()"
   ]
  },
  {
   "cell_type": "code",
   "execution_count": 243,
   "metadata": {
    "colab": {
     "base_uri": "https://localhost:8080/"
    },
    "id": "5MZRIQlio08I",
    "outputId": "58569729-4fd6-41bc-dfc1-eefaa6dd5f52"
   },
   "outputs": [
    {
     "name": "stdout",
     "output_type": "stream",
     "text": [
      "(5302, 65536)\n",
      "(5302,)\n"
     ]
    }
   ],
   "source": [
    "from sklearn.model_selection import train_test_split\n",
    "\n",
    "X = image_df\n",
    "y = df.label\n",
    "\n",
    "print(X.shape)\n",
    "print(y.shape)\n",
    " \n",
    "X_train, X_test, y_train, y_test = train_test_split(X, y, test_size=0.33, random_state=42)\n"
   ]
  },
  {
   "cell_type": "markdown",
   "metadata": {},
   "source": [
    "### Run a Random Forest classifier without any image pre-processing"
   ]
  },
  {
   "cell_type": "markdown",
   "metadata": {},
   "source": [
    "#### Initialize and train"
   ]
  },
  {
   "cell_type": "code",
   "execution_count": 14,
   "metadata": {},
   "outputs": [
    {
     "name": "stdout",
     "output_type": "stream",
     "text": [
      "Total time to initialize and train the classifier:  95.74980616569519 seconds\n"
     ]
    }
   ],
   "source": [
    "start = time.time()\n",
    "clf = RandomForestClassifier(n_estimators=300 ,random_state=0)\n",
    "clf.fit(X_train, y_train)\n",
    "end = time.time()\n",
    "print('Total time to initialize and train the classifier: ', end-start, 'seconds')"
   ]
  },
  {
   "cell_type": "markdown",
   "metadata": {},
   "source": [
    "#### Predict"
   ]
  },
  {
   "cell_type": "code",
   "execution_count": 15,
   "metadata": {},
   "outputs": [
    {
     "name": "stdout",
     "output_type": "stream",
     "text": [
      "Total time to make a prediction on the test dataset:  0.9115760326385498 seconds\n"
     ]
    }
   ],
   "source": [
    "start = time.time()\n",
    "ytest_pred = clf.predict(X_test)\n",
    "end = time.time()\n",
    "print('Total time to make a prediction on the test dataset: ', end-start, 'seconds')"
   ]
  },
  {
   "cell_type": "markdown",
   "metadata": {
    "id": "rzv-p09kPGJb"
   },
   "source": [
    "### Image Compression using PCA"
   ]
  },
  {
   "cell_type": "markdown",
   "metadata": {},
   "source": [
    "We will use PCA to choose the right number of dimensions (i.e the right number of principal components)"
   ]
  },
  {
   "cell_type": "code",
   "execution_count": 17,
   "metadata": {
    "id": "MeMEZWuiSDF1"
   },
   "outputs": [],
   "source": [
    "pca = PCA()"
   ]
  },
  {
   "cell_type": "code",
   "execution_count": 18,
   "metadata": {
    "id": "Mrqr6odzSfij"
   },
   "outputs": [
    {
     "data": {
      "text/plain": [
       "PCA()"
      ]
     },
     "execution_count": 18,
     "metadata": {},
     "output_type": "execute_result"
    }
   ],
   "source": [
    "pca.fit(image_df)"
   ]
  },
  {
   "cell_type": "code",
   "execution_count": 19,
   "metadata": {
    "id": "BlOWlGJ2S7ca"
   },
   "outputs": [
    {
     "data": {
      "image/png": "[encoded data removed]",
      "text/plain": [
       "<Figure size 432x288 with 1 Axes>"
      ]
     },
     "metadata": {
      "needs_background": "light"
     },
     "output_type": "display_data"
    }
   ],
   "source": [
    "plt.grid()\n",
    "plt.plot(np.cumsum(pca.explained_variance_ratio_*100))\n",
    "plt.xlabel('Number of components')\n",
    "plt.ylabel('Explained variance')\n",
    "plt.show()"
   ]
  },
  {
   "cell_type": "markdown",
   "metadata": {},
   "source": [
    "#### PCA with 10 components"
   ]
  },
  {
   "cell_type": "markdown",
   "metadata": {},
   "source": [
    "Lets try out the first 10 components to compress the image. As you may notice, the first 10 components might not capture all of the variability from the original data thus genreating a blurry image."
   ]
  },
  {
   "cell_type": "code",
   "execution_count": 20,
   "metadata": {},
   "outputs": [],
   "source": [
    "pca_10 = PCA(n_components=10)\n",
    "pca_reduced_10 = pca_10.fit_transform(image_df)\n",
    "pca_recovered_10 = pca_10.inverse_transform(pca_reduced_10)"
   ]
  },
  {
   "cell_type": "code",
   "execution_count": 21,
   "metadata": {},
   "outputs": [
    {
     "data": {
      "image/png": "[encoded data removed]",
      "text/plain": [
       "<Figure size 432x288 with 1 Axes>"
      ]
     },
     "metadata": {
      "needs_background": "light"
     },
     "output_type": "display_data"
    }
   ],
   "source": [
    "img_pca_10 = pca_recovered_10[1,:].reshape([256,256])\n",
    "plt.imshow(img_pca_10, cmap='gray_r')\n",
    "plt.title('Compressed image with 10 components', fontsize=15, pad=15)\n",
    "plt.show()"
   ]
  },
  {
   "cell_type": "markdown",
   "metadata": {},
   "source": [
    "#### PCA with 1000 components "
   ]
  },
  {
   "cell_type": "markdown",
   "metadata": {},
   "source": [
    "Next lets try 1000 components and view the image to see if the clarity increased"
   ]
  },
  {
   "cell_type": "code",
   "execution_count": 22,
   "metadata": {},
   "outputs": [],
   "source": [
    "pca_1000 = PCA(n_components=1000)\n",
    "pca_reduced_1000 = pca_1000.fit_transform(image_df)\n",
    "pca_recovered_1000 = pca_1000.inverse_transform(pca_reduced_1000)"
   ]
  },
  {
   "cell_type": "code",
   "execution_count": 23,
   "metadata": {},
   "outputs": [
    {
     "data": {
      "image/png": "[encoded data removed]",
      "text/plain": [
       "<Figure size 432x288 with 1 Axes>"
      ]
     },
     "metadata": {
      "needs_background": "light"
     },
     "output_type": "display_data"
    }
   ],
   "source": [
    "img_pca_1000 = pca_recovered_1000[1,:].reshape([256,256])\n",
    "plt.imshow(img_pca_1000, cmap='gray_r')\n",
    "plt.title('Compressed image with 1000 components', fontsize=15, pad=15)\n",
    "plt.show()"
   ]
  },
  {
   "cell_type": "markdown",
   "metadata": {},
   "source": [
    "#### PCA with 90% of the components"
   ]
  },
  {
   "cell_type": "markdown",
   "metadata": {},
   "source": [
    "It seems that we can get away with using the number of components that yield 90% of the overall variability. This number is exactly 329 components"
   ]
  },
  {
   "cell_type": "code",
   "execution_count": 244,
   "metadata": {},
   "outputs": [],
   "source": [
    "pca_90_percent = PCA(n_components=.9)\n",
    "pca_reduced_90_percent = pca_90_percent.fit_transform(image_df)\n",
    "pca_recovered_90_percent = pca_90_percent.inverse_transform(pca_reduced_90_percent)"
   ]
  },
  {
   "cell_type": "code",
   "execution_count": 245,
   "metadata": {},
   "outputs": [
    {
     "data": {
      "image/png": "[encoded data removed]",
      "text/plain": [
       "<Figure size 432x288 with 1 Axes>"
      ]
     },
     "metadata": {
      "needs_background": "light"
     },
     "output_type": "display_data"
    }
   ],
   "source": [
    "pca_90_percent_img = pca_recovered_90_percent[1,:].reshape([256,256])\n",
    "plt.imshow(pca_90_percent_img, cmap='gray_r')\n",
    "plt.title('Compressed image with 90% components', fontsize=15, pad=15)\n",
    "plt.show()"
   ]
  },
  {
   "cell_type": "code",
   "execution_count": 246,
   "metadata": {},
   "outputs": [
    {
     "data": {
      "text/plain": [
       "(5302, 470)"
      ]
     },
     "execution_count": 246,
     "metadata": {},
     "output_type": "execute_result"
    }
   ],
   "source": [
    "pca_reduced_90_percent.shape"
   ]
  },
  {
   "cell_type": "code",
   "execution_count": 265,
   "metadata": {},
   "outputs": [
    {
     "name": "stdout",
     "output_type": "stream",
     "text": [
      "(5302, 470)\n"
     ]
    }
   ],
   "source": [
    "## Re-assign the X value and re-run a train-test split\n",
    "\n",
    "X = pca_reduced_90_percent\n",
    "\n",
    "## Check the shape\n",
    "print(X.shape)\n",
    " \n",
    "X_train, X_test, y_train, y_test = train_test_split(X, y, test_size=0.33, random_state=42, stratify=y)"
   ]
  },
  {
   "cell_type": "markdown",
   "metadata": {},
   "source": [
    "#### Re run the Random Forest Classifier and read its performance"
   ]
  },
  {
   "cell_type": "markdown",
   "metadata": {},
   "source": [
    "##### Initialize and train"
   ]
  },
  {
   "cell_type": "code",
   "execution_count": 266,
   "metadata": {},
   "outputs": [
    {
     "name": "stdout",
     "output_type": "stream",
     "text": [
      "Total time to initialize and train the classifier:  11.884013175964355 seconds\n"
     ]
    }
   ],
   "source": [
    "start = time.time()\n",
    "RFC = RandomForestClassifier(n_estimators=300 ,random_state=0)\n",
    "RFC.fit(X_train, y_train)\n",
    "end = time.time()\n",
    "print('Total time to initialize and train the classifier: ', end-start, 'seconds')"
   ]
  },
  {
   "cell_type": "markdown",
   "metadata": {},
   "source": [
    "##### Predict"
   ]
  },
  {
   "cell_type": "code",
   "execution_count": 267,
   "metadata": {},
   "outputs": [
    {
     "name": "stdout",
     "output_type": "stream",
     "text": [
      "Total time to make a prediction on the test dataset:  0.09395885467529297 seconds\n"
     ]
    }
   ],
   "source": [
    "start = time.time()\n",
    "ytest_pred = RFC.predict(X_test)\n",
    "end = time.time()\n",
    "print('Total time to make a prediction on the test dataset: ', end-start, 'seconds')"
   ]
  },
  {
   "cell_type": "code",
   "execution_count": 268,
   "metadata": {},
   "outputs": [
    {
     "name": "stdout",
     "output_type": "stream",
     "text": [
      "Accuracy RF=  0.8725714285714286\n"
     ]
    }
   ],
   "source": [
    "print (\"Accuracy RF= \", metrics.accuracy_score(y_test,ytest_pred))"
   ]
  },
  {
   "cell_type": "code",
   "execution_count": 269,
   "metadata": {},
   "outputs": [
    {
     "name": "stdout",
     "output_type": "stream",
     "text": [
      "              =======Classification Report RF========\n",
      "\n",
      "              precision    recall  f1-score   support\n",
      "\n",
      "           0       0.92      0.80      0.86       844\n",
      "           1       0.84      0.94      0.88       906\n",
      "\n",
      "    accuracy                           0.87      1750\n",
      "   macro avg       0.88      0.87      0.87      1750\n",
      "weighted avg       0.88      0.87      0.87      1750\n",
      "\n"
     ]
    }
   ],
   "source": [
    "print('              =======Classification Report RF========')\n",
    "print('')\n",
    "print (metrics.classification_report(y_test,ytest_pred))"
   ]
  },
  {
   "cell_type": "code",
   "execution_count": 270,
   "metadata": {},
   "outputs": [],
   "source": [
    "cm = confusion_matrix(y_test,ytest_pred)"
   ]
  },
  {
   "cell_type": "code",
   "execution_count": 271,
   "metadata": {},
   "outputs": [
    {
     "data": {
      "image/png": "[encoded data removed]",
      "text/plain": [
       "<Figure size 432x288 with 2 Axes>"
      ]
     },
     "metadata": {
      "needs_background": "light"
     },
     "output_type": "display_data"
    }
   ],
   "source": [
    "cm_display = ConfusionMatrixDisplay(cm).plot()"
   ]
  },
  {
   "cell_type": "markdown",
   "metadata": {},
   "source": [
    "### Lets now run a support vector machine classifier"
   ]
  },
  {
   "cell_type": "markdown",
   "metadata": {},
   "source": [
    "#### Initialize and train"
   ]
  },
  {
   "cell_type": "code",
   "execution_count": 272,
   "metadata": {},
   "outputs": [
    {
     "name": "stdout",
     "output_type": "stream",
     "text": [
      "Total time to initialize and train the classifier:  11.96612811088562 seconds\n"
     ]
    }
   ],
   "source": [
    "start = time.time()\n",
    "SVM = SVC(kernel='rbf', probability=True)\n",
    "SVM.fit(X_train,y_train)\n",
    "end = time.time()\n",
    "print('Total time to initialize and train the classifier: ', end-start, 'seconds')"
   ]
  },
  {
   "cell_type": "markdown",
   "metadata": {},
   "source": [
    "#### Predict"
   ]
  },
  {
   "cell_type": "code",
   "execution_count": 273,
   "metadata": {},
   "outputs": [
    {
     "name": "stdout",
     "output_type": "stream",
     "text": [
      "Total time to make a prediction on the test dataset:  1.139387845993042 seconds\n"
     ]
    }
   ],
   "source": [
    "start = time.time()\n",
    "ytest_pred = SVM.predict(X_test)\n",
    "end = time.time()\n",
    "print('Total time to make a prediction on the test dataset: ', end-start, 'seconds')"
   ]
  },
  {
   "cell_type": "code",
   "execution_count": 274,
   "metadata": {},
   "outputs": [
    {
     "name": "stdout",
     "output_type": "stream",
     "text": [
      "Accuracy SVM=  0.9045714285714286\n"
     ]
    }
   ],
   "source": [
    "print (\"Accuracy SVM= \", metrics.accuracy_score(y_test,ytest_pred))"
   ]
  },
  {
   "cell_type": "code",
   "execution_count": 275,
   "metadata": {},
   "outputs": [
    {
     "name": "stdout",
     "output_type": "stream",
     "text": [
      "              =======Classification Report SVM========\n",
      "\n",
      "              precision    recall  f1-score   support\n",
      "\n",
      "           0       0.92      0.88      0.90       844\n",
      "           1       0.89      0.93      0.91       906\n",
      "\n",
      "    accuracy                           0.90      1750\n",
      "   macro avg       0.91      0.90      0.90      1750\n",
      "weighted avg       0.91      0.90      0.90      1750\n",
      "\n"
     ]
    }
   ],
   "source": [
    "print('              =======Classification Report SVM========')\n",
    "print('')\n",
    "print (metrics.classification_report(y_test,ytest_pred))"
   ]
  },
  {
   "cell_type": "code",
   "execution_count": 276,
   "metadata": {},
   "outputs": [],
   "source": [
    "cm = confusion_matrix(y_test,ytest_pred)"
   ]
  },
  {
   "cell_type": "code",
   "execution_count": 277,
   "metadata": {},
   "outputs": [
    {
     "data": {
      "image/png": "[encoded data removed]",
      "text/plain": [
       "<Figure size 432x288 with 2 Axes>"
      ]
     },
     "metadata": {
      "needs_background": "light"
     },
     "output_type": "display_data"
    }
   ],
   "source": [
    "cm_display = ConfusionMatrixDisplay(cm).plot()"
   ]
  },
  {
   "cell_type": "code",
   "execution_count": 278,
   "metadata": {},
   "outputs": [],
   "source": [
    "import matplotlib.colors as colors\n",
    "from numpy.random import randint\n",
    "colors_list = list(colors._colors_full_map.values())\n",
    "\n",
    "\n",
    "def plot_roc_curve(models):\n",
    "  auc_list = []\n",
    "\n",
    "  plt.figure(figsize=(12, 8))\n",
    "  plt.plot([0, 1], [0, 1], 'y--')\n",
    "  plt.xlabel('False positive rate')\n",
    "  plt.ylabel('True positive rate')\n",
    "  plt.title('ROC curve')\n",
    "\n",
    "  for idx, (name, model) in enumerate(models):\n",
    "    y_preds = model.predict(X_test).ravel().astype(int)\n",
    "    print(y_preds)\n",
    "    fpr, tpr, thresholds = roc_curve(np.array(y_test.values).astype(int), y_preds)\n",
    "    auc_value = auc(fpr, tpr)\n",
    "    print(auc_value)\n",
    "    auc_list.append(auc_value)\n",
    "    label = str(name) + \" - AUC: \" + str(round(auc_value, 3))\n",
    "    plt.plot(fpr, tpr, marker='.', color=colors_list[randint(len(colors_list) - 1)], label=label)\n",
    "\n",
    "  plt.legend()"
   ]
  },
  {
   "cell_type": "code",
   "execution_count": 279,
   "metadata": {},
   "outputs": [
    {
     "name": "stdout",
     "output_type": "stream",
     "text": [
      "[0 1 1 ... 0 0 1]\n",
      "0.9037825763995689\n",
      "[0 1 1 ... 1 0 1]\n",
      "0.8701612734482074\n"
     ]
    },
    {
     "data": {
      "image/png": "[encoded data removed]",
      "text/plain": [
       "<Figure size 864x576 with 1 Axes>"
      ]
     },
     "metadata": {
      "needs_background": "light"
     },
     "output_type": "display_data"
    }
   ],
   "source": [
    "plot_roc_curve([(\"model_SVM\", SVM),(\"model_RFC\",RFC)])"
   ]
  },
  {
   "cell_type": "markdown",
   "metadata": {},
   "source": [
    "### 10-Fold Cross Validation"
   ]
  },
  {
   "cell_type": "code",
   "execution_count": 280,
   "metadata": {},
   "outputs": [
    {
     "name": "stdout",
     "output_type": "stream",
     "text": [
      "10-fold cross validation \n",
      "\n",
      "ROC AUC: 0.94 +/- 0.01 [Support Vector Machine]\n",
      "ROC AUC: 0.94 +/- 0.01 [Random Forest Classifier]\n"
     ]
    }
   ],
   "source": [
    "clf_labels = ['Support Vector Machine', 'Random Forest Classifier']\n",
    "print('10-fold cross validation \\n')\n",
    "for clf_, label in zip([SVM, RFC], clf_labels):\n",
    "    scores = cross_val_score(estimator=clf_, X=X_train, y=y_train, cv=10, scoring='roc_auc')\n",
    "    print(\"ROC AUC: %0.2f +/- %0.2f [%s]\" \n",
    "          % (scores.mean(), scores.std(), label))"
   ]
  },
  {
   "cell_type": "markdown",
   "metadata": {},
   "source": [
    "### Majority Voting Classifier"
   ]
  },
  {
   "cell_type": "code",
   "execution_count": 281,
   "metadata": {},
   "outputs": [],
   "source": [
    "from sklearn.base import BaseEstimator\n",
    "from sklearn.base import ClassifierMixin\n",
    "from sklearn.preprocessing import LabelEncoder\n",
    "from sklearn.base import clone\n",
    "from sklearn.pipeline import _name_estimators\n",
    "import operator\n",
    "\n",
    "class MajorityVoteClassifier(BaseEstimator, \n",
    "                             ClassifierMixin):\n",
    "    \n",
    "    def __init__(self, classifiers, vote='classlabel', weights=None):\n",
    "        \n",
    "        \"\"\" A majority vote ensemble classifier\n",
    "\n",
    "        Parameters\n",
    "        ----------\n",
    "        classifiers : array-like, shape = [n_classifiers]\n",
    "          Different classifiers for the ensemble\n",
    "\n",
    "        vote : str, {'classlabel', 'probability'} (default='label')\n",
    "          If 'classlabel' the prediction is based on the argmax of\n",
    "            class labels. Else if 'probability', the argmax of\n",
    "            the sum of probabilities is used to predict the class label\n",
    "            (recommended for calibrated classifiers).\n",
    "\n",
    "        weights : array-like, shape = [n_classifiers], optional (default=None)\n",
    "          If a list of `int` or `float` values are provided, the classifiers\n",
    "          are weighted by importance; Uses uniform weights if `weights=None`.\n",
    "\n",
    "        \"\"\"\n",
    "        self.classifiers = classifiers\n",
    "        self.named_classifiers = {key: value for key, value\n",
    "                                  in _name_estimators(classifiers)}\n",
    "        self.vote = vote\n",
    "        self.weights = weights\n",
    "\n",
    "    def fit(self, X, y):\n",
    "        \"\"\" Fit classifiers.\n",
    "\n",
    "        Parameters\n",
    "        ----------\n",
    "        X : {array-like, sparse matrix}, shape = [n_samples, n_features]\n",
    "            Matrix of training samples.\n",
    "\n",
    "        y : array-like, shape = [n_samples]\n",
    "            Vector of target class labels.\n",
    "\n",
    "        Returns\n",
    "        -------\n",
    "        self : object\n",
    "\n",
    "        \"\"\"\n",
    "        if self.vote not in ('probability', 'classlabel'):\n",
    "            raise ValueError(\"vote must be 'probability' or 'classlabel'\"\n",
    "                             \"; got (vote=%r)\"\n",
    "                             % self.vote)\n",
    "\n",
    "        if self.weights and len(self.weights) != len(self.classifiers):\n",
    "            raise ValueError('Number of classifiers and weights must be equal'\n",
    "                             '; got %d weights, %d classifiers'\n",
    "                             % (len(self.weights), len(self.classifiers)))\n",
    "\n",
    "        # Use LabelEncoder to ensure class labels start with 0, which\n",
    "        # is important for np.argmax call in self.predict\n",
    "        self.lablenc_ = LabelEncoder()\n",
    "        self.lablenc_.fit(y)\n",
    "        self.classes_ = self.lablenc_.classes_\n",
    "        self.classifiers_ = []\n",
    "        for clf in self.classifiers:\n",
    "            fitted_clf = clone(clf).fit(X, self.lablenc_.transform(y))\n",
    "            self.classifiers_.append(fitted_clf)\n",
    "        return self\n",
    "    \n",
    "    def predict(self, X):\n",
    "        \"\"\" Predict class labels for X.\n",
    "\n",
    "        Parameters\n",
    "        ----------\n",
    "        X : {array-like, sparse matrix}, shape = [n_samples, n_features]\n",
    "            Matrix of training samples.\n",
    "\n",
    "        Returns\n",
    "        ----------\n",
    "        maj_vote : array-like, shape = [n_samples]\n",
    "            Predicted class labels.\n",
    "            \n",
    "        \"\"\"\n",
    "        if self.vote == 'probability':\n",
    "            maj_vote = np.argmax(self.predict_proba(X), axis=1)\n",
    "        else:  # 'classlabel' vote\n",
    "\n",
    "            #  Collect results from clf.predict calls\n",
    "            predictions = np.asarray([clf.predict(X)\n",
    "                                      for clf in self.classifiers_]).T\n",
    "\n",
    "            maj_vote = np.apply_along_axis(\n",
    "                                      lambda x:\n",
    "                                      np.argmax(np.bincount(x, weights=self.weights)), axis=1, arr=predictions)\n",
    "        maj_vote = self.lablenc_.inverse_transform(maj_vote)\n",
    "        return maj_vote\n",
    "    \n",
    "    def predict_proba(self, X):\n",
    "        \"\"\" Predict class probabilities for X.\n",
    "\n",
    "        Parameters\n",
    "        ----------\n",
    "        X : {array-like, sparse matrix}, shape = [n_samples, n_features]\n",
    "            Training vectors, where n_samples is the number of samples and\n",
    "            n_features is the number of features.\n",
    "\n",
    "        Returns\n",
    "        ----------\n",
    "        avg_proba : array-like, shape = [n_samples, n_classes]\n",
    "            Weighted average probability for each class per sample.\n",
    "\n",
    "        \"\"\"\n",
    "        probas = np.asarray([clf.predict_proba(X)\n",
    "                             for clf in self.classifiers_])\n",
    "        avg_proba = np.average(probas, axis=0, weights=self.weights)\n",
    "        return avg_proba\n",
    "    \n",
    "    def get_params(self, deep=True):\n",
    "        \"\"\" Get classifier parameter names for GridSearch\"\"\"\n",
    "        if not deep:\n",
    "            return super(MajorityVoteClassifier, self).get_params(deep=False)\n",
    "        else:\n",
    "            out = self.named_classifiers.copy()\n",
    "            for name, step in six.iteritems(self.named_classifiers):\n",
    "                for key, value in six.iteritems(step.get_params(deep=True)):\n",
    "                    out['%s__%s' % (name, key)] = value\n",
    "            return out"
   ]
  },
  {
   "cell_type": "code",
   "execution_count": 282,
   "metadata": {},
   "outputs": [],
   "source": [
    "# mv_clf = VotingClassifier(estimators=[('Support Vector Machine', SVM),('Random Forest Classifier',clf)])\n",
    "MVC = MajorityVoteClassifier(classifiers=[SVM, RFC])"
   ]
  },
  {
   "cell_type": "code",
   "execution_count": 283,
   "metadata": {},
   "outputs": [],
   "source": [
    "clf_labels+=['Majority voting']\n",
    "all_clf = [SVM, RFC, MVC]"
   ]
  },
  {
   "cell_type": "code",
   "execution_count": 284,
   "metadata": {},
   "outputs": [
    {
     "name": "stdout",
     "output_type": "stream",
     "text": [
      "ROC AUC: 0.94 +/- 0.01 [Support Vector Machine]\n",
      "ROC AUC: 0.94 +/- 0.01 [Random Forest Classifier]\n",
      "ROC AUC: 0.95 +/- 0.01 [Majority voting]\n"
     ]
    }
   ],
   "source": [
    "for clf_, label in zip(all_clf, clf_labels):\n",
    "    scores = cross_val_score(estimator=clf_, X=X_train, y=y_train, cv=10, scoring='roc_auc')\n",
    "    print(\"ROC AUC: %0.2f +/- %0.2f [%s]\" \n",
    "          % (scores.mean(), scores.std(), label))"
   ]
  },
  {
   "cell_type": "markdown",
   "metadata": {},
   "source": [
    "### Evaluating and tunning the ensemble classifier"
   ]
  },
  {
   "cell_type": "code",
   "execution_count": 288,
   "metadata": {},
   "outputs": [
    {
     "ename": "AttributeError",
     "evalue": "'MajorityVoteClassifier' object has no attribute 'classifiers_'",
     "output_type": "error",
     "traceback": [
      "\u001b[0;31m---------------------------------------------------------------------------\u001b[0m",
      "\u001b[0;31mAttributeError\u001b[0m                            Traceback (most recent call last)",
      "\u001b[0;32m/var/folders/nb/_9305g8x2f5g7dfv2pyw7x400000gn/T/ipykernel_2105/3822186133.py\u001b[0m in \u001b[0;36m<module>\u001b[0;34m\u001b[0m\n\u001b[1;32m      4\u001b[0m \u001b[0;32mfor\u001b[0m \u001b[0mclf\u001b[0m\u001b[0;34m,\u001b[0m \u001b[0mlabel\u001b[0m\u001b[0;34m,\u001b[0m \u001b[0mclr\u001b[0m\u001b[0;34m,\u001b[0m \u001b[0mls\u001b[0m \u001b[0;32min\u001b[0m \u001b[0mzip\u001b[0m \u001b[0;34m(\u001b[0m\u001b[0mall_clf\u001b[0m\u001b[0;34m,\u001b[0m \u001b[0mclf_labels\u001b[0m\u001b[0;34m,\u001b[0m \u001b[0mcolors\u001b[0m\u001b[0;34m,\u001b[0m \u001b[0mlinestyles\u001b[0m\u001b[0;34m)\u001b[0m\u001b[0;34m:\u001b[0m\u001b[0;34m\u001b[0m\u001b[0;34m\u001b[0m\u001b[0m\n\u001b[1;32m      5\u001b[0m \u001b[0;34m\u001b[0m\u001b[0m\n\u001b[0;32m----> 6\u001b[0;31m     \u001b[0my_pred\u001b[0m \u001b[0;34m=\u001b[0m \u001b[0mclf\u001b[0m\u001b[0;34m.\u001b[0m\u001b[0mpredict\u001b[0m\u001b[0;34m(\u001b[0m\u001b[0mX_test\u001b[0m\u001b[0;34m)\u001b[0m\u001b[0;34m.\u001b[0m\u001b[0mravel\u001b[0m\u001b[0;34m(\u001b[0m\u001b[0;34m)\u001b[0m\u001b[0;34m.\u001b[0m\u001b[0mastype\u001b[0m\u001b[0;34m(\u001b[0m\u001b[0mint\u001b[0m\u001b[0;34m)\u001b[0m\u001b[0;34m\u001b[0m\u001b[0;34m\u001b[0m\u001b[0m\n\u001b[0m\u001b[1;32m      7\u001b[0m     \u001b[0mfpr\u001b[0m\u001b[0;34m,\u001b[0m \u001b[0mtpr\u001b[0m\u001b[0;34m,\u001b[0m \u001b[0mthresholds\u001b[0m \u001b[0;34m=\u001b[0m \u001b[0mroc_curve\u001b[0m\u001b[0;34m(\u001b[0m\u001b[0mnp\u001b[0m\u001b[0;34m.\u001b[0m\u001b[0marray\u001b[0m\u001b[0;34m(\u001b[0m\u001b[0my_test\u001b[0m\u001b[0;34m.\u001b[0m\u001b[0mvalues\u001b[0m\u001b[0;34m)\u001b[0m\u001b[0;34m.\u001b[0m\u001b[0mastype\u001b[0m\u001b[0;34m(\u001b[0m\u001b[0mint\u001b[0m\u001b[0;34m)\u001b[0m\u001b[0;34m,\u001b[0m \u001b[0my_pred\u001b[0m\u001b[0;34m)\u001b[0m\u001b[0;34m\u001b[0m\u001b[0;34m\u001b[0m\u001b[0m\n\u001b[1;32m      8\u001b[0m     \u001b[0mroc_auc\u001b[0m \u001b[0;34m=\u001b[0m \u001b[0mauc\u001b[0m\u001b[0;34m(\u001b[0m\u001b[0mx\u001b[0m\u001b[0;34m=\u001b[0m\u001b[0mfpr\u001b[0m\u001b[0;34m,\u001b[0m \u001b[0my\u001b[0m\u001b[0;34m=\u001b[0m\u001b[0mtpr\u001b[0m\u001b[0;34m)\u001b[0m\u001b[0;34m\u001b[0m\u001b[0;34m\u001b[0m\u001b[0m\n",
      "\u001b[0;32m/var/folders/nb/_9305g8x2f5g7dfv2pyw7x400000gn/T/ipykernel_2105/816023427.py\u001b[0m in \u001b[0;36mpredict\u001b[0;34m(self, X)\u001b[0m\n\u001b[1;32m     92\u001b[0m             \u001b[0;31m#  Collect results from clf.predict calls\u001b[0m\u001b[0;34m\u001b[0m\u001b[0;34m\u001b[0m\u001b[0m\n\u001b[1;32m     93\u001b[0m             predictions = np.asarray([clf.predict(X)\n\u001b[0;32m---> 94\u001b[0;31m                                       for clf in self.classifiers_]).T\n\u001b[0m\u001b[1;32m     95\u001b[0m \u001b[0;34m\u001b[0m\u001b[0m\n\u001b[1;32m     96\u001b[0m             maj_vote = np.apply_along_axis(\n",
      "\u001b[0;31mAttributeError\u001b[0m: 'MajorityVoteClassifier' object has no attribute 'classifiers_'"
     ]
    }
   ],
   "source": [
    "# colors = ['black', 'orange', 'blue']\n",
    "# linestyles = [':','--','-.']\n",
    "\n",
    "# for clf, label, clr, ls in zip (all_clf, clf_labels, colors, linestyles):\n",
    "    \n",
    "#     y_pred = clf.predict(X_test).ravel().astype(int)\n",
    "#     fpr, tpr, thresholds = roc_curve(np.array(y_test.values).astype(int), y_pred)\n",
    "#     roc_auc = auc(x=fpr, y=tpr)"
   ]
  },
  {
   "cell_type": "markdown",
   "metadata": {
    "id": "AlJ0hZxPYZVh"
   },
   "source": [
    "### TODO's\n",
    "- Research what other EDA techniques we can apply to the images\n",
    "- Apply some sort of Visualization.\n",
    "- Data Augmentation to balance images (Check for class imbalance)\n",
    "\n",
    "\n",
    "### Resources\n",
    "- [EDA for Image Classification](https://medium.com/geekculture/eda-for-image-classification-dcada9f2567a)\n",
    "- [How to Do Data Exploration for Image Segmentation and Object Detection (Things I Had to Learn the Hard Way) | Neptune Blog](https://neptune.ai/blog/data-exploration-for-image-segmentation-and-object-detection)\n",
    "- [Exploratory Data Analysis Ideas for Image Classification](https://towardsdatascience.com/exploratory-data-analysis-ideas-for-image-classification-d3fc6bbfb2d2)\n",
    "- [4 Ways to Improve Class Imbalance for Image Data](https://towardsdatascience.com/4-ways-to-improve-class-imbalance-for-image-data-9adec8f390f1)\n",
    "\n",
    "\n",
    "\n",
    "### Videos\n",
    "- [Image classification using traditional machine learning](https://www.youtube.com/watch?v=nK-2k_ENgEc)\n",
    "- [Working with imbalanced data during machine learning training](https://www.youtube.com/watch?v=kus4kmDhfdM)\n",
    "- [Feature selection for speeding up machine learning training​](https://www.youtube.com/watch?v=xvmtpWGBLjI&list=PLHae9ggVvqPgyRQQOtENr6hK0m1UquGaG&index=93)\n",
    "- [Deep Learning terminology explained - Data augmentation](https://www.youtube.com/watch?v=_bahDWWufCc&list=PLHae9ggVvqPgyRQQOtENr6hK0m1UquGaG&index=107)\n",
    "- [Binary Classification using Deep Learning](https://www.youtube.com/watch?v=L-flsWk692E&list=PLHae9ggVvqPgyRQQOtENr6hK0m1UquGaG&index=114)\n",
    "- [Binary semantic segmentation using U-Net (in Keras)](https://www.youtube.com/watch?v=oBIkr7CAE6g&list=PLHae9ggVvqPgyRQQOtENr6hK0m1UquGaG&index=122)"
   ]
  },
  {
   "cell_type": "code",
   "execution_count": null,
   "metadata": {
    "id": "7wKpJezkYWN2"
   },
   "outputs": [],
   "source": []
  },
  {
   "cell_type": "markdown",
   "metadata": {
    "id": "S2qti1llaECH"
   },
   "source": [
    "## Feature Selection"
   ]
  },
  {
   "cell_type": "code",
   "execution_count": null,
   "metadata": {
    "id": "Hs46VcOqaJA0"
   },
   "outputs": [],
   "source": []
  },
  {
   "cell_type": "markdown",
   "metadata": {
    "id": "Vq6bqHOcaRCb"
   },
   "source": [
    "## Classification"
   ]
  },
  {
   "cell_type": "code",
   "execution_count": null,
   "metadata": {
    "id": "2nKG8OZGaZxx"
   },
   "outputs": [],
   "source": []
  },
  {
   "cell_type": "markdown",
   "metadata": {
    "id": "LlutAq--ahjL"
   },
   "source": [
    "### Evaluation and Conclusion"
   ]
  },
  {
   "cell_type": "markdown",
   "metadata": {
    "id": "v_ayrYrPabW_"
   },
   "source": [
    "## Segmentation"
   ]
  },
  {
   "cell_type": "code",
   "execution_count": null,
   "metadata": {
    "id": "5437CluzadJS"
   },
   "outputs": [],
   "source": []
  },
  {
   "cell_type": "markdown",
   "metadata": {
    "id": "knIWfXvhatHD"
   },
   "source": [
    "### Evaluation and Conclusion"
   ]
  },
  {
   "cell_type": "code",
   "execution_count": null,
   "metadata": {
    "id": "EHoTOR8EayT0"
   },
   "outputs": [],
   "source": []
  }
 ],
 "metadata": {
  "colab": {
   "collapsed_sections": [],
   "name": "Copy of ML_Project_Colab.ipynb",
   "provenance": []
  },
  "kernelspec": {
   "display_name": "Python 3 (ipykernel)",
   "language": "python",
   "name": "python3"
  },
  "language_info": {
   "codemirror_mode": {
    "name": "ipython",
    "version": 3
   },
   "file_extension": ".py",
   "mimetype": "text/x-python",
   "name": "python",
   "nbconvert_exporter": "python",
   "pygments_lexer": "ipython3",
   "version": "3.9.7"
  }
 },
 "nbformat": 4,
 "nbformat_minor": 1
}
